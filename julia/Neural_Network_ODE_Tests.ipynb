{
 "cells": [
  {
   "cell_type": "code",
   "execution_count": 1,
   "metadata": {},
   "outputs": [],
   "source": [
    "using Test, Flux, Optim"
   ]
  },
  {
   "cell_type": "code",
   "execution_count": 2,
   "metadata": {},
   "outputs": [
    {
     "name": "stdout",
     "output_type": "stream",
     "text": [
      "NNODE Tests\n"
     ]
    }
   ],
   "source": [
    "println(\"NNODE Tests\")"
   ]
  },
  {
   "cell_type": "code",
   "execution_count": 3,
   "metadata": {},
   "outputs": [],
   "source": [
    "using DiffEqDevTools , NeuralNetDiffEq"
   ]
  },
  {
   "cell_type": "code",
   "execution_count": 4,
   "metadata": {},
   "outputs": [
    {
     "data": {
      "text/plain": [
       "MersenneTwister(UInt32[0x00000064], Random.DSFMT.DSFMT_state(Int32[-2036630343, 1072818225, 1299231502, 1073154435, 1563612565, 1073206618, 176198161, 1073683625, 381415896, 1073699088  …  163992627, 1073241259, 385818456, 1072878963, 399273729, 595433664, 390891112, 1704156657, 382, 0]), [0.0, 0.0, 0.0, 0.0, 0.0, 0.0, 0.0, 0.0, 0.0, 0.0  …  0.0, 0.0, 0.0, 0.0, 0.0, 0.0, 0.0, 0.0, 0.0, 0.0], UInt128[0x00000000000000000000000000000000, 0x00000000000000000000000000000000, 0x00000000000000000000000000000000, 0x00000000000000000000000000000000, 0x00000000000000000000000000000000, 0x00000000000000000000000000000000, 0x00000000000000000000000000000000, 0x00000000000000000000000000000000, 0x00000000000000000000000000000000, 0x00000000000000000000000000000000  …  0x00000000000000000000000000000000, 0x00000000000000000000000000000000, 0x00000000000000000000000000000000, 0x00000000000000000000000000000000, 0x00000000000000000000000000000000, 0x00000000000000000000000000000000, 0x00000000000000000000000000000000, 0x00000000000000000000000000000000, 0x00000000000000000000000000000000, 0x00000000000000000000000000000000], 1002, 0)"
      ]
     },
     "execution_count": 4,
     "metadata": {},
     "output_type": "execute_result"
    }
   ],
   "source": [
    "using Random\n",
    "Random.seed!(100)"
   ]
  },
  {
   "cell_type": "markdown",
   "metadata": {},
   "source": [
    "**Run a solve on Scalar**"
   ]
  },
  {
   "cell_type": "code",
   "execution_count": 5,
   "metadata": {},
   "outputs": [
    {
     "name": "stdout",
     "output_type": "stream",
     "text": [
      "Current loss is: 11.535285694437713\n"
     ]
    },
    {
     "name": "stderr",
     "output_type": "stream",
     "text": [
      "\u001b[32mloss: 11.2:   1%|█                                        |  ETA: 1:27:02\u001b[39m"
     ]
    },
    {
     "name": "stdout",
     "output_type": "stream",
     "text": [
      "Current loss is: 11.20539827978525\n",
      "Current loss is: 10.942453727331564"
     ]
    },
    {
     "name": "stderr",
     "output_type": "stream",
     "text": [
      "\u001b[32mloss: 8.57:   2%|█                                        |  ETA: 0:43:12\u001b[39m"
     ]
    },
    {
     "name": "stdout",
     "output_type": "stream",
     "text": [
      "\n",
      "Current loss is: 8.573449856989022\n",
      "Current loss is: 8.964941123231164"
     ]
    },
    {
     "name": "stderr",
     "output_type": "stream",
     "text": [
      "\u001b[32mloss: 9.46:   4%|██                                       |  ETA: 0:24:22\u001b[39m"
     ]
    },
    {
     "name": "stdout",
     "output_type": "stream",
     "text": [
      "\n",
      "Current loss is: 10.038920286067956\n",
      "Current loss is: 9.461211105428465\n"
     ]
    },
    {
     "name": "stderr",
     "output_type": "stream",
     "text": [
      "\u001b[32mloss: 8.95:   5%|███                                      |  ETA: 0:16:50\u001b[39m"
     ]
    },
    {
     "name": "stdout",
     "output_type": "stream",
     "text": [
      "Current loss is: 8.45732433819023\n",
      "Current loss is: 8.371186123348107\n",
      "Current loss is: 8.954278411449053\n",
      "Current loss is: 9.126714862144047\n"
     ]
    },
    {
     "name": "stderr",
     "output_type": "stream",
     "text": [
      "\u001b[32mloss: 8.21:   6%|███                                      |  ETA: 0:12:46\u001b[39m"
     ]
    },
    {
     "name": "stdout",
     "output_type": "stream",
     "text": [
      "Current loss is: 8.66383999313894\n",
      "Current loss is: 8.207996523551284\n"
     ]
    },
    {
     "name": "stderr",
     "output_type": "stream",
     "text": [
      "\u001b[32mloss: 8.61:   8%|████                                     |  ETA: 0:10:14\u001b[39m"
     ]
    },
    {
     "name": "stdout",
     "output_type": "stream",
     "text": [
      "Current loss is: 8.230706949186594\n",
      "Current loss is: 8.53605788933806\n",
      "Current loss is: 8.609133190423746\n",
      "Current loss is: 8.336508320014177\n"
     ]
    },
    {
     "name": "stderr",
     "output_type": "stream",
     "text": [
      "\u001b[32mloss: 7.99:  10%|████                                     |  ETA: 0:08:29\u001b[39m"
     ]
    },
    {
     "name": "stdout",
     "output_type": "stream",
     "text": [
      "Current loss is: 8.036766659185616\n",
      "Current loss is: 7.994388468500352\n"
     ]
    },
    {
     "name": "stderr",
     "output_type": "stream",
     "text": [
      "\u001b[32mloss: 7.99:  11%|█████                                    |  ETA: 0:07:14\u001b[39m"
     ]
    },
    {
     "name": "stdout",
     "output_type": "stream",
     "text": [
      "Current loss is: 8.137842787346786\n",
      "Current loss is: 8.174286873150875\n",
      "Current loss is: 7.994835479192564\n",
      "Current loss is: 7.769997251467268"
     ]
    },
    {
     "name": "stderr",
     "output_type": "stream",
     "text": [
      "\u001b[32mloss: 7.74:  12%|██████                                   |  ETA: 0:06:16\u001b[39m"
     ]
    },
    {
     "name": "stdout",
     "output_type": "stream",
     "text": [
      "\n",
      "Current loss is: 7.69617366237838\n",
      "Current loss is: 7.742897170277734\n",
      "Current loss is: 7.7321412507762775\n"
     ]
    },
    {
     "name": "stderr",
     "output_type": "stream",
     "text": [
      "\u001b[32mloss: 7.39:  14%|██████                                   |  ETA: 0:05:30\u001b[39m"
     ]
    },
    {
     "name": "stdout",
     "output_type": "stream",
     "text": [
      "Current loss is: 7.577945892543045\n",
      "Current loss is: 7.394871472345157\n",
      "Current loss is: 7.308030210240367\n"
     ]
    },
    {
     "name": "stderr",
     "output_type": "stream",
     "text": [
      "\u001b[32mloss: 7.22:  16%|███████                                  |  ETA: 0:04:54\u001b[39m"
     ]
    },
    {
     "name": "stdout",
     "output_type": "stream",
     "text": [
      "Current loss is: 7.293491059556995\n",
      "Current loss is: 7.22168998756756\n",
      "Current loss is: 7.053268131065888\n"
     ]
    },
    {
     "name": "stderr",
     "output_type": "stream",
     "text": [
      "\u001b[32mloss: 6.78:  17%|███████                                  |  ETA: 0:04:24\u001b[39m"
     ]
    },
    {
     "name": "stdout",
     "output_type": "stream",
     "text": [
      "Current loss is: 6.881108934814113\n",
      "Current loss is: 6.78173517248488\n",
      "Current loss is: 6.698854065401344\n"
     ]
    },
    {
     "name": "stderr",
     "output_type": "stream",
     "text": [
      "\u001b[32mloss: 6.36:  18%|████████                                 |  ETA: 0:03:58\u001b[39m"
     ]
    },
    {
     "name": "stdout",
     "output_type": "stream",
     "text": [
      "Current loss is: 6.556300533628689\n",
      "Current loss is: 6.361856795352924\n",
      "Current loss is: 6.1863743588923"
     ]
    },
    {
     "name": "stderr",
     "output_type": "stream",
     "text": [
      "\u001b[32mloss: 5.89:  20%|█████████                                |  ETA: 0:03:37\u001b[39m"
     ]
    },
    {
     "name": "stdout",
     "output_type": "stream",
     "text": [
      "\n",
      "Current loss is: 6.051579874658901\n",
      "Current loss is: 5.894313711820063\n"
     ]
    },
    {
     "name": "stderr",
     "output_type": "stream",
     "text": [
      "\u001b[32mloss: 5.25:  22%|█████████                                |  ETA: 0:03:18\u001b[39m"
     ]
    },
    {
     "name": "stdout",
     "output_type": "stream",
     "text": [
      "Current loss is: 5.680565143394322\n",
      "Current loss is: 5.453697118795204\n",
      "Current loss is: 5.253830717817548\n",
      "Current loss is: 5.049553604257794\n",
      "Current loss is: 4.802532065821789\n",
      "Current loss is: 4.53052190244917\n"
     ]
    },
    {
     "name": "stderr",
     "output_type": "stream",
     "text": [
      "\u001b[32mloss: 4.53:  23%|██████████                               |  ETA: 0:03:02\u001b[39m\r"
     ]
    },
    {
     "name": "stdout",
     "output_type": "stream",
     "text": [
      "Current loss is: 4.274381847807114\n",
      "Current loss is: 4.019896775094567\n",
      "Current loss is: 3.7357621771987786\n",
      "Current loss is: 3.4373861540453343"
     ]
    },
    {
     "name": "stderr",
     "output_type": "stream",
     "text": [
      "\u001b[32mloss: 2.87:  26%|███████████                              |  ETA: 0:02:36\u001b[39m"
     ]
    },
    {
     "name": "stdout",
     "output_type": "stream",
     "text": [
      "\n",
      "Current loss is: 3.1466028298299586\n",
      "Current loss is: 2.8683456975715003\n",
      "Current loss is: 2.5774702094035087"
     ]
    },
    {
     "name": "stderr",
     "output_type": "stream",
     "text": [
      "\u001b[32mloss: 2:  28%|████████████                             |  ETA: 0:02:24\u001b[39m"
     ]
    },
    {
     "name": "stdout",
     "output_type": "stream",
     "text": [
      "\n",
      "Current loss is: 2.284508176492385\n",
      "Current loss is: 2.0032653784620975\n"
     ]
    },
    {
     "name": "stderr",
     "output_type": "stream",
     "text": [
      "\u001b[32mloss: 1.26:  29%|████████████                             |  ETA: 0:02:14\u001b[39m"
     ]
    },
    {
     "name": "stdout",
     "output_type": "stream",
     "text": [
      "Current loss is: 1.7420169588854721\n",
      "Current loss is: 1.4945251562671054\n",
      "Current loss is: 1.256543328283999\n"
     ]
    },
    {
     "name": "stderr",
     "output_type": "stream",
     "text": [
      "\u001b[32mloss: 0.688:  30%|█████████████                            |  ETA: 0:02:05\u001b[39m"
     ]
    },
    {
     "name": "stdout",
     "output_type": "stream",
     "text": [
      "Current loss is: 1.0409699396523941\n",
      "Current loss is: 0.8520891241997034\n",
      "Current loss is: 0.687936670432399\n"
     ]
    },
    {
     "name": "stderr",
     "output_type": "stream",
     "text": [
      "\u001b[32mloss: 0.319:  32%|██████████████                           |  ETA: 0:01:57\u001b[39m"
     ]
    },
    {
     "name": "stdout",
     "output_type": "stream",
     "text": [
      "Current loss is: 0.5425378112428333\n",
      "Current loss is: 0.41989563986543543\n",
      "Current loss is: 0.3188514864074548\n",
      "Current loss is: 0.2406557579794891\n"
     ]
    },
    {
     "name": "stderr",
     "output_type": "stream",
     "text": [
      "\u001b[32mloss: 0.133:  34%|██████████████                           |  ETA: 0:01:50\u001b[39m"
     ]
    },
    {
     "name": "stdout",
     "output_type": "stream",
     "text": [
      "Current loss is: 0.17921935046340368\n",
      "Current loss is: 0.13282926750377896\n"
     ]
    },
    {
     "name": "stderr",
     "output_type": "stream",
     "text": [
      "\r"
     ]
    },
    {
     "name": "stdout",
     "output_type": "stream",
     "text": [
      "Current loss is: 0.09905485128239654\n",
      "Current loss is: 0.07754730914307875\n"
     ]
    },
    {
     "name": "stderr",
     "output_type": "stream",
     "text": [
      "\u001b[32mloss: 0.0612:  36%|███████████████                          |  ETA: 0:01:41\u001b[39m"
     ]
    },
    {
     "name": "stdout",
     "output_type": "stream",
     "text": [
      "Current loss is: 0.06590961538908698\n",
      "Current loss is: 0.06123503854125697\n"
     ]
    },
    {
     "name": "stderr",
     "output_type": "stream",
     "text": [
      "\u001b[32mloss: 0.0582:  36%|███████████████                          |  ETA: 0:01:37\u001b[39m"
     ]
    },
    {
     "name": "stdout",
     "output_type": "stream",
     "text": [
      "Current loss is: 0.05981281396485466\n",
      "Current loss is: 0.05820080339642114\n"
     ]
    },
    {
     "name": "stderr",
     "output_type": "stream",
     "text": [
      "\u001b[32mloss: 0.0531:  38%|████████████████                         |  ETA: 0:01:33\u001b[39m"
     ]
    },
    {
     "name": "stdout",
     "output_type": "stream",
     "text": [
      "Current loss is: 0.05551484963537664\n",
      "Current loss is: 0.05312189797940673\n"
     ]
    },
    {
     "name": "stderr",
     "output_type": "stream",
     "text": [
      "\u001b[32mloss: 0.0531:  38%|████████████████                         |  ETA: 0:01:29\u001b[39m"
     ]
    },
    {
     "name": "stdout",
     "output_type": "stream",
     "text": [
      "Current loss is: 0.052247694300216994\n",
      "Current loss is: 0.05305205028431536\n"
     ]
    },
    {
     "name": "stderr",
     "output_type": "stream",
     "text": [
      "\u001b[32mloss: 0.0497:  40%|█████████████████                        |  ETA: 0:01:26\u001b[39m"
     ]
    },
    {
     "name": "stdout",
     "output_type": "stream",
     "text": [
      "Current loss is: 0.05292760857440858\n",
      "Current loss is: 0.04966221710357947\n"
     ]
    },
    {
     "name": "stderr",
     "output_type": "stream",
     "text": [
      "\u001b[32mloss: 0.0367:  40%|█████████████████                        |  ETA: 0:01:23\u001b[39m"
     ]
    },
    {
     "name": "stdout",
     "output_type": "stream",
     "text": [
      "Current loss is: 0.04344136707592453\n",
      "Current loss is: 0.03672478896846545\n"
     ]
    },
    {
     "name": "stderr",
     "output_type": "stream",
     "text": [
      "\u001b[32mloss: 0.0274:  42%|██████████████████                       |  ETA: 0:01:20\u001b[39m"
     ]
    },
    {
     "name": "stdout",
     "output_type": "stream",
     "text": [
      "Current loss is: 0.03128177618321531\n",
      "Current loss is: 0.027399437143096405\n"
     ]
    },
    {
     "name": "stderr",
     "output_type": "stream",
     "text": [
      "\u001b[32mloss: 0.021:  42%|██████████████████                       |  ETA: 0:01:17\u001b[39m"
     ]
    },
    {
     "name": "stdout",
     "output_type": "stream",
     "text": [
      "Current loss is: 0.024243328367471628\n",
      "Current loss is: 0.020967570882938782\n"
     ]
    },
    {
     "name": "stderr",
     "output_type": "stream",
     "text": [
      "\u001b[32mloss: 0.014:  44%|██████████████████                       |  ETA: 0:01:14\u001b[39m"
     ]
    },
    {
     "name": "stdout",
     "output_type": "stream",
     "text": [
      "Current loss is: 0.017443083927574436\n",
      "Current loss is: 0.013975140553006873\n",
      "Current loss is: 0.010829226922758233"
     ]
    },
    {
     "name": "stderr",
     "output_type": "stream",
     "text": [
      "\u001b[32mloss: 0.00833:  44%|███████████████████                      |  ETA: 0:01:11\u001b[39m"
     ]
    },
    {
     "name": "stdout",
     "output_type": "stream",
     "text": [
      "\n",
      "Current loss is: 0.008330619931233244\n",
      "Current loss is: 0.0064916717708365605\n"
     ]
    },
    {
     "name": "stderr",
     "output_type": "stream",
     "text": [
      "\u001b[32mloss: 0.00523:  46%|███████████████████                      |  ETA: 0:01:08\u001b[39m"
     ]
    },
    {
     "name": "stdout",
     "output_type": "stream",
     "text": [
      "Current loss is: 0.005231325361380458\n",
      "Current loss is: 0.004543604741438379"
     ]
    },
    {
     "name": "stderr",
     "output_type": "stream",
     "text": [
      "\u001b[32mloss: 0.00433:  46%|████████████████████                     |  ETA: 0:01:06\u001b[39m"
     ]
    },
    {
     "name": "stdout",
     "output_type": "stream",
     "text": [
      "\n",
      "Current loss is: 0.004332406345701256\n",
      "Current loss is: 0.004585165276003751"
     ]
    },
    {
     "name": "stderr",
     "output_type": "stream",
     "text": [
      "\u001b[32mloss: 0.00512:  48%|████████████████████                     |  ETA: 0:01:03\u001b[39m"
     ]
    },
    {
     "name": "stdout",
     "output_type": "stream",
     "text": [
      "\n",
      "Current loss is: 0.005123711074736353\n",
      "Current loss is: 0.005723841939803846\n"
     ]
    },
    {
     "name": "stderr",
     "output_type": "stream",
     "text": [
      "\u001b[32mloss: 0.00636:  48%|████████████████████                     |  ETA: 0:01:01\u001b[39m"
     ]
    },
    {
     "name": "stdout",
     "output_type": "stream",
     "text": [
      "Current loss is: 0.006363276678422807\n",
      "Current loss is: 0.006581208604822182\n"
     ]
    },
    {
     "name": "stderr",
     "output_type": "stream",
     "text": [
      "\u001b[32mloss: 0.00668:  50%|█████████████████████                    |  ETA: 0:00:59\u001b[39m"
     ]
    },
    {
     "name": "stdout",
     "output_type": "stream",
     "text": [
      "Current loss is: 0.006678226684351291\n",
      "Current loss is: 0.006801148823980827"
     ]
    },
    {
     "name": "stderr",
     "output_type": "stream",
     "text": [
      "\u001b[32mloss: 0.00693:  50%|█████████████████████                    |  ETA: 0:00:57\u001b[39m"
     ]
    },
    {
     "name": "stdout",
     "output_type": "stream",
     "text": [
      "\n",
      "Current loss is: 0.00692871398777912\n"
     ]
    },
    {
     "name": "stderr",
     "output_type": "stream",
     "text": [
      "\u001b[32mloss: 0.00651:  52%|██████████████████████                   |  ETA: 0:00:55\u001b[39m"
     ]
    },
    {
     "name": "stdout",
     "output_type": "stream",
     "text": [
      "Current loss is: 0.006866200393768104\n",
      "Current loss is: 0.006509554283591909\n"
     ]
    },
    {
     "name": "stderr",
     "output_type": "stream",
     "text": [
      "\u001b[32mloss: 0.00539:  52%|██████████████████████                   |  ETA: 0:00:53\u001b[39m"
     ]
    },
    {
     "name": "stdout",
     "output_type": "stream",
     "text": [
      "Current loss is: 0.005929666172399675\n",
      "Current loss is: 0.005391634988881589\n"
     ]
    },
    {
     "name": "stderr",
     "output_type": "stream",
     "text": [
      "\u001b[32mloss: 0.00481:  54%|██████████████████████                   |  ETA: 0:00:51\u001b[39m"
     ]
    },
    {
     "name": "stdout",
     "output_type": "stream",
     "text": [
      "Current loss is: 0.005036768442878188\n",
      "Current loss is: 0.004805690250510188\n"
     ]
    },
    {
     "name": "stderr",
     "output_type": "stream",
     "text": [
      "\u001b[32mloss: 0.00448:  54%|███████████████████████                  |  ETA: 0:00:49\u001b[39m"
     ]
    },
    {
     "name": "stdout",
     "output_type": "stream",
     "text": [
      "Current loss is: 0.0046209999382864925\n",
      "Current loss is: 0.004480137441892482\n"
     ]
    },
    {
     "name": "stderr",
     "output_type": "stream",
     "text": [
      "\u001b[32mloss: 0.00405:  56%|███████████████████████                  |  ETA: 0:00:47\u001b[39m"
     ]
    },
    {
     "name": "stdout",
     "output_type": "stream",
     "text": [
      "Current loss is: 0.0042464659332534975\n",
      "Current loss is: 0.0040518350700577965\n"
     ]
    },
    {
     "name": "stderr",
     "output_type": "stream",
     "text": [
      "\u001b[32mloss: 0.00372:  57%|████████████████████████                 |  ETA: 0:00:44\u001b[39m"
     ]
    },
    {
     "name": "stdout",
     "output_type": "stream",
     "text": [
      "Current loss is: 0.003868457570307222\n",
      "Current loss is: 0.0037613355608313004\n",
      "Current loss is: 0.0037188907515937884\n"
     ]
    },
    {
     "name": "stderr",
     "output_type": "stream",
     "text": [
      "\u001b[32mloss: 0.00379:  58%|████████████████████████                 |  ETA: 0:00:42\u001b[39m"
     ]
    },
    {
     "name": "stdout",
     "output_type": "stream",
     "text": [
      "Current loss is: 0.00371422434765695\n",
      "Current loss is: 0.003741584980729712\n",
      "Current loss is: 0.0037902084901622404\n"
     ]
    },
    {
     "name": "stderr",
     "output_type": "stream",
     "text": [
      "\u001b[32mloss: 0.00378:  60%|█████████████████████████                |  ETA: 0:00:39\u001b[39m"
     ]
    },
    {
     "name": "stdout",
     "output_type": "stream",
     "text": [
      "Current loss is: 0.0038356529573340264\n",
      "Current loss is: 0.0038340175000366765\n",
      "Current loss is: 0.003784878177142523\n"
     ]
    },
    {
     "name": "stderr",
     "output_type": "stream",
     "text": [
      "\u001b[32mloss: 0.00347:  62%|██████████████████████████               |  ETA: 0:00:37\u001b[39m"
     ]
    },
    {
     "name": "stdout",
     "output_type": "stream",
     "text": [
      "Current loss is: 0.003740738393989803\n",
      "Current loss is: 0.0036075076787796564\n",
      "Current loss is: 0.0034740334451963195\n"
     ]
    },
    {
     "name": "stderr",
     "output_type": "stream",
     "text": [
      "\u001b[32mloss: 0.00309:  63%|██████████████████████████               |  ETA: 0:00:35\u001b[39m"
     ]
    },
    {
     "name": "stdout",
     "output_type": "stream",
     "text": [
      "Current loss is: 0.003344255108999354\n",
      "Current loss is: 0.003189405758179233\n",
      "Current loss is: 0.0030944331260841645\n"
     ]
    },
    {
     "name": "stderr",
     "output_type": "stream",
     "text": [
      "\u001b[32mloss: 0.00283:  64%|███████████████████████████              |  ETA: 0:00:33\u001b[39m"
     ]
    },
    {
     "name": "stdout",
     "output_type": "stream",
     "text": [
      "Current loss is: 0.002996099272903637\n",
      "Current loss is: 0.002904917723455739\n",
      "Current loss is: 0.0028341017743471293\n"
     ]
    },
    {
     "name": "stderr",
     "output_type": "stream",
     "text": [
      "\u001b[32mloss: 0.00255:  66%|████████████████████████████             |  ETA: 0:00:31\u001b[39m"
     ]
    },
    {
     "name": "stdout",
     "output_type": "stream",
     "text": [
      "Current loss is: 0.0027431128512291313\n",
      "Current loss is: 0.002645655335541678\n",
      "Current loss is: 0.002553289322543289\n"
     ]
    },
    {
     "name": "stderr",
     "output_type": "stream",
     "text": [
      "\u001b[32mloss: 0.00228:  68%|████████████████████████████             |  ETA: 0:00:29\u001b[39m"
     ]
    },
    {
     "name": "stdout",
     "output_type": "stream",
     "text": [
      "Current loss is: 0.002464409783923222\n",
      "Current loss is: 0.002343496945990179\n",
      "Current loss is: 0.0022784519892465995\n"
     ]
    },
    {
     "name": "stderr",
     "output_type": "stream",
     "text": [
      "\u001b[32mloss: 0.00211:  69%|█████████████████████████████            |  ETA: 0:00:27\u001b[39m"
     ]
    },
    {
     "name": "stdout",
     "output_type": "stream",
     "text": [
      "Current loss is: 0.0022127587194313795\n",
      "Current loss is: 0.0021656982578600655\n",
      "Current loss is: 0.0021120730048473915\n"
     ]
    },
    {
     "name": "stderr",
     "output_type": "stream",
     "text": [
      "\u001b[32mloss: 0.00196:  70%|█████████████████████████████            |  ETA: 0:00:25\u001b[39m"
     ]
    },
    {
     "name": "stdout",
     "output_type": "stream",
     "text": [
      "Current loss is: 0.0020652097064556727\n",
      "Current loss is: 0.0020347146359789067\n",
      "Current loss is: 0.0019589137714031723\n"
     ]
    },
    {
     "name": "stderr",
     "output_type": "stream",
     "text": [
      "\u001b[32mloss: 0.00178:  72%|██████████████████████████████           |  ETA: 0:00:23\u001b[39m"
     ]
    },
    {
     "name": "stdout",
     "output_type": "stream",
     "text": [
      "Current loss is: 0.001906939171002744\n",
      "Current loss is: 0.00183181907082232\n",
      "Current loss is: 0.0017752178948093346\n"
     ]
    },
    {
     "name": "stderr",
     "output_type": "stream",
     "text": [
      "\u001b[32mloss: 0.00164:  74%|███████████████████████████████          |  ETA: 0:00:22\u001b[39m"
     ]
    },
    {
     "name": "stdout",
     "output_type": "stream",
     "text": [
      "Current loss is: 0.0017215559091186493\n",
      "Current loss is: 0.0016790713023284202\n",
      "Current loss is: 0.0016381494677474022\n"
     ]
    },
    {
     "name": "stderr",
     "output_type": "stream",
     "text": [
      "\u001b[32mloss: 0.0015:  75%|███████████████████████████████          |  ETA: 0:00:20\u001b[39m"
     ]
    },
    {
     "name": "stdout",
     "output_type": "stream",
     "text": [
      "Current loss is: 0.0015921450915769445\n",
      "Current loss is: 0.0015427656741300994\n",
      "Current loss is: 0.0015031843201820504\n"
     ]
    },
    {
     "name": "stderr",
     "output_type": "stream",
     "text": [
      "\u001b[32mloss: 0.00137:  76%|████████████████████████████████         |  ETA: 0:00:18\u001b[39m"
     ]
    },
    {
     "name": "stdout",
     "output_type": "stream",
     "text": [
      "Current loss is: 0.0014527646276580387\n",
      "Current loss is: 0.0014196509978037768\n",
      "Current loss is: 0.0013737228619510446\n",
      "Current loss is: 0.0013489139008915113\n",
      "Current loss is: 0.0013189805717832052"
     ]
    },
    {
     "name": "stderr",
     "output_type": "stream",
     "text": [
      "\u001b[32mloss: 0.00129:  78%|████████████████████████████████         |  ETA: 0:00:17\u001b[39m"
     ]
    },
    {
     "name": "stdout",
     "output_type": "stream",
     "text": [
      "\n",
      "Current loss is: 0.001291014265589222\n",
      "Current loss is: 0.0012583026342721949\n"
     ]
    },
    {
     "name": "stderr",
     "output_type": "stream",
     "text": [
      "\u001b[32mloss: 0.0012:  80%|█████████████████████████████████        |  ETA: 0:00:16\u001b[39m"
     ]
    },
    {
     "name": "stdout",
     "output_type": "stream",
     "text": [
      "Current loss is: 0.0012189818737489756\n",
      "Current loss is: 0.0011953255764100544\n",
      "Current loss is: 0.0011694439806627637\n",
      "Current loss is: 0.0011485517098305507\n"
     ]
    },
    {
     "name": "stderr",
     "output_type": "stream",
     "text": [
      "\u001b[32mloss: 0.00112:  81%|██████████████████████████████████       |  ETA: 0:00:14\u001b[39m"
     ]
    },
    {
     "name": "stdout",
     "output_type": "stream",
     "text": [
      "Current loss is: 0.0011233641867865998\n",
      "Current loss is: 0.0010968431979248082\n",
      "Current loss is: 0.001069838023429198\n"
     ]
    },
    {
     "name": "stderr",
     "output_type": "stream",
     "text": [
      "\u001b[32mloss: 0.00103:  83%|███████████████████████████████████      |  ETA: 0:00:12\u001b[39m"
     ]
    },
    {
     "name": "stdout",
     "output_type": "stream",
     "text": [
      "Current loss is: 0.001054874150215524\n",
      "Current loss is: 0.0010263528400276077\n",
      "Current loss is: 0.0010107974584312321\n"
     ]
    },
    {
     "name": "stderr",
     "output_type": "stream",
     "text": [
      "\u001b[32mloss: 0.000968:  84%|███████████████████████████████████      |  ETA: 0:00:11\u001b[39m"
     ]
    },
    {
     "name": "stdout",
     "output_type": "stream",
     "text": [
      "Current loss is: 0.0009876795666909379\n",
      "Current loss is: 0.0009678181433885511\n",
      "Current loss is: 0.0009513128162965633"
     ]
    },
    {
     "name": "stderr",
     "output_type": "stream",
     "text": [
      "\u001b[32mloss: 0.000913:  86%|████████████████████████████████████     |  ETA: 0:00:10\u001b[39m"
     ]
    },
    {
     "name": "stdout",
     "output_type": "stream",
     "text": [
      "\n",
      "Current loss is: 0.0009323796479964826\n",
      "Current loss is: 0.0009131920999622228\n",
      "Current loss is: 0.0008872960420957022\n"
     ]
    },
    {
     "name": "stderr",
     "output_type": "stream",
     "text": [
      "\u001b[32mloss: 0.000861:  88%|████████████████████████████████████     |  ETA: 0:00:09\u001b[39m"
     ]
    },
    {
     "name": "stdout",
     "output_type": "stream",
     "text": [
      "Current loss is: 0.0008750639437057515\n",
      "Current loss is: 0.0008614310164991115\n"
     ]
    },
    {
     "name": "stderr",
     "output_type": "stream",
     "text": [
      "\u001b[32mloss: 0.00082:  88%|█████████████████████████████████████    |  ETA: 0:00:08\u001b[39"
     ]
    },
    {
     "name": "stdout",
     "output_type": "stream",
     "text": [
      "Current loss is: 0.0008376125703683987\n",
      "Current loss is: 0.000819537568993144\n"
     ]
    },
    {
     "name": "stderr",
     "output_type": "stream",
     "text": [
      "\u001b[32mloss: 0.000807:  89%|█████████████████████████████████████    |  ETA: 0:00:08\u001b[39m"
     ]
    },
    {
     "name": "stdout",
     "output_type": "stream",
     "text": [
      "Current loss is: 0.0008073264668438533\n",
      "Current loss is: 0.0007894151995491965"
     ]
    },
    {
     "name": "stderr",
     "output_type": "stream",
     "text": [
      "\u001b[32mloss: 0.000772:  90%|█████████████████████████████████████    |  ETA: 0:00:07\u001b[39m"
     ]
    },
    {
     "name": "stdout",
     "output_type": "stream",
     "text": [
      "\n",
      "Current loss is: 0.0007716804913333551\n",
      "Current loss is: 0.0007514055056845103"
     ]
    },
    {
     "name": "stderr",
     "output_type": "stream",
     "text": [
      "\u001b[32mloss: 0.000738:  91%|██████████████████████████████████████   |  ETA: 0:00:06\u001b[39m"
     ]
    },
    {
     "name": "stdout",
     "output_type": "stream",
     "text": [
      "\n",
      "Current loss is: 0.000738264406801193\n",
      "Current loss is: 0.000724313663004545\n"
     ]
    },
    {
     "name": "stderr",
     "output_type": "stream",
     "text": [
      "\u001b[32mloss: 0.000714:  92%|██████████████████████████████████████   |  ETA: 0:00:05\u001b[39m"
     ]
    },
    {
     "name": "stdout",
     "output_type": "stream",
     "text": [
      "Current loss is: 0.0007142210525784823\n",
      "Current loss is: 0.0006927785782321863"
     ]
    },
    {
     "name": "stderr",
     "output_type": "stream",
     "text": [
      "\u001b[32mloss: 0.000681:  93%|███████████████████████████████████████  |  ETA: 0:00:05\u001b[39m"
     ]
    },
    {
     "name": "stdout",
     "output_type": "stream",
     "text": [
      "\n",
      "Current loss is: 0.0006809986114414958\n",
      "Current loss is: 0.0006688659330282195\n"
     ]
    },
    {
     "name": "stderr",
     "output_type": "stream",
     "text": [
      "\u001b[32mloss: 0.000653:  94%|███████████████████████████████████████  |  ETA: 0:00:04\u001b[39m"
     ]
    },
    {
     "name": "stdout",
     "output_type": "stream",
     "text": [
      "Current loss is: 0.0006531043661615978\n",
      "Current loss is: 0.0006393753288093496"
     ]
    },
    {
     "name": "stderr",
     "output_type": "stream",
     "text": [
      "\u001b[32mloss: 0.000627:  95%|███████████████████████████████████████  |  ETA: 0:00:03\u001b[39m"
     ]
    },
    {
     "name": "stdout",
     "output_type": "stream",
     "text": [
      "\n",
      "Current loss is: 0.0006274052917644123\n",
      "Current loss is: 0.0006156119981661483\n"
     ]
    },
    {
     "name": "stderr",
     "output_type": "stream",
     "text": [
      "\u001b[32mloss: 0.000608:  96%|████████████████████████████████████████ |  ETA: 0:00:03\u001b[39m"
     ]
    },
    {
     "name": "stdout",
     "output_type": "stream",
     "text": [
      "Current loss is: 0.0006084279047591941\n",
      "Current loss is: 0.0005928445293334523"
     ]
    },
    {
     "name": "stderr",
     "output_type": "stream",
     "text": [
      "\u001b[32mloss: 0.000581:  97%|████████████████████████████████████████ |  ETA: 0:00:02\u001b[39m"
     ]
    },
    {
     "name": "stdout",
     "output_type": "stream",
     "text": [
      "\n",
      "Current loss is: 0.0005813715246765645\n",
      "Current loss is: 0.0005697976814304515"
     ]
    },
    {
     "name": "stderr",
     "output_type": "stream",
     "text": [
      "\u001b[32mloss: 0.000562:  98%|█████████████████████████████████████████|  ETA: 0:00:01\u001b[39m"
     ]
    },
    {
     "name": "stdout",
     "output_type": "stream",
     "text": [
      "\n",
      "Current loss is: 0.0005624282047846666\n",
      "Current loss is: 0.0005447241506795786"
     ]
    },
    {
     "name": "stderr",
     "output_type": "stream",
     "text": [
      "\u001b[32mloss: 0.000538:  99%|█████████████████████████████████████████|  ETA: 0:00:01\u001b[39m"
     ]
    },
    {
     "name": "stdout",
     "output_type": "stream",
     "text": [
      "\n",
      "Current loss is: 0.0005382615300569438\n",
      "Current loss is: 0.000526057233943467\n",
      "Current loss is: 0.0005181264140602735\n"
     ]
    },
    {
     "name": "stderr",
     "output_type": "stream",
     "text": [
      "\u001b[32mloss: 0.000518: 100%|█████████████████████████████████████████| Time: 0:01:03\u001b[39m\n"
     ]
    },
    {
     "name": "stdout",
     "output_type": "stream",
     "text": [
      "Current loss is: 0.0005181264140602735\n"
     ]
    },
    {
     "data": {
      "text/plain": [
       "retcode: Default\n",
       "Interpolation: 1st order linear\n",
       "t: 0.0f0:0.05f0:1.0f0\n",
       "u: 21-element Array{Float32,1}:\n",
       "  0.0\n",
       "  0.050792348\n",
       "  0.09371349\n",
       "  0.12611231\n",
       "  0.14565676\n",
       "  0.15073816\n",
       "  0.14086685\n",
       "  0.116954416\n",
       "  0.081379764\n",
       "  0.037780646\n",
       " -0.009404998\n",
       " -0.055532973\n",
       " -0.096331164\n",
       " -0.12832798\n",
       " -0.14906931\n",
       " -0.15713885\n",
       " -0.15203655\n",
       " -0.13398945\n",
       " -0.10374507\n",
       " -0.062384833\n",
       " -0.011173807"
      ]
     },
     "execution_count": 5,
     "metadata": {},
     "output_type": "execute_result"
    }
   ],
   "source": [
    "linear = (u,p,t) -> cos(2pi*t)\n",
    "tspan = (0.0f0, 1.0f0)\n",
    "u0 = 0.0f0\n",
    "prob = ODEProblem(linear, u0 ,tspan)\n",
    "chain = Flux.Chain(Dense(1,5,σ),Dense(5,1))\n",
    "opt = Flux.ADAM(0.1, (0.9, 0.95))\n",
    "sol = solve(prob, NeuralNetDiffEq.NNODE(chain,opt), dt=1/20f0, verbose = true,\n",
    "            abstol=1e-10, maxiters = 200)"
   ]
  },
  {
   "cell_type": "code",
   "execution_count": 6,
   "metadata": {},
   "outputs": [
    {
     "name": "stdout",
     "output_type": "stream",
     "text": [
      "Current loss is: 11.535285694437713\n",
      "Current loss is: 8.928916985882184\n",
      "Current loss is: 8.57358956218538\n",
      "Current loss is: 8.349076739748485\n",
      "Current loss is: 8.086961531435593\n",
      "Current loss is: 6.528896614444081\n",
      "Current loss is: 6.288292945918213\n",
      "Current loss is: 5.861009337147651\n",
      "Current loss is: 3.4763649861801227\n",
      "Current loss is: 2.5881155799419435\n",
      "Current loss is: 2.2770048782720966\n",
      "Current loss is: 0.8873393148424353\n",
      "Current loss is: 0.06457908219241472\n",
      "Current loss is: 0.007224799685646306\n",
      "Current loss is: 0.0021342115296334088\n",
      "Current loss is: 0.001268535693700028\n",
      "Current loss is: 0.0010261999913374047\n",
      "Current loss is: 0.0009726409987248777\n",
      "Current loss is: 0.0009208287331521695\n",
      "Current loss is: 0.0008751378556709192\n",
      "Current loss is: 0.0007308131221504489\n",
      "Current loss is: 0.0002774802794728044\n",
      "Current loss is: 0.0002468847490001566\n",
      "Current loss is: 0.00023192542295300643\n",
      "Current loss is: 0.00022043155254599652\n",
      "Current loss is: 0.00021108226283779764\n",
      "Current loss is: 0.00020920008326285987\n",
      "Current loss is: 0.00020895425710412292\n",
      "Current loss is: 0.0002086246249505714\n",
      "Current loss is: 0.00020823763889282933\n",
      "Current loss is: 0.00020640521549557017\n",
      "Current loss is: 0.00020640521549557017\n",
      "Current loss is: 0.00020640521549557017\n"
     ]
    },
    {
     "data": {
      "text/plain": [
       "retcode: Default\n",
       "Interpolation: 1st order linear\n",
       "t: 0.0f0:0.05f0:1.0f0\n",
       "u: 21-element Array{Float32,1}:\n",
       "  0.0\n",
       "  0.047355097\n",
       "  0.09067219\n",
       "  0.12655868\n",
       "  0.15135364\n",
       "  0.16174506\n",
       "  0.15560715\n",
       "  0.13281216\n",
       "  0.09565356\n",
       "  0.048604924\n",
       " -0.0025589764\n",
       " -0.051927865\n",
       " -0.094458\n",
       " -0.12653078\n",
       " -0.14604165\n",
       " -0.15217933\n",
       " -0.14507604\n",
       " -0.12546553\n",
       " -0.0944093\n",
       " -0.053108547\n",
       " -0.0027823448"
      ]
     },
     "execution_count": 6,
     "metadata": {},
     "output_type": "execute_result"
    }
   ],
   "source": [
    "opt = BFGS()\n",
    "sol = solve(prob, NeuralNetDiffEq.NNODE(chain,opt), dt=1/20f0, verbose = true,\n",
    "            abstol=1e-10, maxiters = 200)\n"
   ]
  },
  {
   "cell_type": "code",
   "execution_count": 8,
   "metadata": {},
   "outputs": [
    {
     "data": {
      "text/plain": [
       "BFGS{LineSearches.InitialStatic{Float64},LineSearches.HagerZhang{Float64,Base.RefValue{Bool}},Nothing,Nothing,Flat}(LineSearches.InitialStatic{Float64}\n",
       "  alpha: Float64 1.0\n",
       "  scaled: Bool false\n",
       ", LineSearches.HagerZhang{Float64,Base.RefValue{Bool}}\n",
       "  delta: Float64 0.1\n",
       "  sigma: Float64 0.9\n",
       "  alphamax: Float64 Inf\n",
       "  rho: Float64 5.0\n",
       "  epsilon: Float64 1.0e-6\n",
       "  gamma: Float64 0.66\n",
       "  linesearchmax: Int64 50\n",
       "  psi3: Float64 0.1\n",
       "  display: Int64 0\n",
       "  mayterminate: Base.RefValue{Bool}\n",
       ", nothing, nothing, Flat())"
      ]
     },
     "execution_count": 8,
     "metadata": {},
     "output_type": "execute_result"
    }
   ],
   "source": [
    "opt = BFGS()"
   ]
  },
  {
   "cell_type": "code",
   "execution_count": 9,
   "metadata": {},
   "outputs": [
    {
     "name": "stdout",
     "output_type": "stream",
     "text": [
      "Current loss is: 11.535285694437713\n",
      "Current loss is: 8.928916985882184\n",
      "Current loss is: 8.57358956218538\n",
      "Current loss is: 8.349076739748485\n",
      "Current loss is: 8.086961531435593\n",
      "Current loss is: 6.528896614444081\n",
      "Current loss is: 6.288292945918213\n",
      "Current loss is: 5.861009337147651\n",
      "Current loss is: 3.4763649861801227\n",
      "Current loss is: 2.5881155799419435\n",
      "Current loss is: 2.2770048782720966\n",
      "Current loss is: 0.8873393148424353\n",
      "Current loss is: 0.06457908219241472\n",
      "Current loss is: 0.007224799685646306\n",
      "Current loss is: 0.0021342115296334088\n",
      "Current loss is: 0.001268535693700028\n",
      "Current loss is: 0.0010261999913374047\n",
      "Current loss is: 0.0009726409987248777\n",
      "Current loss is: 0.0009208287331521695\n",
      "Current loss is: 0.0008751378556709192\n",
      "Current loss is: 0.0007308131221504489\n",
      "Current loss is: 0.0002774802794728044\n",
      "Current loss is: 0.0002468847490001566\n",
      "Current loss is: 0.00023192542295300643\n",
      "Current loss is: 0.00022043155254599652\n",
      "Current loss is: 0.00021108226283779764\n",
      "Current loss is: 0.00020920008326285987\n",
      "Current loss is: 0.00020895425710412292\n",
      "Current loss is: 0.0002086246249505714\n",
      "Current loss is: 0.00020823763889282933\n",
      "Current loss is: 0.00020640521549557017\n",
      "Current loss is: 0.00020640521549557017\n",
      "Current loss is: 0.00020640521549557017\n"
     ]
    },
    {
     "data": {
      "text/plain": [
       "retcode: Default\n",
       "Interpolation: 1st order linear\n",
       "t: 0.0f0:0.05f0:1.0f0\n",
       "u: 21-element Array{Float32,1}:\n",
       "  0.0\n",
       "  0.047355097\n",
       "  0.09067219\n",
       "  0.12655868\n",
       "  0.15135364\n",
       "  0.16174506\n",
       "  0.15560715\n",
       "  0.13281216\n",
       "  0.09565356\n",
       "  0.048604924\n",
       " -0.0025589764\n",
       " -0.051927865\n",
       " -0.094458\n",
       " -0.12653078\n",
       " -0.14604165\n",
       " -0.15217933\n",
       " -0.14507604\n",
       " -0.12546553\n",
       " -0.0944093\n",
       " -0.053108547\n",
       " -0.0027823448"
      ]
     },
     "execution_count": 9,
     "metadata": {},
     "output_type": "execute_result"
    }
   ],
   "source": [
    "sol = solve(prob, NeuralNetDiffEq.NNODE(chain,opt), dt=1/20f0, verbose = true,\n",
    "            abstol=1e-10, maxiters = 200)\n"
   ]
  },
  {
   "cell_type": "code",
   "execution_count": 10,
   "metadata": {},
   "outputs": [
    {
     "name": "stdout",
     "output_type": "stream",
     "text": [
      "Current loss is: 82.23263738462273\n",
      "Current loss is: 16.613519442512214\n",
      "Current loss is: 13.691737514348027\n",
      "Current loss is: 10.539044461314552\n",
      "Current loss is: 9.041252560364633\n",
      "Current loss is: 8.717296121320503\n",
      "Current loss is: 8.40690941022591\n",
      "Current loss is: 8.317859454437432\n",
      "Current loss is: 8.120979629807108\n",
      "Current loss is: 7.789439409757491\n",
      "Current loss is: 3.6015927135165318\n",
      "Current loss is: 3.138076076488036\n",
      "Current loss is: 2.9499825164419087\n",
      "Current loss is: 1.5585883057673033\n",
      "Current loss is: 0.6142780973322055\n",
      "Current loss is: 0.24070567896686412\n",
      "Current loss is: 0.09439234429128396\n",
      "Current loss is: 0.03414222638657092\n",
      "Current loss is: 0.004837650791734379\n",
      "Current loss is: 0.0005411759801857653\n",
      "Current loss is: 0.000190380084310604\n",
      "Current loss is: 0.00017858053612387423\n",
      "Current loss is: 0.00016701707135440642\n",
      "Current loss is: 0.0001651118481548766\n",
      "Current loss is: 0.00016114589040357465\n",
      "Current loss is: 0.00016083463413001648\n",
      "Current loss is: 0.00015335542342959402\n",
      "Current loss is: 0.0001529127732408631\n",
      "Current loss is: 0.0001529127732408631\n"
     ]
    },
    {
     "data": {
      "text/plain": [
       "retcode: Default\n",
       "Interpolation: 1st order linear\n",
       "t: 0.0f0:0.05f0:1.0f0\n",
       "u: 21-element Array{Array{Float32,1},1}:\n",
       " [0.0]\n",
       " [0.046757717]\n",
       " [0.08994444]\n",
       " [0.12591833]\n",
       " [0.15083086]\n",
       " [0.1612803]\n",
       " [0.1551392]\n",
       " [0.13231088]\n",
       " [0.09509164]\n",
       " [0.04791297]\n",
       " [-0.0034959316]\n",
       " [-0.053215463]\n",
       " [-0.096117824]\n",
       " [-0.12845704]\n",
       " [-0.14801918]\n",
       " [-0.15395197]\n",
       " [-0.14643712]\n",
       " [-0.12634109]\n",
       " [-0.094912484]\n",
       " [-0.053561118]\n",
       " [-0.0037125945]"
      ]
     },
     "execution_count": 10,
     "metadata": {},
     "output_type": "execute_result"
    }
   ],
   "source": [
    "linear = (u,p,t) -> [cos(2pi*t)]\n",
    "tspan = (0.0f0, 1.0f0)\n",
    "u0 = [0.0f0]\n",
    "prob = ODEProblem(linear, u0 ,tspan)\n",
    "chain = Flux.Chain(Dense(1,5,σ),Dense(5,1))\n",
    "opt = BFGS()\n",
    "sol = solve(prob, NeuralNetDiffEq.NNODE(chain,opt), dt=1/20f0, abstol=1e-10,\n",
    "            verbose = true, maxiters=200)\n"
   ]
  },
  {
   "cell_type": "code",
   "execution_count": 11,
   "metadata": {},
   "outputs": [
    {
     "name": "stderr",
     "output_type": "stream",
     "text": [
      "\u001b[32mloss: 3.56e+03:   0%|█                                        |  ETA: 0:33:21\u001b[39m"
     ]
    },
    {
     "name": "stdout",
     "output_type": "stream",
     "text": [
      "Current loss is: 3559.4507\n"
     ]
    },
    {
     "name": "stderr",
     "output_type": "stream",
     "text": [
      "\u001b[32mloss: 660:   1%|█                                        |  ETA: 0:17:58\u001b[39m"
     ]
    },
    {
     "name": "stdout",
     "output_type": "stream",
     "text": [
      "Current loss is: 659.6443\n",
      "Current loss is: 68.9107\n",
      "Current loss is: 4.0794573\n",
      "Current loss is: 11.333503\n"
     ]
    },
    {
     "name": "stderr",
     "output_type": "stream",
     "text": [
      "\u001b[32mloss: 148:   4%|██                                       |  ETA: 0:05:04\u001b[39m"
     ]
    },
    {
     "name": "stdout",
     "output_type": "stream",
     "text": [
      "Current loss is: 49.25389\n",
      "Current loss is: 148.21193\n",
      "Current loss is: 309.45154\n",
      "Current loss is: 470.5185\n"
     ]
    },
    {
     "name": "stderr",
     "output_type": "stream",
     "text": [
      "\u001b[32mloss: 497:   6%|███                                      |  ETA: 0:03:11\u001b[39m"
     ]
    },
    {
     "name": "stdout",
     "output_type": "stream",
     "text": [
      "Current loss is: 543.6206\n",
      "Current loss is: 497.3645\n",
      "Current loss is: 375.09186\n",
      "Current loss is: 241.81363\n"
     ]
    },
    {
     "name": "stderr",
     "output_type": "stream",
     "text": [
      "\u001b[32mloss: 73.1:   8%|████                                     |  ETA: 0:02:18\u001b[39m"
     ]
    },
    {
     "name": "stdout",
     "output_type": "stream",
     "text": [
      "Current loss is: 138.64185\n",
      "Current loss is: 73.10927\n",
      "Current loss is: 37.165615\n",
      "Current loss is: 18.961033\n"
     ]
    },
    {
     "name": "stderr",
     "output_type": "stream",
     "text": [
      "\u001b[32mloss: 5.63:  10%|████                                     |  ETA: 0:01:48\u001b[39m"
     ]
    },
    {
     "name": "stdout",
     "output_type": "stream",
     "text": [
      "Current loss is: 10.052432\n",
      "Current loss is: 5.6307406\n",
      "Current loss is: 3.6744998\n",
      "Current loss is: 3.6787958"
     ]
    },
    {
     "name": "stderr",
     "output_type": "stream",
     "text": [
      "\u001b[32mloss: 10.2:  12%|█████                                    |  ETA: 0:01:28\u001b[39m"
     ]
    },
    {
     "name": "stdout",
     "output_type": "stream",
     "text": [
      "\n",
      "Current loss is: 5.796163\n",
      "Current loss is: 10.228039\n",
      "Current loss is: 16.961014\n",
      "Current loss is: 25.343163\n"
     ]
    },
    {
     "name": "stderr",
     "output_type": "stream",
     "text": [
      "\u001b[32mloss: 42.5:  14%|██████                                   |  ETA: 0:01:14\u001b[39m"
     ]
    },
    {
     "name": "stdout",
     "output_type": "stream",
     "text": [
      "Current loss is: 34.35516\n",
      "Current loss is: 42.46633\n",
      "Current loss is: 48.31447"
     ]
    },
    {
     "name": "stderr",
     "output_type": "stream",
     "text": [
      "\u001b[32mloss: 50.8:  14%|██████                                   |  ETA: 0:01:09\u001b[39m"
     ]
    },
    {
     "name": "stdout",
     "output_type": "stream",
     "text": [
      "\n",
      "Current loss is: 50.82094\n",
      "Current loss is: 49.754066\n",
      "Current loss is: 45.62235\n",
      "Current loss is: 39.370415"
     ]
    },
    {
     "name": "stderr",
     "output_type": "stream",
     "text": [
      "\u001b[32mloss: 32.3:  16%|███████                                  |  ETA: 0:00:59\u001b[39m"
     ]
    },
    {
     "name": "stdout",
     "output_type": "stream",
     "text": [
      "\n",
      "Current loss is: 32.340855\n",
      "Current loss is: 25.37209\n",
      "Current loss is: 19.177765\n"
     ]
    },
    {
     "name": "stderr",
     "output_type": "stream",
     "text": [
      "\u001b[32mloss: 10.3:  18%|████████                                 |  ETA: 0:00:52\u001b[39m"
     ]
    },
    {
     "name": "stdout",
     "output_type": "stream",
     "text": [
      "Current loss is: 14.127268\n",
      "Current loss is: 10.2595625\n",
      "Current loss is: 7.498134\n",
      "Current loss is: 5.605809\n"
     ]
    },
    {
     "name": "stderr",
     "output_type": "stream",
     "text": [
      "\u001b[32mloss: 3.72:  20%|█████████                                |  ETA: 0:00:46\u001b[39m"
     ]
    },
    {
     "name": "stdout",
     "output_type": "stream",
     "text": [
      "Current loss is: 4.408679\n",
      "Current loss is: 3.7151804\n",
      "Current loss is: 3.379248\n",
      "Current loss is: 3.292054\n"
     ]
    },
    {
     "name": "stderr",
     "output_type": "stream",
     "text": [
      "\u001b[32mloss: 3.8:  23%|██████████                               |  ETA: 0:00:41\u001b[39m"
     ]
    },
    {
     "name": "stdout",
     "output_type": "stream",
     "text": [
      "Current loss is: 3.374868\n",
      "Current loss is: 3.555251\n",
      "Current loss is: 3.7998757\n",
      "Current loss is: 4.0681343\n",
      "Current loss is: 4.343919\n"
     ]
    },
    {
     "name": "stderr",
     "output_type": "stream",
     "text": [
      "\u001b[32mloss: 4.83:  25%|███████████                              |  ETA: 0:00:37\u001b[39m"
     ]
    },
    {
     "name": "stdout",
     "output_type": "stream",
     "text": [
      "Current loss is: 4.5950813\n",
      "Current loss is: 4.8282366\n",
      "Current loss is: 5.027836\n"
     ]
    },
    {
     "name": "stderr",
     "output_type": "stream",
     "text": [
      "\u001b[32mloss: 5.34:  27%|████████████                             |  ETA: 0:00:33\u001b[39m"
     ]
    },
    {
     "name": "stdout",
     "output_type": "stream",
     "text": [
      "Current loss is: 5.1725097\n",
      "Current loss is: 5.278707\n",
      "Current loss is: 5.3394065\n",
      "Current loss is: 5.3479476\n",
      "Current loss is: 5.316687\n"
     ]
    },
    {
     "name": "stderr",
     "output_type": "stream",
     "text": [
      "\u001b[32mloss: 5.15:  29%|████████████                             |  ETA: 0:00:30\u001b[39m"
     ]
    },
    {
     "name": "stdout",
     "output_type": "stream",
     "text": [
      "Current loss is: 5.246657\n",
      "Current loss is: 5.1529064\n",
      "Current loss is: 5.025852\n",
      "Current loss is: 4.8794446"
     ]
    },
    {
     "name": "stderr",
     "output_type": "stream",
     "text": [
      "\u001b[32mloss: 4.38:  32%|█████████████                            |  ETA: 0:00:27\u001b[39m"
     ]
    },
    {
     "name": "stdout",
     "output_type": "stream",
     "text": [
      "\n",
      "Current loss is: 4.721915\n",
      "Current loss is: 4.548434\n",
      "Current loss is: 4.3797426\n",
      "Current loss is: 4.2091074"
     ]
    },
    {
     "name": "stderr",
     "output_type": "stream",
     "text": [
      "\u001b[32mloss: 3.74:  34%|██████████████                           |  ETA: 0:00:25\u001b[39m"
     ]
    },
    {
     "name": "stdout",
     "output_type": "stream",
     "text": [
      "\n",
      "Current loss is: 4.0381246\n",
      "Current loss is: 3.88221\n",
      "Current loss is: 3.7405648\n"
     ]
    },
    {
     "name": "stderr",
     "output_type": "stream",
     "text": [
      "\u001b[32mloss: 3.32:  36%|███████████████                          |  ETA: 0:00:23\u001b[39m"
     ]
    },
    {
     "name": "stdout",
     "output_type": "stream",
     "text": [
      "Current loss is: 3.6166363\n",
      "Current loss is: 3.4998806\n",
      "Current loss is: 3.4029694\n",
      "Current loss is: 3.3198\n",
      "Current loss is: 3.261405\n",
      "Current loss is: 3.2161608\n",
      "Current loss is: 3.185958\n",
      "Current loss is: 3.1722906\n",
      "Current loss is: 3.1740985"
     ]
    },
    {
     "name": "stderr",
     "output_type": "stream",
     "text": [
      "\u001b[32mloss: 3.17:  38%|████████████████                         |  ETA: 0:00:21\u001b[39m"
     ]
    },
    {
     "name": "stdout",
     "output_type": "stream",
     "text": [
      "\n",
      "Current loss is: 3.1851332\n",
      "Current loss is: 3.2036223\n"
     ]
    },
    {
     "name": "stderr",
     "output_type": "stream",
     "text": [
      "\u001b[32mloss: 3.26:  40%|█████████████████                        |  ETA: 0:00:20\u001b[39m"
     ]
    },
    {
     "name": "stdout",
     "output_type": "stream",
     "text": [
      "Current loss is: 3.2292933\n",
      "Current loss is: 3.256516\n",
      "Current loss is: 3.289856\n",
      "Current loss is: 3.319386\n",
      "Current loss is: 3.3474202\n"
     ]
    },
    {
     "name": "stderr",
     "output_type": "stream",
     "text": [
      "\u001b[32mloss: 3.39:  42%|██████████████████                       |  ETA: 0:00:18\u001b[39m"
     ]
    },
    {
     "name": "stdout",
     "output_type": "stream",
     "text": [
      "Current loss is: 3.3712656\n",
      "Current loss is: 3.39212\n",
      "Current loss is: 3.4042618\n",
      "Current loss is: 3.4117174"
     ]
    },
    {
     "name": "stderr",
     "output_type": "stream",
     "text": [
      "\u001b[32mloss: 3.41:  44%|███████████████████                      |  ETA: 0:00:17\u001b[39m"
     ]
    },
    {
     "name": "stdout",
     "output_type": "stream",
     "text": [
      "\n",
      "Current loss is: 3.4136167\n",
      "Current loss is: 3.4132645\n",
      "Current loss is: 3.399758\n"
     ]
    },
    {
     "name": "stderr",
     "output_type": "stream",
     "text": [
      "\u001b[32mloss: 3.35:  46%|████████████████████                     |  ETA: 0:00:15\u001b[39m"
     ]
    },
    {
     "name": "stdout",
     "output_type": "stream",
     "text": [
      "Current loss is: 3.392827\n",
      "Current loss is: 3.3762252\n",
      "Current loss is: 3.3530903\n",
      "Current loss is: 3.3287704\n",
      "Current loss is: 3.3107061\n"
     ]
    },
    {
     "name": "stderr",
     "output_type": "stream",
     "text": [
      "\u001b[32mloss: 3.24:  49%|█████████████████████                    |  ETA: 0:00:14\u001b[39m"
     ]
    },
    {
     "name": "stdout",
     "output_type": "stream",
     "text": [
      "Current loss is: 3.2852464\n",
      "Current loss is: 3.2607825\n",
      "Current loss is: 3.2443452\n",
      "Current loss is: 3.2232013\n"
     ]
    },
    {
     "name": "stderr",
     "output_type": "stream",
     "text": [
      "\u001b[32mloss: 3.17:  51%|█████████████████████                    |  ETA: 0:00:13\u001b[39m"
     ]
    },
    {
     "name": "stdout",
     "output_type": "stream",
     "text": [
      "Current loss is: 3.201818\n",
      "Current loss is: 3.1833785\n",
      "Current loss is: 3.1653795\n",
      "Current loss is: 3.154206\n"
     ]
    },
    {
     "name": "stderr",
     "output_type": "stream",
     "text": [
      "\u001b[32mloss: 3.12:  53%|██████████████████████                   |  ETA: 0:00:12\u001b[39m"
     ]
    },
    {
     "name": "stdout",
     "output_type": "stream",
     "text": [
      "Current loss is: 3.1377733\n",
      "Current loss is: 3.1290426\n",
      "Current loss is: 3.116044\n",
      "Current loss is: 3.1080866"
     ]
    },
    {
     "name": "stderr",
     "output_type": "stream",
     "text": [
      "\u001b[32mloss: 3.09:  55%|███████████████████████                  |  ETA: 0:00:11\u001b[39m"
     ]
    },
    {
     "name": "stdout",
     "output_type": "stream",
     "text": [
      "\n",
      "Current loss is: 3.100733\n",
      "Current loss is: 3.0922613\n",
      "Current loss is: 3.0891416\n",
      "Current loss is: 3.081351"
     ]
    },
    {
     "name": "stderr",
     "output_type": "stream",
     "text": [
      "\u001b[32mloss: 3.07:  57%|████████████████████████                 |  ETA: 0:00:11\u001b[39m"
     ]
    },
    {
     "name": "stdout",
     "output_type": "stream",
     "text": [
      "\n",
      "Current loss is: 3.0735488\n",
      "Current loss is: 3.0714955\n",
      "Current loss is: 3.0722642\n",
      "Current loss is: 3.0677178\n"
     ]
    },
    {
     "name": "stderr",
     "output_type": "stream",
     "text": [
      "\u001b[32mloss: 3.06:  59%|█████████████████████████                |  ETA: 0:00:10\u001b[39m"
     ]
    },
    {
     "name": "stdout",
     "output_type": "stream",
     "text": [
      "Current loss is: 3.062976\n",
      "Current loss is: 3.059647\n",
      "Current loss is: 3.0579665\n",
      "Current loss is: 3.0531201"
     ]
    },
    {
     "name": "stderr",
     "output_type": "stream",
     "text": [
      "\u001b[32mloss: 3.05:  61%|██████████████████████████               |  ETA: 0:00:09\u001b[39m"
     ]
    },
    {
     "name": "stdout",
     "output_type": "stream",
     "text": [
      "\n",
      "Current loss is: 3.0541704\n",
      "Current loss is: 3.050472\n",
      "Current loss is: 3.050525\n",
      "Current loss is: 3.046139\n"
     ]
    },
    {
     "name": "stderr",
     "output_type": "stream",
     "text": [
      "\u001b[32mloss: 3.04:  64%|███████████████████████████              |  ETA: 0:00:08\u001b[39m"
     ]
    },
    {
     "name": "stdout",
     "output_type": "stream",
     "text": [
      "Current loss is: 3.0419564\n",
      "Current loss is: 3.0460706\n",
      "Current loss is: 3.042734\n",
      "Current loss is: 3.042702\n"
     ]
    },
    {
     "name": "stderr",
     "output_type": "stream",
     "text": [
      "\u001b[32mloss: 3.04:  66%|███████████████████████████              |  ETA: 0:00:08\u001b[39m"
     ]
    },
    {
     "name": "stdout",
     "output_type": "stream",
     "text": [
      "Current loss is: 3.036711\n",
      "Current loss is: 3.0375316\n",
      "Current loss is: 3.0389676\n",
      "Current loss is: 3.0372934\n",
      "Current loss is: 3.036452\n",
      "Current loss is: 3.0365055\n",
      "Current loss is: 3.0354867\n",
      "Current loss is: 3.0343962\n"
     ]
    },
    {
     "name": "stderr",
     "output_type": "stream",
     "text": [
      "\u001b[32mloss: 3.03:  68%|████████████████████████████             |  ETA: 0:00:07\u001b[39m"
     ]
    },
    {
     "name": "stdout",
     "output_type": "stream",
     "text": [
      "Current loss is: 3.0278447\n",
      "Current loss is: 3.0265002\n",
      "Current loss is: 3.0237837\n",
      "Current loss is: 3.0205212"
     ]
    },
    {
     "name": "stderr",
     "output_type": "stream",
     "text": [
      "\u001b[32mloss: 3.02:  70%|█████████████████████████████            |  ETA: 0:00:06\u001b[39m"
     ]
    },
    {
     "name": "stdout",
     "output_type": "stream",
     "text": [
      "\n",
      "Current loss is: 3.018381\n",
      "Current loss is: 3.0157645\n"
     ]
    },
    {
     "name": "stderr",
     "output_type": "stream",
     "text": [
      "\u001b[32mloss: 3.01:  72%|██████████████████████████████           |  ETA: 0:00:06\u001b[39m"
     ]
    },
    {
     "name": "stdout",
     "output_type": "stream",
     "text": [
      "Current loss is: 3.0118983\n",
      "Current loss is: 3.010014\n",
      "Current loss is: 3.0000212\n",
      "Current loss is: 3.0016105"
     ]
    },
    {
     "name": "stderr",
     "output_type": "stream",
     "text": [
      "\u001b[32mloss: 2.99:  74%|███████████████████████████████          |  ETA: 0:00:05\u001b[39m"
     ]
    },
    {
     "name": "stdout",
     "output_type": "stream",
     "text": [
      "\n",
      "Current loss is: 2.995784\n",
      "Current loss is: 2.9918005\n",
      "Current loss is: 2.9891725"
     ]
    },
    {
     "name": "stderr",
     "output_type": "stream",
     "text": [
      "\u001b[32mloss: 2.97:  76%|███████████████████████████████          |  ETA: 0:00:05\u001b[39m"
     ]
    },
    {
     "name": "stdout",
     "output_type": "stream",
     "text": [
      "\n",
      "Current loss is: 2.9822996\n",
      "Current loss is: 2.9797857\n",
      "Current loss is: 2.9748871\n",
      "Current loss is: 2.9710093"
     ]
    },
    {
     "name": "stderr",
     "output_type": "stream",
     "text": [
      "\u001b[32mloss: 2.96:  78%|████████████████████████████████         |  ETA: 0:00:04\u001b[39m"
     ]
    },
    {
     "name": "stdout",
     "output_type": "stream",
     "text": [
      "\n",
      "Current loss is: 2.965125\n",
      "Current loss is: 2.96335\n",
      "Current loss is: 2.9580042\n",
      "Current loss is: 2.9544005\n"
     ]
    },
    {
     "name": "stderr",
     "output_type": "stream",
     "text": [
      "\u001b[32mloss: 2.94:  80%|█████████████████████████████████        |  ETA: 0:00:04\u001b[39m"
     ]
    },
    {
     "name": "stdout",
     "output_type": "stream",
     "text": [
      "Current loss is: 2.9518175\n",
      "Current loss is: 2.9489012\n",
      "Current loss is: 2.9431665\n",
      "Current loss is: 2.9398372"
     ]
    },
    {
     "name": "stderr",
     "output_type": "stream",
     "text": [
      "\u001b[32mloss: 2.93:  82%|██████████████████████████████████       |  ETA: 0:00:03\u001b[39m"
     ]
    },
    {
     "name": "stdout",
     "output_type": "stream",
     "text": [
      "\n",
      "Current loss is: 2.9311063\n",
      "Current loss is: 2.9292307\n",
      "Current loss is: 2.927793\n",
      "Current loss is: 2.9248977"
     ]
    },
    {
     "name": "stderr",
     "output_type": "stream",
     "text": [
      "\u001b[32mloss: 2.91:  84%|███████████████████████████████████      |  ETA: 0:00:03\u001b[39m"
     ]
    },
    {
     "name": "stdout",
     "output_type": "stream",
     "text": [
      "\n",
      "Current loss is: 2.9188817\n",
      "Current loss is: 2.9129593\n",
      "Current loss is: 2.911509\n",
      "Current loss is: 2.9098175\n"
     ]
    },
    {
     "name": "stderr",
     "output_type": "stream",
     "text": [
      "\u001b[32mloss: 2.9:  86%|████████████████████████████████████     |  ETA: 0:00:03\u001b[39m"
     ]
    },
    {
     "name": "stdout",
     "output_type": "stream",
     "text": [
      "Current loss is: 2.9032395\n",
      "Current loss is: 2.9028058\n",
      "Current loss is: 2.897434\n",
      "Current loss is: 2.8967524\n"
     ]
    },
    {
     "name": "stderr",
     "output_type": "stream",
     "text": [
      "\u001b[32mloss: 2.88:  88%|█████████████████████████████████████    |  ETA: 0:00:02\u001b[39m"
     ]
    },
    {
     "name": "stdout",
     "output_type": "stream",
     "text": [
      "Current loss is: 2.891825\n",
      "Current loss is: 2.8880715\n",
      "Current loss is: 2.8851056\n",
      "Current loss is: 2.8792725\n"
     ]
    },
    {
     "name": "stderr",
     "output_type": "stream",
     "text": [
      "\u001b[32mloss: 2.87:  90%|█████████████████████████████████████    |  ETA: 0:00:02\u001b[39m"
     ]
    },
    {
     "name": "stdout",
     "output_type": "stream",
     "text": [
      "Current loss is: 2.8763165\n",
      "Current loss is: 2.875104\n",
      "Current loss is: 2.8732698\n",
      "Current loss is: 2.8668509\n"
     ]
    },
    {
     "name": "stderr",
     "output_type": "stream",
     "text": [
      "\u001b[32mloss: 2.85:  92%|██████████████████████████████████████   |  ETA: 0:00:01\u001b[39m"
     ]
    },
    {
     "name": "stdout",
     "output_type": "stream",
     "text": [
      "Current loss is: 2.8644025\n",
      "Current loss is: 2.8568258\n",
      "Current loss is: 2.8578038\n",
      "Current loss is: 2.851127\n",
      "Current loss is: 2.8509183\n"
     ]
    },
    {
     "name": "stderr",
     "output_type": "stream",
     "text": [
      "\u001b[32mloss: 2.84:  94%|███████████████████████████████████████  |  ETA: 0:00:01\u001b[39m"
     ]
    },
    {
     "name": "stdout",
     "output_type": "stream",
     "text": [
      "Current loss is: 2.8453631\n",
      "Current loss is: 2.84298\n",
      "Current loss is: 2.8398647\n",
      "Current loss is: 2.8368812\n",
      "Current loss is: 2.8300595\n",
      "Current loss is: 2.8272138\n",
      "Current loss is: 2.827352\n"
     ]
    },
    {
     "name": "stderr",
     "output_type": "stream",
     "text": [
      "\u001b[32mloss: 2.82:  96%|████████████████████████████████████████ |  ETA: 0:00:01\u001b[39m"
     ]
    },
    {
     "name": "stdout",
     "output_type": "stream",
     "text": [
      "Current loss is: 2.8191793\n",
      "Current loss is: 2.8176036\n",
      "Current loss is: 2.8107724\n",
      "Current loss is: 2.8102841"
     ]
    },
    {
     "name": "stderr",
     "output_type": "stream",
     "text": [
      "\r"
     ]
    },
    {
     "name": "stdout",
     "output_type": "stream",
     "text": [
      "\n",
      "Current loss is: 2.8086824\n",
      "Current loss is: 2.801858\n",
      "Current loss is: 2.800251\n"
     ]
    },
    {
     "name": "stderr",
     "output_type": "stream",
     "text": [
      "\u001b[32mloss: 2.79: 100%|█████████████████████████████████████████| Time: 0:00:16\u001b[39m\n"
     ]
    },
    {
     "name": "stdout",
     "output_type": "stream",
     "text": [
      "Current loss is: 2.7925005\n",
      "Current loss is: 2.7925005\n"
     ]
    },
    {
     "data": {
      "text/plain": [
       "\u001b[32m\u001b[1mTest Passed\u001b[22m\u001b[39m"
      ]
     },
     "execution_count": 11,
     "metadata": {},
     "output_type": "execute_result"
    }
   ],
   "source": [
    "linear = (u,p,t) -> @. t^3 + 2*t + (t^2)*((1+3*(t^2))/(1+t+(t^3))) - u*(t + ((1+3*(t^2))/(1+t+t^3)))\n",
    "linear_analytic = (u0,p,t) -> [exp(-(t^2)/2)/(1+t+t^3) + t^2]\n",
    "prob = ODEProblem(ODEFunction(linear,analytic=linear_analytic),[1f0],(0.0f0,1.0f0))\n",
    "chain = Flux.Chain(Dense(1,128,σ),Dense(128,1))\n",
    "opt = ADAM(0.01)\n",
    "sol  = solve(prob,NeuralNetDiffEq.NNODE(chain,opt),verbose = true, dt=1/5f0, maxiters=200)\n",
    "@test sol.errors[:l2] < 0.5"
   ]
  },
  {
   "cell_type": "code",
   "execution_count": 12,
   "metadata": {},
   "outputs": [],
   "source": [
    "#=\n",
    "dts = 1f0 ./ 2f0 .^ (6:-1:2)\n",
    "sim = test_convergence(dts, prob, NeuralNetDiffEq.NNODE(chain, opt))\n",
    "@test abs(sim.𝒪est[:l2]) < 0.1\n",
    "@test minimum(sim.errors[:l2]) < 0.5\n",
    "=#"
   ]
  },
  {
   "cell_type": "code",
   "execution_count": 13,
   "metadata": {},
   "outputs": [
    {
     "name": "stderr",
     "output_type": "stream",
     "text": [
      "\u001b[32mloss: 3.9:   1%|█                                        |  ETA: 0:05:15\u001b[39m"
     ]
    },
    {
     "name": "stdout",
     "output_type": "stream",
     "text": [
      "Current loss is: 3.9038532\n",
      "Current loss is: 3.3023918\n",
      "Current loss is: 2.782186"
     ]
    },
    {
     "name": "stderr",
     "output_type": "stream",
     "text": [
      "\u001b[32mloss: 1.96:   5%|███                                      |  ETA: 0:01:03\u001b[39m"
     ]
    },
    {
     "name": "stdout",
     "output_type": "stream",
     "text": [
      "\n",
      "Current loss is: 2.3362253\n",
      "Current loss is: 1.9562352\n",
      "Current loss is: 1.6354475\n",
      "Current loss is: 1.3682317\n"
     ]
    },
    {
     "name": "stderr",
     "output_type": "stream",
     "text": [
      "\u001b[32mloss: 0.969:   9%|████                                     |  ETA: 0:00:34\u001b[39m"
     ]
    },
    {
     "name": "stdout",
     "output_type": "stream",
     "text": [
      "Current loss is: 1.1478586\n",
      "Current loss is: 0.96893233\n",
      "Current loss is: 0.82709086\n",
      "Current loss is: 0.71743333"
     ]
    },
    {
     "name": "stderr",
     "output_type": "stream",
     "text": [
      "\u001b[32mloss: 0.578:  13%|██████                                   |  ETA: 0:00:24\u001b[39m"
     ]
    },
    {
     "name": "stdout",
     "output_type": "stream",
     "text": [
      "\n",
      "Current loss is: 0.6354369\n",
      "Current loss is: 0.57789195\n",
      "Current loss is: 0.5387349\n",
      "Current loss is: 0.5148967"
     ]
    },
    {
     "name": "stderr",
     "output_type": "stream",
     "text": [
      "\u001b[32mloss: 0.497:  17%|███████                                  |  ETA: 0:00:18\u001b[39m"
     ]
    },
    {
     "name": "stdout",
     "output_type": "stream",
     "text": [
      "\n",
      "Current loss is: 0.50227493\n",
      "Current loss is: 0.4974532\n",
      "Current loss is: 0.49601302\n"
     ]
    },
    {
     "name": "stderr",
     "output_type": "stream",
     "text": [
      "\u001b[32mloss: 0.487:  22%|██████████                               |  ETA: 0:00:13\u001b[39m"
     ]
    },
    {
     "name": "stdout",
     "output_type": "stream",
     "text": [
      "Current loss is: 0.49600002\n",
      "Current loss is: 0.49475905\n",
      "Current loss is: 0.49289197\n",
      "Current loss is: 0.48662972\n",
      "Current loss is: 0.47670552"
     ]
    },
    {
     "name": "stderr",
     "output_type": "stream",
     "text": [
      "\u001b[32mloss: 0.431:  26%|███████████                              |  ETA: 0:00:11\u001b[39m"
     ]
    },
    {
     "name": "stdout",
     "output_type": "stream",
     "text": [
      "\n",
      "Current loss is: 0.46465048\n",
      "Current loss is: 0.44916064\n",
      "Current loss is: 0.4308694\n",
      "Current loss is: 0.4114488\n"
     ]
    },
    {
     "name": "stderr",
     "output_type": "stream",
     "text": [
      "\u001b[32mloss: 0.33:  31%|█████████████                            |  ETA: 0:00:09\u001b[39m"
     ]
    },
    {
     "name": "stdout",
     "output_type": "stream",
     "text": [
      "Current loss is: 0.39070523\n",
      "Current loss is: 0.36965984\n",
      "Current loss is: 0.3491966\n",
      "Current loss is: 0.32965767\n",
      "Current loss is: 0.31078702"
     ]
    },
    {
     "name": "stderr",
     "output_type": "stream",
     "text": [
      "\u001b[32mloss: 0.264:  35%|███████████████                          |  ETA: 0:00:08\u001b[39m"
     ]
    },
    {
     "name": "stdout",
     "output_type": "stream",
     "text": [
      "\n",
      "Current loss is: 0.29359806\n",
      "Current loss is: 0.27810422\n",
      "Current loss is: 0.26417089\n",
      "Current loss is: 0.25158143\n"
     ]
    },
    {
     "name": "stderr",
     "output_type": "stream",
     "text": [
      "\u001b[32mloss: 0.215:  40%|█████████████████                        |  ETA: 0:00:06\u001b[39m"
     ]
    },
    {
     "name": "stdout",
     "output_type": "stream",
     "text": [
      "Current loss is: 0.24069479\n",
      "Current loss is: 0.23081532\n",
      "Current loss is: 0.22236514\n",
      "Current loss is: 0.21478213\n",
      "Current loss is: 0.2081446\n"
     ]
    },
    {
     "name": "stderr",
     "output_type": "stream",
     "text": [
      "\u001b[32mloss: 0.187:  45%|███████████████████                      |  ETA: 0:00:05\u001b[39m"
     ]
    },
    {
     "name": "stdout",
     "output_type": "stream",
     "text": [
      "Current loss is: 0.20213881\n",
      "Current loss is: 0.1968306\n",
      "Current loss is: 0.19174504\n",
      "Current loss is: 0.18700211\n",
      "Current loss is: 0.18254395\n"
     ]
    },
    {
     "name": "stderr",
     "output_type": "stream",
     "text": [
      "\u001b[32mloss: 0.166:  50%|█████████████████████                    |  ETA: 0:00:04\u001b[39m"
     ]
    },
    {
     "name": "stdout",
     "output_type": "stream",
     "text": [
      "Current loss is: 0.17828965\n",
      "Current loss is: 0.17402887\n",
      "Current loss is: 0.16970444\n",
      "Current loss is: 0.16576818\n",
      "Current loss is: 0.16163445"
     ]
    },
    {
     "name": "stderr",
     "output_type": "stream",
     "text": [
      "\u001b[32mloss: 0.146:  55%|███████████████████████                  |  ETA: 0:00:04\u001b[39m"
     ]
    },
    {
     "name": "stdout",
     "output_type": "stream",
     "text": [
      "\n",
      "Current loss is: 0.15740618\n",
      "Current loss is: 0.1535343\n",
      "Current loss is: 0.14936495\n",
      "Current loss is: 0.14550915\n",
      "Current loss is: 0.14157347"
     ]
    },
    {
     "name": "stderr",
     "output_type": "stream",
     "text": [
      "\u001b[32mloss: 0.13:  59%|█████████████████████████                |  ETA: 0:00:03\u001b[39m"
     ]
    },
    {
     "name": "stdout",
     "output_type": "stream",
     "text": [
      "\n",
      "Current loss is: 0.13771679\n",
      "Current loss is: 0.13401884\n",
      "Current loss is: 0.13039763\n",
      "Current loss is: 0.12685098\n"
     ]
    },
    {
     "name": "stderr",
     "output_type": "stream",
     "text": [
      "\u001b[32mloss: 0.114:  64%|███████████████████████████              |  ETA: 0:00:03\u001b[39m"
     ]
    },
    {
     "name": "stdout",
     "output_type": "stream",
     "text": [
      "Current loss is: 0.12358765\n",
      "Current loss is: 0.120199814\n",
      "Current loss is: 0.11718798\n",
      "Current loss is: 0.113984846\n",
      "Current loss is: 0.111130066"
     ]
    },
    {
     "name": "stderr",
     "output_type": "stream",
     "text": [
      "\u001b[32mloss: 0.103:  68%|████████████████████████████             |  ETA: 0:00:02\u001b[39m"
     ]
    },
    {
     "name": "stdout",
     "output_type": "stream",
     "text": [
      "\n",
      "Current loss is: 0.10830024\n",
      "Current loss is: 0.10562198\n",
      "Current loss is: 0.10302599\n",
      "Current loss is: 0.10057615\n"
     ]
    },
    {
     "name": "stderr",
     "output_type": "stream",
     "text": [
      "\u001b[32mloss: 0.0916:  73%|██████████████████████████████           |  ETA: 0:00:02\u001b[39m"
     ]
    },
    {
     "name": "stdout",
     "output_type": "stream",
     "text": [
      "Current loss is: 0.09819867\n",
      "Current loss is: 0.095870145\n",
      "Current loss is: 0.09376523\n",
      "Current loss is: 0.091609366\n",
      "Current loss is: 0.089570895"
     ]
    },
    {
     "name": "stderr",
     "output_type": "stream",
     "text": [
      "\u001b[32mloss: 0.0838:  77%|████████████████████████████████         |  ETA: 0:00:02\u001b[39m"
     ]
    },
    {
     "name": "stdout",
     "output_type": "stream",
     "text": [
      "\n",
      "Current loss is: 0.08754715\n",
      "Current loss is: 0.08564761\n",
      "Current loss is: 0.08376679\n",
      "Current loss is: 0.08202043"
     ]
    },
    {
     "name": "stderr",
     "output_type": "stream",
     "text": [
      "\u001b[32mloss: 0.0752:  82%|██████████████████████████████████       |  ETA: 0:00:01\u001b[39m"
     ]
    },
    {
     "name": "stdout",
     "output_type": "stream",
     "text": [
      "\n",
      "Current loss is: 0.0802079\n",
      "Current loss is: 0.07845697\n",
      "Current loss is: 0.07685757\n",
      "Current loss is: 0.0752057\n",
      "Current loss is: 0.07356401\n"
     ]
    },
    {
     "name": "stderr",
     "output_type": "stream",
     "text": [
      "\u001b[32mloss: 0.0705:  85%|███████████████████████████████████      |  ETA: 0:00:01\u001b[39m"
     ]
    },
    {
     "name": "stdout",
     "output_type": "stream",
     "text": [
      "Current loss is: 0.07209021\n",
      "Current loss is: 0.07052686\n",
      "Current loss is: 0.06906442\n",
      "Current loss is: 0.06765443\n",
      "Current loss is: 0.0663266\n"
     ]
    },
    {
     "name": "stderr",
     "output_type": "stream",
     "text": [
      "\u001b[32mloss: 0.0636:  90%|█████████████████████████████████████    |  ETA: 0:00:01\u001b[39m"
     ]
    },
    {
     "name": "stdout",
     "output_type": "stream",
     "text": [
      "Current loss is: 0.064852014\n",
      "Current loss is: 0.06355994\n",
      "Current loss is: 0.062344126\n",
      "Current loss is: 0.0610165"
     ]
    },
    {
     "name": "stderr",
     "output_type": "stream",
     "text": [
      "\u001b[32mloss: 0.0575:  95%|███████████████████████████████████████  |  ETA: 0:00:00\u001b[39m"
     ]
    },
    {
     "name": "stdout",
     "output_type": "stream",
     "text": [
      "\n",
      "Current loss is: 0.05981891\n",
      "Current loss is: 0.058635034\n",
      "Current loss is: 0.057463825\n",
      "Current loss is: 0.05631032"
     ]
    },
    {
     "name": "stderr",
     "output_type": "stream",
     "text": [
      "\u001b[32mloss: 0.052: 100%|█████████████████████████████████████████| Time: 0:00:05\u001b[39m\n"
     ]
    },
    {
     "name": "stdout",
     "output_type": "stream",
     "text": [
      "\n",
      "Current loss is: 0.055236124\n",
      "Current loss is: 0.05412733\n",
      "Current loss is: 0.053081706\n",
      "Current loss is: 0.052020453\n",
      "Current loss is: 0.052020453\n"
     ]
    },
    {
     "data": {
      "text/plain": [
       "\u001b[32m\u001b[1mTest Passed\u001b[22m\u001b[39m"
      ]
     },
     "execution_count": 13,
     "metadata": {},
     "output_type": "execute_result"
    }
   ],
   "source": [
    "linear = (u,p,t) -> -u/5 + exp(-t/5).*cos(t)\n",
    "linear_analytic = (u0,p,t) ->  exp(-t/5)*(u0 + sin(t))\n",
    "prob = ODEProblem(ODEFunction(linear,analytic=linear_analytic),0.0f0,(0.0f0,1.0f0))\n",
    "chain = Flux.Chain(Dense(1,5,σ),Dense(5,1))\n",
    "opt = ADAM(0.01)\n",
    "sol  = solve(prob,NeuralNetDiffEq.NNODE(chain,opt),verbose = true, dt=1/5f0)\n",
    "@test sol.errors[:l2] < 0.5"
   ]
  },
  {
   "cell_type": "code",
   "execution_count": null,
   "metadata": {},
   "outputs": [],
   "source": []
  }
 ],
 "metadata": {
  "kernelspec": {
   "display_name": "Julia 1.4.1",
   "language": "julia",
   "name": "julia-1.4"
  },
  "language_info": {
   "file_extension": ".jl",
   "mimetype": "application/julia",
   "name": "julia",
   "version": "1.4.1"
  }
 },
 "nbformat": 4,
 "nbformat_minor": 2
}
