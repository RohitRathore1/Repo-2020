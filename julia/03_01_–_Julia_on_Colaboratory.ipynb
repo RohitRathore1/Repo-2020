{
  "nbformat": 4,
  "nbformat_minor": 0,
  "metadata": {
    "kernelspec": {
      "name": "julia-1.0",
      "display_name": "Julia 1.0"
    },
    "accelerator": "GPU",
    "colab": {
      "name": "03.01 – Julia on Colaboratory",
      "provenance": [],
      "collapsed_sections": [],
      "include_colab_link": true
    }
  },
  "cells": [
    {
      "cell_type": "markdown",
      "metadata": {
        "id": "view-in-github",
        "colab_type": "text"
      },
      "source": [
        "<a href=\"https://colab.research.google.com/github/TeAmP0is0N/Repo-2020/blob/master/julia/03_01_%E2%80%93_Julia_on_Colaboratory.ipynb\" target=\"_parent\"><img src=\"https://colab.research.google.com/assets/colab-badge.svg\" alt=\"Open In Colab\"/></a>"
      ]
    },
    {
      "cell_type": "markdown",
      "metadata": {
        "id": "Q7S9cpFJqfXy",
        "colab_type": "text"
      },
      "source": [
        "## Julia on Colaboratory ##\n",
        "\n",
        "[Colaboratory](https://colab.research.google.com) does not provide native support for the [Julia programming language](https://julialang.org). However, since Colaboratory gives you root access to the machine that runs your notebook (the *“runtime”* in Colaboratory terminology), we can install Julia support by uploading a specially crafted Julia notebook  – *this* notebook. We then install Julia and [IJulia](https://github.com/JuliaLang/IJulia.jl) ([Jupyter](https://jupyter.org)/Colaboratory notebook support) and reload the notebook so that Colaboratory detects and initiates what we installed.\n",
        "\n",
        "In brief:\n",
        "\n",
        "1. **Run the cell below**\n",
        "2. **Reload the page**\n",
        "3. **Edit the notebook name and start hacking Julia code below**\n",
        "\n",
        "**If your runtime resets**, either manually or if left idle for some time, **repeat steps 1 and 2**.\n",
        "\n",
        "### Acknowledgements ###\n",
        "\n",
        "This hack by Pontus Stenetorp is an adaptation of [James Bradbury’s original Colaboratory Julia hack](https://discourse.julialang.org/t/julia-on-google-colab-free-gpu-accelerated-shareable-notebooks/15319/27), that broke some time in September 2019 as Colaboratory increased their level of notebook runtime isolation. There also appears to be CUDA compilation support installed by default for each notebook runtime type in October 2019, which shaves off a good 15 minutes or so from the original hack’s installation time."
      ]
    },
    {
      "cell_type": "code",
      "metadata": {
        "id": "BrHjOFFsxf7W",
        "colab_type": "code",
        "outputId": "bbe88591-7672-40e5-87a3-6480a3f0dbd0",
        "colab": {
          "base_uri": "https://localhost:8080/",
          "height": 1000
        }
      },
      "source": [
        "# Installation cell\n",
        "%%shell\n",
        "if ! command -v julia 2>&1 > /dev/null\n",
        "then\n",
        "    wget 'https://julialang-s3.julialang.org/bin/linux/x64/1.0/julia-1.0.5-linux-x86_64.tar.gz' \\\n",
        "        -O /tmp/julia.tar.gz\n",
        "    tar -x -f /tmp/julia.tar.gz -C /usr/local --strip-components 1\n",
        "    rm /tmp/julia.tar.gz\n",
        "fi\n",
        "julia -e 'using Pkg; pkg\"add IJulia; precompile;\"'"
      ],
      "execution_count": 0,
      "outputs": [
        {
          "output_type": "stream",
          "text": [
            "--2019-12-03 06:26:10--  https://julialang-s3.julialang.org/bin/linux/x64/1.0/julia-1.0.5-linux-x86_64.tar.gz\n",
            "Resolving julialang-s3.julialang.org (julialang-s3.julialang.org)... 151.101.2.49, 151.101.66.49, 151.101.130.49, ...\n",
            "Connecting to julialang-s3.julialang.org (julialang-s3.julialang.org)|151.101.2.49|:443... connected.\n",
            "HTTP request sent, awaiting response... 200 OK\n",
            "Length: 88706549 (85M) [application/octet-stream]\n",
            "Saving to: ‘/tmp/julia.tar.gz’\n",
            "\n",
            "/tmp/julia.tar.gz   100%[===================>]  84.60M   166MB/s    in 0.5s    \n",
            "\n",
            "2019-12-03 06:26:22 (166 MB/s) - ‘/tmp/julia.tar.gz’ saved [88706549/88706549]\n",
            "\n",
            "   Cloning default registries into /root/.julia/registries\n",
            "   Cloning registry General from \"https://github.com/JuliaRegistries/General.git\"\n",
            "\u001b[2K\u001b[?25h Resolving package versions...\n",
            " Installed VersionParsing ── v1.1.3\n",
            " Installed Conda ─────────── v1.3.0\n",
            " Installed ZMQ ───────────── v1.0.0\n",
            " Installed Parsers ───────── v0.3.10\n",
            " Installed IJulia ────────── v1.20.2\n",
            " Installed BinaryProvider ── v0.5.8\n",
            " Installed JSON ──────────── v0.21.0\n",
            " Installed MbedTLS ───────── v0.6.8\n",
            " Installed SoftGlobalScope ─ v1.0.10\n",
            " Installed Compat ────────── v2.2.0\n",
            "  Updating `~/.julia/environments/v1.0/Project.toml`\n",
            "  [7073ff75] + IJulia v1.20.2\n",
            "  Updating `~/.julia/environments/v1.0/Manifest.toml`\n",
            "  [b99e7846] + BinaryProvider v0.5.8\n",
            "  [34da2185] + Compat v2.2.0\n",
            "  [8f4d0f93] + Conda v1.3.0\n",
            "  [7073ff75] + IJulia v1.20.2\n",
            "  [682c06a0] + JSON v0.21.0\n",
            "  [739be429] + MbedTLS v0.6.8\n",
            "  [69de0a69] + Parsers v0.3.10\n",
            "  [b85f4697] + SoftGlobalScope v1.0.10\n",
            "  [81def892] + VersionParsing v1.1.3\n",
            "  [c2297ded] + ZMQ v1.0.0\n",
            "  [2a0f44e3] + Base64 \n",
            "  [ade2ca70] + Dates \n",
            "  [8bb1440f] + DelimitedFiles \n",
            "  [8ba89e20] + Distributed \n",
            "  [7b1f6079] + FileWatching \n",
            "  [b77e0a4c] + InteractiveUtils \n",
            "  [76f85450] + LibGit2 \n",
            "  [8f399da3] + Libdl \n",
            "  [37e2e46d] + LinearAlgebra \n",
            "  [56ddb016] + Logging \n",
            "  [d6f4376e] + Markdown \n",
            "  [a63ad114] + Mmap \n",
            "  [44cfe95a] + Pkg \n",
            "  [de0858da] + Printf \n",
            "  [3fa0cd96] + REPL \n",
            "  [9a3f8284] + Random \n",
            "  [ea8e919c] + SHA \n",
            "  [9e88b42a] + Serialization \n",
            "  [1a1011a3] + SharedArrays \n",
            "  [6462fe0b] + Sockets \n",
            "  [2f01184e] + SparseArrays \n",
            "  [10745b16] + Statistics \n",
            "  [8dfed614] + Test \n",
            "  [cf7118a7] + UUIDs \n",
            "  [4ec0a83e] + Unicode \n",
            "  Building Conda ──→ `~/.julia/packages/Conda/kLXeC/deps/build.log`\n",
            "  Building ZMQ ────→ `~/.julia/packages/ZMQ/ABGOx/deps/build.log`\n",
            "  Building MbedTLS → `~/.julia/packages/MbedTLS/X4xar/deps/build.log`\n",
            "  Building IJulia ─→ `~/.julia/packages/IJulia/F1GUo/deps/build.log`\n"
          ],
          "name": "stdout"
        }
      ]
    },
    {
      "cell_type": "markdown",
      "metadata": {
        "id": "L-itui9bsduR",
        "colab_type": "text"
      },
      "source": [
        "## Example code: Matrix multiplication benchmark on the CPU and GPU ##\n",
        "\n",
        "Example Julia code benchmarking the same matrix multiplication on the CPU and GPU. Remove these cells and replace them with your own code."
      ]
    },
    {
      "cell_type": "code",
      "metadata": {
        "id": "1VdFDb9szt_o",
        "colab_type": "code",
        "outputId": "0847a2c6-abd8-4fea-dba1-e0bd134666a4",
        "colab": {
          "base_uri": "https://localhost:8080/",
          "height": 435
        }
      },
      "source": [
        "using Pkg\n",
        "pkg\"add BenchmarkTools; precompile;\"\n",
        "using BenchmarkTools\n",
        "\n",
        "mcpu = rand(2^12, 2^12)\n",
        "@benchmark mcpu*mcpu"
      ],
      "execution_count": 0,
      "outputs": [
        {
          "output_type": "stream",
          "text": [
            "\u001b[32m\u001b[1m  Updating\u001b[22m\u001b[39m registry at `~/.julia/registries/General`\n",
            "\u001b[32m\u001b[1m  Updating\u001b[22m\u001b[39m git-repo `https://github.com/JuliaRegistries/General.git`\n",
            "\u001b[?25l\u001b[2K\u001b[?25h\u001b[32m\u001b[1m Resolving\u001b[22m\u001b[39m package versions...\n",
            "\u001b[32m\u001b[1m Installed\u001b[22m\u001b[39m BenchmarkTools ─ v0.4.3\n",
            "\u001b[32m\u001b[1m  Updating\u001b[22m\u001b[39m `~/.julia/environments/v1.0/Project.toml`\n",
            " \u001b[90m [6e4b80f9]\u001b[39m\u001b[92m + BenchmarkTools v0.4.3\u001b[39m\n",
            "\u001b[32m\u001b[1m  Updating\u001b[22m\u001b[39m `~/.julia/environments/v1.0/Manifest.toml`\n",
            " \u001b[90m [6e4b80f9]\u001b[39m\u001b[92m + BenchmarkTools v0.4.3\u001b[39m\n",
            "\u001b[32m\u001b[1mPrecompiling\u001b[22m\u001b[39m project...\n",
            "\u001b[32m\u001b[1mPrecompiling\u001b[22m\u001b[39m BenchmarkTools\n"
          ],
          "name": "stdout"
        },
        {
          "output_type": "stream",
          "text": [
            "┌ Info: Precompiling BenchmarkTools [6e4b80f9-dd63-53aa-95a3-0cdb28fa8baf]\n",
            "└ @ Base loading.jl:1192\n"
          ],
          "name": "stderr"
        },
        {
          "output_type": "execute_result",
          "data": {
            "text/plain": [
              "BenchmarkTools.Trial: \n",
              "  memory estimate:  128.00 MiB\n",
              "  allocs estimate:  2\n",
              "  --------------\n",
              "  minimum time:     5.107 s (0.27% GC)\n",
              "  median time:      5.107 s (0.27% GC)\n",
              "  mean time:        5.107 s (0.27% GC)\n",
              "  maximum time:     5.107 s (0.27% GC)\n",
              "  --------------\n",
              "  samples:          1\n",
              "  evals/sample:     1"
            ]
          },
          "metadata": {
            "tags": []
          },
          "execution_count": 1
        }
      ]
    },
    {
      "cell_type": "code",
      "metadata": {
        "id": "gfDe6xye4nmh",
        "colab_type": "code",
        "outputId": "efef733d-a6dc-49cc-8d1b-92b157ddbb5f",
        "colab": {
          "base_uri": "https://localhost:8080/",
          "height": 908
        }
      },
      "source": [
        "pkg\"add CuArrays; precompile;\"\n",
        "using CuArrays\n",
        "\n",
        "mgpu = cu(mcpu)\n",
        "@benchmark CuArrays.@sync mgpu*mgpu"
      ],
      "execution_count": 0,
      "outputs": [
        {
          "output_type": "stream",
          "text": [
            "\u001b[32m\u001b[1m Resolving\u001b[22m\u001b[39m package versions...\n",
            "\u001b[32m\u001b[1m Installed\u001b[22m\u001b[39m Requires ─────────── v0.5.2\n",
            "\u001b[32m\u001b[1m Installed\u001b[22m\u001b[39m Adapt ────────────── v1.0.0\n",
            "\u001b[32m\u001b[1m Installed\u001b[22m\u001b[39m AbstractFFTs ─────── v0.4.1\n",
            "\u001b[32m\u001b[1m Installed\u001b[22m\u001b[39m CUDAapi ──────────── v2.0.0\n",
            "\u001b[32m\u001b[1m Installed\u001b[22m\u001b[39m GPUArrays ────────── v2.0.0\n",
            "\u001b[32m\u001b[1m Installed\u001b[22m\u001b[39m MacroTools ───────── v0.5.2\n",
            "\u001b[32m\u001b[1m Installed\u001b[22m\u001b[39m DataStructures ───── v0.17.6\n",
            "\u001b[32m\u001b[1m Installed\u001b[22m\u001b[39m CuArrays ─────────── v1.5.0\n",
            "\u001b[32m\u001b[1m Installed\u001b[22m\u001b[39m CEnum ────────────── v0.2.0\n",
            "\u001b[32m\u001b[1m Installed\u001b[22m\u001b[39m TimerOutputs ─────── v0.5.3\n",
            "\u001b[32m\u001b[1m Installed\u001b[22m\u001b[39m NNlib ────────────── v0.6.0\n",
            "\u001b[32m\u001b[1m Installed\u001b[22m\u001b[39m CUDAnative ───────── v2.6.0\n",
            "\u001b[32m\u001b[1m Installed\u001b[22m\u001b[39m CUDAdrv ──────────── v4.0.4\n",
            "\u001b[32m\u001b[1m Installed\u001b[22m\u001b[39m OrderedCollections ─ v1.1.0\n",
            "\u001b[32m\u001b[1m Installed\u001b[22m\u001b[39m LLVM ─────────────── v1.3.2\n",
            "\u001b[32m\u001b[1m  Updating\u001b[22m\u001b[39m `~/.julia/environments/v1.0/Project.toml`\n",
            " \u001b[90m [3a865a2d]\u001b[39m\u001b[92m + CuArrays v1.5.0\u001b[39m\n",
            "\u001b[32m\u001b[1m  Updating\u001b[22m\u001b[39m `~/.julia/environments/v1.0/Manifest.toml`\n",
            " \u001b[90m [621f4979]\u001b[39m\u001b[92m + AbstractFFTs v0.4.1\u001b[39m\n",
            " \u001b[90m [79e6a3ab]\u001b[39m\u001b[92m + Adapt v1.0.0\u001b[39m\n",
            " \u001b[90m [fa961155]\u001b[39m\u001b[92m + CEnum v0.2.0\u001b[39m\n",
            " \u001b[90m [3895d2a7]\u001b[39m\u001b[92m + CUDAapi v2.0.0\u001b[39m\n",
            " \u001b[90m [c5f51814]\u001b[39m\u001b[92m + CUDAdrv v4.0.4\u001b[39m\n",
            " \u001b[90m [be33ccc6]\u001b[39m\u001b[92m + CUDAnative v2.6.0\u001b[39m\n",
            " \u001b[90m [3a865a2d]\u001b[39m\u001b[92m + CuArrays v1.5.0\u001b[39m\n",
            " \u001b[90m [864edb3b]\u001b[39m\u001b[92m + DataStructures v0.17.6\u001b[39m\n",
            " \u001b[90m [0c68f7d7]\u001b[39m\u001b[92m + GPUArrays v2.0.0\u001b[39m\n",
            " \u001b[90m [929cbde3]\u001b[39m\u001b[92m + LLVM v1.3.2\u001b[39m\n",
            " \u001b[90m [1914dd2f]\u001b[39m\u001b[92m + MacroTools v0.5.2\u001b[39m\n",
            " \u001b[90m [872c559c]\u001b[39m\u001b[92m + NNlib v0.6.0\u001b[39m\n",
            " \u001b[90m [bac558e1]\u001b[39m\u001b[92m + OrderedCollections v1.1.0\u001b[39m\n",
            " \u001b[90m [ae029012]\u001b[39m\u001b[92m + Requires v0.5.2\u001b[39m\n",
            " \u001b[90m [a759f4b9]\u001b[39m\u001b[92m + TimerOutputs v0.5.3\u001b[39m\n",
            "\u001b[32m\u001b[1mPrecompiling\u001b[22m\u001b[39m project...\n",
            "\u001b[32m\u001b[1mPrecompiling\u001b[22m\u001b[39m CuArrays\n"
          ],
          "name": "stdout"
        },
        {
          "output_type": "stream",
          "text": [
            "┌ Info: Precompiling CuArrays [3a865a2d-5b23-5a0f-bc46-62713ec82fae]\n",
            "└ @ Base loading.jl:1192\n"
          ],
          "name": "stderr"
        },
        {
          "output_type": "execute_result",
          "data": {
            "text/plain": [
              "BenchmarkTools.Trial: \n",
              "  memory estimate:  672 bytes\n",
              "  allocs estimate:  22\n",
              "  --------------\n",
              "  minimum time:     49.868 ms (0.00% GC)\n",
              "  median time:      52.908 ms (0.00% GC)\n",
              "  mean time:        52.766 ms (0.00% GC)\n",
              "  maximum time:     53.141 ms (0.00% GC)\n",
              "  --------------\n",
              "  samples:          95\n",
              "  evals/sample:     1"
            ]
          },
          "metadata": {
            "tags": []
          },
          "execution_count": 2
        }
      ]
    }
  ]
}