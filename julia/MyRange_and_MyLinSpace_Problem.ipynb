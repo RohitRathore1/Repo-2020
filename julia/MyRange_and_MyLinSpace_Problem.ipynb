{
 "cells": [
  {
   "cell_type": "markdown",
   "metadata": {},
   "source": [
    "**Part 1**"
   ]
  },
  {
   "cell_type": "code",
   "execution_count": 1,
   "metadata": {},
   "outputs": [
    {
     "data": {
      "text/plain": [
       "_MyRange (generic function with 1 method)"
      ]
     },
     "execution_count": 1,
     "metadata": {},
     "output_type": "execute_result"
    }
   ],
   "source": [
    "struct MyRange\n",
    "    start\n",
    "    step\n",
    "    stop\n",
    "end\n",
    "\n",
    "function _MyRange(a::MyRange,i::Int)\n",
    "    tmp = a.start + a.step*(i-1)\n",
    "    if tmp > a.stop\n",
    "        error(\"Index is out of bounds!\")\n",
    "    else\n",
    "        return tmp\n",
    "    end\n",
    "end"
   ]
  },
  {
   "cell_type": "code",
   "execution_count": 2,
   "metadata": {},
   "outputs": [
    {
     "data": {
      "text/plain": [
       "true"
      ]
     },
     "execution_count": 2,
     "metadata": {},
     "output_type": "execute_result"
    }
   ],
   "source": [
    "a = MyRange(1,2,20)\n",
    "_MyRange(a,5) == (1:2:20)[5]"
   ]
  },
  {
   "cell_type": "code",
   "execution_count": 3,
   "metadata": {},
   "outputs": [
    {
     "data": {
      "text/plain": [
       "9"
      ]
     },
     "execution_count": 3,
     "metadata": {},
     "output_type": "execute_result"
    }
   ],
   "source": [
    "Base.getindex(a::MyRange,i::Int) = _MyRange(a,i)\n",
    "a[5]"
   ]
  },
  {
   "cell_type": "markdown",
   "metadata": {},
   "source": [
    "**Part 2**"
   ]
  },
  {
   "cell_type": "code",
   "execution_count": 6,
   "metadata": {},
   "outputs": [],
   "source": [
    "struct MyLinSpace\n",
    "    start\n",
    "    stop\n",
    "    n\n",
    "end\n",
    "\n",
    "function Base.getindex(a::MyLinSpace,i::Int)\n",
    "    dx = (a.stop-a.start)/a.n\n",
    "    a.start + dx*(i-1)\n",
    "end"
   ]
  },
  {
   "cell_type": "code",
   "execution_count": 7,
   "metadata": {},
   "outputs": [
    {
     "data": {
      "text/plain": [
       "1.1"
      ]
     },
     "execution_count": 7,
     "metadata": {},
     "output_type": "execute_result"
    }
   ],
   "source": [
    "l = MyLinSpace(1,2,50)\n",
    "l[6]"
   ]
  },
  {
   "cell_type": "code",
   "execution_count": 8,
   "metadata": {},
   "outputs": [
    {
     "data": {
      "text/plain": [
       "1.1020408163265305"
      ]
     },
     "execution_count": 8,
     "metadata": {},
     "output_type": "execute_result"
    }
   ],
   "source": [
    "range(1,stop=2,length=50)[6]"
   ]
  },
  {
   "cell_type": "markdown",
   "metadata": {},
   "source": [
    "**Part 3**"
   ]
  },
  {
   "cell_type": "code",
   "execution_count": 9,
   "metadata": {},
   "outputs": [
    {
     "data": {
      "text/plain": [
       "1.2000000000000002"
      ]
     },
     "execution_count": 9,
     "metadata": {},
     "output_type": "execute_result"
    }
   ],
   "source": [
    "(a::MyRange)(x) = a.start + a.step*(x-1)\n",
    "a = MyRange(1,2,20)\n",
    "a(1.1)"
   ]
  },
  {
   "cell_type": "markdown",
   "metadata": {},
   "source": [
    "**Part 4**"
   ]
  },
  {
   "cell_type": "code",
   "execution_count": 11,
   "metadata": {},
   "outputs": [
    {
     "data": {
      "text/plain": [
       "9 kg"
      ]
     },
     "execution_count": 11,
     "metadata": {},
     "output_type": "execute_result"
    }
   ],
   "source": [
    "using Unitful\n",
    "a = MyRange(1u\"kg\",2u\"kg\",20u\"kg\")\n",
    "a[5]"
   ]
  },
  {
   "cell_type": "markdown",
   "metadata": {},
   "source": [
    "**Operator Problem**"
   ]
  },
  {
   "cell_type": "code",
   "execution_count": 12,
   "metadata": {},
   "outputs": [],
   "source": [
    "struct StrangMatrix end\n",
    "A = StrangMatrix()\n",
    "\n",
    "using LinearAlgebra\n",
    "function LinearAlgebra.mul!(C,A::StrangMatrix,B::AbstractVector)\n",
    "    for i in 2:length(B)-1\n",
    "        C[i] = B[i-1] - 2B[i] + B[i+1]\n",
    "    end\n",
    "    C[1] = -2B[1] + B[2]\n",
    "    C[end] = B[end-1] - 2B[end]\n",
    "    C\n",
    "end\n",
    "\n",
    "Base.:*(A::StrangMatrix,B::AbstractVector) = (C = similar(B); mul!(C,A,B))"
   ]
  },
  {
   "cell_type": "code",
   "execution_count": 13,
   "metadata": {},
   "outputs": [
    {
     "data": {
      "text/plain": [
       "10-element Array{Float64,1}:\n",
       " -1.0\n",
       "  0.0\n",
       "  0.0\n",
       "  0.0\n",
       "  0.0\n",
       "  0.0\n",
       "  0.0\n",
       "  0.0\n",
       "  0.0\n",
       " -1.0"
      ]
     },
     "execution_count": 13,
     "metadata": {},
     "output_type": "execute_result"
    }
   ],
   "source": [
    "A*ones(10)"
   ]
  },
  {
   "cell_type": "code",
   "execution_count": 14,
   "metadata": {},
   "outputs": [],
   "source": [
    "struct SizedStrangMatrix\n",
    "    size\n",
    "end\n",
    "\n",
    "Base.eltype(A::SizedStrangMatrix) = Float64\n",
    "Base.size(A::SizedStrangMatrix) = A.size\n",
    "Base.size(A::SizedStrangMatrix,i::Int) = A.size[i]"
   ]
  },
  {
   "cell_type": "code",
   "execution_count": 15,
   "metadata": {},
   "outputs": [
    {
     "data": {
      "text/plain": [
       "63-element Array{Float64,1}:\n",
       "  0.0\n",
       "  0.09983341664682815\n",
       "  0.19866933079506122\n",
       "  0.2955202066613396\n",
       "  0.3894183423086505\n",
       "  0.479425538604203\n",
       "  0.5646424733950355\n",
       "  0.6442176872376911\n",
       "  0.7173560908995228\n",
       "  0.7833269096274834\n",
       "  0.8414709848078965\n",
       "  0.8912073600614354\n",
       "  0.9320390859672264\n",
       "  ⋮\n",
       " -0.9258146823277321\n",
       " -0.8834546557201531\n",
       " -0.8322674422239008\n",
       " -0.7727644875559871\n",
       " -0.7055403255703919\n",
       " -0.6312666378723208\n",
       " -0.5506855425976376\n",
       " -0.4646021794137566\n",
       " -0.373876664830236\n",
       " -0.27941549819892586\n",
       " -0.18216250427209502\n",
       " -0.0830894028174964"
      ]
     },
     "execution_count": 15,
     "metadata": {},
     "output_type": "execute_result"
    }
   ],
   "source": [
    "b = sin.(0:0.1:2π)"
   ]
  },
  {
   "cell_type": "code",
   "execution_count": 16,
   "metadata": {},
   "outputs": [],
   "source": [
    "A = SizedStrangMatrix((length(b),length(b)))\n",
    "\n",
    "function LinearAlgebra.mul!(C,A::SizedStrangMatrix,B)\n",
    "    for i in 2:length(B)-1\n",
    "        C[i] = B[i-1] - 2B[i] + B[i+1]\n",
    "    end\n",
    "    C[1] = -2B[1] + B[2]\n",
    "    C[end] = B[end-1] - 2B[end]\n",
    "    C\n",
    "end\n",
    "Base.:*(A::SizedStrangMatrix,B::AbstractVector) = (C = similar(B); mul!(C,A,B))"
   ]
  },
  {
   "cell_type": "code",
   "execution_count": 17,
   "metadata": {},
   "outputs": [
    {
     "data": {
      "text/plain": [
       "63-element Array{Float64,1}:\n",
       "   -9.755738784527015\n",
       "  -19.511766690859385\n",
       "  -29.168509953717447\n",
       "  -38.627331516522396\n",
       "  -47.79172939964208\n",
       "  -56.567920000175754\n",
       "  -64.86624757503984\n",
       "  -72.60180867498356\n",
       "  -79.69549984767623\n",
       "  -86.07440664159672\n",
       "  -91.67293002909629\n",
       "  -96.43316292770976\n",
       " -100.30568365156289\n",
       "    ⋮\n",
       "   92.73105600644651\n",
       "   88.63048151986244\n",
       "   83.64512976504868\n",
       "   77.8262833749894\n",
       "   71.23343662444896\n",
       "   63.93401241944345\n",
       "   56.00167853409573\n",
       "   47.51925322977744\n",
       "   38.57233168626153\n",
       "   29.25162537589554\n",
       "   19.651058998193967\n",
       "    9.867868177542837"
      ]
     },
     "execution_count": 17,
     "metadata": {},
     "output_type": "execute_result"
    }
   ],
   "source": [
    "using IterativeSolvers\n",
    "x = gmres(A,b,tol=1e-14)"
   ]
  },
  {
   "cell_type": "code",
   "execution_count": 18,
   "metadata": {},
   "outputs": [
    {
     "data": {
      "text/plain": [
       "63-element Array{Float64,1}:\n",
       " -0.0002891218053555633\n",
       " -0.000548773172518835\n",
       " -0.0007476307419532757\n",
       " -0.0010965269760732088\n",
       " -0.0012110597226412945\n",
       " -0.001562512934611071\n",
       " -0.0018759984746694602\n",
       " -0.0023477599866402743\n",
       " -0.0025717121273430843\n",
       " -0.002943503206559339\n",
       " -0.0031804959217944795\n",
       " -0.003495185301097159\n",
       " -0.0037833560962715618\n",
       "  ⋮\n",
       " -0.0013966167769802196\n",
       " -0.001322612509544574\n",
       " -0.0012271930216140037\n",
       " -0.001235872925180459\n",
       " -0.001037128894670336\n",
       " -0.0016430424698881119\n",
       "  0.0005941236270636807\n",
       "  0.00010594021613441473\n",
       "  9.189798016046025e-5\n",
       " -0.00044456913665769093\n",
       " -0.0004619386774634693\n",
       " -0.0015879540742101267"
      ]
     },
     "execution_count": 18,
     "metadata": {},
     "output_type": "execute_result"
    }
   ],
   "source": [
    "A*x - b"
   ]
  },
  {
   "cell_type": "markdown",
   "metadata": {},
   "source": [
    "**Regression Problem**\n"
   ]
  },
  {
   "cell_type": "code",
   "execution_count": 19,
   "metadata": {},
   "outputs": [
    {
     "name": "stdout",
     "output_type": "stream",
     "text": [
      "[0.7981909957232777, 0.5311757567969511, 0.08060148260017452, 0.01592838797666868]\n"
     ]
    },
    {
     "name": "stderr",
     "output_type": "stream",
     "text": [
      "┌ Info: Precompiling MultivariateStats [6f286f6a-111f-5878-ab1e-185364afe411]\n",
      "└ @ Base loading.jl:1260\n"
     ]
    },
    {
     "name": "stdout",
     "output_type": "stream",
     "text": [
      "[0.7981909957232807, 0.5311757567969518, 0.08060148260017598, 0.015928387976665813]\n"
     ]
    },
    {
     "name": "stderr",
     "output_type": "stream",
     "text": [
      "┌ Info: Precompiling DataFrames [a93c6f00-e57d-5684-b7b6-d8193f3e46c0]\n",
      "└ @ Base loading.jl:1260\n",
      "┌ Info: Precompiling GLM [38e38edf-8417-5370-95a0-9cbb8c7f171a]\n",
      "└ @ Base loading.jl:1260\n",
      "┌ Info: Precompiling Plots [91a5bcdd-55d7-5caf-9e0b-520d859cae80]\n",
      "└ @ Base loading.jl:1260\n"
     ]
    },
    {
     "name": "stdout",
     "output_type": "stream",
     "text": [
      "1.9983963845438188\n"
     ]
    },
    {
     "data": {
      "image/svg+xml": [
       "<?xml version=\"1.0\" encoding=\"utf-8\"?>\n",
       "<svg xmlns=\"http://www.w3.org/2000/svg\" xmlns:xlink=\"http://www.w3.org/1999/xlink\" width=\"600\" height=\"400\" viewBox=\"0 0 2400 1600\">\n",
       "<defs>\n",
       "  <clipPath id=\"clip060\">\n",
       "    <rect x=\"0\" y=\"0\" width=\"2400\" height=\"1600\"/>\n",
       "  </clipPath>\n",
       "</defs>\n",
       "<path clip-path=\"url(#clip060)\" d=\"\n",
       "M0 1600 L2400 1600 L2400 0 L0 0  Z\n",
       "  \" fill=\"#ffffff\" fill-rule=\"evenodd\" fill-opacity=\"1\"/>\n",
       "<defs>\n",
       "  <clipPath id=\"clip061\">\n",
       "    <rect x=\"480\" y=\"0\" width=\"1681\" height=\"1600\"/>\n",
       "  </clipPath>\n",
       "</defs>\n",
       "<path clip-path=\"url(#clip060)\" d=\"\n",
       "M147.848 1486.45 L2352.76 1486.45 L2352.76 47.2441 L147.848 47.2441  Z\n",
       "  \" fill=\"#ffffff\" fill-rule=\"evenodd\" fill-opacity=\"1\"/>\n",
       "<defs>\n",
       "  <clipPath id=\"clip062\">\n",
       "    <rect x=\"147\" y=\"47\" width=\"2206\" height=\"1440\"/>\n",
       "  </clipPath>\n",
       "</defs>\n",
       "<polyline clip-path=\"url(#clip062)\" style=\"stroke:#000000; stroke-width:2; stroke-opacity:0.1; fill:none\" points=\"\n",
       "  194.342,1486.45 194.342,47.2441 \n",
       "  \"/>\n",
       "<polyline clip-path=\"url(#clip062)\" style=\"stroke:#000000; stroke-width:2; stroke-opacity:0.1; fill:none\" points=\"\n",
       "  720.824,1486.45 720.824,47.2441 \n",
       "  \"/>\n",
       "<polyline clip-path=\"url(#clip062)\" style=\"stroke:#000000; stroke-width:2; stroke-opacity:0.1; fill:none\" points=\"\n",
       "  1247.31,1486.45 1247.31,47.2441 \n",
       "  \"/>\n",
       "<polyline clip-path=\"url(#clip062)\" style=\"stroke:#000000; stroke-width:2; stroke-opacity:0.1; fill:none\" points=\"\n",
       "  1773.79,1486.45 1773.79,47.2441 \n",
       "  \"/>\n",
       "<polyline clip-path=\"url(#clip062)\" style=\"stroke:#000000; stroke-width:2; stroke-opacity:0.1; fill:none\" points=\"\n",
       "  2300.27,1486.45 2300.27,47.2441 \n",
       "  \"/>\n",
       "<polyline clip-path=\"url(#clip062)\" style=\"stroke:#000000; stroke-width:2; stroke-opacity:0.1; fill:none\" points=\"\n",
       "  147.848,1382.44 2352.76,1382.44 \n",
       "  \"/>\n",
       "<polyline clip-path=\"url(#clip062)\" style=\"stroke:#000000; stroke-width:2; stroke-opacity:0.1; fill:none\" points=\"\n",
       "  147.848,1087.27 2352.76,1087.27 \n",
       "  \"/>\n",
       "<polyline clip-path=\"url(#clip062)\" style=\"stroke:#000000; stroke-width:2; stroke-opacity:0.1; fill:none\" points=\"\n",
       "  147.848,792.101 2352.76,792.101 \n",
       "  \"/>\n",
       "<polyline clip-path=\"url(#clip062)\" style=\"stroke:#000000; stroke-width:2; stroke-opacity:0.1; fill:none\" points=\"\n",
       "  147.848,496.931 2352.76,496.931 \n",
       "  \"/>\n",
       "<polyline clip-path=\"url(#clip062)\" style=\"stroke:#000000; stroke-width:2; stroke-opacity:0.1; fill:none\" points=\"\n",
       "  147.848,201.762 2352.76,201.762 \n",
       "  \"/>\n",
       "<polyline clip-path=\"url(#clip060)\" style=\"stroke:#000000; stroke-width:4; stroke-opacity:1; fill:none\" points=\"\n",
       "  147.848,1486.45 2352.76,1486.45 \n",
       "  \"/>\n",
       "<polyline clip-path=\"url(#clip060)\" style=\"stroke:#000000; stroke-width:4; stroke-opacity:1; fill:none\" points=\"\n",
       "  147.848,1486.45 147.848,47.2441 \n",
       "  \"/>\n",
       "<polyline clip-path=\"url(#clip060)\" style=\"stroke:#000000; stroke-width:4; stroke-opacity:1; fill:none\" points=\"\n",
       "  194.342,1486.45 194.342,1469.18 \n",
       "  \"/>\n",
       "<polyline clip-path=\"url(#clip060)\" style=\"stroke:#000000; stroke-width:4; stroke-opacity:1; fill:none\" points=\"\n",
       "  720.824,1486.45 720.824,1469.18 \n",
       "  \"/>\n",
       "<polyline clip-path=\"url(#clip060)\" style=\"stroke:#000000; stroke-width:4; stroke-opacity:1; fill:none\" points=\"\n",
       "  1247.31,1486.45 1247.31,1469.18 \n",
       "  \"/>\n",
       "<polyline clip-path=\"url(#clip060)\" style=\"stroke:#000000; stroke-width:4; stroke-opacity:1; fill:none\" points=\"\n",
       "  1773.79,1486.45 1773.79,1469.18 \n",
       "  \"/>\n",
       "<polyline clip-path=\"url(#clip060)\" style=\"stroke:#000000; stroke-width:4; stroke-opacity:1; fill:none\" points=\"\n",
       "  2300.27,1486.45 2300.27,1469.18 \n",
       "  \"/>\n",
       "<polyline clip-path=\"url(#clip060)\" style=\"stroke:#000000; stroke-width:4; stroke-opacity:1; fill:none\" points=\"\n",
       "  147.848,1382.44 174.307,1382.44 \n",
       "  \"/>\n",
       "<polyline clip-path=\"url(#clip060)\" style=\"stroke:#000000; stroke-width:4; stroke-opacity:1; fill:none\" points=\"\n",
       "  147.848,1087.27 174.307,1087.27 \n",
       "  \"/>\n",
       "<polyline clip-path=\"url(#clip060)\" style=\"stroke:#000000; stroke-width:4; stroke-opacity:1; fill:none\" points=\"\n",
       "  147.848,792.101 174.307,792.101 \n",
       "  \"/>\n",
       "<polyline clip-path=\"url(#clip060)\" style=\"stroke:#000000; stroke-width:4; stroke-opacity:1; fill:none\" points=\"\n",
       "  147.848,496.931 174.307,496.931 \n",
       "  \"/>\n",
       "<polyline clip-path=\"url(#clip060)\" style=\"stroke:#000000; stroke-width:4; stroke-opacity:1; fill:none\" points=\"\n",
       "  147.848,201.762 174.307,201.762 \n",
       "  \"/>\n",
       "<path clip-path=\"url(#clip060)\" d=\"M 0 0 M162.351 1508.44 Q158.74 1508.44 156.911 1512 Q155.106 1515.55 155.106 1522.67 Q155.106 1529.78 156.911 1533.35 Q158.74 1536.89 162.351 1536.89 Q165.985 1536.89 167.791 1533.35 Q169.62 1529.78 169.62 1522.67 Q169.62 1515.55 167.791 1512 Q165.985 1508.44 162.351 1508.44 M162.351 1504.73 Q168.161 1504.73 171.217 1509.34 Q174.296 1513.92 174.296 1522.67 Q174.296 1531.4 171.217 1536.01 Q168.161 1540.59 162.351 1540.59 Q156.541 1540.59 153.462 1536.01 Q150.407 1531.4 150.407 1522.67 Q150.407 1513.92 153.462 1509.34 Q156.541 1504.73 162.351 1504.73 Z\" fill=\"#000000\" fill-rule=\"evenodd\" fill-opacity=\"1\" /><path clip-path=\"url(#clip060)\" d=\"M 0 0 M179.365 1534.04 L184.249 1534.04 L184.249 1539.92 L179.365 1539.92 L179.365 1534.04 Z\" fill=\"#000000\" fill-rule=\"evenodd\" fill-opacity=\"1\" /><path clip-path=\"url(#clip060)\" d=\"M 0 0 M199.319 1508.44 Q195.707 1508.44 193.879 1512 Q192.073 1515.55 192.073 1522.67 Q192.073 1529.78 193.879 1533.35 Q195.707 1536.89 199.319 1536.89 Q202.953 1536.89 204.758 1533.35 Q206.587 1529.78 206.587 1522.67 Q206.587 1515.55 204.758 1512 Q202.953 1508.44 199.319 1508.44 M199.319 1504.73 Q205.129 1504.73 208.184 1509.34 Q211.263 1513.92 211.263 1522.67 Q211.263 1531.4 208.184 1536.01 Q205.129 1540.59 199.319 1540.59 Q193.508 1540.59 190.43 1536.01 Q187.374 1531.4 187.374 1522.67 Q187.374 1513.92 190.43 1509.34 Q193.508 1504.73 199.319 1504.73 Z\" fill=\"#000000\" fill-rule=\"evenodd\" fill-opacity=\"1\" /><path clip-path=\"url(#clip060)\" d=\"M 0 0 M226.332 1508.44 Q222.721 1508.44 220.892 1512 Q219.087 1515.55 219.087 1522.67 Q219.087 1529.78 220.892 1533.35 Q222.721 1536.89 226.332 1536.89 Q229.967 1536.89 231.772 1533.35 Q233.601 1529.78 233.601 1522.67 Q233.601 1515.55 231.772 1512 Q229.967 1508.44 226.332 1508.44 M226.332 1504.73 Q232.142 1504.73 235.198 1509.34 Q238.277 1513.92 238.277 1522.67 Q238.277 1531.4 235.198 1536.01 Q232.142 1540.59 226.332 1540.59 Q220.522 1540.59 217.443 1536.01 Q214.388 1531.4 214.388 1522.67 Q214.388 1513.92 217.443 1509.34 Q220.522 1504.73 226.332 1504.73 Z\" fill=\"#000000\" fill-rule=\"evenodd\" fill-opacity=\"1\" /><path clip-path=\"url(#clip060)\" d=\"M 0 0 M690.129 1508.44 Q686.518 1508.44 684.69 1512 Q682.884 1515.55 682.884 1522.67 Q682.884 1529.78 684.69 1533.35 Q686.518 1536.89 690.129 1536.89 Q693.764 1536.89 695.569 1533.35 Q697.398 1529.78 697.398 1522.67 Q697.398 1515.55 695.569 1512 Q693.764 1508.44 690.129 1508.44 M690.129 1504.73 Q695.94 1504.73 698.995 1509.34 Q702.074 1513.92 702.074 1522.67 Q702.074 1531.4 698.995 1536.01 Q695.94 1540.59 690.129 1540.59 Q684.319 1540.59 681.241 1536.01 Q678.185 1531.4 678.185 1522.67 Q678.185 1513.92 681.241 1509.34 Q684.319 1504.73 690.129 1504.73 Z\" fill=\"#000000\" fill-rule=\"evenodd\" fill-opacity=\"1\" /><path clip-path=\"url(#clip060)\" d=\"M 0 0 M707.143 1534.04 L712.027 1534.04 L712.027 1539.92 L707.143 1539.92 L707.143 1534.04 Z\" fill=\"#000000\" fill-rule=\"evenodd\" fill-opacity=\"1\" /><path clip-path=\"url(#clip060)\" d=\"M 0 0 M721.125 1535.98 L737.444 1535.98 L737.444 1539.92 L715.5 1539.92 L715.5 1535.98 Q718.162 1533.23 722.745 1528.6 Q727.351 1523.95 728.532 1522.61 Q730.777 1520.08 731.657 1518.35 Q732.56 1516.59 732.56 1514.9 Q732.56 1512.14 730.615 1510.41 Q728.694 1508.67 725.592 1508.67 Q723.393 1508.67 720.939 1509.43 Q718.509 1510.2 715.731 1511.75 L715.731 1507.03 Q718.555 1505.89 721.009 1505.31 Q723.463 1504.73 725.5 1504.73 Q730.87 1504.73 734.064 1507.42 Q737.259 1510.11 737.259 1514.6 Q737.259 1516.73 736.449 1518.65 Q735.662 1520.54 733.555 1523.14 Q732.976 1523.81 729.875 1527.03 Q726.773 1530.22 721.125 1535.98 Z\" fill=\"#000000\" fill-rule=\"evenodd\" fill-opacity=\"1\" /><path clip-path=\"url(#clip060)\" d=\"M 0 0 M742.56 1505.36 L760.916 1505.36 L760.916 1509.3 L746.842 1509.3 L746.842 1517.77 Q747.861 1517.42 748.879 1517.26 Q749.898 1517.07 750.916 1517.07 Q756.703 1517.07 760.083 1520.24 Q763.462 1523.42 763.462 1528.83 Q763.462 1534.41 759.99 1537.51 Q756.518 1540.59 750.199 1540.59 Q748.023 1540.59 745.754 1540.22 Q743.509 1539.85 741.101 1539.11 L741.101 1534.41 Q743.185 1535.54 745.407 1536.1 Q747.629 1536.66 750.106 1536.66 Q754.111 1536.66 756.449 1534.55 Q758.786 1532.44 758.786 1528.83 Q758.786 1525.22 756.449 1523.11 Q754.111 1521.01 750.106 1521.01 Q748.231 1521.01 746.356 1521.42 Q744.504 1521.84 742.56 1522.72 L742.56 1505.36 Z\" fill=\"#000000\" fill-rule=\"evenodd\" fill-opacity=\"1\" /><path clip-path=\"url(#clip060)\" d=\"M 0 0 M1215.81 1508.44 Q1212.2 1508.44 1210.37 1512 Q1208.57 1515.55 1208.57 1522.67 Q1208.57 1529.78 1210.37 1533.35 Q1212.2 1536.89 1215.81 1536.89 Q1219.45 1536.89 1221.25 1533.35 Q1223.08 1529.78 1223.08 1522.67 Q1223.08 1515.55 1221.25 1512 Q1219.45 1508.44 1215.81 1508.44 M1215.81 1504.73 Q1221.62 1504.73 1224.68 1509.34 Q1227.76 1513.92 1227.76 1522.67 Q1227.76 1531.4 1224.68 1536.01 Q1221.62 1540.59 1215.81 1540.59 Q1210 1540.59 1206.92 1536.01 Q1203.87 1531.4 1203.87 1522.67 Q1203.87 1513.92 1206.92 1509.34 Q1210 1504.73 1215.81 1504.73 Z\" fill=\"#000000\" fill-rule=\"evenodd\" fill-opacity=\"1\" /><path clip-path=\"url(#clip060)\" d=\"M 0 0 M1232.83 1534.04 L1237.71 1534.04 L1237.71 1539.92 L1232.83 1539.92 L1232.83 1534.04 Z\" fill=\"#000000\" fill-rule=\"evenodd\" fill-opacity=\"1\" /><path clip-path=\"url(#clip060)\" d=\"M 0 0 M1242.83 1505.36 L1261.18 1505.36 L1261.18 1509.3 L1247.11 1509.3 L1247.11 1517.77 Q1248.13 1517.42 1249.15 1517.26 Q1250.16 1517.07 1251.18 1517.07 Q1256.97 1517.07 1260.35 1520.24 Q1263.73 1523.42 1263.73 1528.83 Q1263.73 1534.41 1260.26 1537.51 Q1256.78 1540.59 1250.47 1540.59 Q1248.29 1540.59 1246.02 1540.22 Q1243.78 1539.85 1241.37 1539.11 L1241.37 1534.41 Q1243.45 1535.54 1245.67 1536.1 Q1247.9 1536.66 1250.37 1536.66 Q1254.38 1536.66 1256.72 1534.55 Q1259.05 1532.44 1259.05 1528.83 Q1259.05 1525.22 1256.72 1523.11 Q1254.38 1521.01 1250.37 1521.01 Q1248.5 1521.01 1246.62 1521.42 Q1244.77 1521.84 1242.83 1522.72 L1242.83 1505.36 Z\" fill=\"#000000\" fill-rule=\"evenodd\" fill-opacity=\"1\" /><path clip-path=\"url(#clip060)\" d=\"M 0 0 M1278.8 1508.44 Q1275.19 1508.44 1273.36 1512 Q1271.55 1515.55 1271.55 1522.67 Q1271.55 1529.78 1273.36 1533.35 Q1275.19 1536.89 1278.8 1536.89 Q1282.43 1536.89 1284.24 1533.35 Q1286.07 1529.78 1286.07 1522.67 Q1286.07 1515.55 1284.24 1512 Q1282.43 1508.44 1278.8 1508.44 M1278.8 1504.73 Q1284.61 1504.73 1287.66 1509.34 Q1290.74 1513.92 1290.74 1522.67 Q1290.74 1531.4 1287.66 1536.01 Q1284.61 1540.59 1278.8 1540.59 Q1272.99 1540.59 1269.91 1536.01 Q1266.85 1531.4 1266.85 1522.67 Q1266.85 1513.92 1269.91 1509.34 Q1272.99 1504.73 1278.8 1504.73 Z\" fill=\"#000000\" fill-rule=\"evenodd\" fill-opacity=\"1\" /><path clip-path=\"url(#clip060)\" d=\"M 0 0 M1742.75 1508.44 Q1739.14 1508.44 1737.31 1512 Q1735.5 1515.55 1735.5 1522.67 Q1735.5 1529.78 1737.31 1533.35 Q1739.14 1536.89 1742.75 1536.89 Q1746.38 1536.89 1748.19 1533.35 Q1750.01 1529.78 1750.01 1522.67 Q1750.01 1515.55 1748.19 1512 Q1746.38 1508.44 1742.75 1508.44 M1742.75 1504.73 Q1748.56 1504.73 1751.61 1509.34 Q1754.69 1513.92 1754.69 1522.67 Q1754.69 1531.4 1751.61 1536.01 Q1748.56 1540.59 1742.75 1540.59 Q1736.94 1540.59 1733.86 1536.01 Q1730.8 1531.4 1730.8 1522.67 Q1730.8 1513.92 1733.86 1509.34 Q1736.94 1504.73 1742.75 1504.73 Z\" fill=\"#000000\" fill-rule=\"evenodd\" fill-opacity=\"1\" /><path clip-path=\"url(#clip060)\" d=\"M 0 0 M1759.76 1534.04 L1764.64 1534.04 L1764.64 1539.92 L1759.76 1539.92 L1759.76 1534.04 Z\" fill=\"#000000\" fill-rule=\"evenodd\" fill-opacity=\"1\" /><path clip-path=\"url(#clip060)\" d=\"M 0 0 M1768.53 1505.36 L1790.76 1505.36 L1790.76 1507.35 L1778.21 1539.92 L1773.32 1539.92 L1785.13 1509.3 L1768.53 1509.3 L1768.53 1505.36 Z\" fill=\"#000000\" fill-rule=\"evenodd\" fill-opacity=\"1\" /><path clip-path=\"url(#clip060)\" d=\"M 0 0 M1795.87 1505.36 L1814.23 1505.36 L1814.23 1509.3 L1800.15 1509.3 L1800.15 1517.77 Q1801.17 1517.42 1802.19 1517.26 Q1803.21 1517.07 1804.23 1517.07 Q1810.01 1517.07 1813.39 1520.24 Q1816.77 1523.42 1816.77 1528.83 Q1816.77 1534.41 1813.3 1537.51 Q1809.83 1540.59 1803.51 1540.59 Q1801.33 1540.59 1799.07 1540.22 Q1796.82 1539.85 1794.41 1539.11 L1794.41 1534.41 Q1796.5 1535.54 1798.72 1536.1 Q1800.94 1536.66 1803.42 1536.66 Q1807.42 1536.66 1809.76 1534.55 Q1812.1 1532.44 1812.1 1528.83 Q1812.1 1525.22 1809.76 1523.11 Q1807.42 1521.01 1803.42 1521.01 Q1801.54 1521.01 1799.67 1521.42 Q1797.82 1521.84 1795.87 1522.72 L1795.87 1505.36 Z\" fill=\"#000000\" fill-rule=\"evenodd\" fill-opacity=\"1\" /><path clip-path=\"url(#clip060)\" d=\"M 0 0 M2258.66 1535.98 L2266.3 1535.98 L2266.3 1509.62 L2257.99 1511.29 L2257.99 1507.03 L2266.25 1505.36 L2270.93 1505.36 L2270.93 1535.98 L2278.57 1535.98 L2278.57 1539.92 L2258.66 1539.92 L2258.66 1535.98 Z\" fill=\"#000000\" fill-rule=\"evenodd\" fill-opacity=\"1\" /><path clip-path=\"url(#clip060)\" d=\"M 0 0 M2283.64 1534.04 L2288.52 1534.04 L2288.52 1539.92 L2283.64 1539.92 L2283.64 1534.04 Z\" fill=\"#000000\" fill-rule=\"evenodd\" fill-opacity=\"1\" /><path clip-path=\"url(#clip060)\" d=\"M 0 0 M2303.59 1508.44 Q2299.98 1508.44 2298.15 1512 Q2296.35 1515.55 2296.35 1522.67 Q2296.35 1529.78 2298.15 1533.35 Q2299.98 1536.89 2303.59 1536.89 Q2307.23 1536.89 2309.03 1533.35 Q2310.86 1529.78 2310.86 1522.67 Q2310.86 1515.55 2309.03 1512 Q2307.23 1508.44 2303.59 1508.44 M2303.59 1504.73 Q2309.4 1504.73 2312.46 1509.34 Q2315.54 1513.92 2315.54 1522.67 Q2315.54 1531.4 2312.46 1536.01 Q2309.4 1540.59 2303.59 1540.59 Q2297.78 1540.59 2294.7 1536.01 Q2291.65 1531.4 2291.65 1522.67 Q2291.65 1513.92 2294.7 1509.34 Q2297.78 1504.73 2303.59 1504.73 Z\" fill=\"#000000\" fill-rule=\"evenodd\" fill-opacity=\"1\" /><path clip-path=\"url(#clip060)\" d=\"M 0 0 M2330.61 1508.44 Q2326.99 1508.44 2325.17 1512 Q2323.36 1515.55 2323.36 1522.67 Q2323.36 1529.78 2325.17 1533.35 Q2326.99 1536.89 2330.61 1536.89 Q2334.24 1536.89 2336.05 1533.35 Q2337.87 1529.78 2337.87 1522.67 Q2337.87 1515.55 2336.05 1512 Q2334.24 1508.44 2330.61 1508.44 M2330.61 1504.73 Q2336.42 1504.73 2339.47 1509.34 Q2342.55 1513.92 2342.55 1522.67 Q2342.55 1531.4 2339.47 1536.01 Q2336.42 1540.59 2330.61 1540.59 Q2324.8 1540.59 2321.72 1536.01 Q2318.66 1531.4 2318.66 1522.67 Q2318.66 1513.92 2321.72 1509.34 Q2324.8 1504.73 2330.61 1504.73 Z\" fill=\"#000000\" fill-rule=\"evenodd\" fill-opacity=\"1\" /><path clip-path=\"url(#clip060)\" d=\"M 0 0 M74.9365 1368.24 Q71.3254 1368.24 69.4967 1371.8 Q67.6912 1375.35 67.6912 1382.48 Q67.6912 1389.58 69.4967 1393.15 Q71.3254 1396.69 74.9365 1396.69 Q78.5707 1396.69 80.3763 1393.15 Q82.205 1389.58 82.205 1382.48 Q82.205 1375.35 80.3763 1371.8 Q78.5707 1368.24 74.9365 1368.24 M74.9365 1364.54 Q80.7467 1364.54 83.8022 1369.14 Q86.8809 1373.73 86.8809 1382.48 Q86.8809 1391.2 83.8022 1395.81 Q80.7467 1400.39 74.9365 1400.39 Q69.1264 1400.39 66.0477 1395.81 Q62.9921 1391.2 62.9921 1382.48 Q62.9921 1373.73 66.0477 1369.14 Q69.1264 1364.54 74.9365 1364.54 Z\" fill=\"#000000\" fill-rule=\"evenodd\" fill-opacity=\"1\" /><path clip-path=\"url(#clip060)\" d=\"M 0 0 M91.9503 1393.84 L96.8345 1393.84 L96.8345 1399.72 L91.9503 1399.72 L91.9503 1393.84 Z\" fill=\"#000000\" fill-rule=\"evenodd\" fill-opacity=\"1\" /><path clip-path=\"url(#clip060)\" d=\"M 0 0 M111.904 1368.24 Q108.293 1368.24 106.464 1371.8 Q104.659 1375.35 104.659 1382.48 Q104.659 1389.58 106.464 1393.15 Q108.293 1396.69 111.904 1396.69 Q115.538 1396.69 117.344 1393.15 Q119.172 1389.58 119.172 1382.48 Q119.172 1375.35 117.344 1371.8 Q115.538 1368.24 111.904 1368.24 M111.904 1364.54 Q117.714 1364.54 120.77 1369.14 Q123.848 1373.73 123.848 1382.48 Q123.848 1391.2 120.77 1395.81 Q117.714 1400.39 111.904 1400.39 Q106.094 1400.39 103.015 1395.81 Q99.9595 1391.2 99.9595 1382.48 Q99.9595 1373.73 103.015 1369.14 Q106.094 1364.54 111.904 1364.54 Z\" fill=\"#000000\" fill-rule=\"evenodd\" fill-opacity=\"1\" /><path clip-path=\"url(#clip060)\" d=\"M 0 0 M75.9319 1073.07 Q72.3208 1073.07 70.4921 1076.63 Q68.6865 1080.18 68.6865 1087.31 Q68.6865 1094.41 70.4921 1097.98 Q72.3208 1101.52 75.9319 1101.52 Q79.5661 1101.52 81.3717 1097.98 Q83.2004 1094.41 83.2004 1087.31 Q83.2004 1080.18 81.3717 1076.63 Q79.5661 1073.07 75.9319 1073.07 M75.9319 1069.37 Q81.742 1069.37 84.7976 1073.97 Q87.8763 1078.56 87.8763 1087.31 Q87.8763 1096.03 84.7976 1100.64 Q81.742 1105.22 75.9319 1105.22 Q70.1217 1105.22 67.043 1100.64 Q63.9875 1096.03 63.9875 1087.31 Q63.9875 1078.56 67.043 1073.97 Q70.1217 1069.37 75.9319 1069.37 Z\" fill=\"#000000\" fill-rule=\"evenodd\" fill-opacity=\"1\" /><path clip-path=\"url(#clip060)\" d=\"M 0 0 M92.9457 1098.67 L97.8299 1098.67 L97.8299 1104.55 L92.9457 1104.55 L92.9457 1098.67 Z\" fill=\"#000000\" fill-rule=\"evenodd\" fill-opacity=\"1\" /><path clip-path=\"url(#clip060)\" d=\"M 0 0 M102.946 1069.99 L121.302 1069.99 L121.302 1073.93 L107.228 1073.93 L107.228 1082.4 Q108.247 1082.05 109.265 1081.89 Q110.284 1081.7 111.302 1081.7 Q117.089 1081.7 120.469 1084.88 Q123.848 1088.05 123.848 1093.46 Q123.848 1099.04 120.376 1102.14 Q116.904 1105.22 110.584 1105.22 Q108.409 1105.22 106.14 1104.85 Q103.895 1104.48 101.487 1103.74 L101.487 1099.04 Q103.571 1100.18 105.793 1100.73 Q108.015 1101.29 110.492 1101.29 Q114.496 1101.29 116.834 1099.18 Q119.172 1097.07 119.172 1093.46 Q119.172 1089.85 116.834 1087.75 Q114.496 1085.64 110.492 1085.64 Q108.617 1085.64 106.742 1086.06 Q104.89 1086.47 102.946 1087.35 L102.946 1069.99 Z\" fill=\"#000000\" fill-rule=\"evenodd\" fill-opacity=\"1\" /><path clip-path=\"url(#clip060)\" d=\"M 0 0 M66.9736 805.446 L74.6124 805.446 L74.6124 779.08 L66.3023 780.747 L66.3023 776.488 L74.5661 774.821 L79.242 774.821 L79.242 805.446 L86.8809 805.446 L86.8809 809.381 L66.9736 809.381 L66.9736 805.446 Z\" fill=\"#000000\" fill-rule=\"evenodd\" fill-opacity=\"1\" /><path clip-path=\"url(#clip060)\" d=\"M 0 0 M91.9503 803.502 L96.8345 803.502 L96.8345 809.381 L91.9503 809.381 L91.9503 803.502 Z\" fill=\"#000000\" fill-rule=\"evenodd\" fill-opacity=\"1\" /><path clip-path=\"url(#clip060)\" d=\"M 0 0 M111.904 777.9 Q108.293 777.9 106.464 781.465 Q104.659 785.006 104.659 792.136 Q104.659 799.242 106.464 802.807 Q108.293 806.349 111.904 806.349 Q115.538 806.349 117.344 802.807 Q119.172 799.242 119.172 792.136 Q119.172 785.006 117.344 781.465 Q115.538 777.9 111.904 777.9 M111.904 774.196 Q117.714 774.196 120.77 778.803 Q123.848 783.386 123.848 792.136 Q123.848 800.863 120.77 805.469 Q117.714 810.053 111.904 810.053 Q106.094 810.053 103.015 805.469 Q99.9595 800.863 99.9595 792.136 Q99.9595 783.386 103.015 778.803 Q106.094 774.196 111.904 774.196 Z\" fill=\"#000000\" fill-rule=\"evenodd\" fill-opacity=\"1\" /><path clip-path=\"url(#clip060)\" d=\"M 0 0 M67.969 510.276 L75.6078 510.276 L75.6078 483.911 L67.2977 485.577 L67.2977 481.318 L75.5615 479.651 L80.2374 479.651 L80.2374 510.276 L87.8763 510.276 L87.8763 514.211 L67.969 514.211 L67.969 510.276 Z\" fill=\"#000000\" fill-rule=\"evenodd\" fill-opacity=\"1\" /><path clip-path=\"url(#clip060)\" d=\"M 0 0 M92.9457 508.332 L97.8299 508.332 L97.8299 514.211 L92.9457 514.211 L92.9457 508.332 Z\" fill=\"#000000\" fill-rule=\"evenodd\" fill-opacity=\"1\" /><path clip-path=\"url(#clip060)\" d=\"M 0 0 M102.946 479.651 L121.302 479.651 L121.302 483.587 L107.228 483.587 L107.228 492.059 Q108.247 491.712 109.265 491.55 Q110.284 491.364 111.302 491.364 Q117.089 491.364 120.469 494.536 Q123.848 497.707 123.848 503.124 Q123.848 508.702 120.376 511.804 Q116.904 514.883 110.584 514.883 Q108.409 514.883 106.14 514.512 Q103.895 514.142 101.487 513.401 L101.487 508.702 Q103.571 509.837 105.793 510.392 Q108.015 510.948 110.492 510.948 Q114.496 510.948 116.834 508.841 Q119.172 506.735 119.172 503.124 Q119.172 499.512 116.834 497.406 Q114.496 495.3 110.492 495.3 Q108.617 495.3 106.742 495.716 Q104.89 496.133 102.946 497.013 L102.946 479.651 Z\" fill=\"#000000\" fill-rule=\"evenodd\" fill-opacity=\"1\" /><path clip-path=\"url(#clip060)\" d=\"M 0 0 M70.5615 215.107 L86.8809 215.107 L86.8809 219.042 L64.9366 219.042 L64.9366 215.107 Q67.5986 212.352 72.1819 207.722 Q76.7883 203.07 77.9689 201.727 Q80.2143 199.204 81.0939 197.468 Q81.9967 195.709 81.9967 194.019 Q81.9967 191.264 80.0522 189.528 Q78.1309 187.792 75.0291 187.792 Q72.83 187.792 70.3763 188.556 Q67.9458 189.32 65.168 190.871 L65.168 186.148 Q67.9921 185.014 70.4458 184.435 Q72.8995 183.857 74.9365 183.857 Q80.3068 183.857 83.5013 186.542 Q86.6957 189.227 86.6957 193.718 Q86.6957 195.847 85.8855 197.769 Q85.0985 199.667 82.992 202.259 Q82.4133 202.931 79.3115 206.148 Q76.2096 209.343 70.5615 215.107 Z\" fill=\"#000000\" fill-rule=\"evenodd\" fill-opacity=\"1\" /><path clip-path=\"url(#clip060)\" d=\"M 0 0 M91.9503 213.162 L96.8345 213.162 L96.8345 219.042 L91.9503 219.042 L91.9503 213.162 Z\" fill=\"#000000\" fill-rule=\"evenodd\" fill-opacity=\"1\" /><path clip-path=\"url(#clip060)\" d=\"M 0 0 M111.904 187.56 Q108.293 187.56 106.464 191.125 Q104.659 194.667 104.659 201.796 Q104.659 208.903 106.464 212.468 Q108.293 216.009 111.904 216.009 Q115.538 216.009 117.344 212.468 Q119.172 208.903 119.172 201.796 Q119.172 194.667 117.344 191.125 Q115.538 187.56 111.904 187.56 M111.904 183.857 Q117.714 183.857 120.77 188.463 Q123.848 193.047 123.848 201.796 Q123.848 210.523 120.77 215.13 Q117.714 219.713 111.904 219.713 Q106.094 219.713 103.015 215.13 Q99.9595 210.523 99.9595 201.796 Q99.9595 193.047 103.015 188.463 Q106.094 183.857 111.904 183.857 Z\" fill=\"#000000\" fill-rule=\"evenodd\" fill-opacity=\"1\" /><circle clip-path=\"url(#clip062)\" cx=\"1744.78\" cy=\"494.49\" r=\"14\" fill=\"#009af9\" fill-rule=\"evenodd\" fill-opacity=\"1\" stroke=\"#000000\" stroke-opacity=\"1\" stroke-width=\"3.2\"/>\n",
       "<circle clip-path=\"url(#clip062)\" cx=\"1068.64\" cy=\"831.682\" r=\"14\" fill=\"#009af9\" fill-rule=\"evenodd\" fill-opacity=\"1\" stroke=\"#000000\" stroke-opacity=\"1\" stroke-width=\"3.2\"/>\n",
       "<circle clip-path=\"url(#clip062)\" cx=\"1584.92\" cy=\"553.353\" r=\"14\" fill=\"#009af9\" fill-rule=\"evenodd\" fill-opacity=\"1\" stroke=\"#000000\" stroke-opacity=\"1\" stroke-width=\"3.2\"/>\n",
       "<circle clip-path=\"url(#clip062)\" cx=\"1927.42\" cy=\"360.651\" r=\"14\" fill=\"#009af9\" fill-rule=\"evenodd\" fill-opacity=\"1\" stroke=\"#000000\" stroke-opacity=\"1\" stroke-width=\"3.2\"/>\n",
       "<circle clip-path=\"url(#clip062)\" cx=\"745.476\" cy=\"1033.52\" r=\"14\" fill=\"#009af9\" fill-rule=\"evenodd\" fill-opacity=\"1\" stroke=\"#000000\" stroke-opacity=\"1\" stroke-width=\"3.2\"/>\n",
       "<circle clip-path=\"url(#clip062)\" cx=\"516.426\" cy=\"1221.7\" r=\"14\" fill=\"#009af9\" fill-rule=\"evenodd\" fill-opacity=\"1\" stroke=\"#000000\" stroke-opacity=\"1\" stroke-width=\"3.2\"/>\n",
       "<circle clip-path=\"url(#clip062)\" cx=\"785.753\" cy=\"1007.32\" r=\"14\" fill=\"#009af9\" fill-rule=\"evenodd\" fill-opacity=\"1\" stroke=\"#000000\" stroke-opacity=\"1\" stroke-width=\"3.2\"/>\n",
       "<circle clip-path=\"url(#clip062)\" cx=\"332.799\" cy=\"1342.63\" r=\"14\" fill=\"#009af9\" fill-rule=\"evenodd\" fill-opacity=\"1\" stroke=\"#000000\" stroke-opacity=\"1\" stroke-width=\"3.2\"/>\n",
       "<circle clip-path=\"url(#clip062)\" cx=\"2184.02\" cy=\"352.284\" r=\"14\" fill=\"#009af9\" fill-rule=\"evenodd\" fill-opacity=\"1\" stroke=\"#000000\" stroke-opacity=\"1\" stroke-width=\"3.2\"/>\n",
       "<circle clip-path=\"url(#clip062)\" cx=\"579.747\" cy=\"1272.01\" r=\"14\" fill=\"#009af9\" fill-rule=\"evenodd\" fill-opacity=\"1\" stroke=\"#000000\" stroke-opacity=\"1\" stroke-width=\"3.2\"/>\n",
       "<circle clip-path=\"url(#clip062)\" cx=\"2112.82\" cy=\"377.895\" r=\"14\" fill=\"#009af9\" fill-rule=\"evenodd\" fill-opacity=\"1\" stroke=\"#000000\" stroke-opacity=\"1\" stroke-width=\"3.2\"/>\n",
       "<circle clip-path=\"url(#clip062)\" cx=\"1632.84\" cy=\"605.735\" r=\"14\" fill=\"#009af9\" fill-rule=\"evenodd\" fill-opacity=\"1\" stroke=\"#000000\" stroke-opacity=\"1\" stroke-width=\"3.2\"/>\n",
       "<circle clip-path=\"url(#clip062)\" cx=\"1044.17\" cy=\"925.627\" r=\"14\" fill=\"#009af9\" fill-rule=\"evenodd\" fill-opacity=\"1\" stroke=\"#000000\" stroke-opacity=\"1\" stroke-width=\"3.2\"/>\n",
       "<circle clip-path=\"url(#clip062)\" cx=\"240.025\" cy=\"1445.72\" r=\"14\" fill=\"#009af9\" fill-rule=\"evenodd\" fill-opacity=\"1\" stroke=\"#000000\" stroke-opacity=\"1\" stroke-width=\"3.2\"/>\n",
       "<circle clip-path=\"url(#clip062)\" cx=\"957.509\" cy=\"1002.07\" r=\"14\" fill=\"#009af9\" fill-rule=\"evenodd\" fill-opacity=\"1\" stroke=\"#000000\" stroke-opacity=\"1\" stroke-width=\"3.2\"/>\n",
       "<circle clip-path=\"url(#clip062)\" cx=\"1222.55\" cy=\"795.477\" r=\"14\" fill=\"#009af9\" fill-rule=\"evenodd\" fill-opacity=\"1\" stroke=\"#000000\" stroke-opacity=\"1\" stroke-width=\"3.2\"/>\n",
       "<circle clip-path=\"url(#clip062)\" cx=\"1822.96\" cy=\"428.142\" r=\"14\" fill=\"#009af9\" fill-rule=\"evenodd\" fill-opacity=\"1\" stroke=\"#000000\" stroke-opacity=\"1\" stroke-width=\"3.2\"/>\n",
       "<circle clip-path=\"url(#clip062)\" cx=\"2074.49\" cy=\"345.643\" r=\"14\" fill=\"#009af9\" fill-rule=\"evenodd\" fill-opacity=\"1\" stroke=\"#000000\" stroke-opacity=\"1\" stroke-width=\"3.2\"/>\n",
       "<circle clip-path=\"url(#clip062)\" cx=\"1854.82\" cy=\"513.635\" r=\"14\" fill=\"#009af9\" fill-rule=\"evenodd\" fill-opacity=\"1\" stroke=\"#000000\" stroke-opacity=\"1\" stroke-width=\"3.2\"/>\n",
       "<circle clip-path=\"url(#clip062)\" cx=\"1696.33\" cy=\"528.259\" r=\"14\" fill=\"#009af9\" fill-rule=\"evenodd\" fill-opacity=\"1\" stroke=\"#000000\" stroke-opacity=\"1\" stroke-width=\"3.2\"/>\n",
       "<circle clip-path=\"url(#clip062)\" cx=\"1809.92\" cy=\"470.44\" r=\"14\" fill=\"#009af9\" fill-rule=\"evenodd\" fill-opacity=\"1\" stroke=\"#000000\" stroke-opacity=\"1\" stroke-width=\"3.2\"/>\n",
       "<circle clip-path=\"url(#clip062)\" cx=\"2290.35\" cy=\"172.469\" r=\"14\" fill=\"#009af9\" fill-rule=\"evenodd\" fill-opacity=\"1\" stroke=\"#000000\" stroke-opacity=\"1\" stroke-width=\"3.2\"/>\n",
       "<circle clip-path=\"url(#clip062)\" cx=\"310.706\" cy=\"1213.29\" r=\"14\" fill=\"#009af9\" fill-rule=\"evenodd\" fill-opacity=\"1\" stroke=\"#000000\" stroke-opacity=\"1\" stroke-width=\"3.2\"/>\n",
       "<circle clip-path=\"url(#clip062)\" cx=\"1839.53\" cy=\"491.709\" r=\"14\" fill=\"#009af9\" fill-rule=\"evenodd\" fill-opacity=\"1\" stroke=\"#000000\" stroke-opacity=\"1\" stroke-width=\"3.2\"/>\n",
       "<circle clip-path=\"url(#clip062)\" cx=\"1917.62\" cy=\"365.944\" r=\"14\" fill=\"#009af9\" fill-rule=\"evenodd\" fill-opacity=\"1\" stroke=\"#000000\" stroke-opacity=\"1\" stroke-width=\"3.2\"/>\n",
       "<circle clip-path=\"url(#clip062)\" cx=\"222.437\" cy=\"1326.66\" r=\"14\" fill=\"#009af9\" fill-rule=\"evenodd\" fill-opacity=\"1\" stroke=\"#000000\" stroke-opacity=\"1\" stroke-width=\"3.2\"/>\n",
       "<circle clip-path=\"url(#clip062)\" cx=\"1472.63\" cy=\"651.724\" r=\"14\" fill=\"#009af9\" fill-rule=\"evenodd\" fill-opacity=\"1\" stroke=\"#000000\" stroke-opacity=\"1\" stroke-width=\"3.2\"/>\n",
       "<circle clip-path=\"url(#clip062)\" cx=\"1272.89\" cy=\"792.727\" r=\"14\" fill=\"#009af9\" fill-rule=\"evenodd\" fill-opacity=\"1\" stroke=\"#000000\" stroke-opacity=\"1\" stroke-width=\"3.2\"/>\n",
       "<circle clip-path=\"url(#clip062)\" cx=\"1661.83\" cy=\"592.856\" r=\"14\" fill=\"#009af9\" fill-rule=\"evenodd\" fill-opacity=\"1\" stroke=\"#000000\" stroke-opacity=\"1\" stroke-width=\"3.2\"/>\n",
       "<circle clip-path=\"url(#clip062)\" cx=\"1104.56\" cy=\"879.532\" r=\"14\" fill=\"#009af9\" fill-rule=\"evenodd\" fill-opacity=\"1\" stroke=\"#000000\" stroke-opacity=\"1\" stroke-width=\"3.2\"/>\n",
       "<circle clip-path=\"url(#clip062)\" cx=\"801.332\" cy=\"1050.31\" r=\"14\" fill=\"#009af9\" fill-rule=\"evenodd\" fill-opacity=\"1\" stroke=\"#000000\" stroke-opacity=\"1\" stroke-width=\"3.2\"/>\n",
       "<circle clip-path=\"url(#clip062)\" cx=\"2150.69\" cy=\"342.536\" r=\"14\" fill=\"#009af9\" fill-rule=\"evenodd\" fill-opacity=\"1\" stroke=\"#000000\" stroke-opacity=\"1\" stroke-width=\"3.2\"/>\n",
       "<circle clip-path=\"url(#clip062)\" cx=\"1146.41\" cy=\"897.192\" r=\"14\" fill=\"#009af9\" fill-rule=\"evenodd\" fill-opacity=\"1\" stroke=\"#000000\" stroke-opacity=\"1\" stroke-width=\"3.2\"/>\n",
       "<circle clip-path=\"url(#clip062)\" cx=\"526.529\" cy=\"1200.99\" r=\"14\" fill=\"#009af9\" fill-rule=\"evenodd\" fill-opacity=\"1\" stroke=\"#000000\" stroke-opacity=\"1\" stroke-width=\"3.2\"/>\n",
       "<circle clip-path=\"url(#clip062)\" cx=\"1095.68\" cy=\"892.199\" r=\"14\" fill=\"#009af9\" fill-rule=\"evenodd\" fill-opacity=\"1\" stroke=\"#000000\" stroke-opacity=\"1\" stroke-width=\"3.2\"/>\n",
       "<circle clip-path=\"url(#clip062)\" cx=\"2100.05\" cy=\"350.049\" r=\"14\" fill=\"#009af9\" fill-rule=\"evenodd\" fill-opacity=\"1\" stroke=\"#000000\" stroke-opacity=\"1\" stroke-width=\"3.2\"/>\n",
       "<circle clip-path=\"url(#clip062)\" cx=\"210.251\" cy=\"1366.89\" r=\"14\" fill=\"#009af9\" fill-rule=\"evenodd\" fill-opacity=\"1\" stroke=\"#000000\" stroke-opacity=\"1\" stroke-width=\"3.2\"/>\n",
       "<circle clip-path=\"url(#clip062)\" cx=\"773.906\" cy=\"1002.32\" r=\"14\" fill=\"#009af9\" fill-rule=\"evenodd\" fill-opacity=\"1\" stroke=\"#000000\" stroke-opacity=\"1\" stroke-width=\"3.2\"/>\n",
       "<circle clip-path=\"url(#clip062)\" cx=\"499.79\" cy=\"1182.89\" r=\"14\" fill=\"#009af9\" fill-rule=\"evenodd\" fill-opacity=\"1\" stroke=\"#000000\" stroke-opacity=\"1\" stroke-width=\"3.2\"/>\n",
       "<circle clip-path=\"url(#clip062)\" cx=\"1024.41\" cy=\"721.165\" r=\"14\" fill=\"#009af9\" fill-rule=\"evenodd\" fill-opacity=\"1\" stroke=\"#000000\" stroke-opacity=\"1\" stroke-width=\"3.2\"/>\n",
       "<circle clip-path=\"url(#clip062)\" cx=\"1355.96\" cy=\"727.678\" r=\"14\" fill=\"#009af9\" fill-rule=\"evenodd\" fill-opacity=\"1\" stroke=\"#000000\" stroke-opacity=\"1\" stroke-width=\"3.2\"/>\n",
       "<circle clip-path=\"url(#clip062)\" cx=\"2117.24\" cy=\"265.17\" r=\"14\" fill=\"#009af9\" fill-rule=\"evenodd\" fill-opacity=\"1\" stroke=\"#000000\" stroke-opacity=\"1\" stroke-width=\"3.2\"/>\n",
       "<circle clip-path=\"url(#clip062)\" cx=\"2265.46\" cy=\"287.618\" r=\"14\" fill=\"#009af9\" fill-rule=\"evenodd\" fill-opacity=\"1\" stroke=\"#000000\" stroke-opacity=\"1\" stroke-width=\"3.2\"/>\n",
       "<circle clip-path=\"url(#clip062)\" cx=\"1074.64\" cy=\"831.488\" r=\"14\" fill=\"#009af9\" fill-rule=\"evenodd\" fill-opacity=\"1\" stroke=\"#000000\" stroke-opacity=\"1\" stroke-width=\"3.2\"/>\n",
       "<circle clip-path=\"url(#clip062)\" cx=\"2288.94\" cy=\"87.9763\" r=\"14\" fill=\"#009af9\" fill-rule=\"evenodd\" fill-opacity=\"1\" stroke=\"#000000\" stroke-opacity=\"1\" stroke-width=\"3.2\"/>\n",
       "<circle clip-path=\"url(#clip062)\" cx=\"659.064\" cy=\"1155.86\" r=\"14\" fill=\"#009af9\" fill-rule=\"evenodd\" fill-opacity=\"1\" stroke=\"#000000\" stroke-opacity=\"1\" stroke-width=\"3.2\"/>\n",
       "<circle clip-path=\"url(#clip062)\" cx=\"539.996\" cy=\"1171.62\" r=\"14\" fill=\"#009af9\" fill-rule=\"evenodd\" fill-opacity=\"1\" stroke=\"#000000\" stroke-opacity=\"1\" stroke-width=\"3.2\"/>\n",
       "<circle clip-path=\"url(#clip062)\" cx=\"457.611\" cy=\"1379.2\" r=\"14\" fill=\"#009af9\" fill-rule=\"evenodd\" fill-opacity=\"1\" stroke=\"#000000\" stroke-opacity=\"1\" stroke-width=\"3.2\"/>\n",
       "<circle clip-path=\"url(#clip062)\" cx=\"1392.04\" cy=\"665.785\" r=\"14\" fill=\"#009af9\" fill-rule=\"evenodd\" fill-opacity=\"1\" stroke=\"#000000\" stroke-opacity=\"1\" stroke-width=\"3.2\"/>\n",
       "<circle clip-path=\"url(#clip062)\" cx=\"1486.02\" cy=\"611.872\" r=\"14\" fill=\"#009af9\" fill-rule=\"evenodd\" fill-opacity=\"1\" stroke=\"#000000\" stroke-opacity=\"1\" stroke-width=\"3.2\"/>\n",
       "<circle clip-path=\"url(#clip062)\" cx=\"1463.46\" cy=\"689.627\" r=\"14\" fill=\"#009af9\" fill-rule=\"evenodd\" fill-opacity=\"1\" stroke=\"#000000\" stroke-opacity=\"1\" stroke-width=\"3.2\"/>\n",
       "<circle clip-path=\"url(#clip062)\" cx=\"1648.1\" cy=\"498.058\" r=\"14\" fill=\"#009af9\" fill-rule=\"evenodd\" fill-opacity=\"1\" stroke=\"#000000\" stroke-opacity=\"1\" stroke-width=\"3.2\"/>\n",
       "<circle clip-path=\"url(#clip062)\" cx=\"1957.08\" cy=\"417.688\" r=\"14\" fill=\"#009af9\" fill-rule=\"evenodd\" fill-opacity=\"1\" stroke=\"#000000\" stroke-opacity=\"1\" stroke-width=\"3.2\"/>\n",
       "<circle clip-path=\"url(#clip062)\" cx=\"1100.89\" cy=\"885.047\" r=\"14\" fill=\"#009af9\" fill-rule=\"evenodd\" fill-opacity=\"1\" stroke=\"#000000\" stroke-opacity=\"1\" stroke-width=\"3.2\"/>\n",
       "<circle clip-path=\"url(#clip062)\" cx=\"586.809\" cy=\"1162.54\" r=\"14\" fill=\"#009af9\" fill-rule=\"evenodd\" fill-opacity=\"1\" stroke=\"#000000\" stroke-opacity=\"1\" stroke-width=\"3.2\"/>\n",
       "<circle clip-path=\"url(#clip062)\" cx=\"1581.45\" cy=\"743.1\" r=\"14\" fill=\"#009af9\" fill-rule=\"evenodd\" fill-opacity=\"1\" stroke=\"#000000\" stroke-opacity=\"1\" stroke-width=\"3.2\"/>\n",
       "<circle clip-path=\"url(#clip062)\" cx=\"1898.33\" cy=\"367.876\" r=\"14\" fill=\"#009af9\" fill-rule=\"evenodd\" fill-opacity=\"1\" stroke=\"#000000\" stroke-opacity=\"1\" stroke-width=\"3.2\"/>\n",
       "<circle clip-path=\"url(#clip062)\" cx=\"1362.14\" cy=\"813.819\" r=\"14\" fill=\"#009af9\" fill-rule=\"evenodd\" fill-opacity=\"1\" stroke=\"#000000\" stroke-opacity=\"1\" stroke-width=\"3.2\"/>\n",
       "<circle clip-path=\"url(#clip062)\" cx=\"794.364\" cy=\"1012.29\" r=\"14\" fill=\"#009af9\" fill-rule=\"evenodd\" fill-opacity=\"1\" stroke=\"#000000\" stroke-opacity=\"1\" stroke-width=\"3.2\"/>\n",
       "<circle clip-path=\"url(#clip062)\" cx=\"1119.7\" cy=\"848.462\" r=\"14\" fill=\"#009af9\" fill-rule=\"evenodd\" fill-opacity=\"1\" stroke=\"#000000\" stroke-opacity=\"1\" stroke-width=\"3.2\"/>\n",
       "<circle clip-path=\"url(#clip062)\" cx=\"1833.29\" cy=\"508.858\" r=\"14\" fill=\"#009af9\" fill-rule=\"evenodd\" fill-opacity=\"1\" stroke=\"#000000\" stroke-opacity=\"1\" stroke-width=\"3.2\"/>\n",
       "<circle clip-path=\"url(#clip062)\" cx=\"1878.04\" cy=\"408.135\" r=\"14\" fill=\"#009af9\" fill-rule=\"evenodd\" fill-opacity=\"1\" stroke=\"#000000\" stroke-opacity=\"1\" stroke-width=\"3.2\"/>\n",
       "<circle clip-path=\"url(#clip062)\" cx=\"1150.22\" cy=\"980.723\" r=\"14\" fill=\"#009af9\" fill-rule=\"evenodd\" fill-opacity=\"1\" stroke=\"#000000\" stroke-opacity=\"1\" stroke-width=\"3.2\"/>\n",
       "<circle clip-path=\"url(#clip062)\" cx=\"327.77\" cy=\"1316.65\" r=\"14\" fill=\"#009af9\" fill-rule=\"evenodd\" fill-opacity=\"1\" stroke=\"#000000\" stroke-opacity=\"1\" stroke-width=\"3.2\"/>\n",
       "<circle clip-path=\"url(#clip062)\" cx=\"1922.88\" cy=\"376.784\" r=\"14\" fill=\"#009af9\" fill-rule=\"evenodd\" fill-opacity=\"1\" stroke=\"#000000\" stroke-opacity=\"1\" stroke-width=\"3.2\"/>\n",
       "<circle clip-path=\"url(#clip062)\" cx=\"256.947\" cy=\"1261.72\" r=\"14\" fill=\"#009af9\" fill-rule=\"evenodd\" fill-opacity=\"1\" stroke=\"#000000\" stroke-opacity=\"1\" stroke-width=\"3.2\"/>\n",
       "<circle clip-path=\"url(#clip062)\" cx=\"983.867\" cy=\"983.479\" r=\"14\" fill=\"#009af9\" fill-rule=\"evenodd\" fill-opacity=\"1\" stroke=\"#000000\" stroke-opacity=\"1\" stroke-width=\"3.2\"/>\n",
       "<circle clip-path=\"url(#clip062)\" cx=\"1580.8\" cy=\"581.747\" r=\"14\" fill=\"#009af9\" fill-rule=\"evenodd\" fill-opacity=\"1\" stroke=\"#000000\" stroke-opacity=\"1\" stroke-width=\"3.2\"/>\n",
       "<circle clip-path=\"url(#clip062)\" cx=\"1075.18\" cy=\"821.393\" r=\"14\" fill=\"#009af9\" fill-rule=\"evenodd\" fill-opacity=\"1\" stroke=\"#000000\" stroke-opacity=\"1\" stroke-width=\"3.2\"/>\n",
       "<circle clip-path=\"url(#clip062)\" cx=\"2224.1\" cy=\"252.48\" r=\"14\" fill=\"#009af9\" fill-rule=\"evenodd\" fill-opacity=\"1\" stroke=\"#000000\" stroke-opacity=\"1\" stroke-width=\"3.2\"/>\n",
       "<circle clip-path=\"url(#clip062)\" cx=\"730.338\" cy=\"991.264\" r=\"14\" fill=\"#009af9\" fill-rule=\"evenodd\" fill-opacity=\"1\" stroke=\"#000000\" stroke-opacity=\"1\" stroke-width=\"3.2\"/>\n",
       "<circle clip-path=\"url(#clip062)\" cx=\"2026.89\" cy=\"257.146\" r=\"14\" fill=\"#009af9\" fill-rule=\"evenodd\" fill-opacity=\"1\" stroke=\"#000000\" stroke-opacity=\"1\" stroke-width=\"3.2\"/>\n",
       "<circle clip-path=\"url(#clip062)\" cx=\"1329.86\" cy=\"736.794\" r=\"14\" fill=\"#009af9\" fill-rule=\"evenodd\" fill-opacity=\"1\" stroke=\"#000000\" stroke-opacity=\"1\" stroke-width=\"3.2\"/>\n",
       "<circle clip-path=\"url(#clip062)\" cx=\"692.654\" cy=\"1005.88\" r=\"14\" fill=\"#009af9\" fill-rule=\"evenodd\" fill-opacity=\"1\" stroke=\"#000000\" stroke-opacity=\"1\" stroke-width=\"3.2\"/>\n",
       "<circle clip-path=\"url(#clip062)\" cx=\"2092.82\" cy=\"360.24\" r=\"14\" fill=\"#009af9\" fill-rule=\"evenodd\" fill-opacity=\"1\" stroke=\"#000000\" stroke-opacity=\"1\" stroke-width=\"3.2\"/>\n",
       "<circle clip-path=\"url(#clip062)\" cx=\"1667.36\" cy=\"497.951\" r=\"14\" fill=\"#009af9\" fill-rule=\"evenodd\" fill-opacity=\"1\" stroke=\"#000000\" stroke-opacity=\"1\" stroke-width=\"3.2\"/>\n",
       "<circle clip-path=\"url(#clip062)\" cx=\"1060.1\" cy=\"972.987\" r=\"14\" fill=\"#009af9\" fill-rule=\"evenodd\" fill-opacity=\"1\" stroke=\"#000000\" stroke-opacity=\"1\" stroke-width=\"3.2\"/>\n",
       "<circle clip-path=\"url(#clip062)\" cx=\"984.737\" cy=\"977.296\" r=\"14\" fill=\"#009af9\" fill-rule=\"evenodd\" fill-opacity=\"1\" stroke=\"#000000\" stroke-opacity=\"1\" stroke-width=\"3.2\"/>\n",
       "<circle clip-path=\"url(#clip062)\" cx=\"499.221\" cy=\"1175.25\" r=\"14\" fill=\"#009af9\" fill-rule=\"evenodd\" fill-opacity=\"1\" stroke=\"#000000\" stroke-opacity=\"1\" stroke-width=\"3.2\"/>\n",
       "<circle clip-path=\"url(#clip062)\" cx=\"1480.25\" cy=\"612.561\" r=\"14\" fill=\"#009af9\" fill-rule=\"evenodd\" fill-opacity=\"1\" stroke=\"#000000\" stroke-opacity=\"1\" stroke-width=\"3.2\"/>\n",
       "<circle clip-path=\"url(#clip062)\" cx=\"918.386\" cy=\"972.12\" r=\"14\" fill=\"#009af9\" fill-rule=\"evenodd\" fill-opacity=\"1\" stroke=\"#000000\" stroke-opacity=\"1\" stroke-width=\"3.2\"/>\n",
       "<circle clip-path=\"url(#clip062)\" cx=\"1559.38\" cy=\"560.488\" r=\"14\" fill=\"#009af9\" fill-rule=\"evenodd\" fill-opacity=\"1\" stroke=\"#000000\" stroke-opacity=\"1\" stroke-width=\"3.2\"/>\n",
       "<circle clip-path=\"url(#clip062)\" cx=\"2284.53\" cy=\"202.745\" r=\"14\" fill=\"#009af9\" fill-rule=\"evenodd\" fill-opacity=\"1\" stroke=\"#000000\" stroke-opacity=\"1\" stroke-width=\"3.2\"/>\n",
       "<circle clip-path=\"url(#clip062)\" cx=\"1997.59\" cy=\"426.822\" r=\"14\" fill=\"#009af9\" fill-rule=\"evenodd\" fill-opacity=\"1\" stroke=\"#000000\" stroke-opacity=\"1\" stroke-width=\"3.2\"/>\n",
       "<circle clip-path=\"url(#clip062)\" cx=\"758.885\" cy=\"1042.73\" r=\"14\" fill=\"#009af9\" fill-rule=\"evenodd\" fill-opacity=\"1\" stroke=\"#000000\" stroke-opacity=\"1\" stroke-width=\"3.2\"/>\n",
       "<circle clip-path=\"url(#clip062)\" cx=\"884.542\" cy=\"1073.37\" r=\"14\" fill=\"#009af9\" fill-rule=\"evenodd\" fill-opacity=\"1\" stroke=\"#000000\" stroke-opacity=\"1\" stroke-width=\"3.2\"/>\n",
       "<circle clip-path=\"url(#clip062)\" cx=\"591.769\" cy=\"1100.08\" r=\"14\" fill=\"#009af9\" fill-rule=\"evenodd\" fill-opacity=\"1\" stroke=\"#000000\" stroke-opacity=\"1\" stroke-width=\"3.2\"/>\n",
       "<circle clip-path=\"url(#clip062)\" cx=\"2227.93\" cy=\"323.234\" r=\"14\" fill=\"#009af9\" fill-rule=\"evenodd\" fill-opacity=\"1\" stroke=\"#000000\" stroke-opacity=\"1\" stroke-width=\"3.2\"/>\n",
       "<circle clip-path=\"url(#clip062)\" cx=\"1215.71\" cy=\"850.841\" r=\"14\" fill=\"#009af9\" fill-rule=\"evenodd\" fill-opacity=\"1\" stroke=\"#000000\" stroke-opacity=\"1\" stroke-width=\"3.2\"/>\n",
       "<circle clip-path=\"url(#clip062)\" cx=\"1343.85\" cy=\"791.447\" r=\"14\" fill=\"#009af9\" fill-rule=\"evenodd\" fill-opacity=\"1\" stroke=\"#000000\" stroke-opacity=\"1\" stroke-width=\"3.2\"/>\n",
       "<circle clip-path=\"url(#clip062)\" cx=\"1659.84\" cy=\"555.649\" r=\"14\" fill=\"#009af9\" fill-rule=\"evenodd\" fill-opacity=\"1\" stroke=\"#000000\" stroke-opacity=\"1\" stroke-width=\"3.2\"/>\n",
       "<circle clip-path=\"url(#clip062)\" cx=\"1742.44\" cy=\"503.312\" r=\"14\" fill=\"#009af9\" fill-rule=\"evenodd\" fill-opacity=\"1\" stroke=\"#000000\" stroke-opacity=\"1\" stroke-width=\"3.2\"/>\n",
       "<circle clip-path=\"url(#clip062)\" cx=\"1028.77\" cy=\"864.814\" r=\"14\" fill=\"#009af9\" fill-rule=\"evenodd\" fill-opacity=\"1\" stroke=\"#000000\" stroke-opacity=\"1\" stroke-width=\"3.2\"/>\n",
       "<circle clip-path=\"url(#clip062)\" cx=\"1886.5\" cy=\"464.326\" r=\"14\" fill=\"#009af9\" fill-rule=\"evenodd\" fill-opacity=\"1\" stroke=\"#000000\" stroke-opacity=\"1\" stroke-width=\"3.2\"/>\n",
       "<circle clip-path=\"url(#clip062)\" cx=\"665.545\" cy=\"1065.09\" r=\"14\" fill=\"#009af9\" fill-rule=\"evenodd\" fill-opacity=\"1\" stroke=\"#000000\" stroke-opacity=\"1\" stroke-width=\"3.2\"/>\n",
       "<circle clip-path=\"url(#clip062)\" cx=\"1447.6\" cy=\"668.332\" r=\"14\" fill=\"#009af9\" fill-rule=\"evenodd\" fill-opacity=\"1\" stroke=\"#000000\" stroke-opacity=\"1\" stroke-width=\"3.2\"/>\n",
       "<circle clip-path=\"url(#clip062)\" cx=\"731.237\" cy=\"1119.06\" r=\"14\" fill=\"#009af9\" fill-rule=\"evenodd\" fill-opacity=\"1\" stroke=\"#000000\" stroke-opacity=\"1\" stroke-width=\"3.2\"/>\n",
       "<circle clip-path=\"url(#clip062)\" cx=\"463.49\" cy=\"1151.6\" r=\"14\" fill=\"#009af9\" fill-rule=\"evenodd\" fill-opacity=\"1\" stroke=\"#000000\" stroke-opacity=\"1\" stroke-width=\"3.2\"/>\n",
       "<circle clip-path=\"url(#clip062)\" cx=\"883.959\" cy=\"1105.24\" r=\"14\" fill=\"#009af9\" fill-rule=\"evenodd\" fill-opacity=\"1\" stroke=\"#000000\" stroke-opacity=\"1\" stroke-width=\"3.2\"/>\n",
       "<circle clip-path=\"url(#clip062)\" cx=\"1066.97\" cy=\"882.418\" r=\"14\" fill=\"#009af9\" fill-rule=\"evenodd\" fill-opacity=\"1\" stroke=\"#000000\" stroke-opacity=\"1\" stroke-width=\"3.2\"/>\n",
       "<polyline clip-path=\"url(#clip062)\" style=\"stroke:#e26f46; stroke-width:12; stroke-opacity:1; fill:none\" points=\"\n",
       "  -2057.06,2643.67 4557.66,-1061.87 \n",
       "  \"/>\n",
       "<path clip-path=\"url(#clip060)\" d=\"\n",
       "M1989.74 312.204 L2280.76 312.204 L2280.76 130.764 L1989.74 130.764  Z\n",
       "  \" fill=\"#ffffff\" fill-rule=\"evenodd\" fill-opacity=\"1\"/>\n",
       "<polyline clip-path=\"url(#clip060)\" style=\"stroke:#000000; stroke-width:4; stroke-opacity:1; fill:none\" points=\"\n",
       "  1989.74,312.204 2280.76,312.204 2280.76,130.764 1989.74,130.764 1989.74,312.204 \n",
       "  \"/>\n",
       "<circle clip-path=\"url(#clip060)\" cx=\"2097.74\" cy=\"191.244\" r=\"23\" fill=\"#009af9\" fill-rule=\"evenodd\" fill-opacity=\"1\" stroke=\"#000000\" stroke-opacity=\"1\" stroke-width=\"5.12\"/>\n",
       "<path clip-path=\"url(#clip060)\" d=\"M 0 0 M2195.58 210.931 Q2193.77 215.561 2192.06 216.973 Q2190.35 218.385 2187.48 218.385 L2184.08 218.385 L2184.08 214.82 L2186.58 214.82 Q2188.33 214.82 2189.31 213.987 Q2190.28 213.154 2191.46 210.052 L2192.22 208.107 L2181.74 182.598 L2186.25 182.598 L2194.35 202.876 L2202.46 182.598 L2206.97 182.598 L2195.58 210.931 Z\" fill=\"#000000\" fill-rule=\"evenodd\" fill-opacity=\"1\" /><path clip-path=\"url(#clip060)\" d=\"M 0 0 M2212.85 204.589 L2220.49 204.589 L2220.49 178.223 L2212.18 179.89 L2212.18 175.631 L2220.44 173.964 L2225.12 173.964 L2225.12 204.589 L2232.76 204.589 L2232.76 208.524 L2212.85 208.524 L2212.85 204.589 Z\" fill=\"#000000\" fill-rule=\"evenodd\" fill-opacity=\"1\" /><polyline clip-path=\"url(#clip060)\" style=\"stroke:#e26f46; stroke-width:4; stroke-opacity:1; fill:none\" points=\"\n",
       "  2013.74,251.724 2157.74,251.724 \n",
       "  \"/>\n",
       "<path clip-path=\"url(#clip060)\" d=\"M 0 0 M2195.58 271.411 Q2193.77 276.041 2192.06 277.453 Q2190.35 278.865 2187.48 278.865 L2184.08 278.865 L2184.08 275.3 L2186.58 275.3 Q2188.33 275.3 2189.31 274.467 Q2190.28 273.634 2191.46 270.532 L2192.22 268.587 L2181.74 243.078 L2186.25 243.078 L2194.35 263.356 L2202.46 243.078 L2206.97 243.078 L2195.58 271.411 Z\" fill=\"#000000\" fill-rule=\"evenodd\" fill-opacity=\"1\" /><path clip-path=\"url(#clip060)\" d=\"M 0 0 M2216.07 265.069 L2232.39 265.069 L2232.39 269.004 L2210.44 269.004 L2210.44 265.069 Q2213.1 262.314 2217.69 257.685 Q2222.29 253.032 2223.47 251.689 Q2225.72 249.166 2226.6 247.43 Q2227.5 245.671 2227.5 243.981 Q2227.5 241.226 2225.56 239.49 Q2223.64 237.754 2220.53 237.754 Q2218.33 237.754 2215.88 238.518 Q2213.45 239.282 2210.67 240.833 L2210.67 236.111 Q2213.5 234.976 2215.95 234.398 Q2218.4 233.819 2220.44 233.819 Q2225.81 233.819 2229.01 236.504 Q2232.2 239.189 2232.2 243.68 Q2232.2 245.81 2231.39 247.731 Q2230.6 249.629 2228.5 252.222 Q2227.92 252.893 2224.82 256.111 Q2221.71 259.305 2216.07 265.069 Z\" fill=\"#000000\" fill-rule=\"evenodd\" fill-opacity=\"1\" /></svg>\n"
      ]
     },
     "execution_count": 19,
     "metadata": {},
     "output_type": "execute_result"
    }
   ],
   "source": [
    "#### Prepare Data\n",
    "\n",
    "X = rand(1000, 3)               # feature matrix\n",
    "a0 = rand(3)                    # ground truths\n",
    "y = X * a0 + 0.1 * randn(1000);  # generate response\n",
    "\n",
    "X2 = hcat(X,ones(1000))\n",
    "println(X2\\y)\n",
    "\n",
    "using MultivariateStats\n",
    "println(llsq(X,y))\n",
    "\n",
    "using DataFrames, GLM\n",
    "data = DataFrame(X1=X[:,1], X2=X[:,2], X3=X[:,3],Y=y)\n",
    "OLS = lm(@formula(Y ~ X1 + X2 + X3), data)\n",
    "\n",
    "\n",
    "X = rand(100);\n",
    "y = 2X  + 0.1 * randn(100);\n",
    "\n",
    "using Plots\n",
    "b = X\\y\n",
    "println(b)\n",
    "gr()\n",
    "scatter(X,y)\n",
    "Plots.abline!(b[1],0.0, lw=3) # Slope,Intercept"
   ]
  },
  {
   "cell_type": "markdown",
   "metadata": {},
   "source": [
    "**Type Hierarchy Problem**"
   ]
  },
  {
   "cell_type": "code",
   "execution_count": 20,
   "metadata": {},
   "outputs": [
    {
     "data": {
      "text/plain": [
       "person_info (generic function with 2 methods)"
      ]
     },
     "execution_count": 20,
     "metadata": {},
     "output_type": "execute_result"
    }
   ],
   "source": [
    "abstract type AbstractPerson end\n",
    "abstract type AbstractStudent <: AbstractPerson end\n",
    "\n",
    "struct Person <: AbstractPerson\n",
    "    name\n",
    "end\n",
    "\n",
    "struct Student <: AbstractStudent\n",
    "    name\n",
    "    grade\n",
    "end\n",
    "\n",
    "struct GraduateStudent <: AbstractStudent\n",
    "    name\n",
    "    grade\n",
    "end\n",
    "\n",
    "person_info(p::AbstractPerson) = println(p.name)\n",
    "person_info(s::AbstractStudent) = (println(s.name); println(s.grade))"
   ]
  },
  {
   "cell_type": "code",
   "execution_count": 21,
   "metadata": {},
   "outputs": [
    {
     "name": "stdout",
     "output_type": "stream",
     "text": [
      "Bob\n"
     ]
    }
   ],
   "source": [
    "person_info(Person(\"Bob\"))"
   ]
  },
  {
   "cell_type": "code",
   "execution_count": 22,
   "metadata": {},
   "outputs": [
    {
     "name": "stdout",
     "output_type": "stream",
     "text": [
      "Bob\n",
      "2\n"
     ]
    }
   ],
   "source": [
    "person_info(Student(\"Bob\",2))"
   ]
  },
  {
   "cell_type": "code",
   "execution_count": 23,
   "metadata": {},
   "outputs": [
    {
     "name": "stdout",
     "output_type": "stream",
     "text": [
      "Bob\n",
      "2\n"
     ]
    }
   ],
   "source": [
    "person_info(GraduateStudent(\"Bob\",2))"
   ]
  },
  {
   "cell_type": "markdown",
   "metadata": {},
   "source": [
    "**Distribution Dispatch Problem**"
   ]
  },
  {
   "cell_type": "code",
   "execution_count": 24,
   "metadata": {},
   "outputs": [
    {
     "name": "stdout",
     "output_type": "stream",
     "text": [
      "myquantile(dist, 0.75) = 6.274430698436519\n",
      "quantile(dist, 0.75) = 6.2744306984446885\n",
      "\n",
      "myquantile(dist, 0.75) = 0.6744897501960708\n",
      "quantile(dist, 0.75) = 0.6744897501960818\n",
      "\n",
      "myquantile(dist, 0.75) = 0.45418056477357555\n",
      "quantile(dist, 0.75) = 0.4541805647736157\n",
      "\n"
     ]
    }
   ],
   "source": [
    "using Distributions\n",
    "function myquantile(d::UnivariateDistribution, q::Number)\n",
    "    θ = mean(d)\n",
    "    tol = Inf\n",
    "    while tol > 1e-5\n",
    "        θold = θ\n",
    "        θ = θ - (cdf(d, θ) - q) / pdf(d, θ)\n",
    "        tol = abs(θold - θ)\n",
    "    end\n",
    "    θ\n",
    "end\n",
    "\n",
    "for dist in [Gamma(5, 1), Normal(0, 1), Beta(2, 4)]\n",
    "    @show myquantile(dist, .75)\n",
    "    @show quantile(dist, .75)\n",
    "    println()\n",
    "end"
   ]
  },
  {
   "cell_type": "code",
   "execution_count": null,
   "metadata": {},
   "outputs": [],
   "source": []
  }
 ],
 "metadata": {
  "kernelspec": {
   "display_name": "Julia 1.4.1",
   "language": "julia",
   "name": "julia-1.4"
  },
  "language_info": {
   "file_extension": ".jl",
   "mimetype": "application/julia",
   "name": "julia",
   "version": "1.4.1"
  }
 },
 "nbformat": 4,
 "nbformat_minor": 2
}
