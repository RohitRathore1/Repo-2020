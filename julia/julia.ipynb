{
  "nbformat": 4,
  "nbformat_minor": 0,
  "metadata": {
    "colab": {
      "name": "julia.ipynb",
      "provenance": [],
      "include_colab_link": true
    },
    "kernelspec": {
      "name": "julia-1.2",
      "display_name": "Julia 1.2"
    },
    "accelerator": "GPU"
  },
  "cells": [
    {
      "cell_type": "markdown",
      "metadata": {
        "id": "view-in-github",
        "colab_type": "text"
      },
      "source": [
        "<a href=\"https://colab.research.google.com/github/TeAmP0is0N/Repo-2020/blob/master/julia/julia.ipynb\" target=\"_parent\"><img src=\"https://colab.research.google.com/assets/colab-badge.svg\" alt=\"Open In Colab\"/></a>"
      ]
    },
    {
      "cell_type": "code",
      "metadata": {
        "id": "oMSuTc3pDlHv",
        "colab_type": "code",
        "colab": {
          "base_uri": "https://localhost:8080/",
          "height": 1000
        },
        "outputId": "e10feefd-34af-43e9-bae7-781c22f80410"
      },
      "source": [
        "!wget https://developer.nvidia.com/compute/cuda/9.0/Prod/local_installers/cuda-repo-ubuntu1604-9-0-local_9.0.176-1_amd64-deb\n",
        "!dpkg -i cuda-repo-ubuntu1604-9-0-local_9.0.176-1_amd64-deb\n",
        "!apt-key add /var/cuda-repo-9-0-local/7fa2af80.pub\n",
        "!apt update -q\n",
        "!apt install cuda gcc-6 g++-6 -y -q\n",
        "!ln -s /usr/bin/gcc-6 /usr/local/cuda/bin/gcc\n",
        "!ln -s /usr/bin/g++-6 /usr/local/cuda/bin/g++"
      ],
      "execution_count": 1,
      "outputs": [
        {
          "output_type": "stream",
          "text": [
            "--2020-05-27 14:47:53--  https://developer.nvidia.com/compute/cuda/9.0/Prod/local_installers/cuda-repo-ubuntu1604-9-0-local_9.0.176-1_amd64-deb\n",
            "Resolving developer.nvidia.com (developer.nvidia.com)... 152.199.16.29\n",
            "Connecting to developer.nvidia.com (developer.nvidia.com)|152.199.16.29|:443... connected.\n",
            "HTTP request sent, awaiting response... 302 Found\n",
            "Location: https://developer.download.nvidia.com/compute/cuda/9.0/secure/Prod/local_installers/cuda-repo-ubuntu1604-9-0-local_9.0.176-1_amd64.deb?dCJt_Sthuo-1urF-rSRmkTLeM2cdsgB_lMBc7N4k_Uj9T1nVSLH6OwHB3TMEH-U4ZUfj4N0bmmE2PSkM6GLLHCtE3PqfB01Qh5a4Zp0u-eAaqhEIekPd479bt941aDtHrafgRA5CdKCr8CL6bzej8ytSaPgDIdR6mem_jjFWJvnMwiHLLuvO_I4J_eTgrS9AKAIDh5-kqPgqo7sJZzhw [following]\n",
            "--2020-05-27 14:47:54--  https://developer.download.nvidia.com/compute/cuda/9.0/secure/Prod/local_installers/cuda-repo-ubuntu1604-9-0-local_9.0.176-1_amd64.deb?dCJt_Sthuo-1urF-rSRmkTLeM2cdsgB_lMBc7N4k_Uj9T1nVSLH6OwHB3TMEH-U4ZUfj4N0bmmE2PSkM6GLLHCtE3PqfB01Qh5a4Zp0u-eAaqhEIekPd479bt941aDtHrafgRA5CdKCr8CL6bzej8ytSaPgDIdR6mem_jjFWJvnMwiHLLuvO_I4J_eTgrS9AKAIDh5-kqPgqo7sJZzhw\n",
            "Resolving developer.download.nvidia.com (developer.download.nvidia.com)... 152.199.20.126\n",
            "Connecting to developer.download.nvidia.com (developer.download.nvidia.com)|152.199.20.126|:443... connected.\n",
            "HTTP request sent, awaiting response... 200 OK\n",
            "Length: 1212738714 (1.1G) [application/x-deb]\n",
            "Saving to: ‘cuda-repo-ubuntu1604-9-0-local_9.0.176-1_amd64-deb’\n",
            "\n",
            "cuda-repo-ubuntu160 100%[===================>]   1.13G   216MB/s    in 5.5s    \n",
            "\n",
            "2020-05-27 14:47:59 (211 MB/s) - ‘cuda-repo-ubuntu1604-9-0-local_9.0.176-1_amd64-deb’ saved [1212738714/1212738714]\n",
            "\n",
            "Selecting previously unselected package cuda-repo-ubuntu1604-9-0-local.\n",
            "(Reading database ... 144433 files and directories currently installed.)\n",
            "Preparing to unpack cuda-repo-ubuntu1604-9-0-local_9.0.176-1_amd64-deb ...\n",
            "Unpacking cuda-repo-ubuntu1604-9-0-local (9.0.176-1) ...\n",
            "Setting up cuda-repo-ubuntu1604-9-0-local (9.0.176-1) ...\n",
            "OK\n",
            "Get:1 file:/var/cuda-repo-9-0-local  InRelease\n",
            "Ign:1 file:/var/cuda-repo-9-0-local  InRelease\n",
            "Get:2 file:/var/cuda-repo-9-0-local  Release [574 B]\n",
            "Get:2 file:/var/cuda-repo-9-0-local  Release [574 B]\n",
            "Get:3 file:/var/cuda-repo-9-0-local  Release.gpg [819 B]\n",
            "Get:3 file:/var/cuda-repo-9-0-local  Release.gpg [819 B]\n",
            "Hit:4 http://ppa.launchpad.net/graphics-drivers/ppa/ubuntu bionic InRelease\n",
            "Get:5 http://security.ubuntu.com/ubuntu bionic-security InRelease [88.7 kB]\n",
            "Hit:6 http://archive.ubuntu.com/ubuntu bionic InRelease\n",
            "Get:7 http://ppa.launchpad.net/marutter/c2d4u3.5/ubuntu bionic InRelease [15.4 kB]\n",
            "Get:8 http://archive.ubuntu.com/ubuntu bionic-updates InRelease [88.7 kB]\n",
            "Get:9 http://archive.ubuntu.com/ubuntu bionic-backports InRelease [74.6 kB]\n",
            "Get:10 https://cloud.r-project.org/bin/linux/ubuntu bionic-cran35/ InRelease [3,626 B]\n",
            "Get:11 file:/var/cuda-repo-9-0-local  Packages [15.4 kB]\n",
            "Ign:12 https://developer.download.nvidia.com/compute/cuda/repos/ubuntu1804/x86_64  InRelease\n",
            "Ign:13 https://developer.download.nvidia.com/compute/machine-learning/repos/ubuntu1804/x86_64  InRelease\n",
            "Hit:14 https://developer.download.nvidia.com/compute/cuda/repos/ubuntu1804/x86_64  Release\n",
            "Hit:15 https://developer.download.nvidia.com/compute/machine-learning/repos/ubuntu1804/x86_64  Release\n",
            "Get:16 http://ppa.launchpad.net/marutter/c2d4u3.5/ubuntu bionic/main Sources [1,818 kB]\n",
            "Get:17 http://ppa.launchpad.net/marutter/c2d4u3.5/ubuntu bionic/main amd64 Packages [877 kB]\n",
            "Get:18 http://security.ubuntu.com/ubuntu bionic-security/universe amd64 Packages [852 kB]\n",
            "Get:19 http://security.ubuntu.com/ubuntu bionic-security/main amd64 Packages [931 kB]\n",
            "Get:20 http://security.ubuntu.com/ubuntu bionic-security/multiverse amd64 Packages [8,815 B]\n",
            "Get:21 http://security.ubuntu.com/ubuntu bionic-security/restricted amd64 Packages [59.3 kB]\n",
            "Get:22 http://archive.ubuntu.com/ubuntu bionic-updates/multiverse amd64 Packages [20.1 kB]\n",
            "Get:23 http://archive.ubuntu.com/ubuntu bionic-updates/main amd64 Packages [1,228 kB]\n",
            "Get:24 http://archive.ubuntu.com/ubuntu bionic-updates/restricted amd64 Packages [73.6 kB]\n",
            "Get:25 http://archive.ubuntu.com/ubuntu bionic-updates/universe amd64 Packages [1,385 kB]\n",
            "Get:26 https://cloud.r-project.org/bin/linux/ubuntu bionic-cran35/ Packages [92.5 kB]\n",
            "Fetched 7,617 kB in 2s (4,146 kB/s)\n",
            "Reading package lists...\n",
            "Building dependency tree...\n",
            "Reading state information...\n",
            "60 packages can be upgraded. Run 'apt list --upgradable' to see them.\n",
            "Reading package lists...\n",
            "Building dependency tree...\n",
            "Reading state information...\n",
            "The following additional packages will be installed:\n",
            "  cpp-6 cuda-10-2 cuda-command-line-tools-10-2 cuda-compiler-10-2\n",
            "  cuda-cudart-10-2 cuda-cudart-dev-10-2 cuda-cufft-10-2 cuda-cufft-dev-10-2\n",
            "  cuda-cuobjdump-10-2 cuda-cupti-10-2 cuda-cupti-dev-10-2 cuda-curand-10-2\n",
            "  cuda-curand-dev-10-2 cuda-cusolver-10-2 cuda-cusolver-dev-10-2\n",
            "  cuda-cusparse-10-2 cuda-cusparse-dev-10-2 cuda-demo-suite-10-2\n",
            "  cuda-documentation-10-2 cuda-driver-dev-10-2 cuda-gdb-10-2\n",
            "  cuda-libraries-10-2 cuda-libraries-dev-10-2 cuda-license-10-2\n",
            "  cuda-memcheck-10-2 cuda-misc-headers-10-2 cuda-npp-10-2 cuda-npp-dev-10-2\n",
            "  cuda-nsight-10-2 cuda-nsight-compute-10-2 cuda-nsight-systems-10-2\n",
            "  cuda-nvcc-10-2 cuda-nvdisasm-10-2 cuda-nvgraph-10-2 cuda-nvgraph-dev-10-2\n",
            "  cuda-nvjpeg-10-2 cuda-nvjpeg-dev-10-2 cuda-nvml-dev-10-2 cuda-nvprof-10-2\n",
            "  cuda-nvprune-10-2 cuda-nvrtc-10-2 cuda-nvrtc-dev-10-2 cuda-nvtx-10-2\n",
            "  cuda-nvvp-10-2 cuda-runtime-10-2 cuda-samples-10-2 cuda-sanitizer-api-10-2\n",
            "  cuda-toolkit-10-2 cuda-tools-10-2 cuda-visual-tools-10-2 gcc-6-base libasan3\n",
            "  libcublas-dev libcublas10 libgcc-6-dev libstdc++-6-dev\n",
            "Suggested packages:\n",
            "  gcc-6-locales g++-6-multilib gcc-6-doc libstdc++6-6-dbg gcc-6-multilib\n",
            "  libgcc1-dbg libgomp1-dbg libitm1-dbg libatomic1-dbg libasan3-dbg\n",
            "  liblsan0-dbg libtsan0-dbg libubsan0-dbg libcilkrts5-dbg libmpx2-dbg\n",
            "  libquadmath0-dbg libstdc++-6-doc\n",
            "The following NEW packages will be installed:\n",
            "  cpp-6 cuda cuda-10-2 cuda-command-line-tools-10-2 cuda-compiler-10-2\n",
            "  cuda-cudart-10-2 cuda-cudart-dev-10-2 cuda-cufft-10-2 cuda-cufft-dev-10-2\n",
            "  cuda-cuobjdump-10-2 cuda-cupti-10-2 cuda-cupti-dev-10-2 cuda-curand-10-2\n",
            "  cuda-curand-dev-10-2 cuda-cusolver-10-2 cuda-cusolver-dev-10-2\n",
            "  cuda-cusparse-10-2 cuda-cusparse-dev-10-2 cuda-demo-suite-10-2\n",
            "  cuda-documentation-10-2 cuda-driver-dev-10-2 cuda-gdb-10-2\n",
            "  cuda-libraries-10-2 cuda-libraries-dev-10-2 cuda-license-10-2\n",
            "  cuda-memcheck-10-2 cuda-misc-headers-10-2 cuda-npp-10-2 cuda-npp-dev-10-2\n",
            "  cuda-nsight-10-2 cuda-nsight-compute-10-2 cuda-nsight-systems-10-2\n",
            "  cuda-nvcc-10-2 cuda-nvdisasm-10-2 cuda-nvgraph-10-2 cuda-nvgraph-dev-10-2\n",
            "  cuda-nvjpeg-10-2 cuda-nvjpeg-dev-10-2 cuda-nvml-dev-10-2 cuda-nvprof-10-2\n",
            "  cuda-nvprune-10-2 cuda-nvrtc-10-2 cuda-nvrtc-dev-10-2 cuda-nvtx-10-2\n",
            "  cuda-nvvp-10-2 cuda-runtime-10-2 cuda-samples-10-2 cuda-sanitizer-api-10-2\n",
            "  cuda-toolkit-10-2 cuda-tools-10-2 cuda-visual-tools-10-2 g++-6 gcc-6\n",
            "  gcc-6-base libasan3 libgcc-6-dev libstdc++-6-dev\n",
            "The following packages will be upgraded:\n",
            "  libcublas-dev libcublas10\n",
            "2 upgraded, 57 newly installed, 0 to remove and 58 not upgraded.\n",
            "Need to get 1,453 MB of archives.\n",
            "After this operation, 3,373 MB of additional disk space will be used.\n",
            "Get:1 https://developer.download.nvidia.com/compute/cuda/repos/ubuntu1804/x86_64  cuda-license-10-2 10.2.89-1 [16.4 kB]\n",
            "Get:2 http://archive.ubuntu.com/ubuntu bionic-updates/universe amd64 gcc-6-base amd64 6.5.0-2ubuntu1~18.04 [16.7 kB]\n",
            "Get:3 https://developer.download.nvidia.com/compute/cuda/repos/ubuntu1804/x86_64  cuda-misc-headers-10-2 10.2.89-1 [1,111 kB]\n",
            "Get:4 http://archive.ubuntu.com/ubuntu bionic-updates/universe amd64 cpp-6 amd64 6.5.0-2ubuntu1~18.04 [6,396 kB]\n",
            "Get:5 https://developer.download.nvidia.com/compute/cuda/repos/ubuntu1804/x86_64  cuda-nvcc-10-2 10.2.89-1 [37.4 MB]\n",
            "Get:6 http://archive.ubuntu.com/ubuntu bionic-updates/universe amd64 libasan3 amd64 6.5.0-2ubuntu1~18.04 [313 kB]\n",
            "Get:7 http://archive.ubuntu.com/ubuntu bionic-updates/universe amd64 libgcc-6-dev amd64 6.5.0-2ubuntu1~18.04 [2,308 kB]\n",
            "Get:8 http://archive.ubuntu.com/ubuntu bionic-updates/universe amd64 gcc-6 amd64 6.5.0-2ubuntu1~18.04 [7,067 kB]\n",
            "Get:9 http://archive.ubuntu.com/ubuntu bionic-updates/universe amd64 libstdc++-6-dev amd64 6.5.0-2ubuntu1~18.04 [1,437 kB]\n",
            "Get:10 http://archive.ubuntu.com/ubuntu bionic-updates/universe amd64 g++-6 amd64 6.5.0-2ubuntu1~18.04 [7,213 kB]\n",
            "Get:11 https://developer.download.nvidia.com/compute/cuda/repos/ubuntu1804/x86_64  cuda-cuobjdump-10-2 10.2.89-1 [88.5 kB]\n",
            "Get:12 https://developer.download.nvidia.com/compute/cuda/repos/ubuntu1804/x86_64  cuda-nvprune-10-2 10.2.89-1 [39.5 kB]\n",
            "Get:13 https://developer.download.nvidia.com/compute/cuda/repos/ubuntu1804/x86_64  cuda-compiler-10-2 10.2.89-1 [2,530 B]\n",
            "Get:14 https://developer.download.nvidia.com/compute/cuda/repos/ubuntu1804/x86_64  cuda-nvdisasm-10-2 10.2.89-1 [22.2 MB]\n",
            "Get:15 https://developer.download.nvidia.com/compute/cuda/repos/ubuntu1804/x86_64  cuda-gdb-10-2 10.2.89-1 [2,769 kB]\n",
            "Get:16 https://developer.download.nvidia.com/compute/cuda/repos/ubuntu1804/x86_64  cuda-nvprof-10-2 10.2.89-1 [1,651 kB]\n",
            "Get:17 https://developer.download.nvidia.com/compute/cuda/repos/ubuntu1804/x86_64  cuda-sanitizer-api-10-2 10.2.89-1 [2,161 kB]\n",
            "Get:18 https://developer.download.nvidia.com/compute/cuda/repos/ubuntu1804/x86_64  cuda-memcheck-10-2 10.2.89-1 [139 kB]\n",
            "Get:19 https://developer.download.nvidia.com/compute/cuda/repos/ubuntu1804/x86_64  cuda-cudart-10-2 10.2.89-1 [111 kB]\n",
            "Get:20 https://developer.download.nvidia.com/compute/cuda/repos/ubuntu1804/x86_64  cuda-driver-dev-10-2 10.2.89-1 [11.8 kB]\n",
            "Get:21 https://developer.download.nvidia.com/compute/cuda/repos/ubuntu1804/x86_64  cuda-cudart-dev-10-2 10.2.89-1 [491 kB]\n",
            "Get:22 https://developer.download.nvidia.com/compute/cuda/repos/ubuntu1804/x86_64  cuda-cupti-10-2 10.2.89-1 [8,169 kB]\n",
            "Get:23 https://developer.download.nvidia.com/compute/cuda/repos/ubuntu1804/x86_64  cuda-cupti-dev-10-2 10.2.89-1 [2,197 kB]\n",
            "Get:24 https://developer.download.nvidia.com/compute/cuda/repos/ubuntu1804/x86_64  cuda-nvtx-10-2 10.2.89-1 [38.9 kB]\n",
            "Get:25 https://developer.download.nvidia.com/compute/cuda/repos/ubuntu1804/x86_64  cuda-command-line-tools-10-2 10.2.89-1 [27.0 kB]\n",
            "Get:26 https://developer.download.nvidia.com/compute/cuda/repos/ubuntu1804/x86_64  cuda-nsight-10-2 10.2.89-1 [2,582 B]\n",
            "Get:27 https://developer.download.nvidia.com/compute/cuda/repos/ubuntu1804/x86_64  cuda-nvvp-10-2 10.2.89-1 [2,532 B]\n",
            "Get:28 https://developer.download.nvidia.com/compute/cuda/repos/ubuntu1804/x86_64  cuda-nvrtc-10-2 10.2.89-1 [6,413 kB]\n",
            "Get:29 https://developer.download.nvidia.com/compute/cuda/repos/ubuntu1804/x86_64  cuda-nvrtc-dev-10-2 10.2.89-1 [8,822 B]\n",
            "Get:30 https://developer.download.nvidia.com/compute/cuda/repos/ubuntu1804/x86_64  cuda-cusolver-10-2 10.2.89-1 [85.6 MB]\n",
            "Get:31 https://developer.download.nvidia.com/compute/cuda/repos/ubuntu1804/x86_64  cuda-cusolver-dev-10-2 10.2.89-1 [15.2 MB]\n",
            "Get:32 https://developer.download.nvidia.com/compute/cuda/repos/ubuntu1804/x86_64  libcublas10 10.2.2.89-1 [42.2 MB]\n",
            "Get:33 https://developer.download.nvidia.com/compute/cuda/repos/ubuntu1804/x86_64  libcublas-dev 10.2.2.89-1 [42.3 MB]\n",
            "Get:34 https://developer.download.nvidia.com/compute/cuda/repos/ubuntu1804/x86_64  cuda-cufft-10-2 10.2.89-1 [87.8 MB]\n",
            "Get:35 https://developer.download.nvidia.com/compute/cuda/repos/ubuntu1804/x86_64  cuda-cufft-dev-10-2 10.2.89-1 [164 MB]\n",
            "Get:36 https://developer.download.nvidia.com/compute/cuda/repos/ubuntu1804/x86_64  cuda-curand-10-2 10.2.89-1 [38.9 MB]\n",
            "Get:37 https://developer.download.nvidia.com/compute/cuda/repos/ubuntu1804/x86_64  cuda-curand-dev-10-2 10.2.89-1 [39.1 MB]\n",
            "Get:38 https://developer.download.nvidia.com/compute/cuda/repos/ubuntu1804/x86_64  cuda-cusparse-10-2 10.2.89-1 [59.2 MB]\n",
            "Get:39 https://developer.download.nvidia.com/compute/cuda/repos/ubuntu1804/x86_64  cuda-cusparse-dev-10-2 10.2.89-1 [59.7 MB]\n",
            "Get:40 https://developer.download.nvidia.com/compute/cuda/repos/ubuntu1804/x86_64  cuda-npp-10-2 10.2.89-1 [56.7 MB]\n",
            "Get:41 https://developer.download.nvidia.com/compute/cuda/repos/ubuntu1804/x86_64  cuda-npp-dev-10-2 10.2.89-1 [57.6 MB]\n",
            "Get:42 https://developer.download.nvidia.com/compute/cuda/repos/ubuntu1804/x86_64  cuda-nvml-dev-10-2 10.2.89-1 [53.8 kB]\n",
            "Get:43 https://developer.download.nvidia.com/compute/cuda/repos/ubuntu1804/x86_64  cuda-nvjpeg-10-2 10.2.89-1 [1,274 kB]\n",
            "Get:44 https://developer.download.nvidia.com/compute/cuda/repos/ubuntu1804/x86_64  cuda-nvjpeg-dev-10-2 10.2.89-1 [1,213 kB]\n",
            "Get:45 https://developer.download.nvidia.com/compute/cuda/repos/ubuntu1804/x86_64  cuda-nsight-compute-10-2 10.2.89-1 [3,712 B]\n",
            "Get:46 https://developer.download.nvidia.com/compute/cuda/repos/ubuntu1804/x86_64  cuda-nsight-systems-10-2 10.2.89-1 [3,130 B]\n",
            "Get:47 https://developer.download.nvidia.com/compute/cuda/repos/ubuntu1804/x86_64  cuda-nvgraph-10-2 10.2.89-1 [44.5 MB]\n",
            "Get:48 https://developer.download.nvidia.com/compute/cuda/repos/ubuntu1804/x86_64  cuda-nvgraph-dev-10-2 10.2.89-1 [35.2 MB]\n",
            "Get:49 https://developer.download.nvidia.com/compute/cuda/repos/ubuntu1804/x86_64  cuda-visual-tools-10-2 10.2.89-1 [389 MB]\n",
            "Get:50 https://developer.download.nvidia.com/compute/cuda/repos/ubuntu1804/x86_64  cuda-tools-10-2 10.2.89-1 [2,496 B]\n",
            "Get:51 https://developer.download.nvidia.com/compute/cuda/repos/ubuntu1804/x86_64  cuda-samples-10-2 10.2.89-1 [65.6 MB]\n",
            "Get:52 https://developer.download.nvidia.com/compute/cuda/repos/ubuntu1804/x86_64  cuda-documentation-10-2 10.2.89-1 [54.1 MB]\n",
            "Get:53 https://developer.download.nvidia.com/compute/cuda/repos/ubuntu1804/x86_64  cuda-libraries-dev-10-2 10.2.89-1 [2,614 B]\n",
            "Get:54 https://developer.download.nvidia.com/compute/cuda/repos/ubuntu1804/x86_64  cuda-libraries-10-2 10.2.89-1 [2,584 B]\n",
            "Get:55 https://developer.download.nvidia.com/compute/cuda/repos/ubuntu1804/x86_64  cuda-toolkit-10-2 10.2.89-1 [2,830 B]\n",
            "Get:56 https://developer.download.nvidia.com/compute/cuda/repos/ubuntu1804/x86_64  cuda-runtime-10-2 10.2.89-1 [2,532 B]\n",
            "Get:57 https://developer.download.nvidia.com/compute/cuda/repos/ubuntu1804/x86_64  cuda-demo-suite-10-2 10.2.89-1 [3,880 kB]\n",
            "Get:58 https://developer.download.nvidia.com/compute/cuda/repos/ubuntu1804/x86_64  cuda-10-2 10.2.89-1 [2,558 B]\n",
            "Get:59 https://developer.download.nvidia.com/compute/cuda/repos/ubuntu1804/x86_64  cuda 10.2.89-1 [2,514 B]\n",
            "Fetched 1,453 MB in 23s (63.3 MB/s)\n",
            "Extracting templates from packages: 100%\n",
            "Selecting previously unselected package gcc-6-base:amd64.\n",
            "(Reading database ... 144492 files and directories currently installed.)\n",
            "Preparing to unpack .../00-gcc-6-base_6.5.0-2ubuntu1~18.04_amd64.deb ...\n",
            "Unpacking gcc-6-base:amd64 (6.5.0-2ubuntu1~18.04) ...\n",
            "Selecting previously unselected package cpp-6.\n",
            "Preparing to unpack .../01-cpp-6_6.5.0-2ubuntu1~18.04_amd64.deb ...\n",
            "Unpacking cpp-6 (6.5.0-2ubuntu1~18.04) ...\n",
            "Selecting previously unselected package cuda-license-10-2.\n",
            "Preparing to unpack .../02-cuda-license-10-2_10.2.89-1_amd64.deb ...\n",
            "Unpacking cuda-license-10-2 (10.2.89-1) ...\n",
            "Selecting previously unselected package cuda-misc-headers-10-2.\n",
            "Preparing to unpack .../03-cuda-misc-headers-10-2_10.2.89-1_amd64.deb ...\n",
            "Unpacking cuda-misc-headers-10-2 (10.2.89-1) ...\n",
            "Selecting previously unselected package cuda-nvcc-10-2.\n",
            "Preparing to unpack .../04-cuda-nvcc-10-2_10.2.89-1_amd64.deb ...\n",
            "Unpacking cuda-nvcc-10-2 (10.2.89-1) ...\n",
            "Selecting previously unselected package cuda-cuobjdump-10-2.\n",
            "Preparing to unpack .../05-cuda-cuobjdump-10-2_10.2.89-1_amd64.deb ...\n",
            "Unpacking cuda-cuobjdump-10-2 (10.2.89-1) ...\n",
            "Selecting previously unselected package cuda-nvprune-10-2.\n",
            "Preparing to unpack .../06-cuda-nvprune-10-2_10.2.89-1_amd64.deb ...\n",
            "Unpacking cuda-nvprune-10-2 (10.2.89-1) ...\n",
            "Selecting previously unselected package cuda-compiler-10-2.\n",
            "Preparing to unpack .../07-cuda-compiler-10-2_10.2.89-1_amd64.deb ...\n",
            "Unpacking cuda-compiler-10-2 (10.2.89-1) ...\n",
            "Selecting previously unselected package cuda-nvdisasm-10-2.\n",
            "Preparing to unpack .../08-cuda-nvdisasm-10-2_10.2.89-1_amd64.deb ...\n",
            "Unpacking cuda-nvdisasm-10-2 (10.2.89-1) ...\n",
            "Selecting previously unselected package cuda-gdb-10-2.\n",
            "Preparing to unpack .../09-cuda-gdb-10-2_10.2.89-1_amd64.deb ...\n",
            "Unpacking cuda-gdb-10-2 (10.2.89-1) ...\n",
            "Selecting previously unselected package cuda-nvprof-10-2.\n",
            "Preparing to unpack .../10-cuda-nvprof-10-2_10.2.89-1_amd64.deb ...\n",
            "Unpacking cuda-nvprof-10-2 (10.2.89-1) ...\n",
            "Selecting previously unselected package cuda-sanitizer-api-10-2.\n",
            "Preparing to unpack .../11-cuda-sanitizer-api-10-2_10.2.89-1_amd64.deb ...\n",
            "Unpacking cuda-sanitizer-api-10-2 (10.2.89-1) ...\n",
            "Selecting previously unselected package cuda-memcheck-10-2.\n",
            "Preparing to unpack .../12-cuda-memcheck-10-2_10.2.89-1_amd64.deb ...\n",
            "Unpacking cuda-memcheck-10-2 (10.2.89-1) ...\n",
            "Selecting previously unselected package cuda-cudart-10-2.\n",
            "Preparing to unpack .../13-cuda-cudart-10-2_10.2.89-1_amd64.deb ...\n",
            "Unpacking cuda-cudart-10-2 (10.2.89-1) ...\n",
            "Selecting previously unselected package cuda-driver-dev-10-2.\n",
            "Preparing to unpack .../14-cuda-driver-dev-10-2_10.2.89-1_amd64.deb ...\n",
            "Unpacking cuda-driver-dev-10-2 (10.2.89-1) ...\n",
            "Selecting previously unselected package cuda-cudart-dev-10-2.\n",
            "Preparing to unpack .../15-cuda-cudart-dev-10-2_10.2.89-1_amd64.deb ...\n",
            "Unpacking cuda-cudart-dev-10-2 (10.2.89-1) ...\n",
            "Selecting previously unselected package cuda-cupti-10-2.\n",
            "Preparing to unpack .../16-cuda-cupti-10-2_10.2.89-1_amd64.deb ...\n",
            "Unpacking cuda-cupti-10-2 (10.2.89-1) ...\n",
            "Selecting previously unselected package cuda-cupti-dev-10-2.\n",
            "Preparing to unpack .../17-cuda-cupti-dev-10-2_10.2.89-1_amd64.deb ...\n",
            "Unpacking cuda-cupti-dev-10-2 (10.2.89-1) ...\n",
            "Selecting previously unselected package cuda-nvtx-10-2.\n",
            "Preparing to unpack .../18-cuda-nvtx-10-2_10.2.89-1_amd64.deb ...\n",
            "Unpacking cuda-nvtx-10-2 (10.2.89-1) ...\n",
            "Selecting previously unselected package cuda-command-line-tools-10-2.\n",
            "Preparing to unpack .../19-cuda-command-line-tools-10-2_10.2.89-1_amd64.deb ...\n",
            "Unpacking cuda-command-line-tools-10-2 (10.2.89-1) ...\n",
            "Selecting previously unselected package cuda-nsight-10-2.\n",
            "Preparing to unpack .../20-cuda-nsight-10-2_10.2.89-1_amd64.deb ...\n",
            "Unpacking cuda-nsight-10-2 (10.2.89-1) ...\n",
            "Selecting previously unselected package cuda-nvvp-10-2.\n",
            "Preparing to unpack .../21-cuda-nvvp-10-2_10.2.89-1_amd64.deb ...\n",
            "Unpacking cuda-nvvp-10-2 (10.2.89-1) ...\n",
            "Selecting previously unselected package cuda-nvrtc-10-2.\n",
            "Preparing to unpack .../22-cuda-nvrtc-10-2_10.2.89-1_amd64.deb ...\n",
            "Unpacking cuda-nvrtc-10-2 (10.2.89-1) ...\n",
            "Selecting previously unselected package cuda-nvrtc-dev-10-2.\n",
            "Preparing to unpack .../23-cuda-nvrtc-dev-10-2_10.2.89-1_amd64.deb ...\n",
            "Unpacking cuda-nvrtc-dev-10-2 (10.2.89-1) ...\n",
            "Selecting previously unselected package cuda-cusolver-10-2.\n",
            "Preparing to unpack .../24-cuda-cusolver-10-2_10.2.89-1_amd64.deb ...\n",
            "Unpacking cuda-cusolver-10-2 (10.2.89-1) ...\n",
            "Selecting previously unselected package cuda-cusolver-dev-10-2.\n",
            "Preparing to unpack .../25-cuda-cusolver-dev-10-2_10.2.89-1_amd64.deb ...\n",
            "Unpacking cuda-cusolver-dev-10-2 (10.2.89-1) ...\n",
            "Preparing to unpack .../26-libcublas10_10.2.2.89-1_amd64.deb ...\n",
            "Unpacking libcublas10 (10.2.2.89-1) over (10.2.1.243-1) ...\n",
            "Preparing to unpack .../27-libcublas-dev_10.2.2.89-1_amd64.deb ...\n",
            "Unpacking libcublas-dev (10.2.2.89-1) over (10.2.1.243-1) ...\n",
            "Selecting previously unselected package cuda-cufft-10-2.\n",
            "Preparing to unpack .../28-cuda-cufft-10-2_10.2.89-1_amd64.deb ...\n",
            "Unpacking cuda-cufft-10-2 (10.2.89-1) ...\n",
            "Selecting previously unselected package cuda-cufft-dev-10-2.\n",
            "Preparing to unpack .../29-cuda-cufft-dev-10-2_10.2.89-1_amd64.deb ...\n",
            "Unpacking cuda-cufft-dev-10-2 (10.2.89-1) ...\n",
            "Selecting previously unselected package cuda-curand-10-2.\n",
            "Preparing to unpack .../30-cuda-curand-10-2_10.2.89-1_amd64.deb ...\n",
            "Unpacking cuda-curand-10-2 (10.2.89-1) ...\n",
            "Selecting previously unselected package cuda-curand-dev-10-2.\n",
            "Preparing to unpack .../31-cuda-curand-dev-10-2_10.2.89-1_amd64.deb ...\n",
            "Unpacking cuda-curand-dev-10-2 (10.2.89-1) ...\n",
            "Selecting previously unselected package cuda-cusparse-10-2.\n",
            "Preparing to unpack .../32-cuda-cusparse-10-2_10.2.89-1_amd64.deb ...\n",
            "Unpacking cuda-cusparse-10-2 (10.2.89-1) ...\n",
            "Selecting previously unselected package cuda-cusparse-dev-10-2.\n",
            "Preparing to unpack .../33-cuda-cusparse-dev-10-2_10.2.89-1_amd64.deb ...\n",
            "Unpacking cuda-cusparse-dev-10-2 (10.2.89-1) ...\n",
            "Selecting previously unselected package cuda-npp-10-2.\n",
            "Preparing to unpack .../34-cuda-npp-10-2_10.2.89-1_amd64.deb ...\n",
            "Unpacking cuda-npp-10-2 (10.2.89-1) ...\n",
            "Selecting previously unselected package cuda-npp-dev-10-2.\n",
            "Preparing to unpack .../35-cuda-npp-dev-10-2_10.2.89-1_amd64.deb ...\n",
            "Unpacking cuda-npp-dev-10-2 (10.2.89-1) ...\n",
            "Selecting previously unselected package cuda-nvml-dev-10-2.\n",
            "Preparing to unpack .../36-cuda-nvml-dev-10-2_10.2.89-1_amd64.deb ...\n",
            "Unpacking cuda-nvml-dev-10-2 (10.2.89-1) ...\n",
            "Selecting previously unselected package cuda-nvjpeg-10-2.\n",
            "Preparing to unpack .../37-cuda-nvjpeg-10-2_10.2.89-1_amd64.deb ...\n",
            "Unpacking cuda-nvjpeg-10-2 (10.2.89-1) ...\n",
            "Selecting previously unselected package cuda-nvjpeg-dev-10-2.\n",
            "Preparing to unpack .../38-cuda-nvjpeg-dev-10-2_10.2.89-1_amd64.deb ...\n",
            "Unpacking cuda-nvjpeg-dev-10-2 (10.2.89-1) ...\n",
            "Selecting previously unselected package cuda-nsight-compute-10-2.\n",
            "Preparing to unpack .../39-cuda-nsight-compute-10-2_10.2.89-1_amd64.deb ...\n",
            "Unpacking cuda-nsight-compute-10-2 (10.2.89-1) ...\n",
            "Selecting previously unselected package cuda-nsight-systems-10-2.\n",
            "Preparing to unpack .../40-cuda-nsight-systems-10-2_10.2.89-1_amd64.deb ...\n",
            "Unpacking cuda-nsight-systems-10-2 (10.2.89-1) ...\n",
            "Selecting previously unselected package cuda-nvgraph-10-2.\n",
            "Preparing to unpack .../41-cuda-nvgraph-10-2_10.2.89-1_amd64.deb ...\n",
            "Unpacking cuda-nvgraph-10-2 (10.2.89-1) ...\n",
            "Selecting previously unselected package cuda-nvgraph-dev-10-2.\n",
            "Preparing to unpack .../42-cuda-nvgraph-dev-10-2_10.2.89-1_amd64.deb ...\n",
            "Unpacking cuda-nvgraph-dev-10-2 (10.2.89-1) ...\n",
            "Selecting previously unselected package cuda-visual-tools-10-2.\n",
            "Preparing to unpack .../43-cuda-visual-tools-10-2_10.2.89-1_amd64.deb ...\n",
            "Unpacking cuda-visual-tools-10-2 (10.2.89-1) ...\n",
            "Selecting previously unselected package cuda-tools-10-2.\n",
            "Preparing to unpack .../44-cuda-tools-10-2_10.2.89-1_amd64.deb ...\n",
            "Unpacking cuda-tools-10-2 (10.2.89-1) ...\n",
            "Selecting previously unselected package cuda-samples-10-2.\n",
            "Preparing to unpack .../45-cuda-samples-10-2_10.2.89-1_amd64.deb ...\n",
            "Unpacking cuda-samples-10-2 (10.2.89-1) ...\n",
            "Selecting previously unselected package cuda-documentation-10-2.\n",
            "Preparing to unpack .../46-cuda-documentation-10-2_10.2.89-1_amd64.deb ...\n",
            "Unpacking cuda-documentation-10-2 (10.2.89-1) ...\n",
            "Selecting previously unselected package cuda-libraries-dev-10-2.\n",
            "Preparing to unpack .../47-cuda-libraries-dev-10-2_10.2.89-1_amd64.deb ...\n",
            "Unpacking cuda-libraries-dev-10-2 (10.2.89-1) ...\n",
            "Selecting previously unselected package cuda-libraries-10-2.\n",
            "Preparing to unpack .../48-cuda-libraries-10-2_10.2.89-1_amd64.deb ...\n",
            "Unpacking cuda-libraries-10-2 (10.2.89-1) ...\n",
            "Selecting previously unselected package cuda-toolkit-10-2.\n",
            "Preparing to unpack .../49-cuda-toolkit-10-2_10.2.89-1_amd64.deb ...\n",
            "Unpacking cuda-toolkit-10-2 (10.2.89-1) ...\n",
            "Selecting previously unselected package cuda-runtime-10-2.\n",
            "Preparing to unpack .../50-cuda-runtime-10-2_10.2.89-1_amd64.deb ...\n",
            "Unpacking cuda-runtime-10-2 (10.2.89-1) ...\n",
            "Selecting previously unselected package cuda-demo-suite-10-2.\n",
            "Preparing to unpack .../51-cuda-demo-suite-10-2_10.2.89-1_amd64.deb ...\n",
            "Unpacking cuda-demo-suite-10-2 (10.2.89-1) ...\n",
            "Selecting previously unselected package cuda-10-2.\n",
            "Preparing to unpack .../52-cuda-10-2_10.2.89-1_amd64.deb ...\n",
            "Unpacking cuda-10-2 (10.2.89-1) ...\n",
            "Selecting previously unselected package cuda.\n",
            "Preparing to unpack .../53-cuda_10.2.89-1_amd64.deb ...\n",
            "Unpacking cuda (10.2.89-1) ...\n",
            "Selecting previously unselected package libasan3:amd64.\n",
            "Preparing to unpack .../54-libasan3_6.5.0-2ubuntu1~18.04_amd64.deb ...\n",
            "Unpacking libasan3:amd64 (6.5.0-2ubuntu1~18.04) ...\n",
            "Selecting previously unselected package libgcc-6-dev:amd64.\n",
            "Preparing to unpack .../55-libgcc-6-dev_6.5.0-2ubuntu1~18.04_amd64.deb ...\n",
            "Unpacking libgcc-6-dev:amd64 (6.5.0-2ubuntu1~18.04) ...\n",
            "Selecting previously unselected package gcc-6.\n",
            "Preparing to unpack .../56-gcc-6_6.5.0-2ubuntu1~18.04_amd64.deb ...\n",
            "Unpacking gcc-6 (6.5.0-2ubuntu1~18.04) ...\n",
            "Selecting previously unselected package libstdc++-6-dev:amd64.\n",
            "Preparing to unpack .../57-libstdc++-6-dev_6.5.0-2ubuntu1~18.04_amd64.deb ...\n",
            "Unpacking libstdc++-6-dev:amd64 (6.5.0-2ubuntu1~18.04) ...\n",
            "Selecting previously unselected package g++-6.\n",
            "Preparing to unpack .../58-g++-6_6.5.0-2ubuntu1~18.04_amd64.deb ...\n",
            "Unpacking g++-6 (6.5.0-2ubuntu1~18.04) ...\n",
            "Setting up cuda-license-10-2 (10.2.89-1) ...\n",
            "*** LICENSE AGREEMENT ***\n",
            "By using this software you agree to fully comply with the terms and \n",
            "conditions of the EULA (End User License Agreement). The EULA is located\n",
            "at /usr/local/cuda-10.2/doc/EULA.txt. The EULA can also be found at\n",
            "http://docs.nvidia.com/cuda/eula/index.html. If you do not agree to the\n",
            "terms and conditions of the EULA, do not use the software.\n",
            "\n",
            "Setting up gcc-6-base:amd64 (6.5.0-2ubuntu1~18.04) ...\n",
            "Setting up cuda-nvgraph-10-2 (10.2.89-1) ...\n",
            "Setting up cuda-nvprune-10-2 (10.2.89-1) ...\n",
            "Setting up cuda-nvrtc-10-2 (10.2.89-1) ...\n",
            "Setting up cuda-nvtx-10-2 (10.2.89-1) ...\n",
            "Setting up cuda-nvjpeg-10-2 (10.2.89-1) ...\n",
            "Setting up libcublas10 (10.2.2.89-1) ...\n",
            "Setting up libcublas-dev (10.2.2.89-1) ...\n",
            "Setting up cuda-cufft-10-2 (10.2.89-1) ...\n",
            "Setting up cuda-nsight-compute-10-2 (10.2.89-1) ...\n",
            "Setting up cuda-cusparse-10-2 (10.2.89-1) ...\n",
            "Setting up cuda-cuobjdump-10-2 (10.2.89-1) ...\n",
            "Setting up cpp-6 (6.5.0-2ubuntu1~18.04) ...\n",
            "Setting up cuda-sanitizer-api-10-2 (10.2.89-1) ...\n",
            "Setting up cuda-nvjpeg-dev-10-2 (10.2.89-1) ...\n",
            "Setting up cuda-cusolver-10-2 (10.2.89-1) ...\n",
            "Setting up cuda-misc-headers-10-2 (10.2.89-1) ...\n",
            "Setting up cuda-nvvp-10-2 (10.2.89-1) ...\n",
            "Setting up cuda-curand-10-2 (10.2.89-1) ...\n",
            "Setting up cuda-cudart-10-2 (10.2.89-1) ...\n",
            "Setting up cuda-npp-10-2 (10.2.89-1) ...\n",
            "Setting up cuda-cufft-dev-10-2 (10.2.89-1) ...\n",
            "Setting up cuda-libraries-10-2 (10.2.89-1) ...\n",
            "Setting up cuda-memcheck-10-2 (10.2.89-1) ...\n",
            "Setting up libasan3:amd64 (6.5.0-2ubuntu1~18.04) ...\n",
            "Setting up libgcc-6-dev:amd64 (6.5.0-2ubuntu1~18.04) ...\n",
            "Setting up libstdc++-6-dev:amd64 (6.5.0-2ubuntu1~18.04) ...\n",
            "Setting up cuda-nvrtc-dev-10-2 (10.2.89-1) ...\n",
            "Setting up cuda-driver-dev-10-2 (10.2.89-1) ...\n",
            "Setting up cuda-npp-dev-10-2 (10.2.89-1) ...\n",
            "Setting up cuda-nsight-systems-10-2 (10.2.89-1) ...\n",
            "Setting up cuda-nsight-10-2 (10.2.89-1) ...\n",
            "Setting up cuda-nvdisasm-10-2 (10.2.89-1) ...\n",
            "Setting up cuda-nvml-dev-10-2 (10.2.89-1) ...\n",
            "Setting up cuda-nvgraph-dev-10-2 (10.2.89-1) ...\n",
            "Setting up cuda-nvcc-10-2 (10.2.89-1) ...\n",
            "Setting up cuda-nvprof-10-2 (10.2.89-1) ...\n",
            "Setting up cuda-cusparse-dev-10-2 (10.2.89-1) ...\n",
            "Setting up cuda-compiler-10-2 (10.2.89-1) ...\n",
            "Setting up cuda-runtime-10-2 (10.2.89-1) ...\n",
            "Setting up cuda-curand-dev-10-2 (10.2.89-1) ...\n",
            "Setting up gcc-6 (6.5.0-2ubuntu1~18.04) ...\n",
            "Setting up g++-6 (6.5.0-2ubuntu1~18.04) ...\n",
            "Setting up cuda-cusolver-dev-10-2 (10.2.89-1) ...\n",
            "Setting up cuda-demo-suite-10-2 (10.2.89-1) ...\n",
            "Setting up cuda-gdb-10-2 (10.2.89-1) ...\n",
            "Setting up cuda-cudart-dev-10-2 (10.2.89-1) ...\n",
            "Setting up cuda-libraries-dev-10-2 (10.2.89-1) ...\n",
            "Setting up cuda-visual-tools-10-2 (10.2.89-1) ...\n",
            "Setting up cuda-samples-10-2 (10.2.89-1) ...\n",
            "Setting up cuda-cupti-10-2 (10.2.89-1) ...\n",
            "Setting up cuda-documentation-10-2 (10.2.89-1) ...\n",
            "Setting up cuda-cupti-dev-10-2 (10.2.89-1) ...\n",
            "Setting up cuda-command-line-tools-10-2 (10.2.89-1) ...\n",
            "Setting up cuda-tools-10-2 (10.2.89-1) ...\n",
            "Setting up cuda-toolkit-10-2 (10.2.89-1) ...\n",
            "Setting up cuda-10-2 (10.2.89-1) ...\n",
            "Setting up cuda (10.2.89-1) ...\n",
            "Processing triggers for libc-bin (2.27-3ubuntu1) ...\n",
            "/sbin/ldconfig.real: /usr/local/lib/python3.6/dist-packages/ideep4py/lib/libmkldnn.so.0 is not a symbolic link\n",
            "\n",
            "Processing triggers for man-db (2.8.3-2ubuntu0.1) ...\n"
          ],
          "name": "stdout"
        }
      ]
    },
    {
      "cell_type": "code",
      "metadata": {
        "id": "6w3GiPZTobSe",
        "colab_type": "code",
        "colab": {
          "base_uri": "https://localhost:8080/",
          "height": 1000
        },
        "outputId": "bb69b790-f513-40ee-f033-95c6985f60e2"
      },
      "source": [
        "!curl -sSL \"https://julialang-s3.julialang.org/bin/linux/x64/1.2/julia-1.2.0-linux-x86_64.tar.gz\" -o julia.tar.gz\n",
        "!tar -xzf julia.tar.gz -C /usr --strip-components 1\n",
        "!rm -rf julia.tar.gz*\n",
        "!julia -e 'using Pkg; pkg\"add IJulia; add CuArrays; add Flux; precompile\"'"
      ],
      "execution_count": 2,
      "outputs": [
        {
          "output_type": "stream",
          "text": [
            "   Cloning default registries into `~/.julia`\n",
            "   Cloning registry from \"https://github.com/JuliaRegistries/General.git\"\n",
            "\u001b[2K\u001b[?25h     Added registry `General` to `~/.julia/registries/General`\n",
            " Resolving package versions...\n",
            " Installed VersionParsing ── v1.2.0\n",
            " Installed Parsers ───────── v1.0.4\n",
            " Installed ZMQ ───────────── v1.1.0\n",
            " Installed JSON ──────────── v0.21.0\n",
            " Installed BinaryProvider ── v0.5.10\n",
            " Installed MbedTLS ───────── v0.7.0\n",
            " Installed Conda ─────────── v1.4.1\n",
            " Installed IJulia ────────── v1.21.2\n",
            " Installed SoftGlobalScope ─ v1.0.10\n",
            "  Updating `~/.julia/environments/v1.2/Project.toml`\n",
            "  [7073ff75] + IJulia v1.21.2\n",
            "  Updating `~/.julia/environments/v1.2/Manifest.toml`\n",
            "  [b99e7846] + BinaryProvider v0.5.10\n",
            "  [8f4d0f93] + Conda v1.4.1\n",
            "  [7073ff75] + IJulia v1.21.2\n",
            "  [682c06a0] + JSON v0.21.0\n",
            "  [739be429] + MbedTLS v0.7.0\n",
            "  [69de0a69] + Parsers v1.0.4\n",
            "  [b85f4697] + SoftGlobalScope v1.0.10\n",
            "  [81def892] + VersionParsing v1.2.0\n",
            "  [c2297ded] + ZMQ v1.1.0\n",
            "  [2a0f44e3] + Base64 \n",
            "  [ade2ca70] + Dates \n",
            "  [8ba89e20] + Distributed \n",
            "  [7b1f6079] + FileWatching \n",
            "  [b77e0a4c] + InteractiveUtils \n",
            "  [76f85450] + LibGit2 \n",
            "  [8f399da3] + Libdl \n",
            "  [56ddb016] + Logging \n",
            "  [d6f4376e] + Markdown \n",
            "  [a63ad114] + Mmap \n",
            "  [44cfe95a] + Pkg \n",
            "  [de0858da] + Printf \n",
            "  [3fa0cd96] + REPL \n",
            "  [9a3f8284] + Random \n",
            "  [ea8e919c] + SHA \n",
            "  [9e88b42a] + Serialization \n",
            "  [6462fe0b] + Sockets \n",
            "  [8dfed614] + Test \n",
            "  [cf7118a7] + UUIDs \n",
            "  [4ec0a83e] + Unicode \n",
            "  Building Conda ──→ `~/.julia/packages/Conda/3rPhK/deps/build.log`\n",
            "  Building ZMQ ────→ `~/.julia/packages/ZMQ/ItfqT/deps/build.log`\n",
            "  Building MbedTLS → `~/.julia/packages/MbedTLS/a1JFn/deps/build.log`\n",
            "  Building IJulia ─→ `~/.julia/packages/IJulia/DrVMH/deps/build.log`\n",
            " Resolving package versions...\n",
            " Installed AbstractFFTs ─────── v0.5.0\n",
            " Installed TimerOutputs ─────── v0.5.5\n",
            " Installed Adapt ────────────── v1.0.1\n",
            " Installed Requires ─────────── v1.0.1\n",
            " Installed OrderedCollections ─ v1.2.0\n",
            " Installed CUDAdrv ──────────── v5.1.0\n",
            " Installed NNlib ────────────── v0.6.6\n",
            " Installed CUDAnative ───────── v2.7.0\n",
            " Installed CuArrays ─────────── v1.6.0\n",
            " Installed DataStructures ───── v0.17.17\n",
            " Installed GPUArrays ────────── v2.0.1\n",
            " Installed CUDAapi ──────────── v2.1.0\n",
            " Installed CEnum ────────────── v0.2.0\n",
            " Installed MacroTools ───────── v0.5.5\n",
            " Installed LLVM ─────────────── v1.5.1\n",
            "  Updating `~/.julia/environments/v1.2/Project.toml`\n",
            "  [3a865a2d] + CuArrays v1.6.0\n",
            "  Updating `~/.julia/environments/v1.2/Manifest.toml`\n",
            "  [621f4979] + AbstractFFTs v0.5.0\n",
            "  [79e6a3ab] + Adapt v1.0.1\n",
            "  [fa961155] + CEnum v0.2.0\n",
            "  [3895d2a7] + CUDAapi v2.1.0\n",
            "  [c5f51814] + CUDAdrv v5.1.0\n",
            "  [be33ccc6] + CUDAnative v2.7.0\n",
            "  [3a865a2d] + CuArrays v1.6.0\n",
            "  [864edb3b] + DataStructures v0.17.17\n",
            "  [0c68f7d7] + GPUArrays v2.0.1\n",
            "  [929cbde3] + LLVM v1.5.1\n",
            "  [1914dd2f] + MacroTools v0.5.5\n",
            "  [872c559c] + NNlib v0.6.6\n",
            "  [bac558e1] + OrderedCollections v1.2.0\n",
            "  [ae029012] + Requires v1.0.1\n",
            "  [a759f4b9] + TimerOutputs v0.5.5\n",
            "  [37e2e46d] + LinearAlgebra \n",
            "  [2f01184e] + SparseArrays \n",
            "  [10745b16] + Statistics \n",
            "  Building NNlib → `~/.julia/packages/NNlib/FAI3o/deps/build.log`\n",
            " Resolving package versions...\n",
            " Installed DataAPI ────────────── v1.3.0\n",
            " Installed Missings ───────────── v0.4.3\n",
            " Installed URIParser ──────────── v0.4.1\n",
            " Installed CommonSubexpressions ─ v0.2.0\n",
            " Installed IRTools ────────────── v0.3.3\n",
            " Installed Flux ───────────────── v0.10.3\n",
            " Installed StatsBase ──────────── v0.33.0\n",
            " Installed Reexport ───────────── v0.2.0\n",
            " Installed ForwardDiff ────────── v0.10.10\n",
            " Installed Colors ─────────────── v0.11.2\n",
            " Installed DiffRules ──────────── v1.0.1\n",
            " Installed Media ──────────────── v0.5.0\n",
            " Installed Zygote ─────────────── v0.4.8\n",
            " Installed FillArrays ─────────── v0.8.10\n",
            " Installed CodecZlib ──────────── v0.6.0\n",
            " Installed Juno ───────────────── v0.8.2\n",
            " Installed NaNMath ────────────── v0.3.3\n",
            " Installed AbstractTrees ──────── v0.3.3\n",
            " Installed DiffResults ────────── v1.0.2\n",
            " Installed TranscodingStreams ─── v0.9.5\n",
            " Installed StaticArrays ───────── v0.12.3\n",
            " Installed SortingAlgorithms ──── v0.3.1\n",
            " Installed ZipFile ────────────── v0.8.4\n",
            " Installed FFTW ───────────────── v1.1.0\n",
            " Installed ZygoteRules ────────── v0.2.0\n",
            " Installed BinDeps ────────────── v1.0.1\n",
            " Installed FixedPointNumbers ──── v0.7.1\n",
            " Installed SpecialFunctions ───── v0.8.0\n",
            " Installed ColorTypes ─────────── v0.9.1\n",
            "  Updating `~/.julia/environments/v1.2/Project.toml`\n",
            "  [587475ba] + Flux v0.10.3\n",
            "  Updating `~/.julia/environments/v1.2/Manifest.toml`\n",
            "  [1520ce14] + AbstractTrees v0.3.3\n",
            "  [9e28174c] + BinDeps v1.0.1\n",
            "  [944b1d66] + CodecZlib v0.6.0\n",
            "  [3da002f7] + ColorTypes v0.9.1\n",
            "  [5ae59095] + Colors v0.11.2\n",
            "  [bbf7d656] + CommonSubexpressions v0.2.0\n",
            "  [9a962f9c] + DataAPI v1.3.0\n",
            "  [163ba53b] + DiffResults v1.0.2\n",
            "  [b552c78f] + DiffRules v1.0.1\n",
            "  [7a1cc6ca] + FFTW v1.1.0\n",
            "  [1a297f60] + FillArrays v0.8.10\n",
            "  [53c48c17] + FixedPointNumbers v0.7.1\n",
            "  [587475ba] + Flux v0.10.3\n",
            "  [f6369f11] + ForwardDiff v0.10.10\n",
            "  [7869d1d1] + IRTools v0.3.3\n",
            "  [e5e0dc1b] + Juno v0.8.2\n",
            "  [e89f7d12] + Media v0.5.0\n",
            "  [e1d29d7a] + Missings v0.4.3\n",
            "  [77ba4419] + NaNMath v0.3.3\n",
            "  [189a3867] + Reexport v0.2.0\n",
            "  [a2af1166] + SortingAlgorithms v0.3.1\n",
            "  [276daf66] + SpecialFunctions v0.8.0\n",
            "  [90137ffa] + StaticArrays v0.12.3\n",
            "  [2913bbd2] + StatsBase v0.33.0\n",
            "  [3bb67fe8] + TranscodingStreams v0.9.5\n",
            "  [30578b45] + URIParser v0.4.1\n",
            "  [a5390f91] + ZipFile v0.8.4\n",
            "  [e88e6eb3] + Zygote v0.4.8\n",
            "  [700de1a5] + ZygoteRules v0.2.0\n",
            "  [8bb1440f] + DelimitedFiles \n",
            "  [9abbd945] + Profile \n",
            "  Building CodecZlib ───────→ `~/.julia/packages/CodecZlib/5t9zO/deps/build.log`\n",
            "  Building FFTW ────────────→ `~/.julia/packages/FFTW/loJ3F/deps/build.log`\n",
            "  Building ZipFile ─────────→ `~/.julia/packages/ZipFile/DW0Qr/deps/build.log`\n",
            "  Building SpecialFunctions → `~/.julia/packages/SpecialFunctions/ne2iw/deps/build.log`\n",
            "Precompiling project...\n",
            "Precompiling CuArrays\n",
            "┌ Warning: CUDA 10.2 is not supported by\n",
            "│ your driver (which supports up to 10.1)\n",
            "└ @ CUDAnative ~/.julia/packages/CUDAnative/Phjco/src/CUDAnative.jl:182\n",
            "Precompiling IJulia\n",
            "Precompiling Flux\n",
            "┌ Warning: CUDA 10.2 is not supported by\n",
            "│ your driver (which supports up to 10.1)\n",
            "└ @ CUDAnative ~/.julia/packages/CUDAnative/Phjco/src/CUDAnative.jl:182\n"
          ],
          "name": "stdout"
        }
      ]
    },
    {
      "cell_type": "code",
      "metadata": {
        "id": "6JqcUMairTgX",
        "colab_type": "code",
        "colab": {
          "base_uri": "https://localhost:8080/",
          "height": 34
        },
        "outputId": "84b61730-597f-47f0-943f-82f57d5f6c7e"
      },
      "source": [
        "1"
      ],
      "execution_count": 3,
      "outputs": [
        {
          "output_type": "execute_result",
          "data": {
            "text/plain": [
              "1"
            ]
          },
          "metadata": {
            "tags": []
          },
          "execution_count": 3
        }
      ]
    },
    {
      "cell_type": "code",
      "metadata": {
        "id": "FSvPbtk8rX3H",
        "colab_type": "code",
        "colab": {
          "base_uri": "https://localhost:8080/",
          "height": 34
        },
        "outputId": "6f8d50ee-ce14-457c-fbe5-52ac1365c04c"
      },
      "source": [
        "1+1"
      ],
      "execution_count": 4,
      "outputs": [
        {
          "output_type": "execute_result",
          "data": {
            "text/plain": [
              "2"
            ]
          },
          "metadata": {
            "tags": []
          },
          "execution_count": 4
        }
      ]
    },
    {
      "cell_type": "code",
      "metadata": {
        "id": "cTmeSLVrrYug",
        "colab_type": "code",
        "colab": {
          "base_uri": "https://localhost:8080/",
          "height": 85
        },
        "outputId": "06ba01d4-2447-4d07-b8c5-079ffb3ccf53"
      },
      "source": [
        "[1, 2, 3]"
      ],
      "execution_count": 1,
      "outputs": [
        {
          "output_type": "execute_result",
          "data": {
            "text/plain": [
              "3-element Array{Int64,1}:\n",
              " 1\n",
              " 2\n",
              " 3"
            ]
          },
          "metadata": {
            "tags": []
          },
          "execution_count": 1
        }
      ]
    },
    {
      "cell_type": "code",
      "metadata": {
        "id": "yF96kVW9riz9",
        "colab_type": "code",
        "colab": {}
      },
      "source": [
        "using LinearAlgebra"
      ],
      "execution_count": 0,
      "outputs": []
    },
    {
      "cell_type": "code",
      "metadata": {
        "id": "gpa3-bXts7pT",
        "colab_type": "code",
        "colab": {
          "base_uri": "https://localhost:8080/",
          "height": 204
        },
        "outputId": "e972e191-ff32-49a1-b503-ce510b662981"
      },
      "source": [
        "[i + j for i in 1:10, j in 1:10]"
      ],
      "execution_count": 3,
      "outputs": [
        {
          "output_type": "execute_result",
          "data": {
            "text/plain": [
              "10×10 Array{Int64,2}:\n",
              "  2   3   4   5   6   7   8   9  10  11\n",
              "  3   4   5   6   7   8   9  10  11  12\n",
              "  4   5   6   7   8   9  10  11  12  13\n",
              "  5   6   7   8   9  10  11  12  13  14\n",
              "  6   7   8   9  10  11  12  13  14  15\n",
              "  7   8   9  10  11  12  13  14  15  16\n",
              "  8   9  10  11  12  13  14  15  16  17\n",
              "  9  10  11  12  13  14  15  16  17  18\n",
              " 10  11  12  13  14  15  16  17  18  19\n",
              " 11  12  13  14  15  16  17  18  19  20"
            ]
          },
          "metadata": {
            "tags": []
          },
          "execution_count": 3
        }
      ]
    },
    {
      "cell_type": "code",
      "metadata": {
        "id": "B4W9wzobtFGv",
        "colab_type": "code",
        "colab": {
          "base_uri": "https://localhost:8080/",
          "height": 68
        },
        "outputId": "18802fab-2d1d-4615-a80e-b442e5462915"
      },
      "source": [
        "using Flux"
      ],
      "execution_count": 4,
      "outputs": [
        {
          "output_type": "stream",
          "text": [
            "┌ Warning: CUDA 10.2 is not supported by\n",
            "│ your driver (which supports up to 10.1)\n",
            "└ @ CUDAnative /root/.julia/packages/CUDAnative/Phjco/src/CUDAnative.jl:182\n"
          ],
          "name": "stderr"
        }
      ]
    },
    {
      "cell_type": "code",
      "metadata": {
        "id": "8IiziZgbtN0L",
        "colab_type": "code",
        "colab": {
          "base_uri": "https://localhost:8080/",
          "height": 34
        },
        "outputId": "daeb85ea-9f3c-4754-8438-4845e7e43ce1"
      },
      "source": [
        "NNODE = Chain(x -> [x],\n",
        "           Dense(1,32,tanh),\n",
        "           Dense(32,1),\n",
        "           first)\n",
        "NNODE(1.0)"
      ],
      "execution_count": 6,
      "outputs": [
        {
          "output_type": "execute_result",
          "data": {
            "text/plain": [
              "-0.22675896f0"
            ]
          },
          "metadata": {
            "tags": []
          },
          "execution_count": 6
        }
      ]
    },
    {
      "cell_type": "code",
      "metadata": {
        "id": "OxMSnq1EtxXd",
        "colab_type": "code",
        "colab": {
          "base_uri": "https://localhost:8080/",
          "height": 34
        },
        "outputId": "af0851dd-ff25-4562-9b67-3e3cbb6f85b5"
      },
      "source": [
        "g(t) = t*NNODE(t) + 1f0"
      ],
      "execution_count": 7,
      "outputs": [
        {
          "output_type": "execute_result",
          "data": {
            "text/plain": [
              "g (generic function with 1 method)"
            ]
          },
          "metadata": {
            "tags": []
          },
          "execution_count": 7
        }
      ]
    },
    {
      "cell_type": "code",
      "metadata": {
        "id": "CCmMRLmbt0r3",
        "colab_type": "code",
        "colab": {
          "base_uri": "https://localhost:8080/",
          "height": 34
        },
        "outputId": "f785a9fd-4d8c-43c1-f287-724adba03959"
      },
      "source": [
        "using Statistics\n",
        "ϵ = sqrt(eps(Float32))\n",
        "loss() = mean(abs2(((g(t+ϵ)-g(t))/ϵ) - cos(2π*t)) for t in 0:1f-2:1f0)"
      ],
      "execution_count": 8,
      "outputs": [
        {
          "output_type": "execute_result",
          "data": {
            "text/plain": [
              "loss (generic function with 1 method)"
            ]
          },
          "metadata": {
            "tags": []
          },
          "execution_count": 8
        }
      ]
    },
    {
      "cell_type": "code",
      "metadata": {
        "id": "5qSREfvpt8nG",
        "colab_type": "code",
        "colab": {
          "base_uri": "https://localhost:8080/",
          "height": 34
        },
        "outputId": "37ec6944-0e3b-44f6-8c08-ace35fa538be"
      },
      "source": [
        "opt = Flux.Descent(0.01)\n",
        "data = Iterators.repeated((), 5000)\n",
        "iter = 0\n",
        "cb = function () #callback function to observe training\n",
        "  global iter += 1\n",
        "  if iter % 500 == 0\n",
        "    display(loss())\n",
        "  end\n",
        "end\n",
        "display(loss())"
      ],
      "execution_count": 10,
      "outputs": [
        {
          "output_type": "display_data",
          "data": {
            "text/plain": [
              "0.5732680865517993"
            ]
          },
          "metadata": {
            "tags": []
          }
        }
      ]
    },
    {
      "cell_type": "code",
      "metadata": {
        "id": "v4uixouiuBpg",
        "colab_type": "code",
        "colab": {
          "base_uri": "https://localhost:8080/",
          "height": 187
        },
        "outputId": "910a3af8-9f0c-478e-9b32-204a61bd5ee9"
      },
      "source": [
        "Flux.train!(loss, Flux.params(NNODE), data, opt; cb=cb)"
      ],
      "execution_count": 11,
      "outputs": [
        {
          "output_type": "display_data",
          "data": {
            "text/plain": [
              "0.4942395284320998"
            ]
          },
          "metadata": {
            "tags": []
          }
        },
        {
          "output_type": "display_data",
          "data": {
            "text/plain": [
              "0.4708080502513265"
            ]
          },
          "metadata": {
            "tags": []
          }
        },
        {
          "output_type": "display_data",
          "data": {
            "text/plain": [
              "0.3987400851557276"
            ]
          },
          "metadata": {
            "tags": []
          }
        },
        {
          "output_type": "display_data",
          "data": {
            "text/plain": [
              "0.21981238011062745"
            ]
          },
          "metadata": {
            "tags": []
          }
        },
        {
          "output_type": "display_data",
          "data": {
            "text/plain": [
              "0.05230301231123446"
            ]
          },
          "metadata": {
            "tags": []
          }
        },
        {
          "output_type": "display_data",
          "data": {
            "text/plain": [
              "0.017876623851939843"
            ]
          },
          "metadata": {
            "tags": []
          }
        },
        {
          "output_type": "display_data",
          "data": {
            "text/plain": [
              "0.012440006726160259"
            ]
          },
          "metadata": {
            "tags": []
          }
        },
        {
          "output_type": "display_data",
          "data": {
            "text/plain": [
              "0.010800092685994453"
            ]
          },
          "metadata": {
            "tags": []
          }
        },
        {
          "output_type": "display_data",
          "data": {
            "text/plain": [
              "0.010054423182167888"
            ]
          },
          "metadata": {
            "tags": []
          }
        },
        {
          "output_type": "display_data",
          "data": {
            "text/plain": [
              "0.009531763043139612"
            ]
          },
          "metadata": {
            "tags": []
          }
        }
      ]
    },
    {
      "cell_type": "code",
      "metadata": {
        "id": "viTTL8FHuSdP",
        "colab_type": "code",
        "colab": {
          "base_uri": "https://localhost:8080/",
          "height": 180
        },
        "outputId": "99234fcf-bf0f-4182-c561-82712d11afe2"
      },
      "source": [
        "using Plots\n",
        "t = 0:0.001:1.0\n",
        "plot(t,g.(t),label=\"NN\")\n",
        "plot!(t,1.0 .+ sin.(2π.*t)/2π, label = \"True\")"
      ],
      "execution_count": 12,
      "outputs": [
        {
          "output_type": "error",
          "ename": "ArgumentError",
          "evalue": "ignored",
          "traceback": [
            "ArgumentError: Package Plots not found in current path:\n- Run `import Pkg; Pkg.add(\"Plots\")` to install the Plots package.\n",
            "",
            "Stacktrace:",
            " [1] require(::Module, ::Symbol) at ./loading.jl:876",
            " [2] top-level scope at In[12]:1"
          ]
        }
      ]
    },
    {
      "cell_type": "code",
      "metadata": {
        "id": "hkUvLK4rudfa",
        "colab_type": "code",
        "colab": {
          "base_uri": "https://localhost:8080/",
          "height": 646
        },
        "outputId": "527651df-9a5c-4427-e735-ed4f593e38ad"
      },
      "source": [
        "import Pkg;\n",
        "Pkg.add(\"Plots\")"
      ],
      "execution_count": 13,
      "outputs": [
        {
          "output_type": "stream",
          "text": [
            "\u001b[32m\u001b[1m  Updating\u001b[22m\u001b[39m registry at `~/.julia/registries/General`\n",
            "\u001b[32m\u001b[1m  Updating\u001b[22m\u001b[39m git-repo `https://github.com/JuliaRegistries/General.git`\n",
            "\u001b[2K\u001b[?25h\u001b[32m\u001b[1m Resolving\u001b[22m\u001b[39m package versions...\n",
            "\u001b[32m\u001b[1m Installed\u001b[22m\u001b[39m Showoff ───────── v0.3.1\n",
            "\u001b[32m\u001b[1m Installed\u001b[22m\u001b[39m Measures ──────── v0.3.1\n",
            "\u001b[32m\u001b[1m Installed\u001b[22m\u001b[39m RecipesPipeline ─ v0.1.9\n",
            "\u001b[32m\u001b[1m Installed\u001b[22m\u001b[39m RecipesBase ───── v1.0.1\n",
            "\u001b[32m\u001b[1m Installed\u001b[22m\u001b[39m ArrayLayouts ──── v0.2.6\n",
            "\u001b[32m\u001b[1m Installed\u001b[22m\u001b[39m Zygote ────────── v0.4.20\n",
            "\u001b[32m\u001b[1m Installed\u001b[22m\u001b[39m Contour ───────── v0.5.3\n",
            "\u001b[32m\u001b[1m Installed\u001b[22m\u001b[39m Plots ─────────── v1.0.14\n",
            "\u001b[32m\u001b[1m Installed\u001b[22m\u001b[39m FFMPEG ────────── v0.2.4\n",
            "\u001b[32m\u001b[1m Installed\u001b[22m\u001b[39m PlotThemes ────── v1.0.3\n",
            "\u001b[32m\u001b[1m Installed\u001b[22m\u001b[39m GeometryTypes ─── v0.8.3\n",
            "\u001b[32m\u001b[1m Installed\u001b[22m\u001b[39m PlotUtils ─────── v0.6.5\n",
            "\u001b[32m\u001b[1m Installed\u001b[22m\u001b[39m GR ────────────── v0.48.0\n",
            "\u001b[32m\u001b[1m  Updating\u001b[22m\u001b[39m `~/.julia/environments/v1.2/Project.toml`\n",
            " \u001b[90m [91a5bcdd]\u001b[39m\u001b[92m + Plots v1.0.14\u001b[39m\n",
            "\u001b[32m\u001b[1m  Updating\u001b[22m\u001b[39m `~/.julia/environments/v1.2/Manifest.toml`\n",
            " \u001b[90m [4c555306]\u001b[39m\u001b[92m + ArrayLayouts v0.2.6\u001b[39m\n",
            " \u001b[90m [d38c429a]\u001b[39m\u001b[92m + Contour v0.5.3\u001b[39m\n",
            " \u001b[90m [c87230d0]\u001b[39m\u001b[92m + FFMPEG v0.2.4\u001b[39m\n",
            " \u001b[90m [7a1cc6ca]\u001b[39m\u001b[91m - FFTW v1.1.0\u001b[39m\n",
            " \u001b[90m [28b8d3ca]\u001b[39m\u001b[92m + GR v0.48.0\u001b[39m\n",
            " \u001b[90m [4d00f742]\u001b[39m\u001b[92m + GeometryTypes v0.8.3\u001b[39m\n",
            " \u001b[90m [442fdcdd]\u001b[39m\u001b[92m + Measures v0.3.1\u001b[39m\n",
            " \u001b[90m [ccf2f8ad]\u001b[39m\u001b[92m + PlotThemes v1.0.3\u001b[39m\n",
            " \u001b[90m [995b91a9]\u001b[39m\u001b[92m + PlotUtils v0.6.5\u001b[39m\n",
            " \u001b[90m [91a5bcdd]\u001b[39m\u001b[92m + Plots v1.0.14\u001b[39m\n",
            " \u001b[90m [3cdcf5f2]\u001b[39m\u001b[92m + RecipesBase v1.0.1\u001b[39m\n",
            " \u001b[90m [01d81517]\u001b[39m\u001b[92m + RecipesPipeline v0.1.9\u001b[39m\n",
            " \u001b[90m [992d4aef]\u001b[39m\u001b[92m + Showoff v0.3.1\u001b[39m\n",
            " \u001b[90m [e88e6eb3]\u001b[39m\u001b[93m ↑ Zygote v0.4.8 ⇒ v0.4.20\u001b[39m\n",
            " \u001b[90m [9fa8497b]\u001b[39m\u001b[92m + Future \u001b[39m\n",
            "\u001b[32m\u001b[1m  Building\u001b[22m\u001b[39m GR ────→ `~/.julia/packages/GR/yMV3y/deps/build.log`\n",
            "\u001b[32m\u001b[1m  Building\u001b[22m\u001b[39m FFMPEG → `~/.julia/packages/FFMPEG/guN1x/deps/build.log`\n",
            "\u001b[32m\u001b[1m  Building\u001b[22m\u001b[39m Plots ─→ `~/.julia/packages/Plots/8GUYs/deps/build.log`\n"
          ],
          "name": "stdout"
        }
      ]
    },
    {
      "cell_type": "code",
      "metadata": {
        "id": "ORNAV3CYvMvK",
        "colab_type": "code",
        "colab": {
          "base_uri": "https://localhost:8080/",
          "height": 455
        },
        "outputId": "e7745148-f437-46e9-d998-0ee78cde86eb"
      },
      "source": [
        "using Plots\n",
        "t = 0:0.001:1.0\n",
        "plot(t,g.(t),label=\"NN\")\n",
        "plot!(t,1.0 .+ sin.(2π.*t)/2π, label = \"True\")"
      ],
      "execution_count": 14,
      "outputs": [
        {
          "output_type": "stream",
          "text": [
            "┌ Info: Precompiling Plots [91a5bcdd-55d7-5caf-9e0b-520d859cae80]\n",
            "└ @ Base loading.jl:1242\n"
          ],
          "name": "stderr"
        },
        {
          "output_type": "execute_result",
          "data": {
            "image/svg+xml": "<?xml version=\"1.0\" encoding=\"utf-8\"?>\n<svg xmlns=\"http://www.w3.org/2000/svg\" xmlns:xlink=\"http://www.w3.org/1999/xlink\" width=\"600\" height=\"400\" viewBox=\"0 0 2400 1600\">\n<defs>\n  <clipPath id=\"clip1900\">\n    <rect x=\"0\" y=\"0\" width=\"2400\" height=\"1600\"/>\n  </clipPath>\n</defs>\n<path clip-path=\"url(#clip1900)\" d=\"\nM0 1600 L2400 1600 L2400 0 L0 0  Z\n  \" fill=\"#ffffff\" fill-rule=\"evenodd\" fill-opacity=\"1\"/>\n<defs>\n  <clipPath id=\"clip1901\">\n    <rect x=\"480\" y=\"0\" width=\"1681\" height=\"1600\"/>\n  </clipPath>\n</defs>\n<path clip-path=\"url(#clip1900)\" d=\"\nM174.677 1486.45 L2352.76 1486.45 L2352.76 47.2441 L174.677 47.2441  Z\n  \" fill=\"#ffffff\" fill-rule=\"evenodd\" fill-opacity=\"1\"/>\n<defs>\n  <clipPath id=\"clip1902\">\n    <rect x=\"174\" y=\"47\" width=\"2179\" height=\"1440\"/>\n  </clipPath>\n</defs>\n<polyline clip-path=\"url(#clip1902)\" style=\"stroke:#000000; stroke-width:2; stroke-opacity:0.1; fill:none\" points=\"\n  236.321,1486.45 236.321,47.2441 \n  \"/>\n<polyline clip-path=\"url(#clip1902)\" style=\"stroke:#000000; stroke-width:2; stroke-opacity:0.1; fill:none\" points=\"\n  750.018,1486.45 750.018,47.2441 \n  \"/>\n<polyline clip-path=\"url(#clip1902)\" style=\"stroke:#000000; stroke-width:2; stroke-opacity:0.1; fill:none\" points=\"\n  1263.72,1486.45 1263.72,47.2441 \n  \"/>\n<polyline clip-path=\"url(#clip1902)\" style=\"stroke:#000000; stroke-width:2; stroke-opacity:0.1; fill:none\" points=\"\n  1777.41,1486.45 1777.41,47.2441 \n  \"/>\n<polyline clip-path=\"url(#clip1902)\" style=\"stroke:#000000; stroke-width:2; stroke-opacity:0.1; fill:none\" points=\"\n  2291.11,1486.45 2291.11,47.2441 \n  \"/>\n<polyline clip-path=\"url(#clip1902)\" style=\"stroke:#000000; stroke-width:2; stroke-opacity:0.1; fill:none\" points=\"\n  174.677,1406.67 2352.76,1406.67 \n  \"/>\n<polyline clip-path=\"url(#clip1902)\" style=\"stroke:#000000; stroke-width:2; stroke-opacity:0.1; fill:none\" points=\"\n  174.677,1193.39 2352.76,1193.39 \n  \"/>\n<polyline clip-path=\"url(#clip1902)\" style=\"stroke:#000000; stroke-width:2; stroke-opacity:0.1; fill:none\" points=\"\n  174.677,980.119 2352.76,980.119 \n  \"/>\n<polyline clip-path=\"url(#clip1902)\" style=\"stroke:#000000; stroke-width:2; stroke-opacity:0.1; fill:none\" points=\"\n  174.677,766.846 2352.76,766.846 \n  \"/>\n<polyline clip-path=\"url(#clip1902)\" style=\"stroke:#000000; stroke-width:2; stroke-opacity:0.1; fill:none\" points=\"\n  174.677,553.573 2352.76,553.573 \n  \"/>\n<polyline clip-path=\"url(#clip1902)\" style=\"stroke:#000000; stroke-width:2; stroke-opacity:0.1; fill:none\" points=\"\n  174.677,340.3 2352.76,340.3 \n  \"/>\n<polyline clip-path=\"url(#clip1902)\" style=\"stroke:#000000; stroke-width:2; stroke-opacity:0.1; fill:none\" points=\"\n  174.677,127.026 2352.76,127.026 \n  \"/>\n<polyline clip-path=\"url(#clip1900)\" style=\"stroke:#000000; stroke-width:4; stroke-opacity:1; fill:none\" points=\"\n  174.677,1486.45 2352.76,1486.45 \n  \"/>\n<polyline clip-path=\"url(#clip1900)\" style=\"stroke:#000000; stroke-width:4; stroke-opacity:1; fill:none\" points=\"\n  174.677,1486.45 174.677,47.2441 \n  \"/>\n<polyline clip-path=\"url(#clip1900)\" style=\"stroke:#000000; stroke-width:4; stroke-opacity:1; fill:none\" points=\"\n  236.321,1486.45 236.321,1469.18 \n  \"/>\n<polyline clip-path=\"url(#clip1900)\" style=\"stroke:#000000; stroke-width:4; stroke-opacity:1; fill:none\" points=\"\n  750.018,1486.45 750.018,1469.18 \n  \"/>\n<polyline clip-path=\"url(#clip1900)\" style=\"stroke:#000000; stroke-width:4; stroke-opacity:1; fill:none\" points=\"\n  1263.72,1486.45 1263.72,1469.18 \n  \"/>\n<polyline clip-path=\"url(#clip1900)\" style=\"stroke:#000000; stroke-width:4; stroke-opacity:1; fill:none\" points=\"\n  1777.41,1486.45 1777.41,1469.18 \n  \"/>\n<polyline clip-path=\"url(#clip1900)\" style=\"stroke:#000000; stroke-width:4; stroke-opacity:1; fill:none\" points=\"\n  2291.11,1486.45 2291.11,1469.18 \n  \"/>\n<polyline clip-path=\"url(#clip1900)\" style=\"stroke:#000000; stroke-width:4; stroke-opacity:1; fill:none\" points=\"\n  174.677,1406.67 200.814,1406.67 \n  \"/>\n<polyline clip-path=\"url(#clip1900)\" style=\"stroke:#000000; stroke-width:4; stroke-opacity:1; fill:none\" points=\"\n  174.677,1193.39 200.814,1193.39 \n  \"/>\n<polyline clip-path=\"url(#clip1900)\" style=\"stroke:#000000; stroke-width:4; stroke-opacity:1; fill:none\" points=\"\n  174.677,980.119 200.814,980.119 \n  \"/>\n<polyline clip-path=\"url(#clip1900)\" style=\"stroke:#000000; stroke-width:4; stroke-opacity:1; fill:none\" points=\"\n  174.677,766.846 200.814,766.846 \n  \"/>\n<polyline clip-path=\"url(#clip1900)\" style=\"stroke:#000000; stroke-width:4; stroke-opacity:1; fill:none\" points=\"\n  174.677,553.573 200.814,553.573 \n  \"/>\n<polyline clip-path=\"url(#clip1900)\" style=\"stroke:#000000; stroke-width:4; stroke-opacity:1; fill:none\" points=\"\n  174.677,340.3 200.814,340.3 \n  \"/>\n<polyline clip-path=\"url(#clip1900)\" style=\"stroke:#000000; stroke-width:4; stroke-opacity:1; fill:none\" points=\"\n  174.677,127.026 200.814,127.026 \n  \"/>\n<path clip-path=\"url(#clip1900)\" d=\"M 0 0 M204.33 1508.44 Q200.719 1508.44 198.89 1512 Q197.085 1515.55 197.085 1522.67 Q197.085 1529.78 198.89 1533.35 Q200.719 1536.89 204.33 1536.89 Q207.964 1536.89 209.77 1533.35 Q211.598 1529.78 211.598 1522.67 Q211.598 1515.55 209.77 1512 Q207.964 1508.44 204.33 1508.44 M204.33 1504.73 Q210.14 1504.73 213.196 1509.34 Q216.274 1513.92 216.274 1522.67 Q216.274 1531.4 213.196 1536.01 Q210.14 1540.59 204.33 1540.59 Q198.52 1540.59 195.441 1536.01 Q192.386 1531.4 192.386 1522.67 Q192.386 1513.92 195.441 1509.34 Q198.52 1504.73 204.33 1504.73 Z\" fill=\"#000000\" fill-rule=\"evenodd\" fill-opacity=\"1\" /><path clip-path=\"url(#clip1900)\" d=\"M 0 0 M221.344 1534.04 L226.228 1534.04 L226.228 1539.92 L221.344 1539.92 L221.344 1534.04 Z\" fill=\"#000000\" fill-rule=\"evenodd\" fill-opacity=\"1\" /><path clip-path=\"url(#clip1900)\" d=\"M 0 0 M241.297 1508.44 Q237.686 1508.44 235.858 1512 Q234.052 1515.55 234.052 1522.67 Q234.052 1529.78 235.858 1533.35 Q237.686 1536.89 241.297 1536.89 Q244.932 1536.89 246.737 1533.35 Q248.566 1529.78 248.566 1522.67 Q248.566 1515.55 246.737 1512 Q244.932 1508.44 241.297 1508.44 M241.297 1504.73 Q247.108 1504.73 250.163 1509.34 Q253.242 1513.92 253.242 1522.67 Q253.242 1531.4 250.163 1536.01 Q247.108 1540.59 241.297 1540.59 Q235.487 1540.59 232.409 1536.01 Q229.353 1531.4 229.353 1522.67 Q229.353 1513.92 232.409 1509.34 Q235.487 1504.73 241.297 1504.73 Z\" fill=\"#000000\" fill-rule=\"evenodd\" fill-opacity=\"1\" /><path clip-path=\"url(#clip1900)\" d=\"M 0 0 M268.311 1508.44 Q264.7 1508.44 262.871 1512 Q261.066 1515.55 261.066 1522.67 Q261.066 1529.78 262.871 1533.35 Q264.7 1536.89 268.311 1536.89 Q271.945 1536.89 273.751 1533.35 Q275.58 1529.78 275.58 1522.67 Q275.58 1515.55 273.751 1512 Q271.945 1508.44 268.311 1508.44 M268.311 1504.73 Q274.121 1504.73 277.177 1509.34 Q280.256 1513.92 280.256 1522.67 Q280.256 1531.4 277.177 1536.01 Q274.121 1540.59 268.311 1540.59 Q262.501 1540.59 259.422 1536.01 Q256.367 1531.4 256.367 1522.67 Q256.367 1513.92 259.422 1509.34 Q262.501 1504.73 268.311 1504.73 Z\" fill=\"#000000\" fill-rule=\"evenodd\" fill-opacity=\"1\" /><path clip-path=\"url(#clip1900)\" d=\"M 0 0 M719.324 1508.44 Q715.713 1508.44 713.884 1512 Q712.079 1515.55 712.079 1522.67 Q712.079 1529.78 713.884 1533.35 Q715.713 1536.89 719.324 1536.89 Q722.958 1536.89 724.764 1533.35 Q726.593 1529.78 726.593 1522.67 Q726.593 1515.55 724.764 1512 Q722.958 1508.44 719.324 1508.44 M719.324 1504.73 Q725.134 1504.73 728.19 1509.34 Q731.269 1513.92 731.269 1522.67 Q731.269 1531.4 728.19 1536.01 Q725.134 1540.59 719.324 1540.59 Q713.514 1540.59 710.435 1536.01 Q707.38 1531.4 707.38 1522.67 Q707.38 1513.92 710.435 1509.34 Q713.514 1504.73 719.324 1504.73 Z\" fill=\"#000000\" fill-rule=\"evenodd\" fill-opacity=\"1\" /><path clip-path=\"url(#clip1900)\" d=\"M 0 0 M736.338 1534.04 L741.222 1534.04 L741.222 1539.92 L736.338 1539.92 L736.338 1534.04 Z\" fill=\"#000000\" fill-rule=\"evenodd\" fill-opacity=\"1\" /><path clip-path=\"url(#clip1900)\" d=\"M 0 0 M750.319 1535.98 L766.639 1535.98 L766.639 1539.92 L744.694 1539.92 L744.694 1535.98 Q747.356 1533.23 751.94 1528.6 Q756.546 1523.95 757.727 1522.61 Q759.972 1520.08 760.852 1518.35 Q761.755 1516.59 761.755 1514.9 Q761.755 1512.14 759.81 1510.41 Q757.889 1508.67 754.787 1508.67 Q752.588 1508.67 750.134 1509.43 Q747.704 1510.2 744.926 1511.75 L744.926 1507.03 Q747.75 1505.89 750.204 1505.31 Q752.657 1504.73 754.694 1504.73 Q760.065 1504.73 763.259 1507.42 Q766.454 1510.11 766.454 1514.6 Q766.454 1516.73 765.643 1518.65 Q764.856 1520.54 762.75 1523.14 Q762.171 1523.81 759.069 1527.03 Q755.968 1530.22 750.319 1535.98 Z\" fill=\"#000000\" fill-rule=\"evenodd\" fill-opacity=\"1\" /><path clip-path=\"url(#clip1900)\" d=\"M 0 0 M771.754 1505.36 L790.111 1505.36 L790.111 1509.3 L776.037 1509.3 L776.037 1517.77 Q777.055 1517.42 778.074 1517.26 Q779.092 1517.07 780.111 1517.07 Q785.898 1517.07 789.278 1520.24 Q792.657 1523.42 792.657 1528.83 Q792.657 1534.41 789.185 1537.51 Q785.713 1540.59 779.393 1540.59 Q777.217 1540.59 774.949 1540.22 Q772.704 1539.85 770.296 1539.11 L770.296 1534.41 Q772.379 1535.54 774.602 1536.1 Q776.824 1536.66 779.301 1536.66 Q783.305 1536.66 785.643 1534.55 Q787.981 1532.44 787.981 1528.83 Q787.981 1525.22 785.643 1523.11 Q783.305 1521.01 779.301 1521.01 Q777.426 1521.01 775.551 1521.42 Q773.699 1521.84 771.754 1522.72 L771.754 1505.36 Z\" fill=\"#000000\" fill-rule=\"evenodd\" fill-opacity=\"1\" /><path clip-path=\"url(#clip1900)\" d=\"M 0 0 M1232.22 1508.44 Q1228.61 1508.44 1226.78 1512 Q1224.98 1515.55 1224.98 1522.67 Q1224.98 1529.78 1226.78 1533.35 Q1228.61 1536.89 1232.22 1536.89 Q1235.86 1536.89 1237.66 1533.35 Q1239.49 1529.78 1239.49 1522.67 Q1239.49 1515.55 1237.66 1512 Q1235.86 1508.44 1232.22 1508.44 M1232.22 1504.73 Q1238.03 1504.73 1241.09 1509.34 Q1244.17 1513.92 1244.17 1522.67 Q1244.17 1531.4 1241.09 1536.01 Q1238.03 1540.59 1232.22 1540.59 Q1226.41 1540.59 1223.33 1536.01 Q1220.28 1531.4 1220.28 1522.67 Q1220.28 1513.92 1223.33 1509.34 Q1226.41 1504.73 1232.22 1504.73 Z\" fill=\"#000000\" fill-rule=\"evenodd\" fill-opacity=\"1\" /><path clip-path=\"url(#clip1900)\" d=\"M 0 0 M1249.24 1534.04 L1254.12 1534.04 L1254.12 1539.92 L1249.24 1539.92 L1249.24 1534.04 Z\" fill=\"#000000\" fill-rule=\"evenodd\" fill-opacity=\"1\" /><path clip-path=\"url(#clip1900)\" d=\"M 0 0 M1259.24 1505.36 L1277.59 1505.36 L1277.59 1509.3 L1263.52 1509.3 L1263.52 1517.77 Q1264.54 1517.42 1265.56 1517.26 Q1266.58 1517.07 1267.59 1517.07 Q1273.38 1517.07 1276.76 1520.24 Q1280.14 1523.42 1280.14 1528.83 Q1280.14 1534.41 1276.67 1537.51 Q1273.2 1540.59 1266.88 1540.59 Q1264.7 1540.59 1262.43 1540.22 Q1260.19 1539.85 1257.78 1539.11 L1257.78 1534.41 Q1259.86 1535.54 1262.08 1536.1 Q1264.31 1536.66 1266.78 1536.66 Q1270.79 1536.66 1273.13 1534.55 Q1275.46 1532.44 1275.46 1528.83 Q1275.46 1525.22 1273.13 1523.11 Q1270.79 1521.01 1266.78 1521.01 Q1264.91 1521.01 1263.03 1521.42 Q1261.18 1521.84 1259.24 1522.72 L1259.24 1505.36 Z\" fill=\"#000000\" fill-rule=\"evenodd\" fill-opacity=\"1\" /><path clip-path=\"url(#clip1900)\" d=\"M 0 0 M1295.21 1508.44 Q1291.6 1508.44 1289.77 1512 Q1287.96 1515.55 1287.96 1522.67 Q1287.96 1529.78 1289.77 1533.35 Q1291.6 1536.89 1295.21 1536.89 Q1298.84 1536.89 1300.65 1533.35 Q1302.48 1529.78 1302.48 1522.67 Q1302.48 1515.55 1300.65 1512 Q1298.84 1508.44 1295.21 1508.44 M1295.21 1504.73 Q1301.02 1504.73 1304.07 1509.34 Q1307.15 1513.92 1307.15 1522.67 Q1307.15 1531.4 1304.07 1536.01 Q1301.02 1540.59 1295.21 1540.59 Q1289.4 1540.59 1286.32 1536.01 Q1283.26 1531.4 1283.26 1522.67 Q1283.26 1513.92 1286.32 1509.34 Q1289.4 1504.73 1295.21 1504.73 Z\" fill=\"#000000\" fill-rule=\"evenodd\" fill-opacity=\"1\" /><path clip-path=\"url(#clip1900)\" d=\"M 0 0 M1746.37 1508.44 Q1742.76 1508.44 1740.93 1512 Q1739.13 1515.55 1739.13 1522.67 Q1739.13 1529.78 1740.93 1533.35 Q1742.76 1536.89 1746.37 1536.89 Q1750.01 1536.89 1751.81 1533.35 Q1753.64 1529.78 1753.64 1522.67 Q1753.64 1515.55 1751.81 1512 Q1750.01 1508.44 1746.37 1508.44 M1746.37 1504.73 Q1752.18 1504.73 1755.24 1509.34 Q1758.32 1513.92 1758.32 1522.67 Q1758.32 1531.4 1755.24 1536.01 Q1752.18 1540.59 1746.37 1540.59 Q1740.56 1540.59 1737.48 1536.01 Q1734.43 1531.4 1734.43 1522.67 Q1734.43 1513.92 1737.48 1509.34 Q1740.56 1504.73 1746.37 1504.73 Z\" fill=\"#000000\" fill-rule=\"evenodd\" fill-opacity=\"1\" /><path clip-path=\"url(#clip1900)\" d=\"M 0 0 M1763.39 1534.04 L1768.27 1534.04 L1768.27 1539.92 L1763.39 1539.92 L1763.39 1534.04 Z\" fill=\"#000000\" fill-rule=\"evenodd\" fill-opacity=\"1\" /><path clip-path=\"url(#clip1900)\" d=\"M 0 0 M1772.16 1505.36 L1794.38 1505.36 L1794.38 1507.35 L1781.84 1539.92 L1776.95 1539.92 L1788.76 1509.3 L1772.16 1509.3 L1772.16 1505.36 Z\" fill=\"#000000\" fill-rule=\"evenodd\" fill-opacity=\"1\" /><path clip-path=\"url(#clip1900)\" d=\"M 0 0 M1799.5 1505.36 L1817.85 1505.36 L1817.85 1509.3 L1803.78 1509.3 L1803.78 1517.77 Q1804.8 1517.42 1805.82 1517.26 Q1806.84 1517.07 1807.85 1517.07 Q1813.64 1517.07 1817.02 1520.24 Q1820.4 1523.42 1820.4 1528.83 Q1820.4 1534.41 1816.93 1537.51 Q1813.46 1540.59 1807.14 1540.59 Q1804.96 1540.59 1802.69 1540.22 Q1800.45 1539.85 1798.04 1539.11 L1798.04 1534.41 Q1800.12 1535.54 1802.34 1536.1 Q1804.57 1536.66 1807.04 1536.66 Q1811.05 1536.66 1813.39 1534.55 Q1815.72 1532.44 1815.72 1528.83 Q1815.72 1525.22 1813.39 1523.11 Q1811.05 1521.01 1807.04 1521.01 Q1805.17 1521.01 1803.29 1521.42 Q1801.44 1521.84 1799.5 1522.72 L1799.5 1505.36 Z\" fill=\"#000000\" fill-rule=\"evenodd\" fill-opacity=\"1\" /><path clip-path=\"url(#clip1900)\" d=\"M 0 0 M2249.5 1535.98 L2257.14 1535.98 L2257.14 1509.62 L2248.83 1511.29 L2248.83 1507.03 L2257.1 1505.36 L2261.77 1505.36 L2261.77 1535.98 L2269.41 1535.98 L2269.41 1539.92 L2249.5 1539.92 L2249.5 1535.98 Z\" fill=\"#000000\" fill-rule=\"evenodd\" fill-opacity=\"1\" /><path clip-path=\"url(#clip1900)\" d=\"M 0 0 M2274.48 1534.04 L2279.36 1534.04 L2279.36 1539.92 L2274.48 1539.92 L2274.48 1534.04 Z\" fill=\"#000000\" fill-rule=\"evenodd\" fill-opacity=\"1\" /><path clip-path=\"url(#clip1900)\" d=\"M 0 0 M2294.43 1508.44 Q2290.82 1508.44 2288.99 1512 Q2287.19 1515.55 2287.19 1522.67 Q2287.19 1529.78 2288.99 1533.35 Q2290.82 1536.89 2294.43 1536.89 Q2298.07 1536.89 2299.87 1533.35 Q2301.7 1529.78 2301.7 1522.67 Q2301.7 1515.55 2299.87 1512 Q2298.07 1508.44 2294.43 1508.44 M2294.43 1504.73 Q2300.24 1504.73 2303.3 1509.34 Q2306.38 1513.92 2306.38 1522.67 Q2306.38 1531.4 2303.3 1536.01 Q2300.24 1540.59 2294.43 1540.59 Q2288.62 1540.59 2285.55 1536.01 Q2282.49 1531.4 2282.49 1522.67 Q2282.49 1513.92 2285.55 1509.34 Q2288.62 1504.73 2294.43 1504.73 Z\" fill=\"#000000\" fill-rule=\"evenodd\" fill-opacity=\"1\" /><path clip-path=\"url(#clip1900)\" d=\"M 0 0 M2321.45 1508.44 Q2317.84 1508.44 2316.01 1512 Q2314.2 1515.55 2314.2 1522.67 Q2314.2 1529.78 2316.01 1533.35 Q2317.84 1536.89 2321.45 1536.89 Q2325.08 1536.89 2326.89 1533.35 Q2328.72 1529.78 2328.72 1522.67 Q2328.72 1515.55 2326.89 1512 Q2325.08 1508.44 2321.45 1508.44 M2321.45 1504.73 Q2327.26 1504.73 2330.31 1509.34 Q2333.39 1513.92 2333.39 1522.67 Q2333.39 1531.4 2330.31 1536.01 Q2327.26 1540.59 2321.45 1540.59 Q2315.64 1540.59 2312.56 1536.01 Q2309.5 1531.4 2309.5 1522.67 Q2309.5 1513.92 2312.56 1509.34 Q2315.64 1504.73 2321.45 1504.73 Z\" fill=\"#000000\" fill-rule=\"evenodd\" fill-opacity=\"1\" /><path clip-path=\"url(#clip1900)\" d=\"M 0 0 M75.8393 1392.46 Q72.2282 1392.46 70.3995 1396.03 Q68.5939 1399.57 68.5939 1406.7 Q68.5939 1413.81 70.3995 1417.37 Q72.2282 1420.91 75.8393 1420.91 Q79.4735 1420.91 81.2791 1417.37 Q83.1078 1413.81 83.1078 1406.7 Q83.1078 1399.57 81.2791 1396.03 Q79.4735 1392.46 75.8393 1392.46 M75.8393 1388.76 Q81.6494 1388.76 84.705 1393.37 Q87.7837 1397.95 87.7837 1406.7 Q87.7837 1415.43 84.705 1420.03 Q81.6494 1424.62 75.8393 1424.62 Q70.0291 1424.62 66.9504 1420.03 Q63.8949 1415.43 63.8949 1406.7 Q63.8949 1397.95 66.9504 1393.37 Q70.0291 1388.76 75.8393 1388.76 Z\" fill=\"#000000\" fill-rule=\"evenodd\" fill-opacity=\"1\" /><path clip-path=\"url(#clip1900)\" d=\"M 0 0 M92.8531 1418.07 L97.7373 1418.07 L97.7373 1423.95 L92.8531 1423.95 L92.8531 1418.07 Z\" fill=\"#000000\" fill-rule=\"evenodd\" fill-opacity=\"1\" /><path clip-path=\"url(#clip1900)\" d=\"M 0 0 M112.807 1407.53 Q109.473 1407.53 107.552 1409.32 Q105.654 1411.1 105.654 1414.22 Q105.654 1417.35 107.552 1419.13 Q109.473 1420.91 112.807 1420.91 Q116.14 1420.91 118.061 1419.13 Q119.983 1417.33 119.983 1414.22 Q119.983 1411.1 118.061 1409.32 Q116.163 1407.53 112.807 1407.53 M108.131 1405.54 Q105.122 1404.8 103.432 1402.74 Q101.765 1400.68 101.765 1397.72 Q101.765 1393.58 104.705 1391.17 Q107.668 1388.76 112.807 1388.76 Q117.969 1388.76 120.908 1391.17 Q123.848 1393.58 123.848 1397.72 Q123.848 1400.68 122.158 1402.74 Q120.492 1404.8 117.506 1405.54 Q120.885 1406.33 122.76 1408.62 Q124.658 1410.91 124.658 1414.22 Q124.658 1419.25 121.58 1421.93 Q118.524 1424.62 112.807 1424.62 Q107.089 1424.62 104.01 1421.93 Q100.955 1419.25 100.955 1414.22 Q100.955 1410.91 102.853 1408.62 Q104.751 1406.33 108.131 1405.54 M106.418 1398.16 Q106.418 1400.84 108.084 1402.35 Q109.774 1403.85 112.807 1403.85 Q115.816 1403.85 117.506 1402.35 Q119.219 1400.84 119.219 1398.16 Q119.219 1395.47 117.506 1393.97 Q115.816 1392.46 112.807 1392.46 Q109.774 1392.46 108.084 1393.97 Q106.418 1395.47 106.418 1398.16 Z\" fill=\"#000000\" fill-rule=\"evenodd\" fill-opacity=\"1\" /><path clip-path=\"url(#clip1900)\" d=\"M 0 0 M129.774 1389.39 L148.131 1389.39 L148.131 1393.32 L134.057 1393.32 L134.057 1401.79 Q135.075 1401.45 136.094 1401.28 Q137.112 1401.1 138.131 1401.1 Q143.918 1401.1 147.297 1404.27 Q150.677 1407.44 150.677 1412.86 Q150.677 1418.44 147.205 1421.54 Q143.732 1424.62 137.413 1424.62 Q135.237 1424.62 132.969 1424.25 Q130.723 1423.88 128.316 1423.14 L128.316 1418.44 Q130.399 1419.57 132.621 1420.13 Q134.844 1420.68 137.32 1420.68 Q141.325 1420.68 143.663 1418.58 Q146.001 1416.47 146.001 1412.86 Q146.001 1409.25 143.663 1407.14 Q141.325 1405.03 137.32 1405.03 Q135.445 1405.03 133.57 1405.45 Q131.719 1405.87 129.774 1406.75 L129.774 1389.39 Z\" fill=\"#000000\" fill-rule=\"evenodd\" fill-opacity=\"1\" /><path clip-path=\"url(#clip1900)\" d=\"M 0 0 M74.9365 1179.19 Q71.3254 1179.19 69.4967 1182.76 Q67.6912 1186.3 67.6912 1193.43 Q67.6912 1200.53 69.4967 1204.1 Q71.3254 1207.64 74.9365 1207.64 Q78.5707 1207.64 80.3763 1204.1 Q82.205 1200.53 82.205 1193.43 Q82.205 1186.3 80.3763 1182.76 Q78.5707 1179.19 74.9365 1179.19 M74.9365 1175.49 Q80.7467 1175.49 83.8022 1180.09 Q86.8809 1184.68 86.8809 1193.43 Q86.8809 1202.15 83.8022 1206.76 Q80.7467 1211.34 74.9365 1211.34 Q69.1264 1211.34 66.0477 1206.76 Q62.9921 1202.15 62.9921 1193.43 Q62.9921 1184.68 66.0477 1180.09 Q69.1264 1175.49 74.9365 1175.49 Z\" fill=\"#000000\" fill-rule=\"evenodd\" fill-opacity=\"1\" /><path clip-path=\"url(#clip1900)\" d=\"M 0 0 M91.9503 1204.79 L96.8345 1204.79 L96.8345 1210.67 L91.9503 1210.67 L91.9503 1204.79 Z\" fill=\"#000000\" fill-rule=\"evenodd\" fill-opacity=\"1\" /><path clip-path=\"url(#clip1900)\" d=\"M 0 0 M102.043 1209.95 L102.043 1205.7 Q103.802 1206.53 105.608 1206.97 Q107.413 1207.41 109.149 1207.41 Q113.779 1207.41 116.209 1204.31 Q118.663 1201.18 119.01 1194.84 Q117.668 1196.83 115.608 1197.89 Q113.547 1198.96 111.047 1198.96 Q105.862 1198.96 102.83 1195.83 Q99.8206 1192.69 99.8206 1187.25 Q99.8206 1181.92 102.969 1178.7 Q106.117 1175.49 111.348 1175.49 Q117.344 1175.49 120.492 1180.09 Q123.663 1184.68 123.663 1193.43 Q123.663 1201.6 119.774 1206.48 Q115.909 1211.34 109.358 1211.34 Q107.598 1211.34 105.793 1211 Q103.987 1210.65 102.043 1209.95 M111.348 1195.3 Q114.496 1195.3 116.325 1193.15 Q118.177 1191 118.177 1187.25 Q118.177 1183.52 116.325 1181.37 Q114.496 1179.19 111.348 1179.19 Q108.2 1179.19 106.348 1181.37 Q104.52 1183.52 104.52 1187.25 Q104.52 1191 106.348 1193.15 Q108.2 1195.3 111.348 1195.3 Z\" fill=\"#000000\" fill-rule=\"evenodd\" fill-opacity=\"1\" /><path clip-path=\"url(#clip1900)\" d=\"M 0 0 M138.732 1179.19 Q135.121 1179.19 133.293 1182.76 Q131.487 1186.3 131.487 1193.43 Q131.487 1200.53 133.293 1204.1 Q135.121 1207.64 138.732 1207.64 Q142.367 1207.64 144.172 1204.1 Q146.001 1200.53 146.001 1193.43 Q146.001 1186.3 144.172 1182.76 Q142.367 1179.19 138.732 1179.19 M138.732 1175.49 Q144.543 1175.49 147.598 1180.09 Q150.677 1184.68 150.677 1193.43 Q150.677 1202.15 147.598 1206.76 Q144.543 1211.34 138.732 1211.34 Q132.922 1211.34 129.844 1206.76 Q126.788 1202.15 126.788 1193.43 Q126.788 1184.68 129.844 1180.09 Q132.922 1175.49 138.732 1175.49 Z\" fill=\"#000000\" fill-rule=\"evenodd\" fill-opacity=\"1\" /><path clip-path=\"url(#clip1900)\" d=\"M 0 0 M75.9319 965.918 Q72.3208 965.918 70.4921 969.483 Q68.6865 973.024 68.6865 980.154 Q68.6865 987.26 70.4921 990.825 Q72.3208 994.367 75.9319 994.367 Q79.5661 994.367 81.3717 990.825 Q83.2004 987.26 83.2004 980.154 Q83.2004 973.024 81.3717 969.483 Q79.5661 965.918 75.9319 965.918 M75.9319 962.214 Q81.742 962.214 84.7976 966.821 Q87.8763 971.404 87.8763 980.154 Q87.8763 988.881 84.7976 993.487 Q81.742 998.07 75.9319 998.07 Q70.1217 998.07 67.043 993.487 Q63.9875 988.881 63.9875 980.154 Q63.9875 971.404 67.043 966.821 Q70.1217 962.214 75.9319 962.214 Z\" fill=\"#000000\" fill-rule=\"evenodd\" fill-opacity=\"1\" /><path clip-path=\"url(#clip1900)\" d=\"M 0 0 M92.9457 991.52 L97.8299 991.52 L97.8299 997.399 L92.9457 997.399 L92.9457 991.52 Z\" fill=\"#000000\" fill-rule=\"evenodd\" fill-opacity=\"1\" /><path clip-path=\"url(#clip1900)\" d=\"M 0 0 M103.038 996.682 L103.038 992.422 Q104.797 993.256 106.603 993.696 Q108.409 994.135 110.145 994.135 Q114.774 994.135 117.205 991.033 Q119.658 987.909 120.006 981.566 Q118.663 983.557 116.603 984.621 Q114.543 985.686 112.043 985.686 Q106.858 985.686 103.825 982.561 Q100.816 979.413 100.816 973.973 Q100.816 968.649 103.964 965.432 Q107.112 962.214 112.344 962.214 Q118.339 962.214 121.487 966.821 Q124.658 971.404 124.658 980.154 Q124.658 988.325 120.77 993.209 Q116.904 998.07 110.353 998.07 Q108.594 998.07 106.788 997.723 Q104.983 997.376 103.038 996.682 M112.344 982.029 Q115.492 982.029 117.321 979.876 Q119.172 977.723 119.172 973.973 Q119.172 970.247 117.321 968.094 Q115.492 965.918 112.344 965.918 Q109.196 965.918 107.344 968.094 Q105.515 970.247 105.515 973.973 Q105.515 977.723 107.344 979.876 Q109.196 982.029 112.344 982.029 Z\" fill=\"#000000\" fill-rule=\"evenodd\" fill-opacity=\"1\" /><path clip-path=\"url(#clip1900)\" d=\"M 0 0 M129.774 962.839 L148.131 962.839 L148.131 966.774 L134.057 966.774 L134.057 975.247 Q135.075 974.899 136.094 974.737 Q137.112 974.552 138.131 974.552 Q143.918 974.552 147.297 977.723 Q150.677 980.895 150.677 986.311 Q150.677 991.89 147.205 994.992 Q143.732 998.07 137.413 998.07 Q135.237 998.07 132.969 997.7 Q130.723 997.33 128.316 996.589 L128.316 991.89 Q130.399 993.024 132.621 993.58 Q134.844 994.135 137.32 994.135 Q141.325 994.135 143.663 992.029 Q146.001 989.922 146.001 986.311 Q146.001 982.7 143.663 980.594 Q141.325 978.487 137.32 978.487 Q135.445 978.487 133.57 978.904 Q131.719 979.321 129.774 980.2 L129.774 962.839 Z\" fill=\"#000000\" fill-rule=\"evenodd\" fill-opacity=\"1\" /><path clip-path=\"url(#clip1900)\" d=\"M 0 0 M66.7884 780.191 L74.4272 780.191 L74.4272 753.825 L66.1171 755.492 L66.1171 751.233 L74.381 749.566 L79.0569 749.566 L79.0569 780.191 L86.6957 780.191 L86.6957 784.126 L66.7884 784.126 L66.7884 780.191 Z\" fill=\"#000000\" fill-rule=\"evenodd\" fill-opacity=\"1\" /><path clip-path=\"url(#clip1900)\" d=\"M 0 0 M91.7651 778.246 L96.6494 778.246 L96.6494 784.126 L91.7651 784.126 L91.7651 778.246 Z\" fill=\"#000000\" fill-rule=\"evenodd\" fill-opacity=\"1\" /><path clip-path=\"url(#clip1900)\" d=\"M 0 0 M111.719 752.645 Q108.108 752.645 106.279 756.209 Q104.473 759.751 104.473 766.881 Q104.473 773.987 106.279 777.552 Q108.108 781.094 111.719 781.094 Q115.353 781.094 117.159 777.552 Q118.987 773.987 118.987 766.881 Q118.987 759.751 117.159 756.209 Q115.353 752.645 111.719 752.645 M111.719 748.941 Q117.529 748.941 120.584 753.547 Q123.663 758.131 123.663 766.881 Q123.663 775.608 120.584 780.214 Q117.529 784.797 111.719 784.797 Q105.909 784.797 102.83 780.214 Q99.7743 775.608 99.7743 766.881 Q99.7743 758.131 102.83 753.547 Q105.909 748.941 111.719 748.941 Z\" fill=\"#000000\" fill-rule=\"evenodd\" fill-opacity=\"1\" /><path clip-path=\"url(#clip1900)\" d=\"M 0 0 M138.732 752.645 Q135.121 752.645 133.293 756.209 Q131.487 759.751 131.487 766.881 Q131.487 773.987 133.293 777.552 Q135.121 781.094 138.732 781.094 Q142.367 781.094 144.172 777.552 Q146.001 773.987 146.001 766.881 Q146.001 759.751 144.172 756.209 Q142.367 752.645 138.732 752.645 M138.732 748.941 Q144.543 748.941 147.598 753.547 Q150.677 758.131 150.677 766.881 Q150.677 775.608 147.598 780.214 Q144.543 784.797 138.732 784.797 Q132.922 784.797 129.844 780.214 Q126.788 775.608 126.788 766.881 Q126.788 758.131 129.844 753.547 Q132.922 748.941 138.732 748.941 Z\" fill=\"#000000\" fill-rule=\"evenodd\" fill-opacity=\"1\" /><path clip-path=\"url(#clip1900)\" d=\"M 0 0 M67.7838 566.918 L75.4226 566.918 L75.4226 540.552 L67.1125 542.219 L67.1125 537.959 L75.3763 536.293 L80.0522 536.293 L80.0522 566.918 L87.6911 566.918 L87.6911 570.853 L67.7838 570.853 L67.7838 566.918 Z\" fill=\"#000000\" fill-rule=\"evenodd\" fill-opacity=\"1\" /><path clip-path=\"url(#clip1900)\" d=\"M 0 0 M92.7605 564.973 L97.6447 564.973 L97.6447 570.853 L92.7605 570.853 L92.7605 564.973 Z\" fill=\"#000000\" fill-rule=\"evenodd\" fill-opacity=\"1\" /><path clip-path=\"url(#clip1900)\" d=\"M 0 0 M112.714 539.371 Q109.103 539.371 107.274 542.936 Q105.469 546.478 105.469 553.607 Q105.469 560.714 107.274 564.279 Q109.103 567.82 112.714 567.82 Q116.348 567.82 118.154 564.279 Q119.983 560.714 119.983 553.607 Q119.983 546.478 118.154 542.936 Q116.348 539.371 112.714 539.371 M112.714 535.668 Q118.524 535.668 121.58 540.274 Q124.658 544.858 124.658 553.607 Q124.658 562.334 121.58 566.941 Q118.524 571.524 112.714 571.524 Q106.904 571.524 103.825 566.941 Q100.77 562.334 100.77 553.607 Q100.77 544.858 103.825 540.274 Q106.904 535.668 112.714 535.668 Z\" fill=\"#000000\" fill-rule=\"evenodd\" fill-opacity=\"1\" /><path clip-path=\"url(#clip1900)\" d=\"M 0 0 M129.774 536.293 L148.131 536.293 L148.131 540.228 L134.057 540.228 L134.057 548.7 Q135.075 548.353 136.094 548.191 Q137.112 548.006 138.131 548.006 Q143.918 548.006 147.297 551.177 Q150.677 554.348 150.677 559.765 Q150.677 565.344 147.205 568.445 Q143.732 571.524 137.413 571.524 Q135.237 571.524 132.969 571.154 Q130.723 570.783 128.316 570.043 L128.316 565.344 Q130.399 566.478 132.621 567.033 Q134.844 567.589 137.32 567.589 Q141.325 567.589 143.663 565.482 Q146.001 563.376 146.001 559.765 Q146.001 556.154 143.663 554.047 Q141.325 551.941 137.32 551.941 Q135.445 551.941 133.57 552.358 Q131.719 552.774 129.774 553.654 L129.774 536.293 Z\" fill=\"#000000\" fill-rule=\"evenodd\" fill-opacity=\"1\" /><path clip-path=\"url(#clip1900)\" d=\"M 0 0 M68.0152 353.644 L75.6541 353.644 L75.6541 327.279 L67.344 328.945 L67.344 324.686 L75.6078 323.02 L80.2837 323.02 L80.2837 353.644 L87.9225 353.644 L87.9225 357.58 L68.0152 357.58 L68.0152 353.644 Z\" fill=\"#000000\" fill-rule=\"evenodd\" fill-opacity=\"1\" /><path clip-path=\"url(#clip1900)\" d=\"M 0 0 M92.992 351.7 L97.8762 351.7 L97.8762 357.58 L92.992 357.58 L92.992 351.7 Z\" fill=\"#000000\" fill-rule=\"evenodd\" fill-opacity=\"1\" /><path clip-path=\"url(#clip1900)\" d=\"M 0 0 M103.756 353.644 L111.395 353.644 L111.395 327.279 L103.085 328.945 L103.085 324.686 L111.348 323.02 L116.024 323.02 L116.024 353.644 L123.663 353.644 L123.663 357.58 L103.756 357.58 L103.756 353.644 Z\" fill=\"#000000\" fill-rule=\"evenodd\" fill-opacity=\"1\" /><path clip-path=\"url(#clip1900)\" d=\"M 0 0 M138.732 326.098 Q135.121 326.098 133.293 329.663 Q131.487 333.205 131.487 340.334 Q131.487 347.441 133.293 351.006 Q135.121 354.547 138.732 354.547 Q142.367 354.547 144.172 351.006 Q146.001 347.441 146.001 340.334 Q146.001 333.205 144.172 329.663 Q142.367 326.098 138.732 326.098 M138.732 322.395 Q144.543 322.395 147.598 327.001 Q150.677 331.584 150.677 340.334 Q150.677 349.061 147.598 353.668 Q144.543 358.251 138.732 358.251 Q132.922 358.251 129.844 353.668 Q126.788 349.061 126.788 340.334 Q126.788 331.584 129.844 327.001 Q132.922 322.395 138.732 322.395 Z\" fill=\"#000000\" fill-rule=\"evenodd\" fill-opacity=\"1\" /><path clip-path=\"url(#clip1900)\" d=\"M 0 0 M69.0106 140.371 L76.6495 140.371 L76.6495 114.006 L68.3393 115.672 L68.3393 111.413 L76.6032 109.746 L81.2791 109.746 L81.2791 140.371 L88.9179 140.371 L88.9179 144.306 L69.0106 144.306 L69.0106 140.371 Z\" fill=\"#000000\" fill-rule=\"evenodd\" fill-opacity=\"1\" /><path clip-path=\"url(#clip1900)\" d=\"M 0 0 M93.9873 138.427 L98.8716 138.427 L98.8716 144.306 L93.9873 144.306 L93.9873 138.427 Z\" fill=\"#000000\" fill-rule=\"evenodd\" fill-opacity=\"1\" /><path clip-path=\"url(#clip1900)\" d=\"M 0 0 M104.751 140.371 L112.39 140.371 L112.39 114.006 L104.08 115.672 L104.08 111.413 L112.344 109.746 L117.02 109.746 L117.02 140.371 L124.658 140.371 L124.658 144.306 L104.751 144.306 L104.751 140.371 Z\" fill=\"#000000\" fill-rule=\"evenodd\" fill-opacity=\"1\" /><path clip-path=\"url(#clip1900)\" d=\"M 0 0 M129.774 109.746 L148.131 109.746 L148.131 113.682 L134.057 113.682 L134.057 122.154 Q135.075 121.806 136.094 121.644 Q137.112 121.459 138.131 121.459 Q143.918 121.459 147.297 124.631 Q150.677 127.802 150.677 133.218 Q150.677 138.797 147.205 141.899 Q143.732 144.978 137.413 144.978 Q135.237 144.978 132.969 144.607 Q130.723 144.237 128.316 143.496 L128.316 138.797 Q130.399 139.931 132.621 140.487 Q134.844 141.042 137.32 141.042 Q141.325 141.042 143.663 138.936 Q146.001 136.83 146.001 133.218 Q146.001 129.607 143.663 127.501 Q141.325 125.394 137.32 125.394 Q135.445 125.394 133.57 125.811 Q131.719 126.228 129.774 127.107 L129.774 109.746 Z\" fill=\"#000000\" fill-rule=\"evenodd\" fill-opacity=\"1\" /><polyline clip-path=\"url(#clip1902)\" style=\"stroke:#009af9; stroke-width:4; stroke-opacity:1; fill:none\" points=\"\n  236.321,766.846 238.375,761.683 240.43,756.535 242.485,751.402 244.54,746.284 246.595,741.181 248.649,736.093 250.704,731.02 252.759,725.963 254.814,720.921 \n  256.869,715.895 258.923,710.884 260.978,705.889 263.033,700.91 265.088,695.946 267.142,690.998 269.197,686.067 271.252,681.151 273.307,676.251 275.362,671.368 \n  277.416,666.5 279.471,661.649 281.526,656.815 283.581,651.997 285.636,647.195 287.69,642.41 289.745,637.642 291.8,632.89 293.855,628.155 295.91,623.437 \n  297.964,618.736 300.019,614.053 302.074,609.386 304.129,604.736 306.184,600.104 308.238,595.489 310.293,590.892 312.348,586.312 314.403,581.749 316.457,577.204 \n  318.512,572.677 320.567,568.168 322.622,563.676 324.677,559.203 326.731,554.747 328.786,550.309 330.841,545.89 332.896,541.489 334.951,537.106 337.005,532.741 \n  339.06,528.395 341.115,524.067 343.17,519.758 345.225,515.467 347.279,511.195 349.334,506.942 351.389,502.708 353.444,498.493 355.498,494.296 357.553,490.119 \n  359.608,485.96 361.663,481.821 363.718,477.701 365.772,473.601 367.827,469.52 369.882,465.458 371.937,461.416 373.992,457.393 376.046,453.39 378.101,449.407 \n  380.156,445.443 382.211,441.499 384.266,437.576 386.32,433.672 388.375,429.788 390.43,425.924 392.485,422.081 394.54,418.258 396.594,414.455 398.649,410.672 \n  400.704,406.91 402.759,403.168 404.813,399.447 406.868,395.746 408.923,392.067 410.978,388.408 413.033,384.769 415.087,381.152 417.142,377.555 419.197,373.98 \n  421.252,370.425 423.307,366.892 425.361,363.38 427.416,359.889 429.471,356.419 431.526,352.971 433.581,349.544 435.635,346.138 437.69,342.755 439.745,339.392 \n  441.8,336.051 443.855,332.732 445.909,329.435 447.964,326.16 450.019,322.906 452.074,319.675 454.128,316.465 456.183,313.277 458.238,310.112 460.293,306.968 \n  462.348,303.847 464.402,300.748 466.457,297.672 468.512,294.617 470.567,291.585 472.622,288.576 474.676,285.589 476.731,282.625 478.786,279.683 480.841,276.764 \n  482.896,273.868 484.95,270.994 487.005,268.143 489.06,265.316 491.115,262.511 493.17,259.729 495.224,256.97 497.279,254.234 499.334,251.521 501.389,248.831 \n  503.443,246.165 505.498,243.522 507.553,240.902 509.608,238.305 511.663,235.732 513.717,233.182 515.772,230.656 517.827,228.153 519.882,225.674 521.937,223.218 \n  523.991,220.786 526.046,218.378 528.101,215.993 530.156,213.633 532.211,211.295 534.265,208.982 536.32,206.693 538.375,204.428 540.43,202.186 542.485,199.969 \n  544.539,197.775 546.594,195.606 548.649,193.46 550.704,191.339 552.758,189.242 554.813,187.169 556.868,185.121 558.923,183.096 560.978,181.096 563.032,179.121 \n  565.087,177.169 567.142,175.242 569.197,173.34 571.252,171.462 573.306,169.608 575.361,167.779 577.416,165.975 579.471,164.195 581.526,162.439 583.58,160.709 \n  585.635,159.003 587.69,157.321 589.745,155.664 591.8,154.032 593.854,152.425 595.909,150.843 597.964,149.285 600.019,147.752 602.073,146.244 604.128,144.761 \n  606.183,143.302 608.238,141.869 610.293,140.46 612.347,139.077 614.402,137.718 616.457,136.384 618.512,135.075 620.567,133.792 622.621,132.533 624.676,131.299 \n  626.731,130.091 628.786,128.907 630.841,127.748 632.895,126.615 634.95,125.506 637.005,124.423 639.06,123.365 641.115,122.332 643.169,121.324 645.224,120.341 \n  647.279,119.383 649.334,118.451 651.388,117.543 653.443,116.661 655.498,115.804 657.553,114.972 659.608,114.165 661.662,113.383 663.717,112.627 665.772,111.896 \n  667.827,111.19 669.882,110.509 671.936,109.853 673.991,109.223 676.046,108.617 678.101,108.037 680.156,107.482 682.21,106.952 684.265,106.447 686.32,105.968 \n  688.375,105.513 690.43,105.084 692.484,104.68 694.539,104.301 696.594,103.947 698.649,103.618 700.703,103.315 702.758,103.036 704.813,102.782 706.868,102.554 \n  708.923,102.35 710.977,102.172 713.032,102.018 715.087,101.89 717.142,101.787 719.197,101.708 721.251,101.655 723.306,101.626 725.361,101.622 727.416,101.643 \n  729.471,101.69 731.525,101.761 733.58,101.856 735.635,101.977 737.69,102.122 739.745,102.292 741.799,102.487 743.854,102.707 745.909,102.951 747.964,103.22 \n  750.018,103.513 752.073,103.832 754.128,104.174 756.183,104.541 758.238,104.933 760.292,105.349 762.347,105.79 764.402,106.255 766.457,106.745 768.512,107.258 \n  770.566,107.796 772.621,108.359 774.676,108.945 776.731,109.556 778.786,110.191 780.84,110.85 782.895,111.534 784.95,112.241 787.005,112.972 789.06,113.727 \n  791.114,114.507 793.169,115.309 795.224,116.136 797.279,116.987 799.333,117.861 801.388,118.759 803.443,119.681 805.498,120.626 807.553,121.595 809.607,122.588 \n  811.662,123.603 813.717,124.643 815.772,125.705 817.827,126.791 819.881,127.9 821.936,129.033 823.991,130.188 826.046,131.367 828.101,132.568 830.155,133.793 \n  832.21,135.04 834.265,136.311 836.32,137.604 838.375,138.92 840.429,140.258 842.484,141.619 844.539,143.003 846.594,144.41 848.648,145.838 850.703,147.289 \n  852.758,148.763 854.813,150.258 856.868,151.776 858.922,153.316 860.977,154.878 863.032,156.462 865.087,158.068 867.142,159.695 869.196,161.345 871.251,163.016 \n  873.306,164.709 875.361,166.423 877.416,168.159 879.47,169.916 881.525,171.694 883.58,173.494 885.635,175.315 887.69,177.157 889.744,179.02 891.799,180.904 \n  893.854,182.81 895.909,184.735 897.963,186.682 900.018,188.649 902.073,190.637 904.128,192.645 906.183,194.673 908.237,196.722 910.292,198.791 912.347,200.881 \n  914.402,202.99 916.457,205.119 918.511,207.268 920.566,209.438 922.621,211.626 924.676,213.834 926.731,216.062 928.785,218.31 930.84,220.576 932.895,222.862 \n  934.95,225.167 937.005,227.492 939.059,229.835 941.114,232.197 943.169,234.578 945.224,236.978 947.278,239.396 949.333,241.833 951.388,244.288 953.443,246.762 \n  955.498,249.254 957.552,251.764 959.607,254.292 961.662,256.838 963.717,259.402 965.772,261.983 967.826,264.582 969.881,267.199 971.936,269.833 973.991,272.485 \n  976.046,275.154 978.1,277.84 980.155,280.543 982.21,283.263 984.265,285.999 986.32,288.753 988.374,291.523 990.429,294.31 992.484,297.113 994.539,299.932 \n  996.593,302.768 998.648,305.619 1000.7,308.487 1002.76,311.37 1004.81,314.269 1006.87,317.184 1008.92,320.115 1010.98,323.06 1013.03,326.021 1015.09,328.998 \n  1017.14,331.989 1019.2,334.996 1021.25,338.017 1023.31,341.053 1025.36,344.104 1027.42,347.169 1029.47,350.249 1031.52,353.342 1033.58,356.45 1035.63,359.572 \n  1037.69,362.709 1039.74,365.858 1041.8,369.022 1043.85,372.199 1045.91,375.39 1047.96,378.594 1050.02,381.811 1052.07,385.041 1054.13,388.285 1056.18,391.541 \n  1058.24,394.81 1060.29,398.092 1062.35,401.386 1064.4,404.692 1066.46,408.011 1068.51,411.342 1070.57,414.685 1072.62,418.04 1074.68,421.406 1076.73,424.785 \n  1078.79,428.175 1080.84,431.576 1082.89,434.988 1084.95,438.412 1087,441.847 1089.06,445.293 1091.11,448.749 1093.17,452.216 1095.22,455.694 1097.28,459.182 \n  1099.33,462.68 1101.39,466.189 1103.44,469.707 1105.5,473.235 1107.55,476.773 1109.61,480.321 1111.66,483.878 1113.72,487.445 1115.77,491.021 1117.83,494.606 \n  1119.88,498.201 1121.94,501.803 1123.99,505.415 1126.05,509.035 1128.1,512.664 1130.15,516.301 1132.21,519.947 1134.26,523.6 1136.32,527.261 1138.37,530.93 \n  1140.43,534.607 1142.48,538.292 1144.54,541.984 1146.59,545.683 1148.65,549.389 1150.7,553.103 1152.76,556.823 1154.81,560.55 1156.87,564.284 1158.92,568.024 \n  1160.98,571.771 1163.03,575.524 1165.09,579.282 1167.14,583.048 1169.2,586.818 1171.25,590.595 1173.31,594.377 1175.36,598.165 1177.42,601.958 1179.47,605.756 \n  1181.52,609.559 1183.58,613.367 1185.63,617.18 1187.69,620.997 1189.74,624.819 1191.8,628.646 1193.85,632.476 1195.91,636.311 1197.96,640.15 1200.02,643.992 \n  1202.07,647.839 1204.13,651.688 1206.18,655.542 1208.24,659.398 1210.29,663.259 1212.35,667.121 1214.4,670.987 1216.46,674.856 1218.51,678.727 1220.57,682.601 \n  1222.62,686.477 1224.68,690.355 1226.73,694.236 1228.78,698.118 1230.84,702.003 1232.89,705.889 1234.95,709.776 1237,713.666 1239.06,717.556 1241.11,721.447 \n  1243.17,725.34 1245.22,729.233 1247.28,733.128 1249.33,737.023 1251.39,740.918 1253.44,744.814 1255.5,748.71 1257.55,752.606 1259.61,756.503 1261.66,760.399 \n  1263.72,764.295 1265.77,768.19 1267.83,772.085 1269.88,775.979 1271.94,779.873 1273.99,783.765 1276.05,787.656 1278.1,791.547 1280.15,795.436 1282.21,799.324 \n  1284.26,803.209 1286.32,807.093 1288.37,810.975 1290.43,814.856 1292.48,818.734 1294.54,822.61 1296.59,826.484 1298.65,830.355 1300.7,834.224 1302.76,838.089 \n  1304.81,841.952 1306.87,845.813 1308.92,849.669 1310.98,853.522 1313.03,857.373 1315.09,861.219 1317.14,865.063 1319.2,868.902 1321.25,872.737 1323.31,876.568 \n  1325.36,880.395 1327.41,884.218 1329.47,888.036 1331.52,891.85 1333.58,895.659 1335.63,899.464 1337.69,903.264 1339.74,907.058 1341.8,910.847 1343.85,914.631 \n  1345.91,918.41 1347.96,922.183 1350.02,925.951 1352.07,929.712 1354.13,933.468 1356.18,937.218 1358.24,940.962 1360.29,944.7 1362.35,948.43 1364.4,952.155 \n  1366.46,955.873 1368.51,959.584 1370.57,963.288 1372.62,966.985 1374.68,970.676 1376.73,974.359 1378.78,978.035 1380.84,981.702 1382.89,985.363 1384.95,989.016 \n  1387,992.661 1389.06,996.299 1391.11,999.927 1393.17,1003.55 1395.22,1007.16 1397.28,1010.77 1399.33,1014.36 1401.39,1017.95 1403.44,1021.53 1405.5,1025.1 \n  1407.55,1028.66 1409.61,1032.21 1411.66,1035.75 1413.72,1039.28 1415.77,1042.81 1417.83,1046.32 1419.88,1049.82 1421.94,1053.32 1423.99,1056.8 1426.04,1060.28 \n  1428.1,1063.74 1430.15,1067.2 1432.21,1070.64 1434.26,1074.07 1436.32,1077.5 1438.37,1080.91 1440.43,1084.31 1442.48,1087.7 1444.54,1091.08 1446.59,1094.45 \n  1448.65,1097.81 1450.7,1101.15 1452.76,1104.49 1454.81,1107.81 1456.87,1111.12 1458.92,1114.42 1460.98,1117.71 1463.03,1120.99 1465.09,1124.25 1467.14,1127.5 \n  1469.2,1130.74 1471.25,1133.97 1473.31,1137.18 1475.36,1140.39 1477.41,1143.58 1479.47,1146.75 1481.52,1149.92 1483.58,1153.07 1485.63,1156.21 1487.69,1159.33 \n  1489.74,1162.44 1491.8,1165.54 1493.85,1168.63 1495.91,1171.7 1497.96,1174.76 1500.02,1177.8 1502.07,1180.83 1504.13,1183.85 1506.18,1186.85 1508.24,1189.84 \n  1510.29,1192.81 1512.35,1195.77 1514.4,1198.72 1516.46,1201.65 1518.51,1204.56 1520.57,1207.47 1522.62,1210.35 1524.67,1213.22 1526.73,1216.08 1528.78,1218.92 \n  1530.84,1221.75 1532.89,1224.56 1534.95,1227.36 1537,1230.14 1539.06,1232.9 1541.11,1235.65 1543.17,1238.39 1545.22,1241.1 1547.28,1243.81 1549.33,1246.49 \n  1551.39,1249.16 1553.44,1251.82 1555.5,1254.46 1557.55,1257.08 1559.61,1259.68 1561.66,1262.27 1563.72,1264.85 1565.77,1267.4 1567.83,1269.94 1569.88,1272.46 \n  1571.94,1274.97 1573.99,1277.46 1576.04,1279.93 1578.1,1282.38 1580.15,1284.82 1582.21,1287.24 1584.26,1289.64 1586.32,1292.03 1588.37,1294.4 1590.43,1296.75 \n  1592.48,1299.08 1594.54,1301.4 1596.59,1303.69 1598.65,1305.97 1600.7,1308.23 1602.76,1310.48 1604.81,1312.7 1606.87,1314.91 1608.92,1317.1 1610.98,1319.27 \n  1613.03,1321.42 1615.09,1323.56 1617.14,1325.67 1619.2,1327.77 1621.25,1329.85 1623.3,1331.9 1625.36,1333.94 1627.41,1335.97 1629.47,1337.97 1631.52,1339.95 \n  1633.58,1341.92 1635.63,1343.86 1637.69,1345.79 1639.74,1347.69 1641.8,1349.58 1643.85,1351.45 1645.91,1353.3 1647.96,1355.13 1650.02,1356.93 1652.07,1358.72 \n  1654.13,1360.49 1656.18,1362.24 1658.24,1363.97 1660.29,1365.68 1662.35,1367.37 1664.4,1369.04 1666.46,1370.69 1668.51,1372.32 1670.57,1373.93 1672.62,1375.52 \n  1674.67,1377.09 1676.73,1378.64 1678.78,1380.17 1680.84,1381.67 1682.89,1383.16 1684.95,1384.62 1687,1386.07 1689.06,1387.49 1691.11,1388.9 1693.17,1390.28 \n  1695.22,1391.64 1697.28,1392.98 1699.33,1394.3 1701.39,1395.6 1703.44,1396.88 1705.5,1398.13 1707.55,1399.37 1709.61,1400.58 1711.66,1401.77 1713.72,1402.95 \n  1715.77,1404.09 1717.83,1405.22 1719.88,1406.33 1721.93,1407.41 1723.99,1408.48 1726.04,1409.52 1728.1,1410.53 1730.15,1411.53 1732.21,1412.51 1734.26,1413.46 \n  1736.32,1414.39 1738.37,1415.3 1740.43,1416.19 1742.48,1417.05 1744.54,1417.9 1746.59,1418.72 1748.65,1419.52 1750.7,1420.29 1752.76,1421.05 1754.81,1421.78 \n  1756.87,1422.49 1758.92,1423.17 1760.98,1423.84 1763.03,1424.48 1765.09,1425.1 1767.14,1425.69 1769.2,1426.27 1771.25,1426.82 1773.3,1427.35 1775.36,1427.85 \n  1777.41,1428.33 1779.47,1428.79 1781.52,1429.23 1783.58,1429.64 1785.63,1430.03 1787.69,1430.4 1789.74,1430.74 1791.8,1431.07 1793.85,1431.36 1795.91,1431.64 \n  1797.96,1431.89 1800.02,1432.12 1802.07,1432.32 1804.13,1432.5 1806.18,1432.66 1808.24,1432.8 1810.29,1432.91 1812.35,1433 1814.4,1433.06 1816.46,1433.1 \n  1818.51,1433.12 1820.56,1433.11 1822.62,1433.08 1824.67,1433.03 1826.73,1432.95 1828.78,1432.85 1830.84,1432.72 1832.89,1432.57 1834.95,1432.4 1837,1432.21 \n  1839.06,1431.98 1841.11,1431.74 1843.17,1431.47 1845.22,1431.18 1847.28,1430.86 1849.33,1430.52 1851.39,1430.16 1853.44,1429.77 1855.5,1429.36 1857.55,1428.92 \n  1859.61,1428.46 1861.66,1427.97 1863.72,1427.46 1865.77,1426.93 1867.83,1426.37 1869.88,1425.79 1871.93,1425.18 1873.99,1424.55 1876.04,1423.9 1878.1,1423.21 \n  1880.15,1422.51 1882.21,1421.78 1884.26,1421.03 1886.32,1420.25 1888.37,1419.45 1890.43,1418.62 1892.48,1417.77 1894.54,1416.89 1896.59,1415.99 1898.65,1415.07 \n  1900.7,1414.12 1902.76,1413.14 1904.81,1412.14 1906.87,1411.12 1908.92,1410.07 1910.98,1409 1913.03,1407.9 1915.09,1406.78 1917.14,1405.63 1919.19,1404.46 \n  1921.25,1403.26 1923.3,1402.04 1925.36,1400.79 1927.41,1399.52 1929.47,1398.22 1931.52,1396.9 1933.58,1395.55 1935.63,1394.18 1937.69,1392.78 1939.74,1391.36 \n  1941.8,1389.91 1943.85,1388.44 1945.91,1386.94 1947.96,1385.42 1950.02,1383.88 1952.07,1382.3 1954.13,1380.71 1956.18,1379.08 1958.24,1377.44 1960.29,1375.76 \n  1962.35,1374.07 1964.4,1372.34 1966.46,1370.6 1968.51,1368.82 1970.56,1367.03 1972.62,1365.2 1974.67,1363.35 1976.73,1361.48 1978.78,1359.58 1980.84,1357.66 \n  1982.89,1355.71 1984.95,1353.73 1987,1351.73 1989.06,1349.71 1991.11,1347.65 1993.17,1345.58 1995.22,1343.48 1997.28,1341.35 1999.33,1339.2 2001.39,1337.02 \n  2003.44,1334.82 2005.5,1332.59 2007.55,1330.34 2009.61,1328.06 2011.66,1325.75 2013.72,1323.43 2015.77,1321.07 2017.82,1318.69 2019.88,1316.28 2021.93,1313.85 \n  2023.99,1311.4 2026.04,1308.91 2028.1,1306.41 2030.15,1303.87 2032.21,1301.32 2034.26,1298.73 2036.32,1296.12 2038.37,1293.49 2040.43,1290.83 2042.48,1288.14 \n  2044.54,1285.43 2046.59,1282.7 2048.65,1279.93 2050.7,1277.15 2052.76,1274.33 2054.81,1271.5 2056.87,1268.63 2058.92,1265.74 2060.98,1262.83 2063.03,1259.89 \n  2065.09,1256.92 2067.14,1253.93 2069.19,1250.92 2071.25,1247.87 2073.3,1244.81 2075.36,1241.71 2077.41,1238.6 2079.47,1235.45 2081.52,1232.28 2083.58,1229.09 \n  2085.63,1225.87 2087.69,1222.62 2089.74,1219.35 2091.8,1216.05 2093.85,1212.73 2095.91,1209.38 2097.96,1206.01 2100.02,1202.61 2102.07,1199.19 2104.13,1195.74 \n  2106.18,1192.26 2108.24,1188.76 2110.29,1185.23 2112.35,1181.68 2114.4,1178.1 2116.45,1174.5 2118.51,1170.87 2120.56,1167.22 2122.62,1163.54 2124.67,1159.83 \n  2126.73,1156.1 2128.78,1152.35 2130.84,1148.57 2132.89,1144.76 2134.95,1140.93 2137,1137.07 2139.06,1133.19 2141.11,1129.28 2143.17,1125.35 2145.22,1121.39 \n  2147.28,1117.4 2149.33,1113.39 2151.39,1109.36 2153.44,1105.3 2155.5,1101.21 2157.55,1097.1 2159.61,1092.96 2161.66,1088.8 2163.72,1084.61 2165.77,1080.4 \n  2167.82,1076.16 2169.88,1071.9 2171.93,1067.61 2173.99,1063.29 2176.04,1058.96 2178.1,1054.59 2180.15,1050.2 2182.21,1045.78 2184.26,1041.34 2186.32,1036.88 \n  2188.37,1032.38 2190.43,1027.87 2192.48,1023.32 2194.54,1018.76 2196.59,1014.16 2198.65,1009.55 2200.7,1004.9 2202.76,1000.23 2204.81,995.539 2206.87,990.82 \n  2208.92,986.075 2210.98,981.306 2213.03,976.51 2215.08,971.69 2217.14,966.845 2219.19,961.975 2221.25,957.079 2223.3,952.158 2225.36,947.212 2227.41,942.241 \n  2229.47,937.245 2231.52,932.224 2233.58,927.177 2235.63,922.106 2237.69,917.009 2239.74,911.887 2241.8,906.739 2243.85,901.567 2245.91,896.371 2247.96,891.149 \n  2250.02,885.901 2252.07,880.629 2254.13,875.332 2256.18,870.01 2258.24,864.662 2260.29,859.29 2262.35,853.894 2264.4,848.47 2266.45,843.024 2268.51,837.551 \n  2270.56,832.054 2272.62,826.532 2274.67,820.986 2276.73,815.414 2278.78,809.817 2280.84,804.194 2282.89,798.549 2284.95,792.877 2287,787.181 2289.06,781.46 \n  2291.11,775.715 \n  \"/>\n<polyline clip-path=\"url(#clip1902)\" style=\"stroke:#e26f46; stroke-width:4; stroke-opacity:1; fill:none\" points=\"\n  236.321,766.846 238.375,762.581 240.43,758.315 242.485,754.05 244.54,749.786 246.595,745.522 248.649,741.259 250.704,736.997 252.759,732.737 254.814,728.477 \n  256.869,724.219 258.923,719.963 260.978,715.709 263.033,711.457 265.088,707.206 267.142,702.959 269.197,698.713 271.252,694.471 273.307,690.231 275.362,685.995 \n  277.416,681.761 279.471,677.531 281.526,673.304 283.581,669.081 285.636,664.862 287.69,660.647 289.745,656.437 291.8,652.23 293.855,648.028 295.91,643.831 \n  297.964,639.638 300.019,635.451 302.074,631.269 304.129,627.092 306.184,622.921 308.238,618.755 310.293,614.595 312.348,610.442 314.403,606.294 316.457,602.153 \n  318.512,598.018 320.567,593.89 322.622,589.769 324.677,585.654 326.731,581.547 328.786,577.447 330.841,573.355 332.896,569.27 334.951,565.193 337.005,561.125 \n  339.06,557.064 341.115,553.011 343.17,548.967 345.225,544.932 347.279,540.905 349.334,536.887 351.389,532.878 353.444,528.879 355.498,524.889 357.553,520.908 \n  359.608,516.937 361.663,512.976 363.718,509.025 365.772,505.085 367.827,501.154 369.882,497.234 371.937,493.325 373.992,489.427 376.046,485.539 378.101,481.663 \n  380.156,477.797 382.211,473.944 384.266,470.101 386.32,466.271 388.375,462.452 390.43,458.646 392.485,454.851 394.54,451.069 396.594,447.299 398.649,443.542 \n  400.704,439.798 402.759,436.067 404.813,432.348 406.868,428.643 408.923,424.951 410.978,421.273 413.033,417.609 415.087,413.958 417.142,410.321 419.197,406.698 \n  421.252,403.089 423.307,399.495 425.361,395.915 427.416,392.35 429.471,388.8 431.526,385.265 433.581,381.744 435.635,378.239 437.69,374.749 439.745,371.275 \n  441.8,367.816 443.855,364.373 445.909,360.946 447.964,357.535 450.019,354.141 452.074,350.762 454.128,347.4 456.183,344.054 458.238,340.725 460.293,337.413 \n  462.348,334.118 464.402,330.84 466.457,327.579 468.512,324.336 470.567,321.11 472.622,317.901 474.676,314.711 476.731,311.538 478.786,308.383 480.841,305.246 \n  482.896,302.128 484.95,299.027 487.005,295.946 489.06,292.883 491.115,289.838 493.17,286.813 495.224,283.806 497.279,280.818 499.334,277.85 501.389,274.901 \n  503.443,271.971 505.498,269.061 507.553,266.171 509.608,263.3 511.663,260.449 513.717,257.618 515.772,254.808 517.827,252.017 519.882,249.247 521.937,246.497 \n  523.991,243.768 526.046,241.059 528.101,238.372 530.156,235.705 532.211,233.059 534.265,230.434 536.32,227.83 538.375,225.248 540.43,222.686 542.485,220.147 \n  544.539,217.629 546.594,215.133 548.649,212.658 550.704,210.205 552.758,207.775 554.813,205.366 556.868,202.98 558.923,200.615 560.978,198.274 563.032,195.954 \n  565.087,193.657 567.142,191.383 569.197,189.132 571.252,186.903 573.306,184.697 575.361,182.514 577.416,180.355 579.471,178.218 581.526,176.105 583.58,174.015 \n  585.635,171.948 587.69,169.905 589.745,167.885 591.8,165.889 593.854,163.917 595.909,161.969 597.964,160.044 600.019,158.144 602.073,156.267 604.128,154.415 \n  606.183,152.586 608.238,150.782 610.293,149.003 612.347,147.247 614.402,145.516 616.457,143.81 618.512,142.128 620.567,140.471 622.621,138.839 624.676,137.232 \n  626.731,135.649 628.786,134.091 630.841,132.558 632.895,131.051 634.95,129.568 637.005,128.111 639.06,126.678 641.115,125.271 643.169,123.89 645.224,122.533 \n  647.279,121.203 649.334,119.897 651.388,118.617 653.443,117.363 655.498,116.135 657.553,114.932 659.608,113.755 661.662,112.603 663.717,111.478 665.772,110.378 \n  667.827,109.304 669.882,108.256 671.936,107.235 673.991,106.239 676.046,105.269 678.101,104.326 680.156,103.408 682.21,102.517 684.265,101.652 686.32,100.813 \n  688.375,100.001 690.43,99.2148 692.484,98.4551 694.539,97.7217 696.594,97.0148 698.649,96.3343 700.703,95.6803 702.758,95.0527 704.813,94.4517 706.868,93.8773 \n  708.923,93.3294 710.977,92.8081 713.032,92.3134 715.087,91.8453 717.142,91.4039 719.197,90.9891 721.251,90.6011 723.306,90.2397 725.361,89.905 727.416,89.5971 \n  729.471,89.3159 731.525,89.0614 733.58,88.8337 735.635,88.6328 737.69,88.4586 739.745,88.3113 741.799,88.1907 743.854,88.0969 745.909,88.0299 747.964,87.9897 \n  750.018,87.9763 752.073,87.9897 754.128,88.0299 756.183,88.0969 758.238,88.1907 760.292,88.3113 762.347,88.4586 764.402,88.6328 766.457,88.8337 768.512,89.0614 \n  770.566,89.3159 772.621,89.5971 774.676,89.905 776.731,90.2397 778.786,90.6011 780.84,90.9891 782.895,91.4039 784.95,91.8453 787.005,92.3134 789.06,92.8081 \n  791.114,93.3294 793.169,93.8773 795.224,94.4517 797.279,95.0527 799.333,95.6803 801.388,96.3343 803.443,97.0148 805.498,97.7217 807.553,98.4551 809.607,99.2148 \n  811.662,100.001 813.717,100.813 815.772,101.652 817.827,102.517 819.881,103.408 821.936,104.326 823.991,105.269 826.046,106.239 828.101,107.235 830.155,108.256 \n  832.21,109.304 834.265,110.378 836.32,111.478 838.375,112.603 840.429,113.755 842.484,114.932 844.539,116.135 846.594,117.363 848.648,118.617 850.703,119.897 \n  852.758,121.203 854.813,122.533 856.868,123.89 858.922,125.271 860.977,126.678 863.032,128.111 865.087,129.568 867.142,131.051 869.196,132.558 871.251,134.091 \n  873.306,135.649 875.361,137.232 877.416,138.839 879.47,140.471 881.525,142.128 883.58,143.81 885.635,145.516 887.69,147.247 889.744,149.003 891.799,150.782 \n  893.854,152.586 895.909,154.415 897.963,156.267 900.018,158.144 902.073,160.044 904.128,161.969 906.183,163.917 908.237,165.889 910.292,167.885 912.347,169.905 \n  914.402,171.948 916.457,174.015 918.511,176.105 920.566,178.218 922.621,180.355 924.676,182.514 926.731,184.697 928.785,186.903 930.84,189.132 932.895,191.383 \n  934.95,193.657 937.005,195.954 939.059,198.274 941.114,200.615 943.169,202.98 945.224,205.366 947.278,207.775 949.333,210.205 951.388,212.658 953.443,215.133 \n  955.498,217.629 957.552,220.147 959.607,222.686 961.662,225.248 963.717,227.83 965.772,230.434 967.826,233.059 969.881,235.705 971.936,238.372 973.991,241.059 \n  976.046,243.768 978.1,246.497 980.155,249.247 982.21,252.017 984.265,254.808 986.32,257.618 988.374,260.449 990.429,263.3 992.484,266.171 994.539,269.061 \n  996.593,271.971 998.648,274.901 1000.7,277.85 1002.76,280.818 1004.81,283.806 1006.87,286.813 1008.92,289.838 1010.98,292.883 1013.03,295.946 1015.09,299.027 \n  1017.14,302.128 1019.2,305.246 1021.25,308.383 1023.31,311.538 1025.36,314.711 1027.42,317.901 1029.47,321.11 1031.52,324.336 1033.58,327.579 1035.63,330.84 \n  1037.69,334.118 1039.74,337.413 1041.8,340.725 1043.85,344.054 1045.91,347.4 1047.96,350.762 1050.02,354.141 1052.07,357.535 1054.13,360.946 1056.18,364.373 \n  1058.24,367.816 1060.29,371.275 1062.35,374.749 1064.4,378.239 1066.46,381.744 1068.51,385.265 1070.57,388.8 1072.62,392.35 1074.68,395.915 1076.73,399.495 \n  1078.79,403.089 1080.84,406.698 1082.89,410.321 1084.95,413.958 1087,417.609 1089.06,421.273 1091.11,424.951 1093.17,428.643 1095.22,432.348 1097.28,436.067 \n  1099.33,439.798 1101.39,443.542 1103.44,447.299 1105.5,451.069 1107.55,454.851 1109.61,458.646 1111.66,462.452 1113.72,466.271 1115.77,470.101 1117.83,473.944 \n  1119.88,477.797 1121.94,481.663 1123.99,485.539 1126.05,489.427 1128.1,493.325 1130.15,497.234 1132.21,501.154 1134.26,505.085 1136.32,509.025 1138.37,512.976 \n  1140.43,516.937 1142.48,520.908 1144.54,524.889 1146.59,528.879 1148.65,532.878 1150.7,536.887 1152.76,540.905 1154.81,544.932 1156.87,548.967 1158.92,553.011 \n  1160.98,557.064 1163.03,561.125 1165.09,565.193 1167.14,569.27 1169.2,573.355 1171.25,577.447 1173.31,581.547 1175.36,585.654 1177.42,589.769 1179.47,593.89 \n  1181.52,598.018 1183.58,602.153 1185.63,606.294 1187.69,610.442 1189.74,614.595 1191.8,618.755 1193.85,622.921 1195.91,627.092 1197.96,631.269 1200.02,635.451 \n  1202.07,639.638 1204.13,643.831 1206.18,648.028 1208.24,652.23 1210.29,656.437 1212.35,660.647 1214.4,664.862 1216.46,669.081 1218.51,673.304 1220.57,677.531 \n  1222.62,681.761 1224.68,685.995 1226.73,690.231 1228.78,694.471 1230.84,698.713 1232.89,702.959 1234.95,707.206 1237,711.457 1239.06,715.709 1241.11,719.963 \n  1243.17,724.219 1245.22,728.477 1247.28,732.737 1249.33,736.997 1251.39,741.259 1253.44,745.522 1255.5,749.786 1257.55,754.05 1259.61,758.315 1261.66,762.581 \n  1263.72,766.846 1265.77,771.111 1267.83,775.377 1269.88,779.642 1271.94,783.906 1273.99,788.17 1276.05,792.433 1278.1,796.695 1280.15,800.955 1282.21,805.215 \n  1284.26,809.473 1286.32,813.729 1288.37,817.983 1290.43,822.235 1292.48,826.486 1294.54,830.733 1296.59,834.979 1298.65,839.221 1300.7,843.461 1302.76,847.697 \n  1304.81,851.931 1306.87,856.161 1308.92,860.388 1310.98,864.611 1313.03,868.83 1315.09,873.045 1317.14,877.255 1319.2,881.462 1321.25,885.664 1323.31,889.861 \n  1325.36,894.053 1327.41,898.241 1329.47,902.423 1331.52,906.6 1333.58,910.771 1335.63,914.937 1337.69,919.097 1339.74,923.25 1341.8,927.398 1343.85,931.539 \n  1345.91,935.674 1347.96,939.802 1350.02,943.923 1352.07,948.038 1354.13,952.145 1356.18,956.245 1358.24,960.337 1360.29,964.422 1362.35,968.499 1364.4,972.567 \n  1366.46,976.628 1368.51,980.681 1370.57,984.725 1372.62,988.76 1374.68,992.787 1376.73,996.805 1378.78,1000.81 1380.84,1004.81 1382.89,1008.8 1384.95,1012.78 \n  1387,1016.75 1389.06,1020.72 1391.11,1024.67 1393.17,1028.61 1395.22,1032.54 1397.28,1036.46 1399.33,1040.37 1401.39,1044.27 1403.44,1048.15 1405.5,1052.03 \n  1407.55,1055.89 1409.61,1059.75 1411.66,1063.59 1413.72,1067.42 1415.77,1071.24 1417.83,1075.05 1419.88,1078.84 1421.94,1082.62 1423.99,1086.39 1426.04,1090.15 \n  1428.1,1093.89 1430.15,1097.63 1432.21,1101.34 1434.26,1105.05 1436.32,1108.74 1438.37,1112.42 1440.43,1116.08 1442.48,1119.73 1444.54,1123.37 1446.59,1126.99 \n  1448.65,1130.6 1450.7,1134.2 1452.76,1137.78 1454.81,1141.34 1456.87,1144.89 1458.92,1148.43 1460.98,1151.95 1463.03,1155.45 1465.09,1158.94 1467.14,1162.42 \n  1469.2,1165.88 1471.25,1169.32 1473.31,1172.75 1475.36,1176.16 1477.41,1179.55 1479.47,1182.93 1481.52,1186.29 1483.58,1189.64 1485.63,1192.97 1487.69,1196.28 \n  1489.74,1199.57 1491.8,1202.85 1493.85,1206.11 1495.91,1209.36 1497.96,1212.58 1500.02,1215.79 1502.07,1218.98 1504.13,1222.15 1506.18,1225.31 1508.24,1228.45 \n  1510.29,1231.56 1512.35,1234.66 1514.4,1237.75 1516.46,1240.81 1518.51,1243.85 1520.57,1246.88 1522.62,1249.89 1524.67,1252.87 1526.73,1255.84 1528.78,1258.79 \n  1530.84,1261.72 1532.89,1264.63 1534.95,1267.52 1537,1270.39 1539.06,1273.24 1541.11,1276.07 1543.17,1278.88 1545.22,1281.67 1547.28,1284.45 1549.33,1287.19 \n  1551.39,1289.92 1553.44,1292.63 1555.5,1295.32 1557.55,1297.99 1559.61,1300.63 1561.66,1303.26 1563.72,1305.86 1565.77,1308.44 1567.83,1311.01 1569.88,1313.55 \n  1571.94,1316.06 1573.99,1318.56 1576.04,1321.03 1578.1,1323.49 1580.15,1325.92 1582.21,1328.33 1584.26,1330.71 1586.32,1333.08 1588.37,1335.42 1590.43,1337.74 \n  1592.48,1340.03 1594.54,1342.31 1596.59,1344.56 1598.65,1346.79 1600.7,1348.99 1602.76,1351.18 1604.81,1353.34 1606.87,1355.47 1608.92,1357.59 1610.98,1359.68 \n  1613.03,1361.74 1615.09,1363.79 1617.14,1365.81 1619.2,1367.8 1621.25,1369.77 1623.3,1371.72 1625.36,1373.65 1627.41,1375.55 1629.47,1377.42 1631.52,1379.28 \n  1633.58,1381.11 1635.63,1382.91 1637.69,1384.69 1639.74,1386.44 1641.8,1388.18 1643.85,1389.88 1645.91,1391.56 1647.96,1393.22 1650.02,1394.85 1652.07,1396.46 \n  1654.13,1398.04 1656.18,1399.6 1658.24,1401.13 1660.29,1402.64 1662.35,1404.12 1664.4,1405.58 1666.46,1407.01 1668.51,1408.42 1670.57,1409.8 1672.62,1411.16 \n  1674.67,1412.49 1676.73,1413.79 1678.78,1415.07 1680.84,1416.33 1682.89,1417.56 1684.95,1418.76 1687,1419.94 1689.06,1421.09 1691.11,1422.21 1693.17,1423.31 \n  1695.22,1424.39 1697.28,1425.44 1699.33,1426.46 1701.39,1427.45 1703.44,1428.42 1705.5,1429.37 1707.55,1430.28 1709.61,1431.17 1711.66,1432.04 1713.72,1432.88 \n  1715.77,1433.69 1717.83,1434.48 1719.88,1435.24 1721.93,1435.97 1723.99,1436.68 1726.04,1437.36 1728.1,1438.01 1730.15,1438.64 1732.21,1439.24 1734.26,1439.81 \n  1736.32,1440.36 1738.37,1440.88 1740.43,1441.38 1742.48,1441.85 1744.54,1442.29 1746.59,1442.7 1748.65,1443.09 1750.7,1443.45 1752.76,1443.79 1754.81,1444.09 \n  1756.87,1444.38 1758.92,1444.63 1760.98,1444.86 1763.03,1445.06 1765.09,1445.23 1767.14,1445.38 1769.2,1445.5 1771.25,1445.6 1773.3,1445.66 1775.36,1445.7 \n  1777.41,1445.72 1779.47,1445.7 1781.52,1445.66 1783.58,1445.6 1785.63,1445.5 1787.69,1445.38 1789.74,1445.23 1791.8,1445.06 1793.85,1444.86 1795.91,1444.63 \n  1797.96,1444.38 1800.02,1444.09 1802.07,1443.79 1804.13,1443.45 1806.18,1443.09 1808.24,1442.7 1810.29,1442.29 1812.35,1441.85 1814.4,1441.38 1816.46,1440.88 \n  1818.51,1440.36 1820.56,1439.81 1822.62,1439.24 1824.67,1438.64 1826.73,1438.01 1828.78,1437.36 1830.84,1436.68 1832.89,1435.97 1834.95,1435.24 1837,1434.48 \n  1839.06,1433.69 1841.11,1432.88 1843.17,1432.04 1845.22,1431.17 1847.28,1430.28 1849.33,1429.37 1851.39,1428.42 1853.44,1427.45 1855.5,1426.46 1857.55,1425.44 \n  1859.61,1424.39 1861.66,1423.31 1863.72,1422.21 1865.77,1421.09 1867.83,1419.94 1869.88,1418.76 1871.93,1417.56 1873.99,1416.33 1876.04,1415.07 1878.1,1413.79 \n  1880.15,1412.49 1882.21,1411.16 1884.26,1409.8 1886.32,1408.42 1888.37,1407.01 1890.43,1405.58 1892.48,1404.12 1894.54,1402.64 1896.59,1401.13 1898.65,1399.6 \n  1900.7,1398.04 1902.76,1396.46 1904.81,1394.85 1906.87,1393.22 1908.92,1391.56 1910.98,1389.88 1913.03,1388.18 1915.09,1386.44 1917.14,1384.69 1919.19,1382.91 \n  1921.25,1381.11 1923.3,1379.28 1925.36,1377.42 1927.41,1375.55 1929.47,1373.65 1931.52,1371.72 1933.58,1369.77 1935.63,1367.8 1937.69,1365.81 1939.74,1363.79 \n  1941.8,1361.74 1943.85,1359.68 1945.91,1357.59 1947.96,1355.47 1950.02,1353.34 1952.07,1351.18 1954.13,1348.99 1956.18,1346.79 1958.24,1344.56 1960.29,1342.31 \n  1962.35,1340.03 1964.4,1337.74 1966.46,1335.42 1968.51,1333.08 1970.56,1330.71 1972.62,1328.33 1974.67,1325.92 1976.73,1323.49 1978.78,1321.03 1980.84,1318.56 \n  1982.89,1316.06 1984.95,1313.55 1987,1311.01 1989.06,1308.44 1991.11,1305.86 1993.17,1303.26 1995.22,1300.63 1997.28,1297.99 1999.33,1295.32 2001.39,1292.63 \n  2003.44,1289.92 2005.5,1287.19 2007.55,1284.45 2009.61,1281.67 2011.66,1278.88 2013.72,1276.07 2015.77,1273.24 2017.82,1270.39 2019.88,1267.52 2021.93,1264.63 \n  2023.99,1261.72 2026.04,1258.79 2028.1,1255.84 2030.15,1252.87 2032.21,1249.89 2034.26,1246.88 2036.32,1243.85 2038.37,1240.81 2040.43,1237.75 2042.48,1234.66 \n  2044.54,1231.56 2046.59,1228.45 2048.65,1225.31 2050.7,1222.15 2052.76,1218.98 2054.81,1215.79 2056.87,1212.58 2058.92,1209.36 2060.98,1206.11 2063.03,1202.85 \n  2065.09,1199.57 2067.14,1196.28 2069.19,1192.97 2071.25,1189.64 2073.3,1186.29 2075.36,1182.93 2077.41,1179.55 2079.47,1176.16 2081.52,1172.75 2083.58,1169.32 \n  2085.63,1165.88 2087.69,1162.42 2089.74,1158.94 2091.8,1155.45 2093.85,1151.95 2095.91,1148.43 2097.96,1144.89 2100.02,1141.34 2102.07,1137.78 2104.13,1134.2 \n  2106.18,1130.6 2108.24,1126.99 2110.29,1123.37 2112.35,1119.73 2114.4,1116.08 2116.45,1112.42 2118.51,1108.74 2120.56,1105.05 2122.62,1101.34 2124.67,1097.63 \n  2126.73,1093.89 2128.78,1090.15 2130.84,1086.39 2132.89,1082.62 2134.95,1078.84 2137,1075.05 2139.06,1071.24 2141.11,1067.42 2143.17,1063.59 2145.22,1059.75 \n  2147.28,1055.89 2149.33,1052.03 2151.39,1048.15 2153.44,1044.27 2155.5,1040.37 2157.55,1036.46 2159.61,1032.54 2161.66,1028.61 2163.72,1024.67 2165.77,1020.72 \n  2167.82,1016.75 2169.88,1012.78 2171.93,1008.8 2173.99,1004.81 2176.04,1000.81 2178.1,996.805 2180.15,992.787 2182.21,988.76 2184.26,984.725 2186.32,980.681 \n  2188.37,976.628 2190.43,972.567 2192.48,968.499 2194.54,964.422 2196.59,960.337 2198.65,956.245 2200.7,952.145 2202.76,948.038 2204.81,943.923 2206.87,939.802 \n  2208.92,935.674 2210.98,931.539 2213.03,927.398 2215.08,923.25 2217.14,919.097 2219.19,914.937 2221.25,910.771 2223.3,906.6 2225.36,902.423 2227.41,898.241 \n  2229.47,894.053 2231.52,889.861 2233.58,885.664 2235.63,881.462 2237.69,877.255 2239.74,873.045 2241.8,868.83 2243.85,864.611 2245.91,860.388 2247.96,856.161 \n  2250.02,851.931 2252.07,847.697 2254.13,843.461 2256.18,839.221 2258.24,834.979 2260.29,830.733 2262.35,826.486 2264.4,822.235 2266.45,817.983 2268.51,813.729 \n  2270.56,809.473 2272.62,805.215 2274.67,800.955 2276.73,796.695 2278.78,792.433 2280.84,788.17 2282.89,783.906 2284.95,779.642 2287,775.377 2289.06,771.111 \n  2291.11,766.846 \n  \"/>\n<path clip-path=\"url(#clip1900)\" d=\"\nM1946.61 312.204 L2280.76 312.204 L2280.76 130.764 L1946.61 130.764  Z\n  \" fill=\"#ffffff\" fill-rule=\"evenodd\" fill-opacity=\"1\"/>\n<polyline clip-path=\"url(#clip1900)\" style=\"stroke:#000000; stroke-width:4; stroke-opacity:1; fill:none\" points=\"\n  1946.61,312.204 2280.76,312.204 2280.76,130.764 1946.61,130.764 1946.61,312.204 \n  \"/>\n<polyline clip-path=\"url(#clip1900)\" style=\"stroke:#009af9; stroke-width:4; stroke-opacity:1; fill:none\" points=\"\n  1970.61,191.244 2114.61,191.244 \n  \"/>\n<path clip-path=\"url(#clip1900)\" d=\"M 0 0 M2138.61 173.964 L2144.91 173.964 L2160.23 202.876 L2160.23 173.964 L2164.77 173.964 L2164.77 208.524 L2158.47 208.524 L2143.15 179.612 L2143.15 208.524 L2138.61 208.524 L2138.61 173.964 Z\" fill=\"#000000\" fill-rule=\"evenodd\" fill-opacity=\"1\" /><path clip-path=\"url(#clip1900)\" d=\"M 0 0 M2169.42 173.964 L2175.72 173.964 L2191.04 202.876 L2191.04 173.964 L2195.58 173.964 L2195.58 208.524 L2189.28 208.524 L2173.96 179.612 L2173.96 208.524 L2169.42 208.524 L2169.42 173.964 Z\" fill=\"#000000\" fill-rule=\"evenodd\" fill-opacity=\"1\" /><polyline clip-path=\"url(#clip1900)\" style=\"stroke:#e26f46; stroke-width:4; stroke-opacity:1; fill:none\" points=\"\n  1970.61,251.724 2114.61,251.724 \n  \"/>\n<path clip-path=\"url(#clip1900)\" d=\"M 0 0 M2138.61 234.444 L2167.85 234.444 L2167.85 238.379 L2155.58 238.379 L2155.58 269.004 L2150.88 269.004 L2150.88 238.379 L2138.61 238.379 L2138.61 234.444 Z\" fill=\"#000000\" fill-rule=\"evenodd\" fill-opacity=\"1\" /><path clip-path=\"url(#clip1900)\" d=\"M 0 0 M2180.37 247.06 Q2179.65 246.643 2178.8 246.458 Q2177.96 246.25 2176.95 246.25 Q2173.33 246.25 2171.39 248.611 Q2169.47 250.949 2169.47 255.347 L2169.47 269.004 L2165.19 269.004 L2165.19 243.078 L2169.47 243.078 L2169.47 247.106 Q2170.81 244.745 2172.96 243.611 Q2175.12 242.453 2178.2 242.453 Q2178.64 242.453 2179.17 242.523 Q2179.7 242.569 2180.35 242.685 L2180.37 247.06 Z\" fill=\"#000000\" fill-rule=\"evenodd\" fill-opacity=\"1\" /><path clip-path=\"url(#clip1900)\" d=\"M 0 0 M2184.4 258.773 L2184.4 243.078 L2188.66 243.078 L2188.66 258.611 Q2188.66 262.291 2190.09 264.143 Q2191.53 265.972 2194.4 265.972 Q2197.85 265.972 2199.84 263.773 Q2201.85 261.574 2201.85 257.777 L2201.85 243.078 L2206.11 243.078 L2206.11 269.004 L2201.85 269.004 L2201.85 265.023 Q2200.3 267.384 2198.24 268.541 Q2196.21 269.675 2193.5 269.675 Q2189.03 269.675 2186.71 266.898 Q2184.4 264.12 2184.4 258.773 M2195.12 242.453 L2195.12 242.453 Z\" fill=\"#000000\" fill-rule=\"evenodd\" fill-opacity=\"1\" /><path clip-path=\"url(#clip1900)\" d=\"M 0 0 M2232.76 254.976 L2232.76 257.06 L2213.17 257.06 Q2213.45 261.458 2215.81 263.773 Q2218.2 266.064 2222.43 266.064 Q2224.89 266.064 2227.18 265.462 Q2229.49 264.861 2231.76 263.657 L2231.76 267.685 Q2229.47 268.657 2227.06 269.166 Q2224.65 269.675 2222.18 269.675 Q2215.97 269.675 2212.34 266.064 Q2208.73 262.453 2208.73 256.296 Q2208.73 249.93 2212.15 246.203 Q2215.6 242.453 2221.44 242.453 Q2226.67 242.453 2229.7 245.833 Q2232.76 249.189 2232.76 254.976 M2228.5 253.726 Q2228.45 250.231 2226.53 248.148 Q2224.63 246.064 2221.48 246.064 Q2217.92 246.064 2215.77 248.078 Q2213.64 250.092 2213.31 253.75 L2228.5 253.726 Z\" fill=\"#000000\" fill-rule=\"evenodd\" fill-opacity=\"1\" /></svg>\n"
          },
          "metadata": {
            "tags": []
          },
          "execution_count": 14
        }
      ]
    },
    {
      "cell_type": "code",
      "metadata": {
        "id": "0PQvEmEsvf5d",
        "colab_type": "code",
        "colab": {
          "base_uri": "https://localhost:8080/",
          "height": 85
        },
        "outputId": "6b4c0132-a5fd-49ab-c3bb-f9ca38f67d90"
      },
      "source": [
        "W = [randn(32,10),randn(32,32),randn(5,32)]\n",
        "b = [zeros(32),zeros(32),zeros(5)]"
      ],
      "execution_count": 15,
      "outputs": [
        {
          "output_type": "execute_result",
          "data": {
            "text/plain": [
              "3-element Array{Array{Float64,1},1}:\n",
              " [0.0, 0.0, 0.0, 0.0, 0.0, 0.0, 0.0, 0.0, 0.0, 0.0  …  0.0, 0.0, 0.0, 0.0, 0.0, 0.0, 0.0, 0.0, 0.0, 0.0]\n",
              " [0.0, 0.0, 0.0, 0.0, 0.0, 0.0, 0.0, 0.0, 0.0, 0.0  …  0.0, 0.0, 0.0, 0.0, 0.0, 0.0, 0.0, 0.0, 0.0, 0.0]\n",
              " [0.0, 0.0, 0.0, 0.0, 0.0]                                                                              "
            ]
          },
          "metadata": {
            "tags": []
          },
          "execution_count": 15
        }
      ]
    },
    {
      "cell_type": "code",
      "metadata": {
        "id": "xiPZarqJxzTg",
        "colab_type": "code",
        "colab": {
          "base_uri": "https://localhost:8080/",
          "height": 119
        },
        "outputId": "1288e759-a17c-44d0-906b-be88afc82e41"
      },
      "source": [
        "NN(x) = W[3]*tanh.(W[2]*tanh.(W[1]*x + b[1]) + b[2]) + b[3]\n",
        "NN(rand(10))"
      ],
      "execution_count": 16,
      "outputs": [
        {
          "output_type": "execute_result",
          "data": {
            "text/plain": [
              "5-element Array{Float64,1}:\n",
              " -7.378149723656156\n",
              "  4.661770264658618\n",
              "  5.235999216748236\n",
              "  5.353587067864548\n",
              "  5.24412722650813 "
            ]
          },
          "metadata": {
            "tags": []
          },
          "execution_count": 16
        }
      ]
    },
    {
      "cell_type": "code",
      "metadata": {
        "id": "h5sri9d5x45C",
        "colab_type": "code",
        "colab": {
          "base_uri": "https://localhost:8080/",
          "height": 119
        },
        "outputId": "accf97fa-ba60-4b76-d224-6bfc6619e1c4"
      },
      "source": [
        "NN3 = Chain(Dense(10,32,x->x^2),\n",
        "            Dense(32,32,x->max(0,x)),\n",
        "            Dense(32,5))\n",
        "NN(rand(10))"
      ],
      "execution_count": 17,
      "outputs": [
        {
          "output_type": "execute_result",
          "data": {
            "text/plain": [
              "5-element Array{Float64,1}:\n",
              " -4.995369349244915 \n",
              "  3.2167626020650357\n",
              "  6.342144536924922 \n",
              "  7.536592296726274 \n",
              "  3.8858781924875485"
            ]
          },
          "metadata": {
            "tags": []
          },
          "execution_count": 17
        }
      ]
    },
    {
      "cell_type": "code",
      "metadata": {
        "id": "OKS0jhDhyeKA",
        "colab_type": "code",
        "colab": {
          "base_uri": "https://localhost:8080/",
          "height": 34
        },
        "outputId": "b9ebc067-e2d5-41aa-9026-9ecb992dfdfb"
      },
      "source": [
        "function lotka!(du,u,p,t)\n",
        "    x,y = u\n",
        "    α,β,γ,δ = p\n",
        "    du[1] = α*x - β*x*y\n",
        "    du[2] = -δ*y + γ*x*y\n",
        "end"
      ],
      "execution_count": 18,
      "outputs": [
        {
          "output_type": "execute_result",
          "data": {
            "text/plain": [
              "lotka! (generic function with 1 method)"
            ]
          },
          "metadata": {
            "tags": []
          },
          "execution_count": 18
        }
      ]
    },
    {
      "cell_type": "code",
      "metadata": {
        "id": "LoW3BbJIyrxh",
        "colab_type": "code",
        "colab": {
          "base_uri": "https://localhost:8080/",
          "height": 34
        },
        "outputId": "a24072ce-cfa3-468d-9be8-e1aa9ee86a25"
      },
      "source": [
        "u0 = [1.0,1.0]\n",
        "p = [1.5,1.0,3.0,1.0]\n",
        "tspan = (0.0,10.0)"
      ],
      "execution_count": 19,
      "outputs": [
        {
          "output_type": "execute_result",
          "data": {
            "text/plain": [
              "(0.0, 10.0)"
            ]
          },
          "metadata": {
            "tags": []
          },
          "execution_count": 19
        }
      ]
    },
    {
      "cell_type": "code",
      "metadata": {
        "id": "th_1yII_yw2V",
        "colab_type": "code",
        "colab": {
          "base_uri": "https://localhost:8080/",
          "height": 778
        },
        "outputId": "95f7525c-db21-48db-ea79-ede92444eca8"
      },
      "source": [
        "import Pkg;\n",
        "Pkg.add(\"DifferentialEquations\")"
      ],
      "execution_count": 20,
      "outputs": [
        {
          "output_type": "stream",
          "text": [
            "\u001b[32m\u001b[1m Resolving\u001b[22m\u001b[39m package versions...\n"
          ],
          "name": "stdout"
        },
        {
          "output_type": "error",
          "ename": "Pkg.Types.ResolverError",
          "evalue": "ignored",
          "traceback": [
            "Unsatisfiable requirements detected for package DiffEqBase [2b5f629d]:\n DiffEqBase [2b5f629d] log:\n ├─possible versions are: [3.13.2-3.13.3, 4.0.0-4.0.1, 4.1.0, 4.2.0, 4.3.0-4.3.1, 4.4.0, 4.5.0, 4.6.0, 4.7.0, 4.8.0, 4.9.0, 4.10.0-4.10.1, 4.11.0-4.11.1, 4.12.0, 4.13.0, 4.14.0-4.14.1, 4.15.0, 4.16.0, 4.17.0, 4.18.0, 4.19.0, 4.20.0-4.20.3, 4.21.0, 4.21.2-4.21.3, 4.22.0-4.22.2, 4.23.0, 4.23.2-4.23.4, 4.24.0-4.24.3, 4.25.0-4.25.1, 4.26.0-4.26.3, 4.27.0-4.27.1, 4.28.0-4.28.1, 4.29.0-4.29.2, 4.30.0-4.30.2, 4.31.0-4.31.2, 4.32.0, 5.0.0-5.0.1, 5.1.0, 5.2.0-5.2.3, 5.3.0-5.3.2, 5.4.0-5.4.1, 5.5.0-5.5.2, 5.6.0-5.6.4, 5.7.0, 5.8.0-5.8.1, 5.9.0, 5.10.0-5.10.3, 5.11.0-5.11.1, 5.12.0, 5.13.0, 5.14.0-5.14.2, 5.15.0, 5.16.0-5.16.5, 5.17.0-5.17.1, 5.18.0, 5.19.0, 5.20.0-5.20.1, 6.0.0, 6.1.0, 6.2.0-6.2.4, 6.3.0-6.3.6, 6.4.0-6.4.2, 6.5.0-6.5.1, 6.6.0, 6.7.0, 6.8.0, 6.9.0-6.9.4, 6.10.0-6.10.2, 6.11.0, 6.12.0-6.12.5, 6.13.0-6.13.3, 6.14.0-6.14.2, 6.15.0-6.15.2, 6.16.0, 6.17.0-6.17.3, 6.18.0-6.18.1, 6.19.0, 6.20.0, 6.21.0-6.21.1, 6.22.0-6.22.2, 6.23.0, 6.24.0, 6.25.0-6.25.2, 6.26.0, 6.27.0, 6.28.0, 6.29.0-6.29.3, 6.30.0-6.30.4, 6.31.0-6.31.1, 6.32.0-6.32.2, 6.33.0-6.33.1, 6.34.0-6.34.3, 6.35.0-6.35.2] or uninstalled\n ├─restricted by compatibility requirements with DifferentialEquations [0c46a032] to versions: [3.13.2-3.13.3, 4.0.0-4.0.1, 4.1.0, 4.2.0, 4.3.0-4.3.1, 4.4.0, 4.5.0, 4.6.0, 4.7.0, 4.8.0, 4.9.0, 4.10.0-4.10.1, 4.11.0-4.11.1, 4.12.0, 4.13.0, 4.14.0-4.14.1, 4.15.0, 4.16.0, 4.17.0, 4.18.0, 4.19.0, 4.20.0-4.20.3, 4.21.0, 4.21.2-4.21.3, 4.22.0-4.22.2, 4.23.0, 4.23.2-4.23.4, 4.24.0-4.24.3, 4.25.0-4.25.1, 4.26.0-4.26.3, 4.27.0-4.27.1, 4.28.0-4.28.1, 4.29.0-4.29.2, 4.30.0-4.30.2, 4.31.0-4.31.2, 4.32.0, 5.0.0-5.0.1, 5.1.0, 5.2.0-5.2.3, 5.3.0-5.3.2, 5.4.0-5.4.1, 5.5.0-5.5.2, 5.6.0-5.6.4, 5.7.0, 5.8.0-5.8.1, 5.9.0, 5.10.0-5.10.3, 5.11.0-5.11.1, 5.12.0, 5.13.0, 5.14.0-5.14.2, 5.15.0, 5.16.0-5.16.5, 5.17.0-5.17.1, 5.18.0, 5.19.0, 5.20.0-5.20.1, 6.0.0, 6.1.0, 6.2.0-6.2.4, 6.3.0-6.3.6, 6.4.0-6.4.2, 6.5.0-6.5.1, 6.6.0, 6.7.0, 6.8.0, 6.9.0-6.9.4, 6.10.0-6.10.2, 6.11.0, 6.12.0-6.12.5, 6.13.0-6.13.3, 6.14.0-6.14.2, 6.15.0-6.15.2, 6.16.0, 6.17.0-6.17.3, 6.18.0-6.18.1, 6.19.0, 6.20.0, 6.21.0-6.21.1, 6.22.0-6.22.2, 6.23.0, 6.24.0, 6.25.0-6.25.2, 6.26.0, 6.27.0, 6.28.0, 6.29.0-6.29.3, 6.30.0-6.30.4, 6.31.0-6.31.1, 6.32.0-6.32.2, 6.33.0-6.33.1, 6.34.0-6.34.3, 6.35.0-6.35.2]\n │ └─DifferentialEquations [0c46a032] log:\n │   ├─possible versions are: [5.0.0, 5.1.0, 5.2.0-5.2.1, 5.3.0-5.3.1, 6.0.0, 6.1.0, 6.2.0, 6.3.0, 6.4.0, 6.6.0, 6.7.0, 6.8.0, 6.9.0, 6.10.0-6.10.1, 6.11.0, 6.12.0, 6.13.0, 6.14.0] or uninstalled\n │   ├─restricted to versions * by an explicit requirement, leaving only versions [5.0.0, 5.1.0, 5.2.0-5.2.1, 5.3.0-5.3.1, 6.0.0, 6.1.0, 6.2.0, 6.3.0, 6.4.0, 6.6.0, 6.7.0, 6.8.0, 6.9.0, 6.10.0-6.10.1, 6.11.0, 6.12.0, 6.13.0, 6.14.0]\n │   └─restricted by julia compatibility requirements to versions: [5.0.0, 5.1.0, 5.2.0-5.2.1, 5.3.0-5.3.1, 6.0.0, 6.1.0, 6.2.0, 6.3.0, 6.4.0, 6.6.0, 6.7.0, 6.8.0, 6.9.0, 6.10.0-6.10.1, 6.11.0] or uninstalled, leaving only versions: [5.0.0, 5.1.0, 5.2.0-5.2.1, 5.3.0-5.3.1, 6.0.0, 6.1.0, 6.2.0, 6.3.0, 6.4.0, 6.6.0, 6.7.0, 6.8.0, 6.9.0, 6.10.0-6.10.1, 6.11.0]\n ├─restricted by julia compatibility requirements to versions: [3.13.2-3.13.3, 4.0.0-4.0.1, 4.1.0, 4.2.0, 4.3.0-4.3.1, 4.4.0, 4.5.0, 4.6.0, 4.7.0, 4.8.0, 4.9.0, 4.10.0-4.10.1, 4.11.0-4.11.1, 4.12.0, 4.13.0, 4.14.0-4.14.1, 4.15.0, 4.16.0, 4.17.0, 4.18.0, 4.19.0, 4.20.0-4.20.3, 4.21.0, 4.21.2-4.21.3, 4.22.0-4.22.2, 4.23.0, 4.23.2-4.23.4, 4.24.0-4.24.3, 4.25.0-4.25.1, 4.26.0-4.26.3, 4.27.0-4.27.1, 4.28.0-4.28.1, 4.29.0-4.29.2, 4.30.0-4.30.2, 4.31.0-4.31.2, 4.32.0, 5.0.0-5.0.1, 5.1.0, 5.2.0-5.2.3, 5.3.0-5.3.2, 5.4.0-5.4.1, 5.5.0-5.5.2, 5.6.0-5.6.4, 5.7.0, 5.8.0-5.8.1, 5.9.0, 5.10.0-5.10.3, 5.11.0-5.11.1, 5.12.0, 5.13.0, 5.14.0-5.14.2, 5.15.0, 5.16.0-5.16.5, 5.17.0-5.17.1, 5.18.0, 5.19.0, 5.20.0-5.20.1, 6.0.0, 6.1.0, 6.2.0-6.2.4, 6.3.0-6.3.6, 6.4.0-6.4.2, 6.5.0-6.5.1, 6.6.0, 6.7.0, 6.8.0, 6.9.0-6.9.4, 6.10.0-6.10.2, 6.11.0, 6.12.0-6.12.5, 6.13.0-6.13.3, 6.14.0-6.14.2, 6.15.0-6.15.2, 6.16.0, 6.17.0-6.17.3, 6.18.0-6.18.1, 6.19.0, 6.20.0] or uninstalled, leaving only versions: [3.13.2-3.13.3, 4.0.0-4.0.1, 4.1.0, 4.2.0, 4.3.0-4.3.1, 4.4.0, 4.5.0, 4.6.0, 4.7.0, 4.8.0, 4.9.0, 4.10.0-4.10.1, 4.11.0-4.11.1, 4.12.0, 4.13.0, 4.14.0-4.14.1, 4.15.0, 4.16.0, 4.17.0, 4.18.0, 4.19.0, 4.20.0-4.20.3, 4.21.0, 4.21.2-4.21.3, 4.22.0-4.22.2, 4.23.0, 4.23.2-4.23.4, 4.24.0-4.24.3, 4.25.0-4.25.1, 4.26.0-4.26.3, 4.27.0-4.27.1, 4.28.0-4.28.1, 4.29.0-4.29.2, 4.30.0-4.30.2, 4.31.0-4.31.2, 4.32.0, 5.0.0-5.0.1, 5.1.0, 5.2.0-5.2.3, 5.3.0-5.3.2, 5.4.0-5.4.1, 5.5.0-5.5.2, 5.6.0-5.6.4, 5.7.0, 5.8.0-5.8.1, 5.9.0...\n ├─restricted by compatibility requirements with Sundials [c3572dad] to versions: [4.6.0, 4.7.0, 4.8.0, 4.9.0, 4.10.0-4.10.1, 4.11.0-4.11.1, 4.12.0, 4.13.0, 4.14.0-4.14.1, 4.15.0, 4.16.0, 4.17.0, 4.18.0, 4.19.0, 4.20.0-4.20.3, 4.21.0, 4.21.2-4.21.3, 4.22.0-4.22.2, 4.23.0, 4.23.2-4.23.4, 4.24.0-4.24.3, 4.25.0-4.25.1, 4.26.0-4.26.3, 4.27.0-4.27.1, 4.28.0-4.28.1, 4.29.0-4.29.2, 4.30.0-4.30.2, 4.31.0-4.31.2, 4.32.0, 5.0.0-5.0.1, 5.1.0, 5.2.0-5.2.3, 5.3.0-5.3.2, 5.4.0-5.4.1, 5.5.0-5.5.2, 5.6.0-5.6.4, 5.7.0, 5.8.0-5.8.1, 5.9.0, 5.10.0-5.10.3, 5.11.0-5.11.1, 5.12.0, 5.13.0, 5.14.0-5.14.2, 5.15.0, 5.16.0-5.16.5, 5.17.0-5.17.1, 5.18.0, 5.19.0, 5.20.0-5.20.1, 6.0.0, 6.1.0, 6.2.0-6.2.4, 6.3.0-6.3.6, 6.4.0-6.4.2, 6.5.0-6.5.1, 6.6.0, 6.7.0, 6.8.0, 6.9.0-6.9.4, 6.10.0-6.10.2, 6.11.0, 6.12.0-6.12.5, 6.13.0-6.13.3, 6.14.0-6.14.2, 6.15.0-6.15.2, 6.16.0, 6.17.0-6.17.3, 6.18.0-6.18.1, 6.19.0, 6.20.0, 6.21.0-6.21.1, 6.22.0-6.22.2, 6.23.0, 6.24.0, 6.25.0-6.25.2, 6.26.0, 6.27.0, 6.28.0, 6.29.0-6.29.3, 6.30.0-6.30.4, 6.31.0-6.31.1, 6.32.0-6.32.2, 6.33.0-6.33.1, 6.34.0-6.34.3, 6.35.0-6.35.2], leaving only versions: [4.6.0, 4.7.0, 4.8.0, 4.9.0, 4.10.0-4.10.1, 4.11.0-4.11.1, 4.12.0, 4.13.0, 4.14.0-4.14.1, 4.15.0, 4.16.0, 4.17.0, 4.18.0, 4.19.0, 4.20.0-4.20.3, 4.21.0, 4.21.2-4.21.3, 4.22.0-4.22.2, 4.23.0, 4.23.2-4.23.4, 4.24.0-4.24.3, 4.25.0-4.25.1, 4.26.0-4.26.3, 4.27.0-4.27.1, 4.28.0-4.28.1, 4.29.0-4.29.2, 4.30.0-4.30.2, 4.31.0-4.31.2, 4.32.0, 5.0.0-5.0.1, 5.1.0, 5.2.0-5.2.3, 5.3.0-5.3.2, 5.4.0-5....\n │ └─Sundials [c3572dad] log:\n │   ├─possible versions are: [2.0.0, 2.1.0, 2.2.0, 2.3.0-2.3.1, 2.3.3, 2.4.0-2.4.1, 2.5.0-2.5.1, 2.6.0, 2.7.0, 3.0.0, 3.1.0, 3.2.0-3.2.1, 3.3.0, 3.4.0-3.4.1, 3.5.0, 3.6.0-3.6.2, 3.7.0, 3.8.0-3.8.3, 3.9.0, 4.0.0, 4.1.0-4.1.1, 4.2.0-4.2.2] or uninstalled\n │   ├─restricted by compatibility requirements with DifferentialEquations [0c46a032] to versions: [2.0.0, 2.1.0, 2.2.0, 2.3.0-2.3.1, 2.3.3, 2.4.0-2.4.1, 2.5.0-2.5.1, 2.6.0, 2.7.0, 3.0.0, 3.1.0, 3.2.0-3.2.1, 3.3.0, 3.4.0-3.4.1, 3.5.0, 3.6.0-3.6.2, 3.7.0, 3.8.0-3.8.3, 3.9.0, 4.0.0, 4.1.0-4.1.1, 4.2.0-4.2.2]\n │   │ └─DifferentialEquations [0c46a032] log: see above\n │   └─restricted by julia compatibility requirements to versions: [2.0.0, 2.1.0, 2.2.0, 2.3.0-2.3.1, 2.3.3, 2.4.0-2.4.1, 2.5.0-2.5.1, 2.6.0, 2.7.0, 3.0.0, 3.1.0, 3.2.0-3.2.1, 3.3.0, 3.4.0-3.4.1, 3.5.0, 3.6.0-3.6.2, 3.7.0, 3.8.0-3.8.3, 3.9.0] or uninstalled, leaving only versions: [2.0.0, 2.1.0, 2.2.0, 2.3.0-2.3.1, 2.3.3, 2.4.0-2.4.1, 2.5.0-2.5.1, 2.6.0, 2.7.0, 3.0.0, 3.1.0, 3.2.0-3.2.1, 3.3.0, 3.4.0-3.4.1, 3.5.0, 3.6.0-3.6.2, 3.7.0, 3.8.0-3.8.3, 3.9.0]\n └─restricted by compatibility requirements with RecipesBase [3cdcf5f2] to versions: [6.26.0, 6.27.0, 6.28.0, 6.29.0-6.29.3, 6.30.0-6.30.4, 6.31.0-6.31.1, 6.32.0-6.32.2, 6.33.0-6.33.1, 6.34.0-6.34.3, 6.35.0-6.35.2] or uninstalled — no versions left\n   └─RecipesBase [3cdcf5f2] log:\n     ├─possible versions are: [0.4.0, 0.5.0, 0.6.0, 0.7.0, 0.8.0, 1.0.0-1.0.1] or uninstalled\n     └─restricted by compatibility requirements with Plots [91a5bcdd] to versions: 1.0.0-1.0.1\n       └─Plots [91a5bcdd] log:\n         ├─possible versions are: [0.12.1-0.12.4, 0.13.0-0.13.1, 0.14.0-0.14.2, 0.15.0-0.15.1, 0.16.0, 0.17.0-0.17.4, 0.18.0, 0.19.0-0.19.3, 0.20.0-0.20.6, 0.21.0, 0.22.0-0.22.5, 0.23.0-0.23.2, 0.24.0, 0.25.0-0.25.3, 0.26.0-0.26.3, 0.27.0-0.27.1, 0.28.0-0.28.4, 0.29.0-0.29.9, 1.0.0-1.0.14, 1.1.0-1.1.4, 1.2.0-1.2.6, 1.3.0-1.3.5] or uninstalled\n         └─restricted to versions 1.0.14 by an explicit requirement, leaving only versions 1.0.14",
            "",
            "Stacktrace:",
            " [1] #propagate_constraints!#61(::Bool, ::typeof(Pkg.GraphType.propagate_constraints!), ::Pkg.GraphType.Graph, ::Set{Int64}) at /buildworker/worker/package_linux64/build/usr/share/julia/stdlib/v1.2/Pkg/src/GraphType.jl:1007",
            " [2] propagate_constraints! at /buildworker/worker/package_linux64/build/usr/share/julia/stdlib/v1.2/Pkg/src/GraphType.jl:948 [inlined]",
            " [3] #simplify_graph!#121(::Bool, ::typeof(Pkg.GraphType.simplify_graph!), ::Pkg.GraphType.Graph, ::Set{Int64}) at /buildworker/worker/package_linux64/build/usr/share/julia/stdlib/v1.2/Pkg/src/GraphType.jl:1462",
            " [4] simplify_graph! at /buildworker/worker/package_linux64/build/usr/share/julia/stdlib/v1.2/Pkg/src/GraphType.jl:1462 [inlined]",
            " [5] resolve_versions!(::Pkg.Types.Context, ::Array{Pkg.Types.PackageSpec,1}) at /buildworker/worker/package_linux64/build/usr/share/julia/stdlib/v1.2/Pkg/src/Operations.jl:317",
            " [6] #add#100(::Bool, ::typeof(Pkg.Operations.add), ::Pkg.Types.Context, ::Array{Pkg.Types.PackageSpec,1}, ::Array{Base.UUID,1}) at /buildworker/worker/package_linux64/build/usr/share/julia/stdlib/v1.2/Pkg/src/Operations.jl:962",
            " [7] #add at ./none:0 [inlined]",
            " [8] #add#25(::Bool, ::Base.Iterators.Pairs{Union{},Union{},Tuple{},NamedTuple{(),Tuple{}}}, ::typeof(Pkg.API.add), ::Pkg.Types.Context, ::Array{Pkg.Types.PackageSpec,1}) at /buildworker/worker/package_linux64/build/usr/share/julia/stdlib/v1.2/Pkg/src/API.jl:99",
            " [9] add at /buildworker/worker/package_linux64/build/usr/share/julia/stdlib/v1.2/Pkg/src/API.jl:69 [inlined]",
            " [10] #add#24 at /buildworker/worker/package_linux64/build/usr/share/julia/stdlib/v1.2/Pkg/src/API.jl:67 [inlined]",
            " [11] add at /buildworker/worker/package_linux64/build/usr/share/julia/stdlib/v1.2/Pkg/src/API.jl:67 [inlined]",
            " [12] #add#21 at /buildworker/worker/package_linux64/build/usr/share/julia/stdlib/v1.2/Pkg/src/API.jl:65 [inlined]",
            " [13] add at /buildworker/worker/package_linux64/build/usr/share/julia/stdlib/v1.2/Pkg/src/API.jl:65 [inlined]",
            " [14] #add#20(::Base.Iterators.Pairs{Union{},Union{},Tuple{},NamedTuple{(),Tuple{}}}, ::typeof(Pkg.API.add), ::String) at /buildworker/worker/package_linux64/build/usr/share/julia/stdlib/v1.2/Pkg/src/API.jl:64",
            " [15] add(::String) at /buildworker/worker/package_linux64/build/usr/share/julia/stdlib/v1.2/Pkg/src/API.jl:64",
            " [16] top-level scope at In[20]:2"
          ]
        }
      ]
    },
    {
      "cell_type": "code",
      "metadata": {
        "id": "Dzv0CF4DzGCm",
        "colab_type": "code",
        "colab": {
          "base_uri": "https://localhost:8080/",
          "height": 180
        },
        "outputId": "0d056696-19bc-4474-c088-8a256bde93a7"
      },
      "source": [
        "using DifferentialEquations, Plots\n",
        "prob = ODEProblem(lotka!,u0,tspan,p)\n",
        "sol = solve(prob)\n",
        "plot(sol)\n"
      ],
      "execution_count": 21,
      "outputs": [
        {
          "output_type": "error",
          "ename": "ArgumentError",
          "evalue": "ignored",
          "traceback": [
            "ArgumentError: Package DifferentialEquations not found in current path:\n- Run `import Pkg; Pkg.add(\"DifferentialEquations\")` to install the DifferentialEquations package.\n",
            "",
            "Stacktrace:",
            " [1] require(::Module, ::Symbol) at ./loading.jl:876",
            " [2] top-level scope at In[21]:1"
          ]
        }
      ]
    },
    {
      "cell_type": "code",
      "metadata": {
        "id": "fNTffndTzTmh",
        "colab_type": "code",
        "colab": {
          "base_uri": "https://localhost:8080/",
          "height": 778
        },
        "outputId": "8142a426-ef3b-4938-8455-a826981bd870"
      },
      "source": [
        "import Pkg; \n",
        "Pkg.add(\"DifferentialEquations\")"
      ],
      "execution_count": 22,
      "outputs": [
        {
          "output_type": "stream",
          "text": [
            "\u001b[32m\u001b[1m Resolving\u001b[22m\u001b[39m package versions...\n"
          ],
          "name": "stdout"
        },
        {
          "output_type": "error",
          "ename": "Pkg.Types.ResolverError",
          "evalue": "ignored",
          "traceback": [
            "Unsatisfiable requirements detected for package DiffEqBase [2b5f629d]:\n DiffEqBase [2b5f629d] log:\n ├─possible versions are: [3.13.2-3.13.3, 4.0.0-4.0.1, 4.1.0, 4.2.0, 4.3.0-4.3.1, 4.4.0, 4.5.0, 4.6.0, 4.7.0, 4.8.0, 4.9.0, 4.10.0-4.10.1, 4.11.0-4.11.1, 4.12.0, 4.13.0, 4.14.0-4.14.1, 4.15.0, 4.16.0, 4.17.0, 4.18.0, 4.19.0, 4.20.0-4.20.3, 4.21.0, 4.21.2-4.21.3, 4.22.0-4.22.2, 4.23.0, 4.23.2-4.23.4, 4.24.0-4.24.3, 4.25.0-4.25.1, 4.26.0-4.26.3, 4.27.0-4.27.1, 4.28.0-4.28.1, 4.29.0-4.29.2, 4.30.0-4.30.2, 4.31.0-4.31.2, 4.32.0, 5.0.0-5.0.1, 5.1.0, 5.2.0-5.2.3, 5.3.0-5.3.2, 5.4.0-5.4.1, 5.5.0-5.5.2, 5.6.0-5.6.4, 5.7.0, 5.8.0-5.8.1, 5.9.0, 5.10.0-5.10.3, 5.11.0-5.11.1, 5.12.0, 5.13.0, 5.14.0-5.14.2, 5.15.0, 5.16.0-5.16.5, 5.17.0-5.17.1, 5.18.0, 5.19.0, 5.20.0-5.20.1, 6.0.0, 6.1.0, 6.2.0-6.2.4, 6.3.0-6.3.6, 6.4.0-6.4.2, 6.5.0-6.5.1, 6.6.0, 6.7.0, 6.8.0, 6.9.0-6.9.4, 6.10.0-6.10.2, 6.11.0, 6.12.0-6.12.5, 6.13.0-6.13.3, 6.14.0-6.14.2, 6.15.0-6.15.2, 6.16.0, 6.17.0-6.17.3, 6.18.0-6.18.1, 6.19.0, 6.20.0, 6.21.0-6.21.1, 6.22.0-6.22.2, 6.23.0, 6.24.0, 6.25.0-6.25.2, 6.26.0, 6.27.0, 6.28.0, 6.29.0-6.29.3, 6.30.0-6.30.4, 6.31.0-6.31.1, 6.32.0-6.32.2, 6.33.0-6.33.1, 6.34.0-6.34.3, 6.35.0-6.35.2] or uninstalled\n ├─restricted by compatibility requirements with DifferentialEquations [0c46a032] to versions: [3.13.2-3.13.3, 4.0.0-4.0.1, 4.1.0, 4.2.0, 4.3.0-4.3.1, 4.4.0, 4.5.0, 4.6.0, 4.7.0, 4.8.0, 4.9.0, 4.10.0-4.10.1, 4.11.0-4.11.1, 4.12.0, 4.13.0, 4.14.0-4.14.1, 4.15.0, 4.16.0, 4.17.0, 4.18.0, 4.19.0, 4.20.0-4.20.3, 4.21.0, 4.21.2-4.21.3, 4.22.0-4.22.2, 4.23.0, 4.23.2-4.23.4, 4.24.0-4.24.3, 4.25.0-4.25.1, 4.26.0-4.26.3, 4.27.0-4.27.1, 4.28.0-4.28.1, 4.29.0-4.29.2, 4.30.0-4.30.2, 4.31.0-4.31.2, 4.32.0, 5.0.0-5.0.1, 5.1.0, 5.2.0-5.2.3, 5.3.0-5.3.2, 5.4.0-5.4.1, 5.5.0-5.5.2, 5.6.0-5.6.4, 5.7.0, 5.8.0-5.8.1, 5.9.0, 5.10.0-5.10.3, 5.11.0-5.11.1, 5.12.0, 5.13.0, 5.14.0-5.14.2, 5.15.0, 5.16.0-5.16.5, 5.17.0-5.17.1, 5.18.0, 5.19.0, 5.20.0-5.20.1, 6.0.0, 6.1.0, 6.2.0-6.2.4, 6.3.0-6.3.6, 6.4.0-6.4.2, 6.5.0-6.5.1, 6.6.0, 6.7.0, 6.8.0, 6.9.0-6.9.4, 6.10.0-6.10.2, 6.11.0, 6.12.0-6.12.5, 6.13.0-6.13.3, 6.14.0-6.14.2, 6.15.0-6.15.2, 6.16.0, 6.17.0-6.17.3, 6.18.0-6.18.1, 6.19.0, 6.20.0, 6.21.0-6.21.1, 6.22.0-6.22.2, 6.23.0, 6.24.0, 6.25.0-6.25.2, 6.26.0, 6.27.0, 6.28.0, 6.29.0-6.29.3, 6.30.0-6.30.4, 6.31.0-6.31.1, 6.32.0-6.32.2, 6.33.0-6.33.1, 6.34.0-6.34.3, 6.35.0-6.35.2]\n │ └─DifferentialEquations [0c46a032] log:\n │   ├─possible versions are: [5.0.0, 5.1.0, 5.2.0-5.2.1, 5.3.0-5.3.1, 6.0.0, 6.1.0, 6.2.0, 6.3.0, 6.4.0, 6.6.0, 6.7.0, 6.8.0, 6.9.0, 6.10.0-6.10.1, 6.11.0, 6.12.0, 6.13.0, 6.14.0] or uninstalled\n │   ├─restricted to versions * by an explicit requirement, leaving only versions [5.0.0, 5.1.0, 5.2.0-5.2.1, 5.3.0-5.3.1, 6.0.0, 6.1.0, 6.2.0, 6.3.0, 6.4.0, 6.6.0, 6.7.0, 6.8.0, 6.9.0, 6.10.0-6.10.1, 6.11.0, 6.12.0, 6.13.0, 6.14.0]\n │   └─restricted by julia compatibility requirements to versions: [5.0.0, 5.1.0, 5.2.0-5.2.1, 5.3.0-5.3.1, 6.0.0, 6.1.0, 6.2.0, 6.3.0, 6.4.0, 6.6.0, 6.7.0, 6.8.0, 6.9.0, 6.10.0-6.10.1, 6.11.0] or uninstalled, leaving only versions: [5.0.0, 5.1.0, 5.2.0-5.2.1, 5.3.0-5.3.1, 6.0.0, 6.1.0, 6.2.0, 6.3.0, 6.4.0, 6.6.0, 6.7.0, 6.8.0, 6.9.0, 6.10.0-6.10.1, 6.11.0]\n ├─restricted by julia compatibility requirements to versions: [3.13.2-3.13.3, 4.0.0-4.0.1, 4.1.0, 4.2.0, 4.3.0-4.3.1, 4.4.0, 4.5.0, 4.6.0, 4.7.0, 4.8.0, 4.9.0, 4.10.0-4.10.1, 4.11.0-4.11.1, 4.12.0, 4.13.0, 4.14.0-4.14.1, 4.15.0, 4.16.0, 4.17.0, 4.18.0, 4.19.0, 4.20.0-4.20.3, 4.21.0, 4.21.2-4.21.3, 4.22.0-4.22.2, 4.23.0, 4.23.2-4.23.4, 4.24.0-4.24.3, 4.25.0-4.25.1, 4.26.0-4.26.3, 4.27.0-4.27.1, 4.28.0-4.28.1, 4.29.0-4.29.2, 4.30.0-4.30.2, 4.31.0-4.31.2, 4.32.0, 5.0.0-5.0.1, 5.1.0, 5.2.0-5.2.3, 5.3.0-5.3.2, 5.4.0-5.4.1, 5.5.0-5.5.2, 5.6.0-5.6.4, 5.7.0, 5.8.0-5.8.1, 5.9.0, 5.10.0-5.10.3, 5.11.0-5.11.1, 5.12.0, 5.13.0, 5.14.0-5.14.2, 5.15.0, 5.16.0-5.16.5, 5.17.0-5.17.1, 5.18.0, 5.19.0, 5.20.0-5.20.1, 6.0.0, 6.1.0, 6.2.0-6.2.4, 6.3.0-6.3.6, 6.4.0-6.4.2, 6.5.0-6.5.1, 6.6.0, 6.7.0, 6.8.0, 6.9.0-6.9.4, 6.10.0-6.10.2, 6.11.0, 6.12.0-6.12.5, 6.13.0-6.13.3, 6.14.0-6.14.2, 6.15.0-6.15.2, 6.16.0, 6.17.0-6.17.3, 6.18.0-6.18.1, 6.19.0, 6.20.0] or uninstalled, leaving only versions: [3.13.2-3.13.3, 4.0.0-4.0.1, 4.1.0, 4.2.0, 4.3.0-4.3.1, 4.4.0, 4.5.0, 4.6.0, 4.7.0, 4.8.0, 4.9.0, 4.10.0-4.10.1, 4.11.0-4.11.1, 4.12.0, 4.13.0, 4.14.0-4.14.1, 4.15.0, 4.16.0, 4.17.0, 4.18.0, 4.19.0, 4.20.0-4.20.3, 4.21.0, 4.21.2-4.21.3, 4.22.0-4.22.2, 4.23.0, 4.23.2-4.23.4, 4.24.0-4.24.3, 4.25.0-4.25.1, 4.26.0-4.26.3, 4.27.0-4.27.1, 4.28.0-4.28.1, 4.29.0-4.29.2, 4.30.0-4.30.2, 4.31.0-4.31.2, 4.32.0, 5.0.0-5.0.1, 5.1.0, 5.2.0-5.2.3, 5.3.0-5.3.2, 5.4.0-5.4.1, 5.5.0-5.5.2, 5.6.0-5.6.4, 5.7.0, 5.8.0-5.8.1, 5.9.0...\n ├─restricted by compatibility requirements with Sundials [c3572dad] to versions: [4.6.0, 4.7.0, 4.8.0, 4.9.0, 4.10.0-4.10.1, 4.11.0-4.11.1, 4.12.0, 4.13.0, 4.14.0-4.14.1, 4.15.0, 4.16.0, 4.17.0, 4.18.0, 4.19.0, 4.20.0-4.20.3, 4.21.0, 4.21.2-4.21.3, 4.22.0-4.22.2, 4.23.0, 4.23.2-4.23.4, 4.24.0-4.24.3, 4.25.0-4.25.1, 4.26.0-4.26.3, 4.27.0-4.27.1, 4.28.0-4.28.1, 4.29.0-4.29.2, 4.30.0-4.30.2, 4.31.0-4.31.2, 4.32.0, 5.0.0-5.0.1, 5.1.0, 5.2.0-5.2.3, 5.3.0-5.3.2, 5.4.0-5.4.1, 5.5.0-5.5.2, 5.6.0-5.6.4, 5.7.0, 5.8.0-5.8.1, 5.9.0, 5.10.0-5.10.3, 5.11.0-5.11.1, 5.12.0, 5.13.0, 5.14.0-5.14.2, 5.15.0, 5.16.0-5.16.5, 5.17.0-5.17.1, 5.18.0, 5.19.0, 5.20.0-5.20.1, 6.0.0, 6.1.0, 6.2.0-6.2.4, 6.3.0-6.3.6, 6.4.0-6.4.2, 6.5.0-6.5.1, 6.6.0, 6.7.0, 6.8.0, 6.9.0-6.9.4, 6.10.0-6.10.2, 6.11.0, 6.12.0-6.12.5, 6.13.0-6.13.3, 6.14.0-6.14.2, 6.15.0-6.15.2, 6.16.0, 6.17.0-6.17.3, 6.18.0-6.18.1, 6.19.0, 6.20.0, 6.21.0-6.21.1, 6.22.0-6.22.2, 6.23.0, 6.24.0, 6.25.0-6.25.2, 6.26.0, 6.27.0, 6.28.0, 6.29.0-6.29.3, 6.30.0-6.30.4, 6.31.0-6.31.1, 6.32.0-6.32.2, 6.33.0-6.33.1, 6.34.0-6.34.3, 6.35.0-6.35.2], leaving only versions: [4.6.0, 4.7.0, 4.8.0, 4.9.0, 4.10.0-4.10.1, 4.11.0-4.11.1, 4.12.0, 4.13.0, 4.14.0-4.14.1, 4.15.0, 4.16.0, 4.17.0, 4.18.0, 4.19.0, 4.20.0-4.20.3, 4.21.0, 4.21.2-4.21.3, 4.22.0-4.22.2, 4.23.0, 4.23.2-4.23.4, 4.24.0-4.24.3, 4.25.0-4.25.1, 4.26.0-4.26.3, 4.27.0-4.27.1, 4.28.0-4.28.1, 4.29.0-4.29.2, 4.30.0-4.30.2, 4.31.0-4.31.2, 4.32.0, 5.0.0-5.0.1, 5.1.0, 5.2.0-5.2.3, 5.3.0-5.3.2, 5.4.0-5....\n │ └─Sundials [c3572dad] log:\n │   ├─possible versions are: [2.0.0, 2.1.0, 2.2.0, 2.3.0-2.3.1, 2.3.3, 2.4.0-2.4.1, 2.5.0-2.5.1, 2.6.0, 2.7.0, 3.0.0, 3.1.0, 3.2.0-3.2.1, 3.3.0, 3.4.0-3.4.1, 3.5.0, 3.6.0-3.6.2, 3.7.0, 3.8.0-3.8.3, 3.9.0, 4.0.0, 4.1.0-4.1.1, 4.2.0-4.2.2] or uninstalled\n │   ├─restricted by compatibility requirements with DifferentialEquations [0c46a032] to versions: [2.0.0, 2.1.0, 2.2.0, 2.3.0-2.3.1, 2.3.3, 2.4.0-2.4.1, 2.5.0-2.5.1, 2.6.0, 2.7.0, 3.0.0, 3.1.0, 3.2.0-3.2.1, 3.3.0, 3.4.0-3.4.1, 3.5.0, 3.6.0-3.6.2, 3.7.0, 3.8.0-3.8.3, 3.9.0, 4.0.0, 4.1.0-4.1.1, 4.2.0-4.2.2]\n │   │ └─DifferentialEquations [0c46a032] log: see above\n │   └─restricted by julia compatibility requirements to versions: [2.0.0, 2.1.0, 2.2.0, 2.3.0-2.3.1, 2.3.3, 2.4.0-2.4.1, 2.5.0-2.5.1, 2.6.0, 2.7.0, 3.0.0, 3.1.0, 3.2.0-3.2.1, 3.3.0, 3.4.0-3.4.1, 3.5.0, 3.6.0-3.6.2, 3.7.0, 3.8.0-3.8.3, 3.9.0] or uninstalled, leaving only versions: [2.0.0, 2.1.0, 2.2.0, 2.3.0-2.3.1, 2.3.3, 2.4.0-2.4.1, 2.5.0-2.5.1, 2.6.0, 2.7.0, 3.0.0, 3.1.0, 3.2.0-3.2.1, 3.3.0, 3.4.0-3.4.1, 3.5.0, 3.6.0-3.6.2, 3.7.0, 3.8.0-3.8.3, 3.9.0]\n └─restricted by compatibility requirements with RecipesBase [3cdcf5f2] to versions: [6.26.0, 6.27.0, 6.28.0, 6.29.0-6.29.3, 6.30.0-6.30.4, 6.31.0-6.31.1, 6.32.0-6.32.2, 6.33.0-6.33.1, 6.34.0-6.34.3, 6.35.0-6.35.2] or uninstalled — no versions left\n   └─RecipesBase [3cdcf5f2] log:\n     ├─possible versions are: [0.4.0, 0.5.0, 0.6.0, 0.7.0, 0.8.0, 1.0.0-1.0.1] or uninstalled\n     └─restricted by compatibility requirements with Plots [91a5bcdd] to versions: 1.0.0-1.0.1\n       └─Plots [91a5bcdd] log:\n         ├─possible versions are: [0.12.1-0.12.4, 0.13.0-0.13.1, 0.14.0-0.14.2, 0.15.0-0.15.1, 0.16.0, 0.17.0-0.17.4, 0.18.0, 0.19.0-0.19.3, 0.20.0-0.20.6, 0.21.0, 0.22.0-0.22.5, 0.23.0-0.23.2, 0.24.0, 0.25.0-0.25.3, 0.26.0-0.26.3, 0.27.0-0.27.1, 0.28.0-0.28.4, 0.29.0-0.29.9, 1.0.0-1.0.14, 1.1.0-1.1.4, 1.2.0-1.2.6, 1.3.0-1.3.5] or uninstalled\n         └─restricted to versions 1.0.14 by an explicit requirement, leaving only versions 1.0.14",
            "",
            "Stacktrace:",
            " [1] #propagate_constraints!#61(::Bool, ::typeof(Pkg.GraphType.propagate_constraints!), ::Pkg.GraphType.Graph, ::Set{Int64}) at /buildworker/worker/package_linux64/build/usr/share/julia/stdlib/v1.2/Pkg/src/GraphType.jl:1007",
            " [2] propagate_constraints! at /buildworker/worker/package_linux64/build/usr/share/julia/stdlib/v1.2/Pkg/src/GraphType.jl:948 [inlined]",
            " [3] #simplify_graph!#121(::Bool, ::typeof(Pkg.GraphType.simplify_graph!), ::Pkg.GraphType.Graph, ::Set{Int64}) at /buildworker/worker/package_linux64/build/usr/share/julia/stdlib/v1.2/Pkg/src/GraphType.jl:1462",
            " [4] simplify_graph! at /buildworker/worker/package_linux64/build/usr/share/julia/stdlib/v1.2/Pkg/src/GraphType.jl:1462 [inlined]",
            " [5] resolve_versions!(::Pkg.Types.Context, ::Array{Pkg.Types.PackageSpec,1}) at /buildworker/worker/package_linux64/build/usr/share/julia/stdlib/v1.2/Pkg/src/Operations.jl:317",
            " [6] #add#100(::Bool, ::typeof(Pkg.Operations.add), ::Pkg.Types.Context, ::Array{Pkg.Types.PackageSpec,1}, ::Array{Base.UUID,1}) at /buildworker/worker/package_linux64/build/usr/share/julia/stdlib/v1.2/Pkg/src/Operations.jl:962",
            " [7] #add at ./none:0 [inlined]",
            " [8] #add#25(::Bool, ::Base.Iterators.Pairs{Union{},Union{},Tuple{},NamedTuple{(),Tuple{}}}, ::typeof(Pkg.API.add), ::Pkg.Types.Context, ::Array{Pkg.Types.PackageSpec,1}) at /buildworker/worker/package_linux64/build/usr/share/julia/stdlib/v1.2/Pkg/src/API.jl:99",
            " [9] add at /buildworker/worker/package_linux64/build/usr/share/julia/stdlib/v1.2/Pkg/src/API.jl:69 [inlined]",
            " [10] #add#24 at /buildworker/worker/package_linux64/build/usr/share/julia/stdlib/v1.2/Pkg/src/API.jl:67 [inlined]",
            " [11] add at /buildworker/worker/package_linux64/build/usr/share/julia/stdlib/v1.2/Pkg/src/API.jl:67 [inlined]",
            " [12] #add#21 at /buildworker/worker/package_linux64/build/usr/share/julia/stdlib/v1.2/Pkg/src/API.jl:65 [inlined]",
            " [13] add at /buildworker/worker/package_linux64/build/usr/share/julia/stdlib/v1.2/Pkg/src/API.jl:65 [inlined]",
            " [14] #add#20(::Base.Iterators.Pairs{Union{},Union{},Tuple{},NamedTuple{(),Tuple{}}}, ::typeof(Pkg.API.add), ::String) at /buildworker/worker/package_linux64/build/usr/share/julia/stdlib/v1.2/Pkg/src/API.jl:64",
            " [15] add(::String) at /buildworker/worker/package_linux64/build/usr/share/julia/stdlib/v1.2/Pkg/src/API.jl:64",
            " [16] top-level scope at In[22]:2"
          ]
        }
      ]
    },
    {
      "cell_type": "code",
      "metadata": {
        "id": "gEZJ04hUzY9S",
        "colab_type": "code",
        "colab": {
          "base_uri": "https://localhost:8080/",
          "height": 180
        },
        "outputId": "deb6ccf1-43e4-4f99-e8e0-34b4c041cadd"
      },
      "source": [
        "using CUDAdrv; CUDAdrv.name(CuDevice(0))"
      ],
      "execution_count": 23,
      "outputs": [
        {
          "output_type": "error",
          "ename": "ArgumentError",
          "evalue": "ignored",
          "traceback": [
            "ArgumentError: Package CUDAdrv not found in current path:\n- Run `import Pkg; Pkg.add(\"CUDAdrv\")` to install the CUDAdrv package.\n",
            "",
            "Stacktrace:",
            " [1] require(::Module, ::Symbol) at ./loading.jl:876",
            " [2] top-level scope at In[23]:1"
          ]
        }
      ]
    },
    {
      "cell_type": "code",
      "metadata": {
        "id": "LhIHBGRU0q0x",
        "colab_type": "code",
        "colab": {
          "base_uri": "https://localhost:8080/",
          "height": 370
        },
        "outputId": "cef1c033-6d84-4568-b07e-913866c49c51"
      },
      "source": [
        "import Pkg;\n",
        "Pkg.add(\"CUDSdrv\")"
      ],
      "execution_count": 24,
      "outputs": [
        {
          "output_type": "error",
          "ename": "Pkg.Types.PkgError",
          "evalue": "ignored",
          "traceback": [
            "The following package names could not be resolved:\n * CUDSdrv (not found in project, manifest or registry)\nPlease specify by known `name=uuid`.",
            "",
            "Stacktrace:",
            " [1] pkgerror(::String) at /buildworker/worker/package_linux64/build/usr/share/julia/stdlib/v1.2/Pkg/src/Types.jl:112",
            " [2] #ensure_resolved#107(::Bool, ::typeof(Pkg.Types.ensure_resolved), ::Pkg.Types.EnvCache, ::Array{Pkg.Types.PackageSpec,1}) at /buildworker/worker/package_linux64/build/usr/share/julia/stdlib/v1.2/Pkg/src/Types.jl:910",
            " [3] #ensure_resolved at ./none:0 [inlined]",
            " [4] #add#25(::Bool, ::Base.Iterators.Pairs{Union{},Union{},Tuple{},NamedTuple{(),Tuple{}}}, ::typeof(Pkg.API.add), ::Pkg.Types.Context, ::Array{Pkg.Types.PackageSpec,1}) at /buildworker/worker/package_linux64/build/usr/share/julia/stdlib/v1.2/Pkg/src/API.jl:94",
            " [5] add at /buildworker/worker/package_linux64/build/usr/share/julia/stdlib/v1.2/Pkg/src/API.jl:69 [inlined]",
            " [6] #add#24 at /buildworker/worker/package_linux64/build/usr/share/julia/stdlib/v1.2/Pkg/src/API.jl:67 [inlined]",
            " [7] add at /buildworker/worker/package_linux64/build/usr/share/julia/stdlib/v1.2/Pkg/src/API.jl:67 [inlined]",
            " [8] #add#21 at /buildworker/worker/package_linux64/build/usr/share/julia/stdlib/v1.2/Pkg/src/API.jl:65 [inlined]",
            " [9] add at /buildworker/worker/package_linux64/build/usr/share/julia/stdlib/v1.2/Pkg/src/API.jl:65 [inlined]",
            " [10] #add#20(::Base.Iterators.Pairs{Union{},Union{},Tuple{},NamedTuple{(),Tuple{}}}, ::typeof(Pkg.API.add), ::String) at /buildworker/worker/package_linux64/build/usr/share/julia/stdlib/v1.2/Pkg/src/API.jl:64",
            " [11] add(::String) at /buildworker/worker/package_linux64/build/usr/share/julia/stdlib/v1.2/Pkg/src/API.jl:64",
            " [12] top-level scope at In[24]:2"
          ]
        }
      ]
    },
    {
      "cell_type": "code",
      "metadata": {
        "id": "_MoTAOak03WD",
        "colab_type": "code",
        "colab": {
          "base_uri": "https://localhost:8080/",
          "height": 78
        },
        "outputId": "91672b9f-6db2-45ea-9715-13326f80cbbc"
      },
      "source": [
        "!julia -e 'using Pkg; pkg\"add DifferentialEquations; add Optim; add Test; add DiffEqDevTools; add NeuralNetDiffEq; add Random; precompile\"'"
      ],
      "execution_count": 26,
      "outputs": [
        {
          "output_type": "error",
          "ename": "LoadError",
          "evalue": "ignored",
          "traceback": [
            "syntax: space not allowed before \"'\"",
            ""
          ]
        }
      ]
    },
    {
      "cell_type": "code",
      "metadata": {
        "id": "xeDGM6dX2PNv",
        "colab_type": "code",
        "colab": {
          "base_uri": "https://localhost:8080/",
          "height": 78
        },
        "outputId": "b7bdcc4e-2614-4a89-d81c-cfcea3233e69"
      },
      "source": [
        "!julia -e 'using Pkg; pkg\"add DifferentialEquations; add Optim; add Test; precompile\"'"
      ],
      "execution_count": 27,
      "outputs": [
        {
          "output_type": "error",
          "ename": "LoadError",
          "evalue": "ignored",
          "traceback": [
            "syntax: space not allowed before \"'\"",
            ""
          ]
        }
      ]
    },
    {
      "cell_type": "code",
      "metadata": {
        "id": "lDNrDMQP3Fzf",
        "colab_type": "code",
        "colab": {
          "base_uri": "https://localhost:8080/",
          "height": 408
        },
        "outputId": "5666a9e9-86ab-4632-fec2-144225b66475"
      },
      "source": [
        "import Pkg;\n",
        "Pkg.add(\"Optim\")"
      ],
      "execution_count": 28,
      "outputs": [
        {
          "output_type": "stream",
          "text": [
            "\u001b[32m\u001b[1m Resolving\u001b[22m\u001b[39m package versions...\n",
            "\u001b[32m\u001b[1m Installed\u001b[22m\u001b[39m UnPack ───────────────── v1.0.1\n",
            "\u001b[32m\u001b[1m Installed\u001b[22m\u001b[39m Parameters ───────────── v0.12.1\n",
            "\u001b[32m\u001b[1m Installed\u001b[22m\u001b[39m NLSolversBase ────────── v7.6.1\n",
            "\u001b[32m\u001b[1m Installed\u001b[22m\u001b[39m FiniteDiff ───────────── v2.3.2\n",
            "\u001b[32m\u001b[1m Installed\u001b[22m\u001b[39m Compat ───────────────── v3.10.0\n",
            "\u001b[32m\u001b[1m Installed\u001b[22m\u001b[39m ArrayInterface ───────── v2.8.7\n",
            "\u001b[32m\u001b[1m Installed\u001b[22m\u001b[39m LineSearches ─────────── v7.0.1\n",
            "\u001b[32m\u001b[1m Installed\u001b[22m\u001b[39m Optim ────────────────── v0.21.0\n",
            "\u001b[32m\u001b[1m Installed\u001b[22m\u001b[39m PositiveFactorizations ─ v0.2.3\n",
            "\u001b[32m\u001b[1m  Updating\u001b[22m\u001b[39m `~/.julia/environments/v1.2/Project.toml`\n",
            " \u001b[90m [429524aa]\u001b[39m\u001b[92m + Optim v0.21.0\u001b[39m\n",
            "\u001b[32m\u001b[1m  Updating\u001b[22m\u001b[39m `~/.julia/environments/v1.2/Manifest.toml`\n",
            " \u001b[90m [4fba245c]\u001b[39m\u001b[92m + ArrayInterface v2.8.7\u001b[39m\n",
            " \u001b[90m [34da2185]\u001b[39m\u001b[92m + Compat v3.10.0\u001b[39m\n",
            " \u001b[90m [6a86dc24]\u001b[39m\u001b[92m + FiniteDiff v2.3.2\u001b[39m\n",
            " \u001b[90m [d3d80556]\u001b[39m\u001b[92m + LineSearches v7.0.1\u001b[39m\n",
            " \u001b[90m [d41bc354]\u001b[39m\u001b[92m + NLSolversBase v7.6.1\u001b[39m\n",
            " \u001b[90m [429524aa]\u001b[39m\u001b[92m + Optim v0.21.0\u001b[39m\n",
            " \u001b[90m [d96e819e]\u001b[39m\u001b[92m + Parameters v0.12.1\u001b[39m\n",
            " \u001b[90m [85a6dd25]\u001b[39m\u001b[92m + PositiveFactorizations v0.2.3\u001b[39m\n",
            " \u001b[90m [3a884ed6]\u001b[39m\u001b[92m + UnPack v1.0.1\u001b[39m\n",
            " \u001b[90m [1a1011a3]\u001b[39m\u001b[92m + SharedArrays \u001b[39m\n"
          ],
          "name": "stdout"
        }
      ]
    },
    {
      "cell_type": "code",
      "metadata": {
        "id": "D-iixNLR3RpK",
        "colab_type": "code",
        "colab": {
          "base_uri": "https://localhost:8080/",
          "height": 102
        },
        "outputId": "e36f669a-7852-4caa-88a0-c2e480e9c167"
      },
      "source": [
        "import Pkg;\n",
        "Pkg.add(\"Test\")"
      ],
      "execution_count": 29,
      "outputs": [
        {
          "output_type": "stream",
          "text": [
            "\u001b[32m\u001b[1m Resolving\u001b[22m\u001b[39m package versions...\n",
            "\u001b[32m\u001b[1m  Updating\u001b[22m\u001b[39m `~/.julia/environments/v1.2/Project.toml`\n",
            " \u001b[90m [8dfed614]\u001b[39m\u001b[92m + Test \u001b[39m\n",
            "\u001b[32m\u001b[1m  Updating\u001b[22m\u001b[39m `~/.julia/environments/v1.2/Manifest.toml`\n",
            "\u001b[90m [no changes]\u001b[39m\n"
          ],
          "name": "stdout"
        }
      ]
    },
    {
      "cell_type": "code",
      "metadata": {
        "id": "AARwAECe3c9G",
        "colab_type": "code",
        "colab": {
          "base_uri": "https://localhost:8080/",
          "height": 693
        },
        "outputId": "6195fca5-524f-4e1c-9a0d-b6c6673a8983"
      },
      "source": [
        "import Pkg;\n",
        "Pkg.add(\"DiffEqDevTools\")"
      ],
      "execution_count": 30,
      "outputs": [
        {
          "output_type": "stream",
          "text": [
            "\u001b[32m\u001b[1m Resolving\u001b[22m\u001b[39m package versions...\n"
          ],
          "name": "stdout"
        },
        {
          "output_type": "error",
          "ename": "Pkg.Types.ResolverError",
          "evalue": "ignored",
          "traceback": [
            "Unsatisfiable requirements detected for package DiffEqBase [2b5f629d]:\n DiffEqBase [2b5f629d] log:\n ├─possible versions are: [3.13.2-3.13.3, 4.0.0-4.0.1, 4.1.0, 4.2.0, 4.3.0-4.3.1, 4.4.0, 4.5.0, 4.6.0, 4.7.0, 4.8.0, 4.9.0, 4.10.0-4.10.1, 4.11.0-4.11.1, 4.12.0, 4.13.0, 4.14.0-4.14.1, 4.15.0, 4.16.0, 4.17.0, 4.18.0, 4.19.0, 4.20.0-4.20.3, 4.21.0, 4.21.2-4.21.3, 4.22.0-4.22.2, 4.23.0, 4.23.2-4.23.4, 4.24.0-4.24.3, 4.25.0-4.25.1, 4.26.0-4.26.3, 4.27.0-4.27.1, 4.28.0-4.28.1, 4.29.0-4.29.2, 4.30.0-4.30.2, 4.31.0-4.31.2, 4.32.0, 5.0.0-5.0.1, 5.1.0, 5.2.0-5.2.3, 5.3.0-5.3.2, 5.4.0-5.4.1, 5.5.0-5.5.2, 5.6.0-5.6.4, 5.7.0, 5.8.0-5.8.1, 5.9.0, 5.10.0-5.10.3, 5.11.0-5.11.1, 5.12.0, 5.13.0, 5.14.0-5.14.2, 5.15.0, 5.16.0-5.16.5, 5.17.0-5.17.1, 5.18.0, 5.19.0, 5.20.0-5.20.1, 6.0.0, 6.1.0, 6.2.0-6.2.4, 6.3.0-6.3.6, 6.4.0-6.4.2, 6.5.0-6.5.1, 6.6.0, 6.7.0, 6.8.0, 6.9.0-6.9.4, 6.10.0-6.10.2, 6.11.0, 6.12.0-6.12.5, 6.13.0-6.13.3, 6.14.0-6.14.2, 6.15.0-6.15.2, 6.16.0, 6.17.0-6.17.3, 6.18.0-6.18.1, 6.19.0, 6.20.0, 6.21.0-6.21.1, 6.22.0-6.22.2, 6.23.0, 6.24.0, 6.25.0-6.25.2, 6.26.0, 6.27.0, 6.28.0, 6.29.0-6.29.3, 6.30.0-6.30.4, 6.31.0-6.31.1, 6.32.0-6.32.2, 6.33.0-6.33.1, 6.34.0-6.34.3, 6.35.0-6.35.2] or uninstalled\n ├─restricted by julia compatibility requirements to versions: [3.13.2-3.13.3, 4.0.0-4.0.1, 4.1.0, 4.2.0, 4.3.0-4.3.1, 4.4.0, 4.5.0, 4.6.0, 4.7.0, 4.8.0, 4.9.0, 4.10.0-4.10.1, 4.11.0-4.11.1, 4.12.0, 4.13.0, 4.14.0-4.14.1, 4.15.0, 4.16.0, 4.17.0, 4.18.0, 4.19.0, 4.20.0-4.20.3, 4.21.0, 4.21.2-4.21.3, 4.22.0-4.22.2, 4.23.0, 4.23.2-4.23.4, 4.24.0-4.24.3, 4.25.0-4.25.1, 4.26.0-4.26.3, 4.27.0-4.27.1, 4.28.0-4.28.1, 4.29.0-4.29.2, 4.30.0-4.30.2, 4.31.0-4.31.2, 4.32.0, 5.0.0-5.0.1, 5.1.0, 5.2.0-5.2.3, 5.3.0-5.3.2, 5.4.0-5.4.1, 5.5.0-5.5.2, 5.6.0-5.6.4, 5.7.0, 5.8.0-5.8.1, 5.9.0, 5.10.0-5.10.3, 5.11.0-5.11.1, 5.12.0, 5.13.0, 5.14.0-5.14.2, 5.15.0, 5.16.0-5.16.5, 5.17.0-5.17.1, 5.18.0, 5.19.0, 5.20.0-5.20.1, 6.0.0, 6.1.0, 6.2.0-6.2.4, 6.3.0-6.3.6, 6.4.0-6.4.2, 6.5.0-6.5.1, 6.6.0, 6.7.0, 6.8.0, 6.9.0-6.9.4, 6.10.0-6.10.2, 6.11.0, 6.12.0-6.12.5, 6.13.0-6.13.3, 6.14.0-6.14.2, 6.15.0-6.15.2, 6.16.0, 6.17.0-6.17.3, 6.18.0-6.18.1, 6.19.0, 6.20.0] or uninstalled\n ├─restricted by compatibility requirements with DiffEqDevTools [f3b72e0c] to versions: [3.13.2-3.13.3, 4.0.0-4.0.1, 4.1.0, 4.2.0, 4.3.0-4.3.1, 4.4.0, 4.5.0, 4.6.0, 4.7.0, 4.8.0, 4.9.0, 4.10.0-4.10.1, 4.11.0-4.11.1, 4.12.0, 4.13.0, 4.14.0-4.14.1, 4.15.0, 4.16.0, 4.17.0, 4.18.0, 4.19.0, 4.20.0-4.20.3, 4.21.0, 4.21.2-4.21.3, 4.22.0-4.22.2, 4.23.0, 4.23.2-4.23.4, 4.24.0-4.24.3, 4.25.0-4.25.1, 4.26.0-4.26.3, 4.27.0-4.27.1, 4.28.0-4.28.1, 4.29.0-4.29.2, 4.30.0-4.30.2, 4.31.0-4.31.2, 4.32.0, 5.0.0-5.0.1, 5.1.0, 5.2.0-5.2.3, 5.3.0-5.3.2, 5.4.0-5.4.1, 5.5.0-5.5.2, 5.6.0-5.6.4, 5.7.0, 5.8.0-5.8.1, 5.9.0, 5.10.0-5.10.3, 5.11.0-5.11.1, 5.12.0, 5.13.0, 5.14.0-5.14.2, 5.15.0, 5.16.0-5.16.5, 5.17.0-5.17.1, 5.18.0, 5.19.0, 5.20.0-5.20.1, 6.0.0, 6.1.0, 6.2.0-6.2.4, 6.3.0-6.3.6, 6.4.0-6.4.2, 6.5.0-6.5.1, 6.6.0, 6.7.0, 6.8.0, 6.9.0-6.9.4, 6.10.0-6.10.2, 6.11.0, 6.12.0-6.12.5, 6.13.0-6.13.3, 6.14.0-6.14.2, 6.15.0-6.15.2, 6.16.0, 6.17.0-6.17.3, 6.18.0-6.18.1, 6.19.0, 6.20.0, 6.21.0-6.21.1, 6.22.0-6.22.2, 6.23.0, 6.24.0, 6.25.0-6.25.2, 6.26.0, 6.27.0, 6.28.0, 6.29.0-6.29.3, 6.30.0-6.30.4, 6.31.0-6.31.1, 6.32.0-6.32.2, 6.33.0-6.33.1, 6.34.0-6.34.3, 6.35.0-6.35.2], leaving only versions: [3.13.2-3.13.3, 4.0.0-4.0.1, 4.1.0, 4.2.0, 4.3.0-4.3.1, 4.4.0, 4.5.0, 4.6.0, 4.7.0, 4.8.0, 4.9.0, 4.10.0-4.10.1, 4.11.0-4.11.1, 4.12.0, 4.13.0, 4.14.0-4.14.1, 4.15.0, 4.16.0, 4.17.0, 4.18.0, 4.19.0, 4.20.0-4.20.3, 4.21.0, 4.21.2-4.21.3, 4.22.0-4.22.2, 4.23.0, 4.23.2-4.23.4, 4.24.0-4.24.3, 4.25.0-4.25.1, 4.26.0-4...\n │ └─DiffEqDevTools [f3b72e0c] log:\n │   ├─possible versions are: [2.0.0, 2.1.0, 2.2.0-2.2.1, 2.3.1-2.3.2, 2.4.0, 2.5.0, 2.6.0-2.6.1, 2.7.0-2.7.2, 2.8.0, 2.9.0, 2.10.0, 2.11.0, 2.12.0, 2.13.0, 2.14.0-2.14.1, 2.15.0-2.15.1, 2.16.0-2.16.1, 2.17.0-2.17.1, 2.18.0, 2.19.0, 2.20.0-2.20.1, 2.21.0] or uninstalled\n │   └─restricted to versions * by an explicit requirement, leaving only versions [2.0.0, 2.1.0, 2.2.0-2.2.1, 2.3.1-2.3.2, 2.4.0, 2.5.0, 2.6.0-2.6.1, 2.7.0-2.7.2, 2.8.0, 2.9.0, 2.10.0, 2.11.0, 2.12.0, 2.13.0, 2.14.0-2.14.1, 2.15.0-2.15.1, 2.16.0-2.16.1, 2.17.0-2.17.1, 2.18.0, 2.19.0, 2.20.0-2.20.1, 2.21.0]\n └─restricted by compatibility requirements with RecipesBase [3cdcf5f2] to versions: [6.26.0, 6.27.0, 6.28.0, 6.29.0-6.29.3, 6.30.0-6.30.4, 6.31.0-6.31.1, 6.32.0-6.32.2, 6.33.0-6.33.1, 6.34.0-6.34.3, 6.35.0-6.35.2] or uninstalled — no versions left\n   └─RecipesBase [3cdcf5f2] log:\n     ├─possible versions are: [0.4.0, 0.5.0, 0.6.0, 0.7.0, 0.8.0, 1.0.0-1.0.1] or uninstalled\n     ├─restricted by compatibility requirements with DiffEqDevTools [f3b72e0c] to versions: [0.4.0, 0.5.0, 0.6.0, 0.7.0, 0.8.0, 1.0.0-1.0.1]\n     │ └─DiffEqDevTools [f3b72e0c] log: see above\n     └─restricted by compatibility requirements with Plots [91a5bcdd] to versions: 1.0.0-1.0.1\n       └─Plots [91a5bcdd] log:\n         ├─possible versions are: [0.12.1-0.12.4, 0.13.0-0.13.1, 0.14.0-0.14.2, 0.15.0-0.15.1, 0.16.0, 0.17.0-0.17.4, 0.18.0, 0.19.0-0.19.3, 0.20.0-0.20.6, 0.21.0, 0.22.0-0.22.5, 0.23.0-0.23.2, 0.24.0, 0.25.0-0.25.3, 0.26.0-0.26.3, 0.27.0-0.27.1, 0.28.0-0.28.4, 0.29.0-0.29.9, 1.0.0-1.0.14, 1.1.0-1.1.4, 1.2.0-1.2.6, 1.3.0-1.3.5] or uninstalled\n         └─restricted to versions 1.0.14 by an explicit requirement, leaving only versions 1.0.14",
            "",
            "Stacktrace:",
            " [1] #propagate_constraints!#61(::Bool, ::typeof(Pkg.GraphType.propagate_constraints!), ::Pkg.GraphType.Graph, ::Set{Int64}) at /buildworker/worker/package_linux64/build/usr/share/julia/stdlib/v1.2/Pkg/src/GraphType.jl:1007",
            " [2] propagate_constraints! at /buildworker/worker/package_linux64/build/usr/share/julia/stdlib/v1.2/Pkg/src/GraphType.jl:948 [inlined]",
            " [3] #simplify_graph!#121(::Bool, ::typeof(Pkg.GraphType.simplify_graph!), ::Pkg.GraphType.Graph, ::Set{Int64}) at /buildworker/worker/package_linux64/build/usr/share/julia/stdlib/v1.2/Pkg/src/GraphType.jl:1462",
            " [4] simplify_graph! at /buildworker/worker/package_linux64/build/usr/share/julia/stdlib/v1.2/Pkg/src/GraphType.jl:1462 [inlined]",
            " [5] resolve_versions!(::Pkg.Types.Context, ::Array{Pkg.Types.PackageSpec,1}) at /buildworker/worker/package_linux64/build/usr/share/julia/stdlib/v1.2/Pkg/src/Operations.jl:317",
            " [6] #add#100(::Bool, ::typeof(Pkg.Operations.add), ::Pkg.Types.Context, ::Array{Pkg.Types.PackageSpec,1}, ::Array{Base.UUID,1}) at /buildworker/worker/package_linux64/build/usr/share/julia/stdlib/v1.2/Pkg/src/Operations.jl:962",
            " [7] #add at ./none:0 [inlined]",
            " [8] #add#25(::Bool, ::Base.Iterators.Pairs{Union{},Union{},Tuple{},NamedTuple{(),Tuple{}}}, ::typeof(Pkg.API.add), ::Pkg.Types.Context, ::Array{Pkg.Types.PackageSpec,1}) at /buildworker/worker/package_linux64/build/usr/share/julia/stdlib/v1.2/Pkg/src/API.jl:99",
            " [9] add at /buildworker/worker/package_linux64/build/usr/share/julia/stdlib/v1.2/Pkg/src/API.jl:69 [inlined]",
            " [10] #add#24 at /buildworker/worker/package_linux64/build/usr/share/julia/stdlib/v1.2/Pkg/src/API.jl:67 [inlined]",
            " [11] add at /buildworker/worker/package_linux64/build/usr/share/julia/stdlib/v1.2/Pkg/src/API.jl:67 [inlined]",
            " [12] #add#21 at /buildworker/worker/package_linux64/build/usr/share/julia/stdlib/v1.2/Pkg/src/API.jl:65 [inlined]",
            " [13] add at /buildworker/worker/package_linux64/build/usr/share/julia/stdlib/v1.2/Pkg/src/API.jl:65 [inlined]",
            " [14] #add#20(::Base.Iterators.Pairs{Union{},Union{},Tuple{},NamedTuple{(),Tuple{}}}, ::typeof(Pkg.API.add), ::String) at /buildworker/worker/package_linux64/build/usr/share/julia/stdlib/v1.2/Pkg/src/API.jl:64",
            " [15] add(::String) at /buildworker/worker/package_linux64/build/usr/share/julia/stdlib/v1.2/Pkg/src/API.jl:64",
            " [16] top-level scope at In[30]:2"
          ]
        }
      ]
    },
    {
      "cell_type": "code",
      "metadata": {
        "id": "X9_7WULkADE0",
        "colab_type": "code",
        "colab": {
          "base_uri": "https://localhost:8080/",
          "height": 129
        },
        "outputId": "7f2a02d7-42bb-4397-aac6-c60a3a0d3de4"
      },
      "source": [
        "]st"
      ],
      "execution_count": 6,
      "outputs": [
        {
          "output_type": "error",
          "ename": "SyntaxError",
          "evalue": "ignored",
          "traceback": [
            "\u001b[0;36m  File \u001b[0;32m\"<ipython-input-6-f746ed0aae5b>\"\u001b[0;36m, line \u001b[0;32m1\u001b[0m\n\u001b[0;31m    ]st\u001b[0m\n\u001b[0m    ^\u001b[0m\n\u001b[0;31mSyntaxError\u001b[0m\u001b[0;31m:\u001b[0m invalid syntax\n"
          ]
        }
      ]
    },
    {
      "cell_type": "code",
      "metadata": {
        "id": "ijllxA63Atig",
        "colab_type": "code",
        "colab": {}
      },
      "source": [
        ""
      ],
      "execution_count": 0,
      "outputs": []
    }
  ]
}