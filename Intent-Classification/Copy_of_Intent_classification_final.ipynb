{
  "nbformat": 4,
  "nbformat_minor": 0,
  "metadata": {
    "colab": {
      "name": "Copy of Intent_classification_final.ipynb",
      "provenance": [],
      "collapsed_sections": []
    },
    "kernelspec": {
      "name": "python3",
      "display_name": "Python 3"
    },
    "accelerator": "TPU"
  },
  "cells": [
    {
      "cell_type": "code",
      "metadata": {
        "id": "a_WypuUXi92e",
        "colab_type": "code",
        "colab": {
          "base_uri": "https://localhost:8080/",
          "height": 34
        },
        "outputId": "70e5baea-4ef1-4b39-cd42-1be64b97accf"
      },
      "source": [
        "import numpy as np\n",
        "import pandas as pd\n",
        "from nltk.corpus import stopwords\n",
        "from nltk.tokenize import word_tokenize\n",
        "from nltk.stem.lancaster import LancasterStemmer\n",
        "import nltk\n",
        "import re\n",
        "from sklearn.preprocessing import OneHotEncoder\n",
        "import matplotlib.pyplot as plt\n",
        "from keras.preprocessing.text import Tokenizer\n",
        "from keras.preprocessing.sequence import pad_sequences\n",
        "from keras.utils import to_categorical\n",
        "from keras.models import Sequential, load_model\n",
        "from keras.layers import Dense, LSTM, Bidirectional, Embedding, Dropout\n",
        "from keras.callbacks import ModelCheckpoint\n"
      ],
      "execution_count": 3,
      "outputs": [
        {
          "output_type": "stream",
          "text": [
            "Using TensorFlow backend.\n"
          ],
          "name": "stderr"
        }
      ]
    },
    {
      "cell_type": "code",
      "metadata": {
        "id": "DJeqqyY3bpqa",
        "colab_type": "code",
        "colab": {
          "base_uri": "https://localhost:8080/",
          "height": 34
        },
        "outputId": "275323d0-c5f6-47d9-95d9-09d11a997eba"
      },
      "source": [
        "import tensorflow as tf\n",
        "print(tf.__version__)"
      ],
      "execution_count": 4,
      "outputs": [
        {
          "output_type": "stream",
          "text": [
            "1.12.0\n"
          ],
          "name": "stdout"
        }
      ]
    },
    {
      "cell_type": "code",
      "metadata": {
        "id": "LE6wywJrN2ih",
        "colab_type": "code",
        "colab": {}
      },
      "source": [
        "def load_dataset(filename):\n",
        "  df = pd.read_csv(filename, encoding = \"latin1\", names = [\"Sentence\", \"Intent\"])\n",
        "  print(df.head())\n",
        "  intent = df[\"Intent\"]\n",
        "  unique_intent = list(set(intent))\n",
        "  sentences = list(df[\"Sentence\"])\n",
        "  \n",
        "  return (intent, unique_intent, sentences)\n",
        "  \n"
      ],
      "execution_count": 0,
      "outputs": []
    },
    {
      "cell_type": "code",
      "metadata": {
        "id": "XKFmwd0JWru3",
        "colab_type": "code",
        "outputId": "5ccc6c3d-f646-4add-fe66-e13998023656",
        "colab": {
          "resources": {
            "http://localhost:8080/nbextensions/google.colab/files.js": {
              "data": "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",
              "ok": true,
              "headers": [
                [
                  "content-type",
                  "application/javascript"
                ]
              ],
              "status": 200,
              "status_text": ""
            }
          },
          "base_uri": "https://localhost:8080/",
          "height": 74
        }
      },
      "source": [
        "from google.colab import files\n",
        "uploaded = files.upload()"
      ],
      "execution_count": 6,
      "outputs": [
        {
          "output_type": "display_data",
          "data": {
            "text/html": [
              "\n",
              "     <input type=\"file\" id=\"files-2549fe5d-65fa-42a2-ae42-47072ddb9b1e\" name=\"files[]\" multiple disabled />\n",
              "     <output id=\"result-2549fe5d-65fa-42a2-ae42-47072ddb9b1e\">\n",
              "      Upload widget is only available when the cell has been executed in the\n",
              "      current browser session. Please rerun this cell to enable.\n",
              "      </output>\n",
              "      <script src=\"/nbextensions/google.colab/files.js\"></script> "
            ],
            "text/plain": [
              "<IPython.core.display.HTML object>"
            ]
          },
          "metadata": {
            "tags": []
          }
        },
        {
          "output_type": "stream",
          "text": [
            "Saving Dataset.csv to Dataset.csv\n"
          ],
          "name": "stdout"
        }
      ]
    },
    {
      "cell_type": "code",
      "metadata": {
        "id": "tF0FQA7gjOCX",
        "colab_type": "code",
        "outputId": "881cd468-75bc-485d-e403-7b5ef58b218b",
        "colab": {
          "base_uri": "https://localhost:8080/",
          "height": 119
        }
      },
      "source": [
        "intent, unique_intent, sentences = load_dataset(\"Dataset.csv\")"
      ],
      "execution_count": 7,
      "outputs": [
        {
          "output_type": "stream",
          "text": [
            "                Sentence          Intent\n",
            "0       Need help pleese  commonQ.assist\n",
            "1              Need help  commonQ.assist\n",
            "2       I need some info  commonQ.assist\n",
            "3      Will you help me?  commonQ.assist\n",
            "4  What else can you do?  commonQ.assist\n"
          ],
          "name": "stdout"
        }
      ]
    },
    {
      "cell_type": "code",
      "metadata": {
        "id": "O8LLUZlokg0S",
        "colab_type": "code",
        "outputId": "2e73ea32-ffcc-4513-cb93-66459d2eeca1",
        "colab": {
          "base_uri": "https://localhost:8080/",
          "height": 34
        }
      },
      "source": [
        "print(sentences[:5])"
      ],
      "execution_count": 8,
      "outputs": [
        {
          "output_type": "stream",
          "text": [
            "['Need help pleese', 'Need help', 'I need some info', 'Will you help me?', 'What else can you do?']\n"
          ],
          "name": "stdout"
        }
      ]
    },
    {
      "cell_type": "code",
      "metadata": {
        "id": "MhrziINPGHbW",
        "colab_type": "code",
        "outputId": "7142a064-3669-4539-c73f-fa514e0a310a",
        "colab": {
          "base_uri": "https://localhost:8080/",
          "height": 102
        }
      },
      "source": [
        "nltk.download(\"stopwords\")\n",
        "nltk.download(\"punkt\")"
      ],
      "execution_count": 9,
      "outputs": [
        {
          "output_type": "stream",
          "text": [
            "[nltk_data] Downloading package stopwords to /root/nltk_data...\n",
            "[nltk_data]   Unzipping corpora/stopwords.zip.\n",
            "[nltk_data] Downloading package punkt to /root/nltk_data...\n",
            "[nltk_data]   Unzipping tokenizers/punkt.zip.\n"
          ],
          "name": "stdout"
        },
        {
          "output_type": "execute_result",
          "data": {
            "text/plain": [
              "True"
            ]
          },
          "metadata": {
            "tags": []
          },
          "execution_count": 9
        }
      ]
    },
    {
      "cell_type": "code",
      "metadata": {
        "id": "OmNLu2YSXePb",
        "colab_type": "code",
        "colab": {}
      },
      "source": [
        "#define stemmer\n",
        "stemmer = LancasterStemmer()"
      ],
      "execution_count": 0,
      "outputs": []
    },
    {
      "cell_type": "code",
      "metadata": {
        "id": "j-7q3iG5PKYI",
        "colab_type": "code",
        "colab": {}
      },
      "source": [
        "def cleaning(sentences):\n",
        "  words = []\n",
        "  for s in sentences:\n",
        "    clean = re.sub(r'[^ a-z A-Z 0-9]', \" \", s)\n",
        "    w = word_tokenize(clean)\n",
        "    #stemming\n",
        "    words.append([i.lower() for i in w])\n",
        "    \n",
        "  return words  "
      ],
      "execution_count": 0,
      "outputs": []
    },
    {
      "cell_type": "code",
      "metadata": {
        "id": "p1j2GJgDG6qj",
        "colab_type": "code",
        "outputId": "4d969eba-9db0-4ce0-87e9-4237449d3f2a",
        "colab": {
          "base_uri": "https://localhost:8080/",
          "height": 51
        }
      },
      "source": [
        "cleaned_words = cleaning(sentences)\n",
        "print(len(cleaned_words))\n",
        "print(cleaned_words[:2])  \n",
        "  \n"
      ],
      "execution_count": 12,
      "outputs": [
        {
          "output_type": "stream",
          "text": [
            "1113\n",
            "[['need', 'help', 'pleese'], ['need', 'help']]\n"
          ],
          "name": "stdout"
        }
      ]
    },
    {
      "cell_type": "code",
      "metadata": {
        "id": "SJCQ_YhBJW7t",
        "colab_type": "code",
        "colab": {}
      },
      "source": [
        "def create_tokenizer(words, filters = '!\"#$%&()*+,-./:;<=>?@[\\]^_`{|}~'):\n",
        "  token = Tokenizer(filters = filters)\n",
        "  token.fit_on_texts(words)\n",
        "  return token"
      ],
      "execution_count": 0,
      "outputs": []
    },
    {
      "cell_type": "code",
      "metadata": {
        "id": "QJhdIJC5Q3Q6",
        "colab_type": "code",
        "colab": {}
      },
      "source": [
        "def max_length(words):\n",
        "  return(len(max(words, key = len)))\n",
        "  "
      ],
      "execution_count": 0,
      "outputs": []
    },
    {
      "cell_type": "code",
      "metadata": {
        "id": "JWjxPGsZZJNX",
        "colab_type": "code",
        "outputId": "8cc71daa-4347-4b61-a1be-6a1f69467ca1",
        "colab": {
          "base_uri": "https://localhost:8080/",
          "height": 34
        }
      },
      "source": [
        "word_tokenizer = create_tokenizer(cleaned_words)\n",
        "vocab_size = len(word_tokenizer.word_index) + 1\n",
        "max_length = max_length(cleaned_words)\n",
        "\n",
        "print(\"Vocab Size = %d and Maximum length = %d\" % (vocab_size, max_length))"
      ],
      "execution_count": 15,
      "outputs": [
        {
          "output_type": "stream",
          "text": [
            "Vocab Size = 492 and Maximum length = 28\n"
          ],
          "name": "stdout"
        }
      ]
    },
    {
      "cell_type": "code",
      "metadata": {
        "id": "D0TXu2xsR8jq",
        "colab_type": "code",
        "colab": {}
      },
      "source": [
        "def encoding_doc(token, words):\n",
        "  return(token.texts_to_sequences(words))"
      ],
      "execution_count": 0,
      "outputs": []
    },
    {
      "cell_type": "code",
      "metadata": {
        "id": "dE92Hk1Va--H",
        "colab_type": "code",
        "colab": {}
      },
      "source": [
        "encoded_doc = encoding_doc(word_tokenizer, cleaned_words)"
      ],
      "execution_count": 0,
      "outputs": []
    },
    {
      "cell_type": "code",
      "metadata": {
        "id": "fyOzLEboc4LZ",
        "colab_type": "code",
        "colab": {}
      },
      "source": [
        "def padding_doc(encoded_doc, max_length):\n",
        "  return(pad_sequences(encoded_doc, maxlen = max_length, padding = \"post\"))"
      ],
      "execution_count": 0,
      "outputs": []
    },
    {
      "cell_type": "code",
      "metadata": {
        "id": "WdejoJrlc-tc",
        "colab_type": "code",
        "colab": {}
      },
      "source": [
        "padded_doc = padding_doc(encoded_doc, max_length)"
      ],
      "execution_count": 0,
      "outputs": []
    },
    {
      "cell_type": "code",
      "metadata": {
        "id": "gDgTCS2KdI2p",
        "colab_type": "code",
        "outputId": "dac0f717-ea36-4e9b-d73c-a64dc7d87219",
        "colab": {
          "base_uri": "https://localhost:8080/",
          "height": 272
        }
      },
      "source": [
        "padded_doc[:5]"
      ],
      "execution_count": 20,
      "outputs": [
        {
          "output_type": "execute_result",
          "data": {
            "text/plain": [
              "array([[ 25,  77, 332,   0,   0,   0,   0,   0,   0,   0,   0,   0,   0,\n",
              "          0,   0,   0,   0,   0,   0,   0,   0,   0,   0,   0,   0,   0,\n",
              "          0,   0],\n",
              "       [ 25,  77,   0,   0,   0,   0,   0,   0,   0,   0,   0,   0,   0,\n",
              "          0,   0,   0,   0,   0,   0,   0,   0,   0,   0,   0,   0,   0,\n",
              "          0,   0],\n",
              "       [  1,  25, 198, 181,   0,   0,   0,   0,   0,   0,   0,   0,   0,\n",
              "          0,   0,   0,   0,   0,   0,   0,   0,   0,   0,   0,   0,   0,\n",
              "          0,   0],\n",
              "       [ 51,  10,  77,  16,   0,   0,   0,   0,   0,   0,   0,   0,   0,\n",
              "          0,   0,   0,   0,   0,   0,   0,   0,   0,   0,   0,   0,   0,\n",
              "          0,   0],\n",
              "       [  8, 268,   4,  10,  30,   0,   0,   0,   0,   0,   0,   0,   0,\n",
              "          0,   0,   0,   0,   0,   0,   0,   0,   0,   0,   0,   0,   0,\n",
              "          0,   0]], dtype=int32)"
            ]
          },
          "metadata": {
            "tags": []
          },
          "execution_count": 20
        }
      ]
    },
    {
      "cell_type": "code",
      "metadata": {
        "id": "3eaSIDi0dNf1",
        "colab_type": "code",
        "outputId": "a02bd1bd-452c-4713-aeb9-519cf4af5545",
        "colab": {
          "base_uri": "https://localhost:8080/",
          "height": 34
        }
      },
      "source": [
        "print(\"Shape of padded docs = \",padded_doc.shape)"
      ],
      "execution_count": 21,
      "outputs": [
        {
          "output_type": "stream",
          "text": [
            "Shape of padded docs =  (1113, 28)\n"
          ],
          "name": "stdout"
        }
      ]
    },
    {
      "cell_type": "code",
      "metadata": {
        "id": "X0rXzenSpgFR",
        "colab_type": "code",
        "colab": {}
      },
      "source": [
        "#tokenizer with filter changed\n",
        "output_tokenizer = create_tokenizer(unique_intent, filters = '!\"#$%&()*+,-/:;<=>?@[\\]^`{|}~')\n"
      ],
      "execution_count": 0,
      "outputs": []
    },
    {
      "cell_type": "code",
      "metadata": {
        "id": "yNHQtkszskxr",
        "colab_type": "code",
        "outputId": "b69c2941-e6b7-40c4-84b1-25a271543bce",
        "colab": {
          "base_uri": "https://localhost:8080/",
          "height": 374
        }
      },
      "source": [
        "output_tokenizer.word_index"
      ],
      "execution_count": 23,
      "outputs": [
        {
          "output_type": "execute_result",
          "data": {
            "text/plain": [
              "{'commonq.assist': 6,\n",
              " 'commonq.bot': 20,\n",
              " 'commonq.how': 19,\n",
              " 'commonq.just_details': 21,\n",
              " 'commonq.name': 18,\n",
              " 'commonq.not_giving': 14,\n",
              " 'commonq.query': 15,\n",
              " 'commonq.wait': 2,\n",
              " 'contact.contact': 10,\n",
              " 'faq.aadhaar_missing': 3,\n",
              " 'faq.address_proof': 11,\n",
              " 'faq.application_process': 9,\n",
              " 'faq.apply_register': 12,\n",
              " 'faq.approval_time': 1,\n",
              " 'faq.bad_service': 8,\n",
              " 'faq.banking_option_missing': 4,\n",
              " 'faq.biz_category_missing': 17,\n",
              " 'faq.biz_new': 7,\n",
              " 'faq.biz_simpler': 13,\n",
              " 'faq.borrow_limit': 5,\n",
              " 'faq.borrow_use': 16}"
            ]
          },
          "metadata": {
            "tags": []
          },
          "execution_count": 23
        }
      ]
    },
    {
      "cell_type": "code",
      "metadata": {
        "id": "7OOx9qdBto1-",
        "colab_type": "code",
        "colab": {}
      },
      "source": [
        "encoded_output = encoding_doc(output_tokenizer, intent)"
      ],
      "execution_count": 0,
      "outputs": []
    },
    {
      "cell_type": "code",
      "metadata": {
        "id": "0_5Lv5PiyG-z",
        "colab_type": "code",
        "colab": {}
      },
      "source": [
        "encoded_output = np.array(encoded_output).reshape(len(encoded_output), 1)"
      ],
      "execution_count": 0,
      "outputs": []
    },
    {
      "cell_type": "code",
      "metadata": {
        "id": "dpM86WrVQlx5",
        "colab_type": "code",
        "outputId": "ba030442-97bc-4fbb-da26-b6990ebc84b2",
        "colab": {
          "base_uri": "https://localhost:8080/",
          "height": 34
        }
      },
      "source": [
        "encoded_output.shape"
      ],
      "execution_count": 26,
      "outputs": [
        {
          "output_type": "execute_result",
          "data": {
            "text/plain": [
              "(1113, 1)"
            ]
          },
          "metadata": {
            "tags": []
          },
          "execution_count": 26
        }
      ]
    },
    {
      "cell_type": "code",
      "metadata": {
        "id": "rD3QN-RPzfet",
        "colab_type": "code",
        "colab": {}
      },
      "source": [
        "def one_hot(encode):\n",
        "  o = OneHotEncoder(sparse = False)\n",
        "  return(o.fit_transform(encode))"
      ],
      "execution_count": 0,
      "outputs": []
    },
    {
      "cell_type": "code",
      "metadata": {
        "id": "Z6wP_Xed7RNR",
        "colab_type": "code",
        "colab": {}
      },
      "source": [
        "output_one_hot = one_hot(encoded_output)"
      ],
      "execution_count": 0,
      "outputs": []
    },
    {
      "cell_type": "code",
      "metadata": {
        "id": "A6HVslLTHgOM",
        "colab_type": "code",
        "outputId": "03cf8948-0f4f-4cea-9a52-3d586a3e6c2b",
        "colab": {
          "base_uri": "https://localhost:8080/",
          "height": 34
        }
      },
      "source": [
        "output_one_hot.shape"
      ],
      "execution_count": 29,
      "outputs": [
        {
          "output_type": "execute_result",
          "data": {
            "text/plain": [
              "(1113, 21)"
            ]
          },
          "metadata": {
            "tags": []
          },
          "execution_count": 29
        }
      ]
    },
    {
      "cell_type": "code",
      "metadata": {
        "id": "EqABUESD7xi9",
        "colab_type": "code",
        "colab": {}
      },
      "source": [
        "from sklearn.model_selection import train_test_split"
      ],
      "execution_count": 0,
      "outputs": []
    },
    {
      "cell_type": "code",
      "metadata": {
        "id": "h8P4HTz6A4E-",
        "colab_type": "code",
        "colab": {}
      },
      "source": [
        "train_X, val_X, train_Y, val_Y = train_test_split(padded_doc, output_one_hot, shuffle = True, test_size = 0.2)\n"
      ],
      "execution_count": 0,
      "outputs": []
    },
    {
      "cell_type": "code",
      "metadata": {
        "id": "7E0uhC2OCtTx",
        "colab_type": "code",
        "outputId": "dfbc4a73-e9f8-42ae-cbd3-5654b9c877cd",
        "colab": {
          "base_uri": "https://localhost:8080/",
          "height": 51
        }
      },
      "source": [
        "print(\"Shape of train_X = %s and train_Y = %s\" % (train_X.shape, train_Y.shape))\n",
        "print(\"Shape of val_X = %s and val_Y = %s\" % (val_X.shape, val_Y.shape))"
      ],
      "execution_count": 32,
      "outputs": [
        {
          "output_type": "stream",
          "text": [
            "Shape of train_X = (890, 28) and train_Y = (890, 21)\n",
            "Shape of val_X = (223, 28) and val_Y = (223, 21)\n"
          ],
          "name": "stdout"
        }
      ]
    },
    {
      "cell_type": "code",
      "metadata": {
        "id": "e5BU_x74DNEb",
        "colab_type": "code",
        "colab": {}
      },
      "source": [
        "def create_model(vocab_size, max_length):\n",
        "  model = Sequential()\n",
        "  model.add(Embedding(vocab_size, 128, input_length = max_length, trainable = False))\n",
        "  model.add(Bidirectional(LSTM(128)))\n",
        "#   model.add(LSTM(128))\n",
        "  model.add(Dense(32, activation = \"relu\"))\n",
        "  model.add(Dropout(0.5))\n",
        "  model.add(Dense(21, activation = \"softmax\"))\n",
        "  \n",
        "  return model"
      ],
      "execution_count": 0,
      "outputs": []
    },
    {
      "cell_type": "code",
      "metadata": {
        "id": "f-NvE0P7MFCe",
        "colab_type": "code",
        "outputId": "5b264c43-106a-4a60-a736-63ed4f3064e5",
        "colab": {
          "base_uri": "https://localhost:8080/",
          "height": 323
        }
      },
      "source": [
        "model = create_model(vocab_size, max_length)\n",
        "\n",
        "\n",
        "model.compile(loss = \"categorical_crossentropy\", optimizer = \"adam\", metrics = [\"accuracy\"])\n",
        "model.summary()"
      ],
      "execution_count": 34,
      "outputs": [
        {
          "output_type": "stream",
          "text": [
            "Model: \"sequential_1\"\n",
            "_________________________________________________________________\n",
            "Layer (type)                 Output Shape              Param #   \n",
            "=================================================================\n",
            "embedding_1 (Embedding)      (None, 28, 128)           62976     \n",
            "_________________________________________________________________\n",
            "bidirectional_1 (Bidirection (None, 256)               263168    \n",
            "_________________________________________________________________\n",
            "dense_1 (Dense)              (None, 32)                8224      \n",
            "_________________________________________________________________\n",
            "dropout_1 (Dropout)          (None, 32)                0         \n",
            "_________________________________________________________________\n",
            "dense_2 (Dense)              (None, 21)                693       \n",
            "=================================================================\n",
            "Total params: 335,061\n",
            "Trainable params: 272,085\n",
            "Non-trainable params: 62,976\n",
            "_________________________________________________________________\n"
          ],
          "name": "stdout"
        }
      ]
    },
    {
      "cell_type": "code",
      "metadata": {
        "id": "_r-dxm2sMQ-d",
        "colab_type": "code",
        "outputId": "b6da22df-2b9d-4719-a25b-c6953dda37a7",
        "colab": {
          "base_uri": "https://localhost:8080/",
          "height": 1000
        }
      },
      "source": [
        "filename = 'model.h5'\n",
        "checkpoint = ModelCheckpoint(filename, monitor='val_loss', verbose=1, save_best_only=True, mode='min')\n",
        "\n",
        "hist = model.fit(train_X, train_Y, epochs = 100, batch_size = 32, validation_data = (val_X, val_Y), callbacks = [checkpoint])"
      ],
      "execution_count": 35,
      "outputs": [
        {
          "output_type": "stream",
          "text": [
            "Train on 890 samples, validate on 223 samples\n",
            "Epoch 1/100\n",
            "890/890 [==============================] - 4s 4ms/step - loss: 2.9791 - acc: 0.0944 - val_loss: 2.8677 - val_acc: 0.1749\n",
            "\n",
            "Epoch 00001: val_loss improved from inf to 2.86768, saving model to model.h5\n",
            "Epoch 2/100\n",
            "890/890 [==============================] - 3s 3ms/step - loss: 2.8781 - acc: 0.1303 - val_loss: 2.7820 - val_acc: 0.1749\n",
            "\n",
            "Epoch 00002: val_loss improved from 2.86768 to 2.78198, saving model to model.h5\n",
            "Epoch 3/100\n",
            "890/890 [==============================] - 3s 3ms/step - loss: 2.8122 - acc: 0.1393 - val_loss: 2.6642 - val_acc: 0.2152\n",
            "\n",
            "Epoch 00003: val_loss improved from 2.78198 to 2.66419, saving model to model.h5\n",
            "Epoch 4/100\n",
            "890/890 [==============================] - 3s 3ms/step - loss: 2.7181 - acc: 0.1494 - val_loss: 2.5530 - val_acc: 0.1973\n",
            "\n",
            "Epoch 00004: val_loss improved from 2.66419 to 2.55301, saving model to model.h5\n",
            "Epoch 5/100\n",
            "890/890 [==============================] - 3s 3ms/step - loss: 2.6417 - acc: 0.1742 - val_loss: 2.4106 - val_acc: 0.2332\n",
            "\n",
            "Epoch 00005: val_loss improved from 2.55301 to 2.41060, saving model to model.h5\n",
            "Epoch 6/100\n",
            "890/890 [==============================] - 3s 3ms/step - loss: 2.4960 - acc: 0.2337 - val_loss: 2.3507 - val_acc: 0.2735\n",
            "\n",
            "Epoch 00006: val_loss improved from 2.41060 to 2.35069, saving model to model.h5\n",
            "Epoch 7/100\n",
            "890/890 [==============================] - 3s 3ms/step - loss: 2.3779 - acc: 0.2517 - val_loss: 2.2242 - val_acc: 0.2601\n",
            "\n",
            "Epoch 00007: val_loss improved from 2.35069 to 2.22424, saving model to model.h5\n",
            "Epoch 8/100\n",
            "890/890 [==============================] - 3s 3ms/step - loss: 2.2748 - acc: 0.2843 - val_loss: 2.1753 - val_acc: 0.3363\n",
            "\n",
            "Epoch 00008: val_loss improved from 2.22424 to 2.17530, saving model to model.h5\n",
            "Epoch 9/100\n",
            "890/890 [==============================] - 3s 3ms/step - loss: 2.1031 - acc: 0.3775 - val_loss: 1.9974 - val_acc: 0.3946\n",
            "\n",
            "Epoch 00009: val_loss improved from 2.17530 to 1.99741, saving model to model.h5\n",
            "Epoch 10/100\n",
            "890/890 [==============================] - 3s 3ms/step - loss: 1.9706 - acc: 0.4034 - val_loss: 1.8537 - val_acc: 0.4126\n",
            "\n",
            "Epoch 00010: val_loss improved from 1.99741 to 1.85372, saving model to model.h5\n",
            "Epoch 11/100\n",
            "890/890 [==============================] - 3s 3ms/step - loss: 1.9003 - acc: 0.3989 - val_loss: 1.8566 - val_acc: 0.4126\n",
            "\n",
            "Epoch 00011: val_loss did not improve from 1.85372\n",
            "Epoch 12/100\n",
            "890/890 [==============================] - 3s 3ms/step - loss: 1.7598 - acc: 0.4652 - val_loss: 1.7537 - val_acc: 0.4753\n",
            "\n",
            "Epoch 00012: val_loss improved from 1.85372 to 1.75368, saving model to model.h5\n",
            "Epoch 13/100\n",
            "890/890 [==============================] - 3s 3ms/step - loss: 1.6935 - acc: 0.4764 - val_loss: 1.6962 - val_acc: 0.5112\n",
            "\n",
            "Epoch 00013: val_loss improved from 1.75368 to 1.69623, saving model to model.h5\n",
            "Epoch 14/100\n",
            "890/890 [==============================] - 3s 3ms/step - loss: 1.6135 - acc: 0.5124 - val_loss: 1.6325 - val_acc: 0.5247\n",
            "\n",
            "Epoch 00014: val_loss improved from 1.69623 to 1.63250, saving model to model.h5\n",
            "Epoch 15/100\n",
            "890/890 [==============================] - 3s 3ms/step - loss: 1.5996 - acc: 0.5303 - val_loss: 1.5765 - val_acc: 0.5202\n",
            "\n",
            "Epoch 00015: val_loss improved from 1.63250 to 1.57645, saving model to model.h5\n",
            "Epoch 16/100\n",
            "890/890 [==============================] - 3s 3ms/step - loss: 1.5364 - acc: 0.5292 - val_loss: 1.5471 - val_acc: 0.5336\n",
            "\n",
            "Epoch 00016: val_loss improved from 1.57645 to 1.54707, saving model to model.h5\n",
            "Epoch 17/100\n",
            "890/890 [==============================] - 3s 3ms/step - loss: 1.4547 - acc: 0.5618 - val_loss: 1.6745 - val_acc: 0.5157\n",
            "\n",
            "Epoch 00017: val_loss did not improve from 1.54707\n",
            "Epoch 18/100\n",
            "890/890 [==============================] - 3s 3ms/step - loss: 1.6386 - acc: 0.5191 - val_loss: 1.5932 - val_acc: 0.5426\n",
            "\n",
            "Epoch 00018: val_loss did not improve from 1.54707\n",
            "Epoch 19/100\n",
            "890/890 [==============================] - 3s 3ms/step - loss: 1.4719 - acc: 0.5472 - val_loss: 1.5080 - val_acc: 0.5650\n",
            "\n",
            "Epoch 00019: val_loss improved from 1.54707 to 1.50799, saving model to model.h5\n",
            "Epoch 20/100\n",
            "890/890 [==============================] - 3s 3ms/step - loss: 1.3569 - acc: 0.5921 - val_loss: 1.4640 - val_acc: 0.5919\n",
            "\n",
            "Epoch 00020: val_loss improved from 1.50799 to 1.46403, saving model to model.h5\n",
            "Epoch 21/100\n",
            "890/890 [==============================] - 3s 3ms/step - loss: 1.3035 - acc: 0.6101 - val_loss: 1.3859 - val_acc: 0.5830\n",
            "\n",
            "Epoch 00021: val_loss improved from 1.46403 to 1.38595, saving model to model.h5\n",
            "Epoch 22/100\n",
            "890/890 [==============================] - 3s 3ms/step - loss: 1.2262 - acc: 0.6337 - val_loss: 1.3576 - val_acc: 0.6099\n",
            "\n",
            "Epoch 00022: val_loss improved from 1.38595 to 1.35762, saving model to model.h5\n",
            "Epoch 23/100\n",
            "890/890 [==============================] - 3s 3ms/step - loss: 1.1917 - acc: 0.6404 - val_loss: 1.3576 - val_acc: 0.6143\n",
            "\n",
            "Epoch 00023: val_loss did not improve from 1.35762\n",
            "Epoch 24/100\n",
            "890/890 [==============================] - 3s 3ms/step - loss: 1.1575 - acc: 0.6517 - val_loss: 1.3246 - val_acc: 0.6413\n",
            "\n",
            "Epoch 00024: val_loss improved from 1.35762 to 1.32456, saving model to model.h5\n",
            "Epoch 25/100\n",
            "890/890 [==============================] - 3s 3ms/step - loss: 1.1523 - acc: 0.6674 - val_loss: 1.3298 - val_acc: 0.6143\n",
            "\n",
            "Epoch 00025: val_loss did not improve from 1.32456\n",
            "Epoch 26/100\n",
            "890/890 [==============================] - 3s 3ms/step - loss: 1.1219 - acc: 0.6584 - val_loss: 1.3690 - val_acc: 0.6099\n",
            "\n",
            "Epoch 00026: val_loss did not improve from 1.32456\n",
            "Epoch 27/100\n",
            "890/890 [==============================] - 3s 3ms/step - loss: 1.0894 - acc: 0.6820 - val_loss: 1.5657 - val_acc: 0.6368\n",
            "\n",
            "Epoch 00027: val_loss did not improve from 1.32456\n",
            "Epoch 28/100\n",
            "890/890 [==============================] - 3s 3ms/step - loss: 1.1028 - acc: 0.6798 - val_loss: 1.4233 - val_acc: 0.6502\n",
            "\n",
            "Epoch 00028: val_loss did not improve from 1.32456\n",
            "Epoch 29/100\n",
            "890/890 [==============================] - 3s 3ms/step - loss: 1.0842 - acc: 0.6730 - val_loss: 1.2590 - val_acc: 0.6547\n",
            "\n",
            "Epoch 00029: val_loss improved from 1.32456 to 1.25895, saving model to model.h5\n",
            "Epoch 30/100\n",
            "890/890 [==============================] - 3s 3ms/step - loss: 1.0416 - acc: 0.6910 - val_loss: 1.2951 - val_acc: 0.6816\n",
            "\n",
            "Epoch 00030: val_loss did not improve from 1.25895\n",
            "Epoch 31/100\n",
            "890/890 [==============================] - 3s 3ms/step - loss: 1.0492 - acc: 0.6831 - val_loss: 1.2768 - val_acc: 0.6861\n",
            "\n",
            "Epoch 00031: val_loss did not improve from 1.25895\n",
            "Epoch 32/100\n",
            "890/890 [==============================] - 3s 3ms/step - loss: 0.9805 - acc: 0.7146 - val_loss: 1.2123 - val_acc: 0.6861\n",
            "\n",
            "Epoch 00032: val_loss improved from 1.25895 to 1.21228, saving model to model.h5\n",
            "Epoch 33/100\n",
            "890/890 [==============================] - 3s 3ms/step - loss: 0.9883 - acc: 0.7067 - val_loss: 1.1693 - val_acc: 0.6861\n",
            "\n",
            "Epoch 00033: val_loss improved from 1.21228 to 1.16926, saving model to model.h5\n",
            "Epoch 34/100\n",
            "890/890 [==============================] - 3s 3ms/step - loss: 0.9896 - acc: 0.7191 - val_loss: 1.2314 - val_acc: 0.6861\n",
            "\n",
            "Epoch 00034: val_loss did not improve from 1.16926\n",
            "Epoch 35/100\n",
            "890/890 [==============================] - 3s 3ms/step - loss: 0.9490 - acc: 0.7371 - val_loss: 1.2430 - val_acc: 0.6996\n",
            "\n",
            "Epoch 00035: val_loss did not improve from 1.16926\n",
            "Epoch 36/100\n",
            "890/890 [==============================] - 3s 3ms/step - loss: 0.9395 - acc: 0.7202 - val_loss: 1.1429 - val_acc: 0.7175\n",
            "\n",
            "Epoch 00036: val_loss improved from 1.16926 to 1.14294, saving model to model.h5\n",
            "Epoch 37/100\n",
            "890/890 [==============================] - 3s 3ms/step - loss: 0.8884 - acc: 0.7438 - val_loss: 1.2973 - val_acc: 0.7130\n",
            "\n",
            "Epoch 00037: val_loss did not improve from 1.14294\n",
            "Epoch 38/100\n",
            "890/890 [==============================] - 3s 3ms/step - loss: 0.8971 - acc: 0.7382 - val_loss: 1.2005 - val_acc: 0.7175\n",
            "\n",
            "Epoch 00038: val_loss did not improve from 1.14294\n",
            "Epoch 39/100\n",
            "890/890 [==============================] - 3s 3ms/step - loss: 0.8588 - acc: 0.7393 - val_loss: 1.1606 - val_acc: 0.7354\n",
            "\n",
            "Epoch 00039: val_loss did not improve from 1.14294\n",
            "Epoch 40/100\n",
            "890/890 [==============================] - 3s 3ms/step - loss: 0.8916 - acc: 0.7326 - val_loss: 1.2774 - val_acc: 0.6951\n",
            "\n",
            "Epoch 00040: val_loss did not improve from 1.14294\n",
            "Epoch 41/100\n",
            "890/890 [==============================] - 3s 3ms/step - loss: 0.8874 - acc: 0.7326 - val_loss: 1.2104 - val_acc: 0.7085\n",
            "\n",
            "Epoch 00041: val_loss did not improve from 1.14294\n",
            "Epoch 42/100\n",
            "890/890 [==============================] - 3s 3ms/step - loss: 0.8811 - acc: 0.7393 - val_loss: 1.1349 - val_acc: 0.7354\n",
            "\n",
            "Epoch 00042: val_loss improved from 1.14294 to 1.13486, saving model to model.h5\n",
            "Epoch 43/100\n",
            "890/890 [==============================] - 3s 3ms/step - loss: 0.8801 - acc: 0.7404 - val_loss: 1.1452 - val_acc: 0.7130\n",
            "\n",
            "Epoch 00043: val_loss did not improve from 1.13486\n",
            "Epoch 44/100\n",
            "890/890 [==============================] - 3s 3ms/step - loss: 0.8231 - acc: 0.7539 - val_loss: 1.2431 - val_acc: 0.6771\n",
            "\n",
            "Epoch 00044: val_loss did not improve from 1.13486\n",
            "Epoch 45/100\n",
            "890/890 [==============================] - 3s 3ms/step - loss: 0.8321 - acc: 0.7360 - val_loss: 1.1810 - val_acc: 0.7309\n",
            "\n",
            "Epoch 00045: val_loss did not improve from 1.13486\n",
            "Epoch 46/100\n",
            "890/890 [==============================] - 3s 3ms/step - loss: 0.7942 - acc: 0.7708 - val_loss: 1.1914 - val_acc: 0.7220\n",
            "\n",
            "Epoch 00046: val_loss did not improve from 1.13486\n",
            "Epoch 47/100\n",
            "890/890 [==============================] - 3s 3ms/step - loss: 0.8289 - acc: 0.7483 - val_loss: 1.1356 - val_acc: 0.7265\n",
            "\n",
            "Epoch 00047: val_loss did not improve from 1.13486\n",
            "Epoch 48/100\n",
            "890/890 [==============================] - 3s 3ms/step - loss: 0.7839 - acc: 0.7674 - val_loss: 1.2031 - val_acc: 0.7040\n",
            "\n",
            "Epoch 00048: val_loss did not improve from 1.13486\n",
            "Epoch 49/100\n",
            "890/890 [==============================] - 3s 3ms/step - loss: 0.7121 - acc: 0.7955 - val_loss: 1.1565 - val_acc: 0.7489\n",
            "\n",
            "Epoch 00049: val_loss did not improve from 1.13486\n",
            "Epoch 50/100\n",
            "890/890 [==============================] - 3s 3ms/step - loss: 0.9524 - acc: 0.7281 - val_loss: 1.1917 - val_acc: 0.7220\n",
            "\n",
            "Epoch 00050: val_loss did not improve from 1.13486\n",
            "Epoch 51/100\n",
            "890/890 [==============================] - 3s 3ms/step - loss: 0.8906 - acc: 0.7348 - val_loss: 1.0450 - val_acc: 0.7444\n",
            "\n",
            "Epoch 00051: val_loss improved from 1.13486 to 1.04496, saving model to model.h5\n",
            "Epoch 52/100\n",
            "890/890 [==============================] - 3s 3ms/step - loss: 0.7362 - acc: 0.7708 - val_loss: 1.0756 - val_acc: 0.7265\n",
            "\n",
            "Epoch 00052: val_loss did not improve from 1.04496\n",
            "Epoch 53/100\n",
            "890/890 [==============================] - 3s 3ms/step - loss: 0.7414 - acc: 0.7697 - val_loss: 1.0983 - val_acc: 0.7444\n",
            "\n",
            "Epoch 00053: val_loss did not improve from 1.04496\n",
            "Epoch 54/100\n",
            "890/890 [==============================] - 3s 3ms/step - loss: 0.6972 - acc: 0.7831 - val_loss: 1.0997 - val_acc: 0.7668\n",
            "\n",
            "Epoch 00054: val_loss did not improve from 1.04496\n",
            "Epoch 55/100\n",
            "890/890 [==============================] - 3s 3ms/step - loss: 0.6996 - acc: 0.7831 - val_loss: 1.0456 - val_acc: 0.7354\n",
            "\n",
            "Epoch 00055: val_loss did not improve from 1.04496\n",
            "Epoch 56/100\n",
            "890/890 [==============================] - 3s 3ms/step - loss: 0.6797 - acc: 0.8034 - val_loss: 1.0339 - val_acc: 0.7668\n",
            "\n",
            "Epoch 00056: val_loss improved from 1.04496 to 1.03391, saving model to model.h5\n",
            "Epoch 57/100\n",
            "890/890 [==============================] - 3s 3ms/step - loss: 0.7647 - acc: 0.7652 - val_loss: 1.2585 - val_acc: 0.7354\n",
            "\n",
            "Epoch 00057: val_loss did not improve from 1.03391\n",
            "Epoch 58/100\n",
            "890/890 [==============================] - 3s 3ms/step - loss: 0.7429 - acc: 0.7719 - val_loss: 1.1081 - val_acc: 0.7309\n",
            "\n",
            "Epoch 00058: val_loss did not improve from 1.03391\n",
            "Epoch 59/100\n",
            "890/890 [==============================] - 3s 3ms/step - loss: 0.6673 - acc: 0.7899 - val_loss: 1.0980 - val_acc: 0.7354\n",
            "\n",
            "Epoch 00059: val_loss did not improve from 1.03391\n",
            "Epoch 60/100\n",
            "890/890 [==============================] - 3s 3ms/step - loss: 0.6380 - acc: 0.7966 - val_loss: 1.0456 - val_acc: 0.7713\n",
            "\n",
            "Epoch 00060: val_loss did not improve from 1.03391\n",
            "Epoch 61/100\n",
            "890/890 [==============================] - 3s 3ms/step - loss: 0.6733 - acc: 0.8079 - val_loss: 1.1384 - val_acc: 0.7623\n",
            "\n",
            "Epoch 00061: val_loss did not improve from 1.03391\n",
            "Epoch 62/100\n",
            "890/890 [==============================] - 3s 3ms/step - loss: 0.6831 - acc: 0.7921 - val_loss: 1.1284 - val_acc: 0.7175\n",
            "\n",
            "Epoch 00062: val_loss did not improve from 1.03391\n",
            "Epoch 63/100\n",
            "890/890 [==============================] - 3s 3ms/step - loss: 0.6522 - acc: 0.7989 - val_loss: 1.0113 - val_acc: 0.7713\n",
            "\n",
            "Epoch 00063: val_loss improved from 1.03391 to 1.01133, saving model to model.h5\n",
            "Epoch 64/100\n",
            "890/890 [==============================] - 3s 3ms/step - loss: 0.6002 - acc: 0.8034 - val_loss: 1.1102 - val_acc: 0.7489\n",
            "\n",
            "Epoch 00064: val_loss did not improve from 1.01133\n",
            "Epoch 65/100\n",
            "890/890 [==============================] - 3s 3ms/step - loss: 0.6109 - acc: 0.8022 - val_loss: 1.0209 - val_acc: 0.7399\n",
            "\n",
            "Epoch 00065: val_loss did not improve from 1.01133\n",
            "Epoch 66/100\n",
            "890/890 [==============================] - 3s 3ms/step - loss: 0.6066 - acc: 0.8090 - val_loss: 1.0518 - val_acc: 0.7578\n",
            "\n",
            "Epoch 00066: val_loss did not improve from 1.01133\n",
            "Epoch 67/100\n",
            "890/890 [==============================] - 3s 3ms/step - loss: 0.5609 - acc: 0.8326 - val_loss: 1.0115 - val_acc: 0.7668\n",
            "\n",
            "Epoch 00067: val_loss did not improve from 1.01133\n",
            "Epoch 68/100\n",
            "890/890 [==============================] - 3s 3ms/step - loss: 0.5583 - acc: 0.8247 - val_loss: 1.0616 - val_acc: 0.7623\n",
            "\n",
            "Epoch 00068: val_loss did not improve from 1.01133\n",
            "Epoch 69/100\n",
            "890/890 [==============================] - 3s 3ms/step - loss: 0.5950 - acc: 0.8180 - val_loss: 1.0300 - val_acc: 0.7758\n",
            "\n",
            "Epoch 00069: val_loss did not improve from 1.01133\n",
            "Epoch 70/100\n",
            "890/890 [==============================] - 3s 3ms/step - loss: 0.5449 - acc: 0.8337 - val_loss: 1.1988 - val_acc: 0.7444\n",
            "\n",
            "Epoch 00070: val_loss did not improve from 1.01133\n",
            "Epoch 71/100\n",
            "890/890 [==============================] - 3s 3ms/step - loss: 0.5441 - acc: 0.8315 - val_loss: 1.1693 - val_acc: 0.7399\n",
            "\n",
            "Epoch 00071: val_loss did not improve from 1.01133\n",
            "Epoch 72/100\n",
            "890/890 [==============================] - 3s 3ms/step - loss: 0.5838 - acc: 0.8135 - val_loss: 1.0023 - val_acc: 0.7713\n",
            "\n",
            "Epoch 00072: val_loss improved from 1.01133 to 1.00226, saving model to model.h5\n",
            "Epoch 73/100\n",
            "890/890 [==============================] - 3s 3ms/step - loss: 0.5571 - acc: 0.8191 - val_loss: 1.0533 - val_acc: 0.7489\n",
            "\n",
            "Epoch 00073: val_loss did not improve from 1.00226\n",
            "Epoch 74/100\n",
            "890/890 [==============================] - 3s 3ms/step - loss: 0.5396 - acc: 0.8258 - val_loss: 1.1133 - val_acc: 0.7534\n",
            "\n",
            "Epoch 00074: val_loss did not improve from 1.00226\n",
            "Epoch 75/100\n",
            "890/890 [==============================] - 3s 3ms/step - loss: 0.5278 - acc: 0.8449 - val_loss: 1.0464 - val_acc: 0.7758\n",
            "\n",
            "Epoch 00075: val_loss did not improve from 1.00226\n",
            "Epoch 76/100\n",
            "890/890 [==============================] - 3s 3ms/step - loss: 0.6481 - acc: 0.7944 - val_loss: 1.0483 - val_acc: 0.7265\n",
            "\n",
            "Epoch 00076: val_loss did not improve from 1.00226\n",
            "Epoch 77/100\n",
            "890/890 [==============================] - 3s 3ms/step - loss: 0.6144 - acc: 0.8045 - val_loss: 1.1054 - val_acc: 0.7354\n",
            "\n",
            "Epoch 00077: val_loss did not improve from 1.00226\n",
            "Epoch 78/100\n",
            "890/890 [==============================] - 3s 3ms/step - loss: 0.5660 - acc: 0.8315 - val_loss: 1.2241 - val_acc: 0.7489\n",
            "\n",
            "Epoch 00078: val_loss did not improve from 1.00226\n",
            "Epoch 79/100\n",
            "890/890 [==============================] - 3s 3ms/step - loss: 0.5420 - acc: 0.8281 - val_loss: 1.0777 - val_acc: 0.7534\n",
            "\n",
            "Epoch 00079: val_loss did not improve from 1.00226\n",
            "Epoch 80/100\n",
            "890/890 [==============================] - 3s 3ms/step - loss: 0.5204 - acc: 0.8281 - val_loss: 1.1106 - val_acc: 0.7534\n",
            "\n",
            "Epoch 00080: val_loss did not improve from 1.00226\n",
            "Epoch 81/100\n",
            "890/890 [==============================] - 3s 3ms/step - loss: 0.7414 - acc: 0.7652 - val_loss: 1.0280 - val_acc: 0.7265\n",
            "\n",
            "Epoch 00081: val_loss did not improve from 1.00226\n",
            "Epoch 82/100\n",
            "890/890 [==============================] - 3s 3ms/step - loss: 0.6373 - acc: 0.8236 - val_loss: 0.9813 - val_acc: 0.7713\n",
            "\n",
            "Epoch 00082: val_loss improved from 1.00226 to 0.98132, saving model to model.h5\n",
            "Epoch 83/100\n",
            "890/890 [==============================] - 3s 3ms/step - loss: 0.5811 - acc: 0.8225 - val_loss: 1.1532 - val_acc: 0.7399\n",
            "\n",
            "Epoch 00083: val_loss did not improve from 0.98132\n",
            "Epoch 84/100\n",
            "890/890 [==============================] - 3s 3ms/step - loss: 0.5439 - acc: 0.8292 - val_loss: 1.0966 - val_acc: 0.7937\n",
            "\n",
            "Epoch 00084: val_loss did not improve from 0.98132\n",
            "Epoch 85/100\n",
            "890/890 [==============================] - 3s 3ms/step - loss: 0.4890 - acc: 0.8427 - val_loss: 1.1146 - val_acc: 0.7578\n",
            "\n",
            "Epoch 00085: val_loss did not improve from 0.98132\n",
            "Epoch 86/100\n",
            "890/890 [==============================] - 3s 3ms/step - loss: 0.4916 - acc: 0.8461 - val_loss: 1.2333 - val_acc: 0.7668\n",
            "\n",
            "Epoch 00086: val_loss did not improve from 0.98132\n",
            "Epoch 87/100\n",
            "890/890 [==============================] - 3s 3ms/step - loss: 0.4850 - acc: 0.8382 - val_loss: 1.1659 - val_acc: 0.7534\n",
            "\n",
            "Epoch 00087: val_loss did not improve from 0.98132\n",
            "Epoch 88/100\n",
            "890/890 [==============================] - 3s 3ms/step - loss: 0.4683 - acc: 0.8483 - val_loss: 1.1508 - val_acc: 0.7578\n",
            "\n",
            "Epoch 00088: val_loss did not improve from 0.98132\n",
            "Epoch 89/100\n",
            "890/890 [==============================] - 3s 3ms/step - loss: 0.5049 - acc: 0.8371 - val_loss: 1.1727 - val_acc: 0.7489\n",
            "\n",
            "Epoch 00089: val_loss did not improve from 0.98132\n",
            "Epoch 90/100\n",
            "890/890 [==============================] - 3s 3ms/step - loss: 0.4454 - acc: 0.8539 - val_loss: 1.1980 - val_acc: 0.7623\n",
            "\n",
            "Epoch 00090: val_loss did not improve from 0.98132\n",
            "Epoch 91/100\n",
            "890/890 [==============================] - 3s 3ms/step - loss: 0.5017 - acc: 0.8404 - val_loss: 1.1832 - val_acc: 0.7444\n",
            "\n",
            "Epoch 00091: val_loss did not improve from 0.98132\n",
            "Epoch 92/100\n",
            "890/890 [==============================] - 3s 3ms/step - loss: 0.4836 - acc: 0.8472 - val_loss: 1.1223 - val_acc: 0.7623\n",
            "\n",
            "Epoch 00092: val_loss did not improve from 0.98132\n",
            "Epoch 93/100\n",
            "890/890 [==============================] - 3s 3ms/step - loss: 0.4765 - acc: 0.8517 - val_loss: 0.9683 - val_acc: 0.7758\n",
            "\n",
            "Epoch 00093: val_loss improved from 0.98132 to 0.96828, saving model to model.h5\n",
            "Epoch 94/100\n",
            "890/890 [==============================] - 3s 3ms/step - loss: 0.4503 - acc: 0.8528 - val_loss: 1.1769 - val_acc: 0.7578\n",
            "\n",
            "Epoch 00094: val_loss did not improve from 0.96828\n",
            "Epoch 95/100\n",
            "890/890 [==============================] - 3s 3ms/step - loss: 0.4420 - acc: 0.8461 - val_loss: 1.1882 - val_acc: 0.7713\n",
            "\n",
            "Epoch 00095: val_loss did not improve from 0.96828\n",
            "Epoch 96/100\n",
            "890/890 [==============================] - 3s 3ms/step - loss: 0.4631 - acc: 0.8551 - val_loss: 1.2865 - val_acc: 0.7489\n",
            "\n",
            "Epoch 00096: val_loss did not improve from 0.96828\n",
            "Epoch 97/100\n",
            "890/890 [==============================] - 3s 3ms/step - loss: 0.4549 - acc: 0.8472 - val_loss: 1.2803 - val_acc: 0.7713\n",
            "\n",
            "Epoch 00097: val_loss did not improve from 0.96828\n",
            "Epoch 98/100\n",
            "890/890 [==============================] - 3s 3ms/step - loss: 0.7402 - acc: 0.7933 - val_loss: 1.2503 - val_acc: 0.7085\n",
            "\n",
            "Epoch 00098: val_loss did not improve from 0.96828\n",
            "Epoch 99/100\n",
            "890/890 [==============================] - 3s 3ms/step - loss: 0.6820 - acc: 0.8011 - val_loss: 1.1633 - val_acc: 0.7354\n",
            "\n",
            "Epoch 00099: val_loss did not improve from 0.96828\n",
            "Epoch 100/100\n",
            "890/890 [==============================] - 3s 3ms/step - loss: 0.5019 - acc: 0.8461 - val_loss: 1.2132 - val_acc: 0.7489\n",
            "\n",
            "Epoch 00100: val_loss did not improve from 0.96828\n"
          ],
          "name": "stdout"
        }
      ]
    },
    {
      "cell_type": "code",
      "metadata": {
        "id": "YjXKos8ocXvw",
        "colab_type": "code",
        "colab": {}
      },
      "source": [
        " model = load_model(\"model.h5\")"
      ],
      "execution_count": 0,
      "outputs": []
    },
    {
      "cell_type": "code",
      "metadata": {
        "id": "qSTEzrlzcuya",
        "colab_type": "code",
        "colab": {}
      },
      "source": [
        "def predictions(text):\n",
        "  clean = re.sub(r'[^ a-z A-Z 0-9]', \" \", text)\n",
        "  test_word = word_tokenize(clean)\n",
        "  test_word = [w.lower() for w in test_word]\n",
        "  test_ls = word_tokenizer.texts_to_sequences(test_word)\n",
        "  print(test_word)\n",
        "  #Check for unknown words\n",
        "  if [] in test_ls:\n",
        "    test_ls = list(filter(None, test_ls))\n",
        "    \n",
        "  test_ls = np.array(test_ls).reshape(1, len(test_ls))\n",
        " \n",
        "  x = padding_doc(test_ls, max_length)\n",
        "  \n",
        "  pred = model.predict_proba(x)\n",
        "  \n",
        "  \n",
        "  return pred\n",
        "\n",
        "\n",
        "  "
      ],
      "execution_count": 0,
      "outputs": []
    },
    {
      "cell_type": "code",
      "metadata": {
        "id": "P1ddofshmdzK",
        "colab_type": "code",
        "colab": {}
      },
      "source": [
        "def get_final_output(pred, classes):\n",
        "  predictions = pred[0]\n",
        " \n",
        "  classes = np.array(classes)\n",
        "  ids = np.argsort(-predictions)\n",
        "  classes = classes[ids]\n",
        "  predictions = -np.sort(-predictions)\n",
        " \n",
        "  for i in range(pred.shape[1]):\n",
        "    print(\"%s has confidence = %s\" % (classes[i], (predictions[i])))\n",
        "\n"
      ],
      "execution_count": 0,
      "outputs": []
    },
    {
      "cell_type": "code",
      "metadata": {
        "id": "23VpGuihMdEU",
        "colab_type": "code",
        "outputId": "d1e9c515-2a4b-406c-a04a-eaab88c1da82",
        "colab": {
          "base_uri": "https://localhost:8080/",
          "height": 391
        }
      },
      "source": [
        "text = \"Can you help me?\"\n",
        "pred = predictions(text)\n",
        "get_final_output(pred, unique_intent)"
      ],
      "execution_count": 39,
      "outputs": [
        {
          "output_type": "stream",
          "text": [
            "['can', 'you', 'help', 'me']\n",
            "commonQ.assist has confidence = 0.26955733\n",
            "commonQ.name has confidence = 0.15020579\n",
            "commonQ.bot has confidence = 0.132447\n",
            "faq.bad_service has confidence = 0.109360725\n",
            "commonQ.not_giving has confidence = 0.07746187\n",
            "commonQ.wait has confidence = 0.07732106\n",
            "contact.contact has confidence = 0.041986175\n",
            "commonQ.query has confidence = 0.03340741\n",
            "faq.biz_new has confidence = 0.026701674\n",
            "faq.apply_register has confidence = 0.01643285\n",
            "commonQ.just_details has confidence = 0.016130144\n",
            "commonQ.how has confidence = 0.011909867\n",
            "faq.banking_option_missing has confidence = 0.011591457\n",
            "faq.biz_simpler has confidence = 0.007584581\n",
            "faq.aadhaar_missing has confidence = 0.005653782\n",
            "faq.address_proof has confidence = 0.0040731374\n",
            "faq.biz_category_missing has confidence = 0.0028133863\n",
            "faq.borrow_use has confidence = 0.0024139883\n",
            "faq.borrow_limit has confidence = 0.002107147\n",
            "faq.approval_time has confidence = 0.0004718498\n",
            "faq.application_process has confidence = 0.00036874504\n"
          ],
          "name": "stdout"
        }
      ]
    },
    {
      "cell_type": "code",
      "metadata": {
        "id": "bKUBDT36IHKO",
        "colab_type": "code",
        "colab": {}
      },
      "source": [
        ""
      ],
      "execution_count": 0,
      "outputs": []
    }
  ]
}