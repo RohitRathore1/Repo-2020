{
 "cells": [
  {
   "cell_type": "code",
   "execution_count": 1,
   "metadata": {},
   "outputs": [
    {
     "name": "stderr",
     "output_type": "stream",
     "text": [
      "┌ Info: Precompiling Surrogates [6fc51010-71bc-11e9-0e15-a3fcc6593c49]\n",
      "└ @ Base loading.jl:1260\n",
      "┌ Warning: Package Surrogates does not have XGBoost in its dependencies:\n",
      "│ - If you have Surrogates checked out for development and have\n",
      "│   added XGBoost as a dependency but haven't updated your primary\n",
      "│   environment's manifest file, try `Pkg.resolve()`.\n",
      "│ - Otherwise you may need to report an issue with Surrogates\n",
      "└ Loading XGBoost into Surrogates from project dependency, future warnings for Surrogates are suppressed.\n"
     ]
    }
   ],
   "source": [
    "using Surrogates"
   ]
  },
  {
   "cell_type": "code",
   "execution_count": 2,
   "metadata": {},
   "outputs": [
    {
     "data": {
      "text/plain": [
       "10.0"
      ]
     },
     "execution_count": 2,
     "metadata": {},
     "output_type": "execute_result"
    }
   ],
   "source": [
    "f = x -> log(x)*x^2+x^3\n",
    "lb = 1.0\n",
    "ub = 10.0"
   ]
  },
  {
   "cell_type": "code",
   "execution_count": 3,
   "metadata": {},
   "outputs": [
    {
     "data": {
      "text/plain": [
       "50-element Array{Float64,1}:\n",
       "  270.04676756161575\n",
       "  685.9977354128239\n",
       "   67.04360073610188\n",
       "  146.4550228305127\n",
       "  996.2617284880087\n",
       "  446.89917289031825\n",
       "   22.584571855090758\n",
       "   41.02993036005573\n",
       "  558.1089187463488\n",
       " 1180.8543241105228\n",
       "  202.15815988267667\n",
       "  101.79917240581261\n",
       "  831.6786628722326\n",
       "    ⋮\n",
       "   17.375741376801944\n",
       "   33.2896427295343\n",
       "  514.5105733302689\n",
       " 1109.217040550318\n",
       "  179.9024620470891\n",
       "   87.667581202268\n",
       "  774.8927802951885\n",
       "  319.1679378195223\n",
       "    7.379482600023513\n",
       "   11.714533728890856\n",
       "  362.3950608511988\n",
       "  851.195101257835"
      ]
     },
     "execution_count": 3,
     "metadata": {},
     "output_type": "execute_result"
    }
   ],
   "source": [
    "x = sample(50,lb,ub,SobolSample())\n",
    "y = f.(x)"
   ]
  },
  {
   "cell_type": "code",
   "execution_count": 10,
   "metadata": {},
   "outputs": [
    {
     "data": {
      "text/plain": [
       "2"
      ]
     },
     "execution_count": 10,
     "metadata": {},
     "output_type": "execute_result"
    }
   ],
   "source": [
    "thin_plate_spline = x -> x^2*log(x)\n",
    "q = 2"
   ]
  },
  {
   "cell_type": "code",
   "execution_count": 11,
   "metadata": {},
   "outputs": [
    {
     "ename": "DomainError",
     "evalue": "DomainError with -2.25:\nlog will only return a complex result if called with a complex argument. Try log(Complex(x)).",
     "output_type": "error",
     "traceback": [
      "DomainError with -2.25:\nlog will only return a complex result if called with a complex argument. Try log(Complex(x)).",
      "",
      "Stacktrace:",
      " [1] throw_complex_domainerror(::Symbol, ::Float64) at .\\math.jl:33",
      " [2] log(::Float64) at .\\special\\log.jl:285",
      " [3] #9 at .\\In[10]:1 [inlined]",
      " [4] _construct_rbf_interp_matrix(::Array{Float64,1}, ::Float64, ::Float64, ::Float64, ::var\"#9#10\", ::Int64) at C:\\Users\\TeAmp0is0N\\.julia\\packages\\Surrogates\\Kf76T\\src\\Radials.jl:59",
      " [5] _calc_coeffs(::Array{Float64,1}, ::Array{Float64,1}, ::Float64, ::Float64, ::Function, ::Int64) at C:\\Users\\TeAmp0is0N\\.julia\\packages\\Surrogates\\Kf76T\\src\\Radials.jl:45",
      " [6] RadialBasis(::Array{Float64,1}, ::Array{Float64,1}, ::Float64, ::Float64, ::Function, ::Int64) at C:\\Users\\TeAmp0is0N\\.julia\\packages\\Surrogates\\Kf76T\\src\\Radials.jl:25",
      " [7] top-level scope at In[11]:1"
     ]
    }
   ],
   "source": [
    "my_radial_basis = RadialBasis(x,y,lb,ub,thin_plate_spline,q)"
   ]
  },
  {
   "cell_type": "code",
   "execution_count": 9,
   "metadata": {},
   "outputs": [
    {
     "ename": "UndefVarError",
     "evalue": "UndefVarError: my_radial_basis not defined",
     "output_type": "error",
     "traceback": [
      "UndefVarError: my_radial_basis not defined",
      "",
      "Stacktrace:",
      " [1] top-level scope at In[9]:1"
     ]
    }
   ],
   "source": [
    "#I want an approximation at 5.4\n",
    "approx = my_radial_basis(5.4)"
   ]
  },
  {
   "cell_type": "code",
   "execution_count": null,
   "metadata": {},
   "outputs": [],
   "source": []
  }
 ],
 "metadata": {
  "kernelspec": {
   "display_name": "Julia 1.4.1",
   "language": "julia",
   "name": "julia-1.4"
  },
  "language_info": {
   "file_extension": ".jl",
   "mimetype": "application/julia",
   "name": "julia",
   "version": "1.4.1"
  }
 },
 "nbformat": 4,
 "nbformat_minor": 2
}
